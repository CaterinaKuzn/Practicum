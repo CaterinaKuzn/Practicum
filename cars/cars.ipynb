{
 "cells": [
  {
   "cell_type": "markdown",
   "metadata": {},
   "source": [
    "<div style=\"border:solid Chocolate 2px; padding: 40px\">\n",
    "    \n",
    " <b>Добрый день, Екатерина!</b>\n",
    "    \n",
    "Меня зовут Ксения Цыганова, и я буду комментировать твою работу и помогать тебе сделать ее сильнее. В Практикуме мы общаемся на «ты», но если тебе это будет некомфортно, пожалуйста, скажи, и мы будем обращаться друг к другу на «вы».\n",
    "    \n",
    "Все мои комментарии делятся на три вида:\n",
    "\n",
    "    \n",
    "👍 Здесь все отлично, идем дальше! - <font color='green'> зеленый цвет </font>\n",
    "    \n",
    "💡 Все хорошо, однако, можно оптимизировать или рассмотреть другие способы (необязательно для исполнения, чтобы пройти дальше) - <font color='gold'>желтый цвет</font>\n",
    "    \n",
    "🤔 Необходимо внести исправления, без которых я не смогу принять проект - <font color='red'>красный цвет</font>\n",
    "    \n",
    "    \n",
    "Свои комментарии я буду выделять заголовком «комментарий ревьюера». Пожалуйста, не удаляй их, это поможет сократить время проверки на повторных ревью.Ты также можешь писать свои комментарии к моим и выделять их любым понравившимся способом, отличным от моего. Если у тебя будут возникать вопросы в течение нашей работы, я с радостью на них отвечу.\n",
    "\n",
    "Цель моего ревью не критика и не возможность дать тебе готовые ответы, это способ привести тебя в нужное русло, чтобы ты смогла развить собственные идеи и решения. Твой будущий работодатель будет поступать похожим образом. \n",
    "        \n",
    "   <b>У тебя все получится!</b>"
   ]
  },
  {
   "cell_type": "markdown",
   "metadata": {},
   "source": [
    "<div class=\"alert alert-info\">\n",
    "Спасибо за ревью!\n",
    "    \n",
    "Исправления:\n",
    "1. Исправила импорты\n",
    "2. Изменила кодирование на порядковое\n",
    "3. Кодирование провела после разделения на выборки\n",
    "4. Сравниваю по метрике полученной на кроссвоалидации\n",
    "5. Тестовая выборка используется только в самом конце в главе анализа результатов."
   ]
  },
  {
   "cell_type": "markdown",
   "metadata": {},
   "source": [
    "# Определение стоимости автомобилей"
   ]
  },
  {
   "cell_type": "markdown",
   "metadata": {},
   "source": [
    "Сервис по продаже автомобилей с пробегом «Не бит, не крашен» разрабатывает приложение для привлечения новых клиентов. В нём можно быстро узнать рыночную стоимость своего автомобиля. В вашем распоряжении исторические данные: технические характеристики, комплектации и цены автомобилей. Вам нужно построить модель для определения стоимости. \n",
    "\n",
    "Заказчику важны:\n",
    "\n",
    "- качество предсказания;\n",
    "- скорость предсказания;\n",
    "- время обучения."
   ]
  },
  {
   "cell_type": "markdown",
   "metadata": {},
   "source": [
    "<div class=\"alert alert-success\">\n",
    "<h2> Комментарий ревьюера <a class=\"tocSkip\"> </h2>\n",
    "\n",
    "<b>Все отлично!👍:</b> \n",
    "    \n",
    "Отлично, что есть вступительный комментарий."
   ]
  },
  {
   "cell_type": "markdown",
   "metadata": {},
   "source": [
    "## Подготовка данных"
   ]
  },
  {
   "cell_type": "code",
   "execution_count": 1,
   "metadata": {},
   "outputs": [
    {
     "name": "stdout",
     "output_type": "stream",
     "text": [
      "Requirement already satisfied: catboost in /opt/conda/lib/python3.9/site-packages (1.0.3)\n",
      "Requirement already satisfied: matplotlib in /opt/conda/lib/python3.9/site-packages (from catboost) (3.3.4)\n",
      "Requirement already satisfied: numpy>=1.16.0 in /opt/conda/lib/python3.9/site-packages (from catboost) (1.21.1)\n",
      "Requirement already satisfied: plotly in /opt/conda/lib/python3.9/site-packages (from catboost) (5.4.0)\n",
      "Requirement already satisfied: scipy in /opt/conda/lib/python3.9/site-packages (from catboost) (1.9.1)\n",
      "Requirement already satisfied: graphviz in /opt/conda/lib/python3.9/site-packages (from catboost) (0.20.1)\n",
      "Requirement already satisfied: pandas>=0.24.0 in /opt/conda/lib/python3.9/site-packages (from catboost) (1.2.4)\n",
      "Requirement already satisfied: six in /opt/conda/lib/python3.9/site-packages (from catboost) (1.16.0)\n",
      "Requirement already satisfied: python-dateutil>=2.7.3 in /opt/conda/lib/python3.9/site-packages (from pandas>=0.24.0->catboost) (2.8.1)\n",
      "Requirement already satisfied: pytz>=2017.3 in /opt/conda/lib/python3.9/site-packages (from pandas>=0.24.0->catboost) (2021.1)\n",
      "Requirement already satisfied: pillow>=6.2.0 in /opt/conda/lib/python3.9/site-packages (from matplotlib->catboost) (8.4.0)\n",
      "Requirement already satisfied: pyparsing!=2.0.4,!=2.1.2,!=2.1.6,>=2.0.3 in /opt/conda/lib/python3.9/site-packages (from matplotlib->catboost) (2.4.7)\n",
      "Requirement already satisfied: kiwisolver>=1.0.1 in /opt/conda/lib/python3.9/site-packages (from matplotlib->catboost) (1.4.4)\n",
      "Requirement already satisfied: cycler>=0.10 in /opt/conda/lib/python3.9/site-packages (from matplotlib->catboost) (0.11.0)\n",
      "Requirement already satisfied: tenacity>=6.2.0 in /opt/conda/lib/python3.9/site-packages (from plotly->catboost) (8.0.1)\n",
      "Note: you may need to restart the kernel to use updated packages.\n"
     ]
    }
   ],
   "source": [
    "pip install catboost --no-cache-dir"
   ]
  },
  {
   "cell_type": "code",
   "execution_count": 2,
   "metadata": {},
   "outputs": [
    {
     "name": "stdout",
     "output_type": "stream",
     "text": [
      "Requirement already satisfied: lightgbm in /opt/conda/lib/python3.9/site-packages (3.3.1)\n",
      "Requirement already satisfied: wheel in /opt/conda/lib/python3.9/site-packages (from lightgbm) (0.36.2)\n",
      "Requirement already satisfied: scipy in /opt/conda/lib/python3.9/site-packages (from lightgbm) (1.9.1)\n",
      "Requirement already satisfied: numpy in /opt/conda/lib/python3.9/site-packages (from lightgbm) (1.21.1)\n",
      "Requirement already satisfied: scikit-learn!=0.22.0 in /opt/conda/lib/python3.9/site-packages (from lightgbm) (0.24.1)\n",
      "Requirement already satisfied: threadpoolctl>=2.0.0 in /opt/conda/lib/python3.9/site-packages (from scikit-learn!=0.22.0->lightgbm) (3.1.0)\n",
      "Requirement already satisfied: joblib>=0.11 in /opt/conda/lib/python3.9/site-packages (from scikit-learn!=0.22.0->lightgbm) (1.1.0)\n"
     ]
    }
   ],
   "source": [
    "!pip install lightgbm"
   ]
  },
  {
   "cell_type": "code",
   "execution_count": 3,
   "metadata": {},
   "outputs": [],
   "source": [
    "import pandas as pd\n",
    "import seaborn as sns\n",
    "import matplotlib.pyplot as plt\n",
    "import numpy as np\n",
    "\n",
    "from sklearn.linear_model import LinearRegression, Ridge\n",
    "from sklearn.model_selection import train_test_split, GridSearchCV\n",
    "from sklearn.impute import KNNImputer\n",
    "from sklearn.metrics import mean_squared_error, r2_score, make_scorer\n",
    "from sklearn.ensemble import RandomForestRegressor\n",
    "from sklearn.datasets import make_regression\n",
    "from sklearn.preprocessing import OneHotEncoder, StandardScaler\n",
    "from catboost import CatBoostRegressor\n",
    "from sklearn.tree import DecisionTreeRegressor\n",
    "from lightgbm import LGBMRegressor\n",
    "from sklearn.dummy import DummyRegressor\n",
    "from sklearn.preprocessing import OrdinalEncoder"
   ]
  },
  {
   "cell_type": "markdown",
   "metadata": {},
   "source": [
    "<div class=\"alert alert-success\">\n",
    "<h2> Комментарий ревьюера <a class=\"tocSkip\"> </h2>\n",
    "\n",
    "    \n",
    "<b>Все отлично!👍:</b> \n",
    "    \n",
    "Отлично, что все импорты собраны в одном месте в начале проекта. Это поможет в случае чего сразу увидеть, какие библиотеки следует доустановить."
   ]
  },
  {
   "cell_type": "markdown",
   "metadata": {},
   "source": [
    "<div class=\"alert alert-warning\">\n",
    "    <h2> Комментарий ревьюера <a class=\"tocSkip\"> </h2>\n",
    "    \n",
    "<b>Некоторые замечания и рекомендации💡:</b> \n",
    "\n",
    "\"Согласно руководству по написанию кода PEP8 все импорты должны располагаться сразу после комментариев к модулю и строк документации, но перед объявлением констант. При этом группировать их желательно в следующем порядке:\n",
    "\n",
    "импорты из стандартной библиотеки,\n",
    "импорты из сторонних библиотек,\n",
    "импорты пользовательских модулей текущего проекта.\"\n",
    "        \n",
    "И между группами стоит оставлять пустую строку.\n",
    "        \n",
    "Вот еще хорошая статья:\n",
    "        \n",
    "https://okpython.net/python/python_uchebnik/osnovy/moduli_i_pakety_v_python.html\n",
    "        \n",
    "Какие модули входят в стандартную библиотеку можно посмотреть вот здесь:\n",
    "        \n",
    "https://docs.python.org/3/library/exceptions.html#warnings\n",
    "    "
   ]
  },
  {
   "cell_type": "code",
   "execution_count": 4,
   "metadata": {},
   "outputs": [],
   "source": [
    "#Импортируем данные\n",
    "import os\n",
    "\n",
    "pth1 = '/datasets/autos.csv'\n",
    "pth2 = 'D:\\\\Python\\\\Jupyter\\\\autos.csv'\n",
    "pth3 = 'D:\\\\Kate\\\\Python\\\\jupyter\\\\autos.csv'\n",
    "pth4 = 'C:\\\\Users\\\\user\\\\Documents\\\\jupyter\\\\autos.csv'\n",
    "\n",
    "if os.path.exists(pth1):\n",
    "    df = pd.read_csv(pth1)\n",
    "elif os.path.exists(pth2):\n",
    "    df = pd.read_csv(pth2)\n",
    "elif os.path.exists(pth3):\n",
    "    df = pd.read_csv(pth3)\n",
    "elif os.path.exists(pth4):\n",
    "    df = pd.read_csv(pth4)\n",
    "else:\n",
    "    print('Something is wrong')"
   ]
  },
  {
   "cell_type": "markdown",
   "metadata": {},
   "source": [
    "<div class=\"alert alert-success\">\n",
    "<h2> Комментарий ревьюера <a class=\"tocSkip\"> </h2>\n",
    "\n",
    "<b>Все отлично!👍:</b> \n",
    "    \n",
    "Отлично, что используешь библиотеку os для загрузки данных."
   ]
  },
  {
   "cell_type": "code",
   "execution_count": 5,
   "metadata": {},
   "outputs": [
    {
     "data": {
      "text/html": [
       "<div>\n",
       "<style scoped>\n",
       "    .dataframe tbody tr th:only-of-type {\n",
       "        vertical-align: middle;\n",
       "    }\n",
       "\n",
       "    .dataframe tbody tr th {\n",
       "        vertical-align: top;\n",
       "    }\n",
       "\n",
       "    .dataframe thead th {\n",
       "        text-align: right;\n",
       "    }\n",
       "</style>\n",
       "<table border=\"1\" class=\"dataframe\">\n",
       "  <thead>\n",
       "    <tr style=\"text-align: right;\">\n",
       "      <th></th>\n",
       "      <th>DateCrawled</th>\n",
       "      <th>Price</th>\n",
       "      <th>VehicleType</th>\n",
       "      <th>RegistrationYear</th>\n",
       "      <th>Gearbox</th>\n",
       "      <th>Power</th>\n",
       "      <th>Model</th>\n",
       "      <th>Kilometer</th>\n",
       "      <th>RegistrationMonth</th>\n",
       "      <th>FuelType</th>\n",
       "      <th>Brand</th>\n",
       "      <th>Repaired</th>\n",
       "      <th>DateCreated</th>\n",
       "      <th>NumberOfPictures</th>\n",
       "      <th>PostalCode</th>\n",
       "      <th>LastSeen</th>\n",
       "    </tr>\n",
       "  </thead>\n",
       "  <tbody>\n",
       "    <tr>\n",
       "      <th>0</th>\n",
       "      <td>2016-03-24 11:52:17</td>\n",
       "      <td>480</td>\n",
       "      <td>NaN</td>\n",
       "      <td>1993</td>\n",
       "      <td>manual</td>\n",
       "      <td>0</td>\n",
       "      <td>golf</td>\n",
       "      <td>150000</td>\n",
       "      <td>0</td>\n",
       "      <td>petrol</td>\n",
       "      <td>volkswagen</td>\n",
       "      <td>NaN</td>\n",
       "      <td>2016-03-24 00:00:00</td>\n",
       "      <td>0</td>\n",
       "      <td>70435</td>\n",
       "      <td>2016-04-07 03:16:57</td>\n",
       "    </tr>\n",
       "    <tr>\n",
       "      <th>1</th>\n",
       "      <td>2016-03-24 10:58:45</td>\n",
       "      <td>18300</td>\n",
       "      <td>coupe</td>\n",
       "      <td>2011</td>\n",
       "      <td>manual</td>\n",
       "      <td>190</td>\n",
       "      <td>NaN</td>\n",
       "      <td>125000</td>\n",
       "      <td>5</td>\n",
       "      <td>gasoline</td>\n",
       "      <td>audi</td>\n",
       "      <td>yes</td>\n",
       "      <td>2016-03-24 00:00:00</td>\n",
       "      <td>0</td>\n",
       "      <td>66954</td>\n",
       "      <td>2016-04-07 01:46:50</td>\n",
       "    </tr>\n",
       "    <tr>\n",
       "      <th>2</th>\n",
       "      <td>2016-03-14 12:52:21</td>\n",
       "      <td>9800</td>\n",
       "      <td>suv</td>\n",
       "      <td>2004</td>\n",
       "      <td>auto</td>\n",
       "      <td>163</td>\n",
       "      <td>grand</td>\n",
       "      <td>125000</td>\n",
       "      <td>8</td>\n",
       "      <td>gasoline</td>\n",
       "      <td>jeep</td>\n",
       "      <td>NaN</td>\n",
       "      <td>2016-03-14 00:00:00</td>\n",
       "      <td>0</td>\n",
       "      <td>90480</td>\n",
       "      <td>2016-04-05 12:47:46</td>\n",
       "    </tr>\n",
       "    <tr>\n",
       "      <th>3</th>\n",
       "      <td>2016-03-17 16:54:04</td>\n",
       "      <td>1500</td>\n",
       "      <td>small</td>\n",
       "      <td>2001</td>\n",
       "      <td>manual</td>\n",
       "      <td>75</td>\n",
       "      <td>golf</td>\n",
       "      <td>150000</td>\n",
       "      <td>6</td>\n",
       "      <td>petrol</td>\n",
       "      <td>volkswagen</td>\n",
       "      <td>no</td>\n",
       "      <td>2016-03-17 00:00:00</td>\n",
       "      <td>0</td>\n",
       "      <td>91074</td>\n",
       "      <td>2016-03-17 17:40:17</td>\n",
       "    </tr>\n",
       "    <tr>\n",
       "      <th>4</th>\n",
       "      <td>2016-03-31 17:25:20</td>\n",
       "      <td>3600</td>\n",
       "      <td>small</td>\n",
       "      <td>2008</td>\n",
       "      <td>manual</td>\n",
       "      <td>69</td>\n",
       "      <td>fabia</td>\n",
       "      <td>90000</td>\n",
       "      <td>7</td>\n",
       "      <td>gasoline</td>\n",
       "      <td>skoda</td>\n",
       "      <td>no</td>\n",
       "      <td>2016-03-31 00:00:00</td>\n",
       "      <td>0</td>\n",
       "      <td>60437</td>\n",
       "      <td>2016-04-06 10:17:21</td>\n",
       "    </tr>\n",
       "  </tbody>\n",
       "</table>\n",
       "</div>"
      ],
      "text/plain": [
       "           DateCrawled  Price VehicleType  RegistrationYear Gearbox  Power  \\\n",
       "0  2016-03-24 11:52:17    480         NaN              1993  manual      0   \n",
       "1  2016-03-24 10:58:45  18300       coupe              2011  manual    190   \n",
       "2  2016-03-14 12:52:21   9800         suv              2004    auto    163   \n",
       "3  2016-03-17 16:54:04   1500       small              2001  manual     75   \n",
       "4  2016-03-31 17:25:20   3600       small              2008  manual     69   \n",
       "\n",
       "   Model  Kilometer  RegistrationMonth  FuelType       Brand Repaired  \\\n",
       "0   golf     150000                  0    petrol  volkswagen      NaN   \n",
       "1    NaN     125000                  5  gasoline        audi      yes   \n",
       "2  grand     125000                  8  gasoline        jeep      NaN   \n",
       "3   golf     150000                  6    petrol  volkswagen       no   \n",
       "4  fabia      90000                  7  gasoline       skoda       no   \n",
       "\n",
       "           DateCreated  NumberOfPictures  PostalCode             LastSeen  \n",
       "0  2016-03-24 00:00:00                 0       70435  2016-04-07 03:16:57  \n",
       "1  2016-03-24 00:00:00                 0       66954  2016-04-07 01:46:50  \n",
       "2  2016-03-14 00:00:00                 0       90480  2016-04-05 12:47:46  \n",
       "3  2016-03-17 00:00:00                 0       91074  2016-03-17 17:40:17  \n",
       "4  2016-03-31 00:00:00                 0       60437  2016-04-06 10:17:21  "
      ]
     },
     "execution_count": 5,
     "metadata": {},
     "output_type": "execute_result"
    }
   ],
   "source": [
    "#Выведем на экран данные\n",
    "df.head()"
   ]
  },
  {
   "cell_type": "code",
   "execution_count": 6,
   "metadata": {},
   "outputs": [
    {
     "name": "stdout",
     "output_type": "stream",
     "text": [
      "<class 'pandas.core.frame.DataFrame'>\n",
      "RangeIndex: 354369 entries, 0 to 354368\n",
      "Data columns (total 16 columns):\n",
      " #   Column             Non-Null Count   Dtype \n",
      "---  ------             --------------   ----- \n",
      " 0   DateCrawled        354369 non-null  object\n",
      " 1   Price              354369 non-null  int64 \n",
      " 2   VehicleType        316879 non-null  object\n",
      " 3   RegistrationYear   354369 non-null  int64 \n",
      " 4   Gearbox            334536 non-null  object\n",
      " 5   Power              354369 non-null  int64 \n",
      " 6   Model              334664 non-null  object\n",
      " 7   Kilometer          354369 non-null  int64 \n",
      " 8   RegistrationMonth  354369 non-null  int64 \n",
      " 9   FuelType           321474 non-null  object\n",
      " 10  Brand              354369 non-null  object\n",
      " 11  Repaired           283215 non-null  object\n",
      " 12  DateCreated        354369 non-null  object\n",
      " 13  NumberOfPictures   354369 non-null  int64 \n",
      " 14  PostalCode         354369 non-null  int64 \n",
      " 15  LastSeen           354369 non-null  object\n",
      "dtypes: int64(7), object(9)\n",
      "memory usage: 43.3+ MB\n"
     ]
    }
   ],
   "source": [
    "#Информация о предоставленных данных\n",
    "df.info()"
   ]
  },
  {
   "cell_type": "markdown",
   "metadata": {},
   "source": [
    "Из докуменации к проекту:\n",
    "\n",
    "* `DateCrawled` — дата скачивания анкеты из базы\n",
    "* `VehicleType` — тип автомобильного кузова\n",
    "* `RegistrationYear` — год регистрации автомобиля\n",
    "* `Gearbox` — тип коробки передач\n",
    "* `Power` — мощность (л. с.)\n",
    "* `Model` — модель автомобиля\n",
    "* `Kilometer` — пробег (км)\n",
    "* `RegistrationMonth` — месяц регистрации автомобиля\n",
    "* `FuelType` — тип топлива\n",
    "* `Brand` — марка автомобиля\n",
    "* `Repaired` — была машина в ремонте или нет\n",
    "* `DateCreated` — дата создания анкеты\n",
    "* `NumberOfPictures` — количество фотографий автомобиля\n",
    "* `PostalCode` — почтовый индекс владельца анкеты (пользователя)\n",
    "* `LastSeen` — дата последней активности пользователя"
   ]
  },
  {
   "cell_type": "markdown",
   "metadata": {},
   "source": [
    "В качестве предобработки данных необходимо сделать следующее:\n",
    "1. Переименовать колонки согласно хорошему стилю\n",
    "2. Заменить типы данных\n",
    "3. Отбросить несущественные колонки с данными\n",
    "4. Проверить значения на аномальные\n",
    "5. Избавитьсы от пропусков\n",
    "6. Удалить дубликаты\n",
    "7. Проверить на корреляцию\n",
    "8. Закодировать данные"
   ]
  },
  {
   "cell_type": "code",
   "execution_count": 7,
   "metadata": {},
   "outputs": [],
   "source": [
    "#Разобъем названия столбцов на слова\n",
    "df = df.rename(columns={'DateCrawled': 'Date Crawled', 'VehicleType': 'Vehicle Type', 'RegistrationYear': 'Registration Year', 'RegistrationMonth': 'Registration Month', 'FuelType': 'Fuel Type', 'NumberOfPictures': 'Number Of Pictures', 'PostalCode': 'Postal Code', 'LastSeen': 'Last Seen'})"
   ]
  },
  {
   "cell_type": "code",
   "execution_count": 8,
   "metadata": {},
   "outputs": [],
   "source": [
    "#Добавим нижнее подчеркивание вместо пробела\n",
    "df.rename(columns=lambda x: x.lower().replace(\" \", \"_\"), inplace=True)"
   ]
  },
  {
   "cell_type": "code",
   "execution_count": 9,
   "metadata": {},
   "outputs": [
    {
     "data": {
      "text/html": [
       "<div>\n",
       "<style scoped>\n",
       "    .dataframe tbody tr th:only-of-type {\n",
       "        vertical-align: middle;\n",
       "    }\n",
       "\n",
       "    .dataframe tbody tr th {\n",
       "        vertical-align: top;\n",
       "    }\n",
       "\n",
       "    .dataframe thead th {\n",
       "        text-align: right;\n",
       "    }\n",
       "</style>\n",
       "<table border=\"1\" class=\"dataframe\">\n",
       "  <thead>\n",
       "    <tr style=\"text-align: right;\">\n",
       "      <th></th>\n",
       "      <th>date_crawled</th>\n",
       "      <th>price</th>\n",
       "      <th>vehicle_type</th>\n",
       "      <th>registration_year</th>\n",
       "      <th>gearbox</th>\n",
       "      <th>power</th>\n",
       "      <th>model</th>\n",
       "      <th>kilometer</th>\n",
       "      <th>registration_month</th>\n",
       "      <th>fuel_type</th>\n",
       "      <th>brand</th>\n",
       "      <th>repaired</th>\n",
       "      <th>datecreated</th>\n",
       "      <th>number_of_pictures</th>\n",
       "      <th>postal_code</th>\n",
       "      <th>last_seen</th>\n",
       "    </tr>\n",
       "  </thead>\n",
       "  <tbody>\n",
       "    <tr>\n",
       "      <th>0</th>\n",
       "      <td>2016-03-24 11:52:17</td>\n",
       "      <td>480</td>\n",
       "      <td>NaN</td>\n",
       "      <td>1993</td>\n",
       "      <td>manual</td>\n",
       "      <td>0</td>\n",
       "      <td>golf</td>\n",
       "      <td>150000</td>\n",
       "      <td>0</td>\n",
       "      <td>petrol</td>\n",
       "      <td>volkswagen</td>\n",
       "      <td>NaN</td>\n",
       "      <td>2016-03-24 00:00:00</td>\n",
       "      <td>0</td>\n",
       "      <td>70435</td>\n",
       "      <td>2016-04-07 03:16:57</td>\n",
       "    </tr>\n",
       "    <tr>\n",
       "      <th>1</th>\n",
       "      <td>2016-03-24 10:58:45</td>\n",
       "      <td>18300</td>\n",
       "      <td>coupe</td>\n",
       "      <td>2011</td>\n",
       "      <td>manual</td>\n",
       "      <td>190</td>\n",
       "      <td>NaN</td>\n",
       "      <td>125000</td>\n",
       "      <td>5</td>\n",
       "      <td>gasoline</td>\n",
       "      <td>audi</td>\n",
       "      <td>yes</td>\n",
       "      <td>2016-03-24 00:00:00</td>\n",
       "      <td>0</td>\n",
       "      <td>66954</td>\n",
       "      <td>2016-04-07 01:46:50</td>\n",
       "    </tr>\n",
       "    <tr>\n",
       "      <th>2</th>\n",
       "      <td>2016-03-14 12:52:21</td>\n",
       "      <td>9800</td>\n",
       "      <td>suv</td>\n",
       "      <td>2004</td>\n",
       "      <td>auto</td>\n",
       "      <td>163</td>\n",
       "      <td>grand</td>\n",
       "      <td>125000</td>\n",
       "      <td>8</td>\n",
       "      <td>gasoline</td>\n",
       "      <td>jeep</td>\n",
       "      <td>NaN</td>\n",
       "      <td>2016-03-14 00:00:00</td>\n",
       "      <td>0</td>\n",
       "      <td>90480</td>\n",
       "      <td>2016-04-05 12:47:46</td>\n",
       "    </tr>\n",
       "    <tr>\n",
       "      <th>3</th>\n",
       "      <td>2016-03-17 16:54:04</td>\n",
       "      <td>1500</td>\n",
       "      <td>small</td>\n",
       "      <td>2001</td>\n",
       "      <td>manual</td>\n",
       "      <td>75</td>\n",
       "      <td>golf</td>\n",
       "      <td>150000</td>\n",
       "      <td>6</td>\n",
       "      <td>petrol</td>\n",
       "      <td>volkswagen</td>\n",
       "      <td>no</td>\n",
       "      <td>2016-03-17 00:00:00</td>\n",
       "      <td>0</td>\n",
       "      <td>91074</td>\n",
       "      <td>2016-03-17 17:40:17</td>\n",
       "    </tr>\n",
       "    <tr>\n",
       "      <th>4</th>\n",
       "      <td>2016-03-31 17:25:20</td>\n",
       "      <td>3600</td>\n",
       "      <td>small</td>\n",
       "      <td>2008</td>\n",
       "      <td>manual</td>\n",
       "      <td>69</td>\n",
       "      <td>fabia</td>\n",
       "      <td>90000</td>\n",
       "      <td>7</td>\n",
       "      <td>gasoline</td>\n",
       "      <td>skoda</td>\n",
       "      <td>no</td>\n",
       "      <td>2016-03-31 00:00:00</td>\n",
       "      <td>0</td>\n",
       "      <td>60437</td>\n",
       "      <td>2016-04-06 10:17:21</td>\n",
       "    </tr>\n",
       "  </tbody>\n",
       "</table>\n",
       "</div>"
      ],
      "text/plain": [
       "          date_crawled  price vehicle_type  registration_year gearbox  power  \\\n",
       "0  2016-03-24 11:52:17    480          NaN               1993  manual      0   \n",
       "1  2016-03-24 10:58:45  18300        coupe               2011  manual    190   \n",
       "2  2016-03-14 12:52:21   9800          suv               2004    auto    163   \n",
       "3  2016-03-17 16:54:04   1500        small               2001  manual     75   \n",
       "4  2016-03-31 17:25:20   3600        small               2008  manual     69   \n",
       "\n",
       "   model  kilometer  registration_month fuel_type       brand repaired  \\\n",
       "0   golf     150000                   0    petrol  volkswagen      NaN   \n",
       "1    NaN     125000                   5  gasoline        audi      yes   \n",
       "2  grand     125000                   8  gasoline        jeep      NaN   \n",
       "3   golf     150000                   6    petrol  volkswagen       no   \n",
       "4  fabia      90000                   7  gasoline       skoda       no   \n",
       "\n",
       "           datecreated  number_of_pictures  postal_code            last_seen  \n",
       "0  2016-03-24 00:00:00                   0        70435  2016-04-07 03:16:57  \n",
       "1  2016-03-24 00:00:00                   0        66954  2016-04-07 01:46:50  \n",
       "2  2016-03-14 00:00:00                   0        90480  2016-04-05 12:47:46  \n",
       "3  2016-03-17 00:00:00                   0        91074  2016-03-17 17:40:17  \n",
       "4  2016-03-31 00:00:00                   0        60437  2016-04-06 10:17:21  "
      ]
     },
     "execution_count": 9,
     "metadata": {},
     "output_type": "execute_result"
    }
   ],
   "source": [
    "df.head(5)"
   ]
  },
  {
   "cell_type": "markdown",
   "metadata": {},
   "source": [
    "<div class=\"alert alert-success\">\n",
    "<h2> Комментарий ревьюера <a class=\"tocSkip\"> </h2>\n",
    "\n",
    "<b>Все отлично!👍:</b> \n",
    "    \n",
    "Молодец, что следуешь стилю языка программирования."
   ]
  },
  {
   "cell_type": "markdown",
   "metadata": {},
   "source": [
    "Переведем данные о дате в тип datatime и проверим к какому диапозону времени данные относятся"
   ]
  },
  {
   "cell_type": "code",
   "execution_count": 10,
   "metadata": {},
   "outputs": [
    {
     "data": {
      "text/plain": [
       "<AxesSubplot:>"
      ]
     },
     "execution_count": 10,
     "metadata": {},
     "output_type": "execute_result"
    },
    {
     "data": {
      "image/png": "[encoded data removed]",
      "text/plain": [
       "<Figure size 432x288 with 1 Axes>"
      ]
     },
     "metadata": {
      "needs_background": "light"
     },
     "output_type": "display_data"
    }
   ],
   "source": [
    "df['date_crawled'] = pd.to_datetime(df['date_crawled'])\n",
    "df['date_crawled'].dt.year.hist()"
   ]
  },
  {
   "cell_type": "markdown",
   "metadata": {},
   "source": [
    "Также проверим данные о количестве фотографий."
   ]
  },
  {
   "cell_type": "code",
   "execution_count": 11,
   "metadata": {},
   "outputs": [
    {
     "data": {
      "text/plain": [
       "<AxesSubplot:>"
      ]
     },
     "execution_count": 11,
     "metadata": {},
     "output_type": "execute_result"
    },
    {
     "data": {
      "image/png": "[encoded data removed]",
      "text/plain": [
       "<Figure size 432x288 with 1 Axes>"
      ]
     },
     "metadata": {
      "needs_background": "light"
     },
     "output_type": "display_data"
    }
   ],
   "source": [
    "df['number_of_pictures'].hist()"
   ]
  },
  {
   "cell_type": "markdown",
   "metadata": {},
   "source": [
    "Как видно из графика все данные относятся к 2016 году, удалим этот столбец. Во всех строках столбца с количеством фотограий стоит 0, удалим и этот столбец. Также удалим столбцы с месяцем регистрации, с временем создания анкеты, почтовым кодом и временем последней активности."
   ]
  },
  {
   "cell_type": "code",
   "execution_count": 12,
   "metadata": {},
   "outputs": [
    {
     "data": {
      "text/html": [
       "<div>\n",
       "<style scoped>\n",
       "    .dataframe tbody tr th:only-of-type {\n",
       "        vertical-align: middle;\n",
       "    }\n",
       "\n",
       "    .dataframe tbody tr th {\n",
       "        vertical-align: top;\n",
       "    }\n",
       "\n",
       "    .dataframe thead th {\n",
       "        text-align: right;\n",
       "    }\n",
       "</style>\n",
       "<table border=\"1\" class=\"dataframe\">\n",
       "  <thead>\n",
       "    <tr style=\"text-align: right;\">\n",
       "      <th></th>\n",
       "      <th>price</th>\n",
       "      <th>vehicle_type</th>\n",
       "      <th>registration_year</th>\n",
       "      <th>gearbox</th>\n",
       "      <th>power</th>\n",
       "      <th>model</th>\n",
       "      <th>kilometer</th>\n",
       "      <th>fuel_type</th>\n",
       "      <th>brand</th>\n",
       "      <th>repaired</th>\n",
       "    </tr>\n",
       "  </thead>\n",
       "  <tbody>\n",
       "    <tr>\n",
       "      <th>0</th>\n",
       "      <td>480</td>\n",
       "      <td>NaN</td>\n",
       "      <td>1993</td>\n",
       "      <td>manual</td>\n",
       "      <td>0</td>\n",
       "      <td>golf</td>\n",
       "      <td>150000</td>\n",
       "      <td>petrol</td>\n",
       "      <td>volkswagen</td>\n",
       "      <td>NaN</td>\n",
       "    </tr>\n",
       "    <tr>\n",
       "      <th>1</th>\n",
       "      <td>18300</td>\n",
       "      <td>coupe</td>\n",
       "      <td>2011</td>\n",
       "      <td>manual</td>\n",
       "      <td>190</td>\n",
       "      <td>NaN</td>\n",
       "      <td>125000</td>\n",
       "      <td>gasoline</td>\n",
       "      <td>audi</td>\n",
       "      <td>yes</td>\n",
       "    </tr>\n",
       "    <tr>\n",
       "      <th>2</th>\n",
       "      <td>9800</td>\n",
       "      <td>suv</td>\n",
       "      <td>2004</td>\n",
       "      <td>auto</td>\n",
       "      <td>163</td>\n",
       "      <td>grand</td>\n",
       "      <td>125000</td>\n",
       "      <td>gasoline</td>\n",
       "      <td>jeep</td>\n",
       "      <td>NaN</td>\n",
       "    </tr>\n",
       "    <tr>\n",
       "      <th>3</th>\n",
       "      <td>1500</td>\n",
       "      <td>small</td>\n",
       "      <td>2001</td>\n",
       "      <td>manual</td>\n",
       "      <td>75</td>\n",
       "      <td>golf</td>\n",
       "      <td>150000</td>\n",
       "      <td>petrol</td>\n",
       "      <td>volkswagen</td>\n",
       "      <td>no</td>\n",
       "    </tr>\n",
       "    <tr>\n",
       "      <th>4</th>\n",
       "      <td>3600</td>\n",
       "      <td>small</td>\n",
       "      <td>2008</td>\n",
       "      <td>manual</td>\n",
       "      <td>69</td>\n",
       "      <td>fabia</td>\n",
       "      <td>90000</td>\n",
       "      <td>gasoline</td>\n",
       "      <td>skoda</td>\n",
       "      <td>no</td>\n",
       "    </tr>\n",
       "  </tbody>\n",
       "</table>\n",
       "</div>"
      ],
      "text/plain": [
       "   price vehicle_type  registration_year gearbox  power  model  kilometer  \\\n",
       "0    480          NaN               1993  manual      0   golf     150000   \n",
       "1  18300        coupe               2011  manual    190    NaN     125000   \n",
       "2   9800          suv               2004    auto    163  grand     125000   \n",
       "3   1500        small               2001  manual     75   golf     150000   \n",
       "4   3600        small               2008  manual     69  fabia      90000   \n",
       "\n",
       "  fuel_type       brand repaired  \n",
       "0    petrol  volkswagen      NaN  \n",
       "1  gasoline        audi      yes  \n",
       "2  gasoline        jeep      NaN  \n",
       "3    petrol  volkswagen       no  \n",
       "4  gasoline       skoda       no  "
      ]
     },
     "execution_count": 12,
     "metadata": {},
     "output_type": "execute_result"
    }
   ],
   "source": [
    "columns_to_drop = ['date_crawled','registration_month', 'datecreated', 'number_of_pictures', 'postal_code', 'last_seen']\n",
    "df = df.drop(columns=columns_to_drop)\n",
    "df.head()"
   ]
  },
  {
   "cell_type": "markdown",
   "metadata": {},
   "source": [
    "<div class=\"alert alert-success\">\n",
    "<h2> Комментарий ревьюера <a class=\"tocSkip\"> </h2>\n",
    "\n",
    "<b>Все отлично!👍:</b> \n",
    "    \n",
    "Молодец, что удаляешь неинформативные для модели признаки."
   ]
  },
  {
   "cell_type": "markdown",
   "metadata": {},
   "source": [
    "<div class=\"alert alert-warning\">\n",
    "    <h2> Комментарий ревьюера <a class=\"tocSkip\"> </h2>\n",
    "    \n",
    "<b>Некоторые замечания и рекомендации💡:</b> \n",
    "        \n",
    "Однако можно попробовать извлечь полезную информацию из индекса."
   ]
  },
  {
   "cell_type": "code",
   "execution_count": null,
   "metadata": {},
   "outputs": [],
   "source": []
  },
  {
   "cell_type": "markdown",
   "metadata": {},
   "source": [
    "Проверим численные данные на аномалии"
   ]
  },
  {
   "cell_type": "code",
   "execution_count": 13,
   "metadata": {},
   "outputs": [
    {
     "data": {
      "text/html": [
       "<div>\n",
       "<style scoped>\n",
       "    .dataframe tbody tr th:only-of-type {\n",
       "        vertical-align: middle;\n",
       "    }\n",
       "\n",
       "    .dataframe tbody tr th {\n",
       "        vertical-align: top;\n",
       "    }\n",
       "\n",
       "    .dataframe thead th {\n",
       "        text-align: right;\n",
       "    }\n",
       "</style>\n",
       "<table border=\"1\" class=\"dataframe\">\n",
       "  <thead>\n",
       "    <tr style=\"text-align: right;\">\n",
       "      <th></th>\n",
       "      <th>price</th>\n",
       "      <th>registration_year</th>\n",
       "      <th>power</th>\n",
       "      <th>kilometer</th>\n",
       "    </tr>\n",
       "  </thead>\n",
       "  <tbody>\n",
       "    <tr>\n",
       "      <th>count</th>\n",
       "      <td>354369.000000</td>\n",
       "      <td>354369.000000</td>\n",
       "      <td>354369.000000</td>\n",
       "      <td>354369.000000</td>\n",
       "    </tr>\n",
       "    <tr>\n",
       "      <th>mean</th>\n",
       "      <td>4416.656776</td>\n",
       "      <td>2004.234448</td>\n",
       "      <td>110.094337</td>\n",
       "      <td>128211.172535</td>\n",
       "    </tr>\n",
       "    <tr>\n",
       "      <th>std</th>\n",
       "      <td>4514.158514</td>\n",
       "      <td>90.227958</td>\n",
       "      <td>189.850405</td>\n",
       "      <td>37905.341530</td>\n",
       "    </tr>\n",
       "    <tr>\n",
       "      <th>min</th>\n",
       "      <td>0.000000</td>\n",
       "      <td>1000.000000</td>\n",
       "      <td>0.000000</td>\n",
       "      <td>5000.000000</td>\n",
       "    </tr>\n",
       "    <tr>\n",
       "      <th>25%</th>\n",
       "      <td>1050.000000</td>\n",
       "      <td>1999.000000</td>\n",
       "      <td>69.000000</td>\n",
       "      <td>125000.000000</td>\n",
       "    </tr>\n",
       "    <tr>\n",
       "      <th>50%</th>\n",
       "      <td>2700.000000</td>\n",
       "      <td>2003.000000</td>\n",
       "      <td>105.000000</td>\n",
       "      <td>150000.000000</td>\n",
       "    </tr>\n",
       "    <tr>\n",
       "      <th>75%</th>\n",
       "      <td>6400.000000</td>\n",
       "      <td>2008.000000</td>\n",
       "      <td>143.000000</td>\n",
       "      <td>150000.000000</td>\n",
       "    </tr>\n",
       "    <tr>\n",
       "      <th>max</th>\n",
       "      <td>20000.000000</td>\n",
       "      <td>9999.000000</td>\n",
       "      <td>20000.000000</td>\n",
       "      <td>150000.000000</td>\n",
       "    </tr>\n",
       "  </tbody>\n",
       "</table>\n",
       "</div>"
      ],
      "text/plain": [
       "               price  registration_year          power      kilometer\n",
       "count  354369.000000      354369.000000  354369.000000  354369.000000\n",
       "mean     4416.656776        2004.234448     110.094337  128211.172535\n",
       "std      4514.158514          90.227958     189.850405   37905.341530\n",
       "min         0.000000        1000.000000       0.000000    5000.000000\n",
       "25%      1050.000000        1999.000000      69.000000  125000.000000\n",
       "50%      2700.000000        2003.000000     105.000000  150000.000000\n",
       "75%      6400.000000        2008.000000     143.000000  150000.000000\n",
       "max     20000.000000        9999.000000   20000.000000  150000.000000"
      ]
     },
     "execution_count": 13,
     "metadata": {},
     "output_type": "execute_result"
    }
   ],
   "source": [
    "df.describe()"
   ]
  },
  {
   "cell_type": "markdown",
   "metadata": {},
   "source": [
    "1. В колонке с ценной присутсвуют нулевые значения и возможно нереалистично малые\n",
    "2. В колонке с годом регистрации присутсвуют аномальные значения\n",
    "3. Также аномальные значения есть и в `power` и `kilometer`\n",
    "\n",
    "Сначала разберемся с аномальными значениями в столбцах с мощностью и пробегом. Предлагается заменить все значения лежащие за пределеми трех сигм методом ближайщих соседей"
   ]
  },
  {
   "cell_type": "code",
   "execution_count": null,
   "metadata": {},
   "outputs": [
    {
     "name": "stderr",
     "output_type": "stream",
     "text": [
      "/tmp/ipykernel_48/1417205025.py:6: FutureWarning: Automatic reindexing on DataFrame vs Series comparisons is deprecated and will raise ValueError in a future version.  Do `left, right = left.align(right, axis=1, copy=False)` before e.g. `left == right`\n",
      "  df_selected = df_selected[(df - df_selected.mean()).abs() <= 3 * df_selected.std()]\n"
     ]
    }
   ],
   "source": [
    "#Столбцы для замены\n",
    "cols_to_impute = ['power', 'kilometer']\n",
    "df_selected = df[cols_to_impute]\n",
    "\n",
    "#Оставляем только значения в пределах трех сигм\n",
    "df_selected = df_selected[(df - df_selected.mean()).abs() <= 3 * df_selected.std()]\n",
    "\n",
    "#Воспользуемся методом ближайщих соседей для заполнения образовавшихся пропусков\n",
    "imputer = KNNImputer()\n",
    "df_imputed = imputer.fit_transform(df_selected)\n",
    "\n",
    "#Заменим значения в столбцах и проверим датафрейм\n",
    "df[cols_to_impute] = df_imputed\n",
    "df.head()"
   ]
  },
  {
   "cell_type": "markdown",
   "metadata": {},
   "source": [
    "<div class=\"alert alert-success\">\n",
    "<h2> Комментарий ревьюера <a class=\"tocSkip\"> </h2>\n",
    "\n",
    "<b>Все отлично!👍:</b> \n",
    "    \n",
    "    \n",
    "Молодец, что обрабатываешь выбросы."
   ]
  },
  {
   "cell_type": "markdown",
   "metadata": {},
   "source": [
    "<div class=\"alert alert-warning\">\n",
    "    <h2> Комментарий ревьюера <a class=\"tocSkip\"> </h2>\n",
    "    \n",
    "<b>Некоторые замечания и рекомендации💡:</b> \n",
    "        \n",
    "Здесь интересно посмотреть на то, какие есть уникальные значения у Kilometer.\n",
    "        \n",
    "Они только строго определенные и круглые. Возможно, это связано с особенностями заполнения анкеты.\n",
    "        \n",
    "Есть гипотеза, что можно попробовать в связи с этим перевести этот признак в категориальные. Но надо смотреть, какой из положительно отразится на метрике."
   ]
  },
  {
   "cell_type": "code",
   "execution_count": null,
   "metadata": {},
   "outputs": [],
   "source": [
    "df['kilometer'].hist()"
   ]
  },
  {
   "cell_type": "markdown",
   "metadata": {},
   "source": [
    "<div class=\"alert alert-info\">\n",
    "Возможно имеет смысл разбить на две категории: меньше 140000 и больше. Но особого выигрыша в метрике это не дает"
   ]
  },
  {
   "cell_type": "markdown",
   "metadata": {},
   "source": [
    "<div class=\"alert alert-success\">\n",
    "<h2> Комментарий ревьюера №2<a class=\"tocSkip\"> </h2>\n",
    "\n",
    "<b>Все отлично!👍</b> \n",
    "    "
   ]
  },
  {
   "cell_type": "code",
   "execution_count": null,
   "metadata": {},
   "outputs": [],
   "source": [
    "df.describe()"
   ]
  },
  {
   "cell_type": "markdown",
   "metadata": {},
   "source": [
    "Пропуски в столбце `repaired` интерпретируем как `no`"
   ]
  },
  {
   "cell_type": "code",
   "execution_count": null,
   "metadata": {},
   "outputs": [],
   "source": [
    "df['repaired'].fillna(value='no', inplace = True)\n",
    "df.reset_index(drop = True, inplace = True)\n",
    "df"
   ]
  },
  {
   "cell_type": "markdown",
   "metadata": {},
   "source": [
    "<div class=\"alert alert-warning\">\n",
    "    <h2> Комментарий ревьюера <a class=\"tocSkip\"> </h2>\n",
    "    \n",
    "<b>Некоторые замечания и рекомендации💡:</b> \n",
    "        \n",
    "Для отображения датасета лучше использовать методы sample, head или tail"
   ]
  },
  {
   "cell_type": "markdown",
   "metadata": {},
   "source": [
    "<div class=\"alert alert-info\">\n",
    "При таком способе отображения выводит количество строк и стобцов, так можно их контролировать"
   ]
  },
  {
   "cell_type": "markdown",
   "metadata": {},
   "source": [
    "<div class=\"alert alert-warning\">\n",
    "    <h2> Комментарий ревьюера №2<a class=\"tocSkip\"> </h2>\n",
    "    \n",
    "<b>Некоторые замечания и рекомендации💡:</b> \n",
    "        \n",
    "Тоже верно. Еще это можно контролировать через info()"
   ]
  },
  {
   "cell_type": "markdown",
   "metadata": {},
   "source": [
    "Проверим уникальные значения в столбцах `vehicle_type`, `gearbox`, `model`, `fuel_type` и `brand`"
   ]
  },
  {
   "cell_type": "code",
   "execution_count": null,
   "metadata": {},
   "outputs": [],
   "source": [
    "df['vehicle_type'].unique()"
   ]
  },
  {
   "cell_type": "code",
   "execution_count": null,
   "metadata": {},
   "outputs": [],
   "source": [
    "df['gearbox'].unique()"
   ]
  },
  {
   "cell_type": "code",
   "execution_count": null,
   "metadata": {},
   "outputs": [],
   "source": [
    "df['model'].unique()"
   ]
  },
  {
   "cell_type": "code",
   "execution_count": null,
   "metadata": {},
   "outputs": [],
   "source": [
    "df['fuel_type'].unique()"
   ]
  },
  {
   "cell_type": "code",
   "execution_count": null,
   "metadata": {},
   "outputs": [],
   "source": [
    "df['brand'].unique()"
   ]
  },
  {
   "cell_type": "markdown",
   "metadata": {},
   "source": [
    "<div class=\"alert alert-warning\">\n",
    "    <h2> Комментарий ревьюера <a class=\"tocSkip\"> </h2>\n",
    "    \n",
    "<b>Некоторые замечания и рекомендации💡:</b> \n",
    "        \n",
    "Можно также проверить данные на синонимичные категории и объединить малые категории."
   ]
  },
  {
   "cell_type": "markdown",
   "metadata": {},
   "source": [
    "<div class=\"alert alert-info\">\n",
    "Да но я поленилась гуглить все это, так как в машинах я не большой эксперт)"
   ]
  },
  {
   "cell_type": "markdown",
   "metadata": {},
   "source": [
    "<div class=\"alert alert-success\">\n",
    "<h2> Комментарий ревьюера №2<a class=\"tocSkip\"> </h2>\n",
    "\n",
    "<b>Все отлично!👍:</b> \n",
    "    \n",
    ":)"
   ]
  },
  {
   "cell_type": "markdown",
   "metadata": {},
   "source": [
    "Удалим пропущенные значения в столбце `gearbox`, в остальных случаях можно заменить пропуски на значение `other`, так как оно уже присутсвует там."
   ]
  },
  {
   "cell_type": "code",
   "execution_count": null,
   "metadata": {},
   "outputs": [],
   "source": [
    "df.dropna(subset=['gearbox'], inplace=True)\n",
    "df.info()"
   ]
  },
  {
   "cell_type": "code",
   "execution_count": null,
   "metadata": {},
   "outputs": [],
   "source": [
    "df.fillna(value='other', inplace = True)\n",
    "df.reset_index()\n",
    "df.info()"
   ]
  },
  {
   "cell_type": "markdown",
   "metadata": {},
   "source": [
    "<div class=\"alert alert-success\">\n",
    "<h2> Комментарий ревьюера <a class=\"tocSkip\"> </h2>\n",
    "\n",
    "    \n",
    "<b>Все отлично!👍:</b> \n",
    "    \n",
    "Да, молодец, что заметила."
   ]
  },
  {
   "cell_type": "markdown",
   "metadata": {},
   "source": [
    "Пропусков не осталось. Аномальные значения в столбце с ценой придется удалить"
   ]
  },
  {
   "cell_type": "code",
   "execution_count": null,
   "metadata": {},
   "outputs": [],
   "source": [
    "df = df[(df['price'] > df['price'].mean() - 3 * df['price'].std()) & (df['price'] < df['price'].mean() + 3 * df['price'].std())]\n",
    "df.reset_index(drop = True, inplace = True)\n",
    "df"
   ]
  },
  {
   "cell_type": "markdown",
   "metadata": {},
   "source": [
    "<div class=\"alert alert-success\">\n",
    "<h2> Комментарий ревьюера <a class=\"tocSkip\"> </h2>\n",
    "\n",
    "    \n",
    "<b>Все отлично!👍:</b> \n",
    "    \n",
    "Молодец, что орабатываешь аномалии в целевом признаке."
   ]
  },
  {
   "cell_type": "markdown",
   "metadata": {},
   "source": [
    "Аномальные значения в столбце с годом регистрации заменим по следующей схеме: удалим значения меньше 1970 и больше 2016 (так как это дата скачивания анкет)"
   ]
  },
  {
   "cell_type": "code",
   "execution_count": null,
   "metadata": {},
   "outputs": [],
   "source": [
    "df = df[(df['registration_year'] > 1970) & (df['registration_year'] < 2016)]\n",
    "df.reset_index(drop = True, inplace = True)\n",
    "df.info()"
   ]
  },
  {
   "cell_type": "markdown",
   "metadata": {},
   "source": [
    "<div class=\"alert alert-success\">\n",
    "<h2> Комментарий ревьюера <a class=\"tocSkip\"> </h2>\n",
    "\n",
    "    \n",
    "<b>Все отлично!👍:</b> \n",
    "    \n",
    "Молодец, что выбираешь верхнюю границу года регистрации, исходя из дат в датасете."
   ]
  },
  {
   "cell_type": "markdown",
   "metadata": {},
   "source": [
    "Проверим дубликаты"
   ]
  },
  {
   "cell_type": "code",
   "execution_count": null,
   "metadata": {},
   "outputs": [],
   "source": [
    "df.duplicated().sum()"
   ]
  },
  {
   "cell_type": "markdown",
   "metadata": {},
   "source": [
    "В данных присутсвует достаточно большое количество дубликатов, их придется удалить."
   ]
  },
  {
   "cell_type": "code",
   "execution_count": null,
   "metadata": {},
   "outputs": [],
   "source": [
    "df = df.drop_duplicates().reset_index(drop=True) \n",
    "df.duplicated().sum()"
   ]
  },
  {
   "cell_type": "markdown",
   "metadata": {},
   "source": [
    "Построим тепловую карту корреляции количественных данных"
   ]
  },
  {
   "cell_type": "code",
   "execution_count": null,
   "metadata": {},
   "outputs": [],
   "source": [
    "sns.heatmap(df.corr(method='spearman'), vmin=-1, vmax=1, annot=True)\n",
    "plt.show()"
   ]
  },
  {
   "cell_type": "markdown",
   "metadata": {},
   "source": [
    "<div class=\"alert alert-warning\">\n",
    "    <h2> Комментарий ревьюера <a class=\"tocSkip\"> </h2>\n",
    "    \n",
    "<b>Некоторые замечания и рекомендации💡:</b> \n",
    "\n",
    "Коэффициент корреляции Пирсона (который по дефолту рассчитывается в методе corr), имеет определенные требования к данным:\n",
    "    \n",
    "- характер взаимосвязи двух переменных должен быть линейным и монотонным (коэффициент корреляции Пирсона не может уловить нелинейные зависимости). Поэтому, чтобы проконтроллировать корректность применения коэффициента корреляции Пирсона стоит сначала построить диаграммы рассеяния для переменных. \n",
    "    \n",
    "- распределения обоих переменных, для которых рассчитывается коэффициент должны быть распределены нормально. То есть стоит построить графики распределений для переменных прежде чем изучать корреляцию. Также выбросы, ассиметрия, бимодальность негативно сказываются на адекватности использования среднего значения в качестве некоторого показателя, характеризующего нашу выборку (а коэффициент коррелиции Пирсона основан на среднем значении). Формулу можно посмотреть здесь:\n",
    "    \n",
    "https://studfile.net/preview/2966946/page:34/\n",
    "    \n",
    "Чтобы уменьшить негативное влияние выбросов можно перейти от коэффициента корреляции Пирсона к непараметрическому критерию корреляции - коэффициенту корреляции Спирмена, который уходит от реальных значенийи переходит к рангам.\n",
    "    "
   ]
  },
  {
   "cell_type": "markdown",
   "metadata": {},
   "source": [
    "<div class=\"alert alert-info\">\n",
    "Спасибо! Исправила! Видна небольшая корреляция между годом регистрации и мощностью"
   ]
  },
  {
   "cell_type": "markdown",
   "metadata": {},
   "source": [
    "<div class=\"alert alert-success\">\n",
    "<h2> Комментарий ревьюера №2<a class=\"tocSkip\"> </h2>\n",
    "\n",
    "<b>Все отлично!👍</b> \n",
    "    "
   ]
  },
  {
   "cell_type": "markdown",
   "metadata": {},
   "source": [
    "Заментна достаточно сильная корреляция между признаками и таргетом. Также присутсвует небольшая корреляция между годом регистрации и пробегом, но оставим эти признаки. \n",
    "\n",
    "Закодируем данные методом ohe"
   ]
  },
  {
   "cell_type": "code",
   "execution_count": null,
   "metadata": {},
   "outputs": [],
   "source": [
    "#ohe = OneHotEncoder(drop='first')\n",
    "\n",
    "# Цикл для всех столбцов датафрейма\n",
    "#for col in df.columns:\n",
    "    # Проверим категориальный ли столбец\n",
    "#    if df[col].dtype == 'object':\n",
    "        # Кодируем\n",
    "#        one_hot = ohe.fit_transform(df[[col]]).toarray()\n",
    "        \n",
    "        # Создадим новый датафрейм с кодированными данными\n",
    "#        df_encoded = pd.DataFrame(one_hot, columns=[col + \"_\" + str(int(i)) for i in range(one_hot.shape[1])])\n",
    "        \n",
    "        # Соеденим данные\n",
    "#        df = pd.concat([df, df_encoded], axis=1)\n",
    "        \n",
    "        # Отбросим изначальные столбцы\n",
    "#        df.drop([col], axis=1, inplace=True)\n",
    "        \n",
    "#df"
   ]
  },
  {
   "cell_type": "markdown",
   "metadata": {},
   "source": [
    "<div class=\"alert alert-block alert-danger\">\n",
    "<h2> Комментарий ревьюера <a class=\"tocSkip\"></h2>\n",
    "\n",
    "    \n",
    "<b>На доработку🤔:</b>\n",
    "    \n",
    "Екатерина, обрати, пожалуйста, внимание:\n",
    "    \n",
    "если ты проводишь кодирование с помощью кодировщиков типа OrdinalEncoder и OneHotEncoder, то стоит это делать после разделения на выборки. То есть по аналогии со StandardScaler: обучаем кодер только на тренировочной выборки, а  трансформируем все, какие есть, с помощью него.\n",
    "    \n",
    "Это нам помогает иммитировать работу с реальными данными. В тренировочной выборке могут оказаться не все категории, которые есть в валидации или в тесте у некоторых фичей, поэтому если не настроить кодер на обработку незнакомых категорий, код будет выдавать ошибку.\n",
    "    \n",
    "За обработку незнакомых категорий в OneHotEncoder отвечает параметр handle_unknown\n",
    "    \n",
    "С применением можно ознакомиться в документации:\n",
    "    \n",
    "https://scikit-learn.org/stable/modules/generated/sklearn.preprocessing.OneHotEncoder.html\n",
    "    \n",
    "Также чтобы этот параметр работал вместе с drop_first достаточно обновить версию sklearn\n",
    "        \n",
    "!pip install scikit-learn==1.1.3\n",
    "        \n",
    "Важно сделать это до импорта кодера."
   ]
  },
  {
   "cell_type": "markdown",
   "metadata": {},
   "source": [
    "<div class=\"alert alert-info\">\n",
    "Исправлено, перенесла ниже"
   ]
  },
  {
   "cell_type": "markdown",
   "metadata": {},
   "source": [
    " **Вывод:**\n",
    " 1. Данные содержали большое количество аномальных значений, пропусков и дубликатов.\n",
    " 2. После предобработки данных получилось сохранить 260706 строк из 354369, что составляет примерно 73%. \n",
    " 3. Наблюдается небольшая корреляция между двумя признаками: годом регистрации и пробегом.\n",
    " 4. Категориальные данные были закодированы методом ohe.\n",
    " 5. Данные подготовлены и готовы к обучению моделей."
   ]
  },
  {
   "cell_type": "markdown",
   "metadata": {},
   "source": [
    "## Обучение моделей"
   ]
  },
  {
   "cell_type": "markdown",
   "metadata": {},
   "source": [
    "Разделим на две выборки: тренировочную и тестовую"
   ]
  },
  {
   "cell_type": "code",
   "execution_count": null,
   "metadata": {},
   "outputs": [],
   "source": [
    "#Таргет - цена автомобиля\n",
    "target = df['price']\n",
    "\n",
    "#Признаки\n",
    "features = df.drop(['price'], axis=1)\n",
    "\n",
    "features_train, features_test, target_train, target_test = train_test_split(\n",
    "    features, target, test_size=0.25, random_state=12345)\n",
    "\n",
    "features_train = features_train.reset_index()\n",
    "features_test = features_test.reset_index()\n",
    "\n",
    "#Проверим размеры выборок\n",
    "print(features_train.shape, features_test.shape)"
   ]
  },
  {
   "cell_type": "code",
   "execution_count": null,
   "metadata": {},
   "outputs": [],
   "source": [
    "ohe = OneHotEncoder(drop='first')\n",
    "\n",
    "categorical_features = ['vehicle_type', 'gearbox', 'model', 'fuel_type', 'brand', 'repaired']\n",
    "\n",
    "train_ohe = features_train.copy()\n",
    "test_ohe = features_test.copy()\n",
    "\n",
    "# Применяем OneHotEncoder к категориальным признакам на тренировочной и тестовой выборках\n",
    "ohe_train = ohe.fit_transform(train_ohe[categorical_features])\n",
    "ohe_test = ohe.transform(test_ohe[categorical_features])\n",
    "                         \n",
    "train_ohe_encoded = pd.DataFrame(ohe_train.toarray(), columns=ohe.get_feature_names(categorical_features))\n",
    "test_ohe_encoded = pd.DataFrame(ohe_test.toarray(), columns=ohe.get_feature_names(categorical_features))  \n",
    "\n",
    "train_ohe.drop(categorical_features, axis=1, inplace=True)\n",
    "test_ohe.drop(categorical_features, axis=1, inplace=True)\n",
    "train_ohe = pd.concat([train_ohe, train_ohe_encoded], axis=1)\n",
    "test_ohe = pd.concat([test_ohe, test_ohe_encoded], axis=1)\n",
    "                         \n",
    "train_ohe.set_index('index', inplace = True)\n",
    "test_ohe.set_index('index', inplace = True)\n",
    "train_ohe"
   ]
  },
  {
   "cell_type": "code",
   "execution_count": null,
   "metadata": {},
   "outputs": [],
   "source": [
    "encoder = OrdinalEncoder()\n",
    "\n",
    "train_oe = features_train.copy()\n",
    "test_oe = features_test.copy()\n",
    "\n",
    "# Применяем OneHotEncoder к категориальным признакам на тренировочной и тестовой выборках\n",
    "oe_train = encoder.fit_transform(train_oe[categorical_features])\n",
    "oe_test = encoder.transform(test_oe[categorical_features])\n",
    "                         \n",
    "train_oe_encoded = pd.DataFrame(oe_train, columns=categorical_features)\n",
    "test_oe_encoded = pd.DataFrame(oe_test, columns=categorical_features)\n",
    "\n",
    "train_oe.drop(categorical_features, axis=1, inplace=True)\n",
    "test_oe.drop(categorical_features, axis=1, inplace=True)\n",
    "train_oe = pd.concat([train_oe, train_oe_encoded], axis=1)\n",
    "test_oe = pd.concat([test_oe, test_oe_encoded], axis=1)\n",
    "                         \n",
    "train_oe.set_index('index', inplace = True)\n",
    "test_oe.set_index('index', inplace = True)\n",
    "\n",
    "train_oe.head()"
   ]
  },
  {
   "cell_type": "markdown",
   "metadata": {},
   "source": [
    "<div class=\"alert alert-info\">\n",
    "Использовала порядковую кодировку. Такой вопрос: я изначально не стала ее использовать, так как думала что она используется только если категории неравнозначны, плюс я не совсем понимала как это все будет работать с масштабированием. Поэтому пришла к выводу использовать ohe"
   ]
  },
  {
   "cell_type": "markdown",
   "metadata": {},
   "source": [
    "<div class=\"alert alert-success\">\n",
    "<h2> Комментарий ревьюера №2<a class=\"tocSkip\"> </h2>\n",
    "\n",
    "<b>Все отлично!👍:</b> \n",
    "    \n",
    "Совместно с масштабированием можно применять."
   ]
  },
  {
   "cell_type": "markdown",
   "metadata": {},
   "source": [
    "Стандартизируем выборки. Обучим StandardScaler на тренировочной выборке и применим его к тренировочной и тестовой выборке."
   ]
  },
  {
   "cell_type": "code",
   "execution_count": null,
   "metadata": {},
   "outputs": [],
   "source": [
    "#numeric = ['registration_year', 'power', 'kilometer']\n",
    "scaler = StandardScaler()\n",
    "\n",
    "#Обучаем стандартизатор на тренировочной выборке\n",
    "#scaler.fit(train_ohe[numeric])\n",
    "#scaler.fit(train_oe[numeric])\n",
    "\n",
    "#Применяем на двух выборках\n",
    "#features_train[numeric] = scaler.transform(features_train[numeric])\n",
    "#features_test[numeric] = scaler.transform(features_test[numeric])\n",
    "#pd.options.mode.chained_assignment = None\n",
    "\n",
    "#features_train\n",
    "\n",
    "# Масштабируем признаки в датафреймах train_ohe и test_ohe\n",
    "train_ohe = scaler.fit_transform(train_ohe)\n",
    "test_ohe= scaler.transform(test_ohe)\n",
    "\n",
    "# Масштабируем признаки в датафреймах train_oe и test_oe\n",
    "train_oe = scaler.fit_transform(train_oe)\n",
    "test_oe = scaler.transform(test_oe)\n",
    "pd.options.mode.chained_assignment = None\n",
    "test_oe"
   ]
  },
  {
   "cell_type": "markdown",
   "metadata": {},
   "source": [
    "<div class=\"alert alert-success\">\n",
    "<h2> Комментарий ревьюера <a class=\"tocSkip\"> </h2>\n",
    "\n",
    "<b>Все отлично!👍:</b> \n",
    "    \n",
    "Масштабирование проведено корректно, молодец!"
   ]
  },
  {
   "cell_type": "markdown",
   "metadata": {},
   "source": [
    "В качестве основной метрики предлагается использовать RMSE. Напишем функцию для этой метрики"
   ]
  },
  {
   "cell_type": "code",
   "execution_count": null,
   "metadata": {},
   "outputs": [],
   "source": [
    "def rmse(y_true, y_pred):\n",
    "    y_pred = pd.Series(y_pred)\n",
    "    return mean_squared_error(y_true, y_pred, squared = False)"
   ]
  },
  {
   "cell_type": "code",
   "execution_count": null,
   "metadata": {},
   "outputs": [],
   "source": [
    "scorer = make_scorer(rmse, greater_is_better=False)"
   ]
  },
  {
   "cell_type": "markdown",
   "metadata": {},
   "source": [
    "Рассмотрим несколько моделей:\n",
    "1. **Ridge** - это линейная регрессионная модель, которая решает задачу линейной регрессии с L2-регуляризацией. Она является одной из классических моделей машинного обучения и обычно используется для предсказания числовых значений.\n",
    "\n",
    "2. **DecisionTree** - это модель дерева решений, которая строит дерево решений на основе заданных признаков. Она используется для решения задач классификации и регрессии.\n",
    "\n",
    "3. **CatBoost** - это градиентный бустинговый алгоритм, разработанный компанией Яндекс. Он основан на деревьях решений и предназначен для решения задач классификации и регрессии. CatBoost имеет ряд преимуществ перед другими бустинговыми алгоритмами, такими как устойчивость к переобучению, возможность работы с категориальными признаками и быстрое время обучения.\n",
    "\n",
    "4. **LGBM** - это градиентный бустинговый алгоритм, использующий гистограммный подход для построения деревьев решений. Он предназначен для решения задач классификации и регрессии и является одним из наиболее быстрых и эффективных алгоритмов градиентного бустинга.\n",
    "\n",
    "5. **Dummy** - это модель-заглушка, которая используется в качестве базовой модели при сравнении с другими моделями. Dummy не делает никаких предсказаний и всегда выдает константное значение, которое может быть задано пользователем. Она может использоваться для проверки качества других моделей и определения, насколько эффективна модель по сравнению с простой моделью-заглушкой\n",
    "\n",
    "Каждую из этих моделей будем сравнивать по трем характеристикам: \n",
    "1. Время обучения\n",
    "2. Время предсказание\n",
    "3. Значение RMSE\n",
    "\n",
    "Также применим GridSearhCV для кроссвалидации и поиска гиперпараметров."
   ]
  },
  {
   "cell_type": "code",
   "execution_count": null,
   "metadata": {},
   "outputs": [],
   "source": [
    "%%time\n",
    "#Первой рассмотрим линейную регрессию\n",
    "model = Ridge()\n",
    "\n",
    "# Создание сетки гиперпараметров\n",
    "params = {'alpha': np.logspace(-3, 3, 7)}\n",
    "\n",
    "grid_search = GridSearchCV(model, params, cv=5, scoring = scorer)\n",
    "\n",
    "# Обучение модели на данных с использованием GridSearchCV\n",
    "grid_search.fit(train_ohe, target_train)"
   ]
  },
  {
   "cell_type": "markdown",
   "metadata": {},
   "source": [
    "<div class=\"alert alert-block alert-danger\">\n",
    "<h2> Комментарий ревьюера №2<a class=\"tocSkip\"></h2>\n",
    "\n",
    "    \n",
    "<b>На доработку🤔:</b>\n",
    "    \n",
    "Стоит вернуть one-hot кодирование для Ridge, так как это линейная модель. Стоит подготовить выборки с разными вариантами кодирования отдельно."
   ]
  },
  {
   "cell_type": "markdown",
   "metadata": {},
   "source": [
    "<div class=\"alert alert-info\">\n",
    "<h2> Комментарий студента №2<a class=\"tocSkip\"></h2> \n",
    "    Вернула"
   ]
  },
  {
   "cell_type": "markdown",
   "metadata": {},
   "source": [
    "<div class=\"alert alert-success\">\n",
    "<h2> Комментарий ревьюера №2<a class=\"tocSkip\"> </h2>\n",
    "\n",
    "<b>Все отлично!👍</b> \n",
    "    "
   ]
  },
  {
   "cell_type": "code",
   "execution_count": null,
   "metadata": {},
   "outputs": [],
   "source": [
    "%%time\n",
    "\n",
    "# Лучшие параметры\n",
    "best_params = grid_search.best_params_\n",
    "\n",
    "best_model = grid_search.best_estimator_\n",
    "rmse_ridge = -grid_search.best_score_\n",
    "\n",
    "#Проверим на тестовой выборке\n",
    "#pred_tree = best_model.predict(features_test)\n",
    "\n",
    "# RMSE\n",
    "#rmse_ridge = rmse(target_test, pred_tree)\n",
    "time_fit_ridge = grid_search.cv_results_['mean_fit_time'].sum()\n",
    "time_pred_ridge = grid_search.cv_results_['mean_score_time'].sum()\n",
    "\n",
    "print(\"Best Hyperparameters:\", grid_search.best_params_)\n",
    "print(\"RMSE: \", rmse_ridge)\n",
    "print(\"Mean fit time:\", time_fit_ridge)\n",
    "print(\"Mean score time:\", time_pred_ridge)"
   ]
  },
  {
   "cell_type": "markdown",
   "metadata": {},
   "source": [
    "<div class=\"alert alert-block alert-danger\">\n",
    "<h2> Комментарий ревьюера <a class=\"tocSkip\"></h2>\n",
    "\n",
    "    \n",
    "<b>На доработку🤔:</b>\n",
    "    \n",
    "    \n",
    "Есть 2 варинта работы:\n",
    "    \n",
    "1. Либо разделить данные на 3 выборки (трейн, валидация и тест) и в процессе анализа качество проверять на валидационной выборке. В этом случае время на предикт также измеряем на валидационной выборке.\n",
    "    \n",
    "2. Либо разделять на 2 выборки (трейн и тест), и тогда качество мы оценивает на кросс-валидации, которая проводится на тренировочной выборке. А время на предикт измеряем тоже на тренировочной.\n",
    "    \n",
    "В обоих случаях тестовая выборка - контрольная. Нужна чтобы проконтролировать качество выбранной лучшей модели на отложенных данных.\n",
    "    \n",
    "Так как ты используешь GirdSearch, который проводится с помощью кросс-валидации, то качество модели можно посмотреть в его результатах."
   ]
  },
  {
   "cell_type": "markdown",
   "metadata": {},
   "source": [
    "Модель работает очень быстро, также по условию заказчика метрика RMSE должна быть меньше 2500, Ridge удовлетворяет этому критерию. "
   ]
  },
  {
   "cell_type": "code",
   "execution_count": null,
   "metadata": {},
   "outputs": [],
   "source": [
    "%%time\n",
    "# Создание сетки гиперпараметров\n",
    "param_grid = { 'max_depth': range (1,101, 10),\n",
    "              'min_samples_leaf': range (1,20, 2),\n",
    "              'min_samples_split': range (1,20,2) }\n",
    "\n",
    "# Модель Дерева Решений\n",
    "regressor = DecisionTreeRegressor(random_state=12345)\n",
    "\n",
    "grid_search = GridSearchCV(regressor, param_grid, scoring = scorer, cv=5)\n",
    "    \n",
    "# Обучение\n",
    "grid_search.fit(train_oe, target_train)\n"
   ]
  },
  {
   "cell_type": "markdown",
   "metadata": {},
   "source": [
    "<div class=\"alert alert-success\">\n",
    "<h2> Комментарий ревьюера <a class=\"tocSkip\"> </h2>\n",
    "\n",
    "<b>Все отлично!👍:</b> \n",
    "    \n",
    "Молодец, что подбираешь гиперпараметры.\n",
    "    "
   ]
  },
  {
   "cell_type": "markdown",
   "metadata": {},
   "source": [
    "<div class=\"alert alert-warning\">\n",
    "    <h2> Комментарий ревьюера <a class=\"tocSkip\"> </h2>\n",
    "    \n",
    "<b>Некоторые замечания и рекомендации💡:</b> \n",
    "        \n",
    "Для моделей на основе деревьев решений можно использовать порядковое кодирование категориальных переменных. Это может сократить время работы модели без потери качества."
   ]
  },
  {
   "cell_type": "markdown",
   "metadata": {},
   "source": [
    "<div class=\"alert alert-info\">\n",
    "Время существенно сократилось"
   ]
  },
  {
   "cell_type": "markdown",
   "metadata": {},
   "source": [
    "<div class=\"alert alert-success\">\n",
    "<h2> Комментарий ревьюера №2<a class=\"tocSkip\"> </h2>\n",
    "\n",
    "<b>Все отлично!👍</b> \n",
    "    "
   ]
  },
  {
   "cell_type": "code",
   "execution_count": null,
   "metadata": {},
   "outputs": [],
   "source": [
    "%%time\n",
    "\n",
    "# Наилучшие параметры\n",
    "best_params = grid_search.best_params_\n",
    "\n",
    "best_model = grid_search.best_estimator_\n",
    "rmse_tree = -grid_search.best_score_\n",
    "\n",
    "#pred_tree = best_model.predict(features_test)\n",
    "\n",
    "# RMSE\n",
    "#rmse_tree = rmse(target_test, pred_tree)\n",
    "\n",
    "time_fit_tree = grid_search.cv_results_['mean_fit_time'].sum()\n",
    "time_pred_tree = grid_search.cv_results_['mean_score_time'].sum()\n",
    "\n",
    "print(\"Best Hyperparameters:\", best_params)\n",
    "print(\"RMSE: \", rmse_tree)\n",
    "print(\"Mean fit time:\", time_fit_tree)\n",
    "print(\"Mean score time:\", time_pred_tree)"
   ]
  },
  {
   "cell_type": "markdown",
   "metadata": {},
   "source": [
    "Модель Дерева Решений показала лучшее значение RMSE, но чрезвычайно долгое время обучения."
   ]
  },
  {
   "cell_type": "code",
   "execution_count": null,
   "metadata": {},
   "outputs": [],
   "source": [
    "%%time\n",
    "\n",
    "# Создание сетки гиперпараметров\n",
    "params = {\n",
    "    'depth': [4, 6, 8],\n",
    "    'learning_rate': [0.01, 0.05, 0.1],\n",
    "    'iterations': [100, 500, 1000]\n",
    "}\n",
    "\n",
    "# CatBoostRegressor\n",
    "model = CatBoostRegressor(random_state=12345)\n",
    "\n",
    "# Обучение\n",
    "grid_search = GridSearchCV(model, param_grid=params, scoring = scorer, cv=5)\n",
    "grid_search.fit(train_oe, target_train)"
   ]
  },
  {
   "cell_type": "markdown",
   "metadata": {},
   "source": [
    "<div class=\"alert alert-block alert-danger\">\n",
    "<h2> Комментарий ревьюера <a class=\"tocSkip\"></h2>\n",
    "\n",
    "    \n",
    "<b>На доработку🤔:</b>\n",
    "    \n",
    "Для CatBoost стоит использовать порядковое кодирование категориальных переменных.\n",
    "    \n",
    "Либо воспользоваться внутренним алгоритмом кодирования, то есть подавать в модель незакодированные предварительно фичи.\n",
    "    \n",
    "Пример:\n",
    "    \n",
    "https://towardsdatascience.com/how-do-you-use-categorical-features-directly-with-catboost-947b211c2923"
   ]
  },
  {
   "cell_type": "markdown",
   "metadata": {},
   "source": [
    "<div class=\"alert alert-info\">\n",
    "Исправила"
   ]
  },
  {
   "cell_type": "markdown",
   "metadata": {},
   "source": [
    "<div class=\"alert alert-success\">\n",
    "<h2> Комментарий ревьюера №2<a class=\"tocSkip\"> </h2>\n",
    "\n",
    "<b>Все отлично!👍</b> \n",
    "    "
   ]
  },
  {
   "cell_type": "code",
   "execution_count": null,
   "metadata": {},
   "outputs": [],
   "source": [
    "%%time\n",
    "\n",
    "best_model_cat = grid_search.best_estimator_\n",
    "rmse_CatBoost = -grid_search.best_score_ \n",
    "#pred_cat = best_model.predict(features_test)\n",
    "\n",
    "# RMSE\n",
    "#rmse_catboost = rmse(target_test, pred_cat)\n",
    "\n",
    "time_fit_cat = grid_search.cv_results_['mean_fit_time'].sum()\n",
    "time_pred_cat = grid_search.cv_results_['mean_score_time'].sum()\n",
    "\n",
    "print(\"Best Hyperparameters:\", grid_search.best_params_)\n",
    "print(\"RMSE:\", rmse_CatBoost)\n",
    "print(\"Mean fit time:\", time_fit_cat)\n",
    "print(\"Mean score time:\", time_pred_cat)"
   ]
  },
  {
   "cell_type": "markdown",
   "metadata": {},
   "source": [
    "CatBoost дает хорошее RMSE, а также обучение и предсказание происходит быстрее."
   ]
  },
  {
   "cell_type": "code",
   "execution_count": null,
   "metadata": {},
   "outputs": [],
   "source": [
    "%%time\n",
    "\n",
    "#LGBMRegressor\n",
    "model_LGBM = LGBMRegressor()\n",
    "\n",
    "# Создание сетки гиперпараметров\n",
    "params = {\n",
    "    'learning_rate': [0.05, 0.1, 0.2],\n",
    "    'n_estimators': [50, 100, 200],\n",
    "    'max_depth': [3, 5, 7],\n",
    "    'num_leaves': [5, 10, 15]\n",
    "}\n",
    "\n",
    "#Обучение\n",
    "grid = GridSearchCV(estimator=model_LGBM, param_grid=params, cv=5, scoring=scorer)\n",
    "grid.fit(train_oe, target_train)"
   ]
  },
  {
   "cell_type": "markdown",
   "metadata": {},
   "source": [
    "<div class=\"alert alert-block alert-danger\">\n",
    "<h2> Комментарий ревьюера <a class=\"tocSkip\"></h2>\n",
    "\n",
    "    \n",
    "<b>На доработку🤔:</b>\n",
    "        \n",
    "        \n",
    "Для LightGBM стоит использовать порядковое кодирование категориальных переменных или воспользоваться внутренним алгоритмом кодирования, то есть подавать в модель незакодированные предварительно фичи.\n",
    "    \n",
    "Пример:\n",
    "    \n",
    "https://www.kaggle.com/code/mlisovyi/beware-of-categorical-features-in-lgbm"
   ]
  },
  {
   "cell_type": "markdown",
   "metadata": {},
   "source": [
    "<div class=\"alert alert-info\">\n",
    "    Исправила"
   ]
  },
  {
   "cell_type": "markdown",
   "metadata": {},
   "source": [
    "<div class=\"alert alert-success\">\n",
    "<h2> Комментарий ревьюера №2<a class=\"tocSkip\"> </h2>\n",
    "\n",
    "<b>Все отлично!👍</b> \n",
    "    "
   ]
  },
  {
   "cell_type": "code",
   "execution_count": null,
   "metadata": {},
   "outputs": [],
   "source": [
    "%%time\n",
    "\n",
    "best_model = grid.best_estimator_\n",
    "rmse_LGBM = -grid.best_score_\n",
    "#pred_LGBM = best_model.predict(features_test)\n",
    "\n",
    "#RMSE\n",
    "#rmse_LGBM = rmse(target_test, pred_LGBM)\n",
    "time_fit_LGBM = grid.cv_results_['mean_fit_time'].sum()\n",
    "time_pred_LGBM = grid.cv_results_['mean_score_time'].sum()\n",
    "\n",
    "print(\"Best Hyperparameters:\", grid.best_params_)\n",
    "print(\"RMSE:\", rmse_LGBM)\n",
    "print(\"Mean fit time:\", time_fit_LGBM)\n",
    "print(\"Mean score time:\", time_pred_LGBM)"
   ]
  },
  {
   "cell_type": "markdown",
   "metadata": {},
   "source": [
    "Бустинговый алгоритм LightGBM также дает хорошую метрику RMSE, при этом обучается быстрее. Время предсказания самое долгое."
   ]
  },
  {
   "cell_type": "code",
   "execution_count": null,
   "metadata": {},
   "outputs": [],
   "source": [
    "%%time\n",
    "\n",
    "#Сравним значения с константной моделью\n",
    "dummy = DummyRegressor()\n",
    "dummy.fit(train_oe, target_train)"
   ]
  },
  {
   "cell_type": "code",
   "execution_count": null,
   "metadata": {},
   "outputs": [],
   "source": [
    "%%time\n",
    "\n",
    "pred_dummy = dummy.predict(test_oe)\n",
    "rmse_dummy = rmse(target_test, pred_dummy)\n",
    "print(\"RMSE Dummy:\", rmse_dummy)"
   ]
  },
  {
   "cell_type": "markdown",
   "metadata": {},
   "source": [
    "<div class=\"alert alert-success\">\n",
    "<h2> Комментарий ревьюера <a class=\"tocSkip\"> </h2>\n",
    "\n",
    "<b>Все отлично!👍:</b> \n",
    "    \n",
    "Молодец, что сравниваешь качество с константной моделью."
   ]
  },
  {
   "cell_type": "markdown",
   "metadata": {},
   "source": [
    "Были обучены 5 различных моделей, с различным методами обучения. Для всех измерены время обучения и предсказание, а также значение RMSE на тестовой выборке. Проанализируем результаты."
   ]
  },
  {
   "cell_type": "markdown",
   "metadata": {},
   "source": [
    "## Анализ моделей"
   ]
  },
  {
   "cell_type": "markdown",
   "metadata": {},
   "source": [
    "Для удобного анализы соберем все полученные значения в датафрейм. Время обучения приведем к минутам, а время предсказания округлим до милисекунды."
   ]
  },
  {
   "cell_type": "code",
   "execution_count": null,
   "metadata": {},
   "outputs": [],
   "source": [
    "col  = ['ridge', 'DisissionTree', 'CatBoost', 'LGBM', 'dummy']\n",
    "time_fit = [time_fit_ridge, time_fit_tree, time_fit_cat, time_fit_LGBM, 0]\n",
    "time_pred = [time_pred_ridge, time_pred_tree, time_pred_cat, time_pred_LGBM, 0]\n",
    "RMSE = [rmse_ridge, rmse_tree, rmse_CatBoost, rmse_LGBM, rmse_dummy]"
   ]
  },
  {
   "cell_type": "code",
   "execution_count": null,
   "metadata": {},
   "outputs": [],
   "source": [
    "results = pd.DataFrame({'ridge': [time_fit[0], time_pred[0], RMSE[0]],\n",
    "                   'DecisionTree': [time_fit[1], time_pred[1], RMSE[1]],\n",
    "                   'CatBoost': [time_fit[2], time_pred[2], RMSE[2]],\n",
    "                   'LGBM': [time_fit[3], time_pred[3], RMSE[3]],\n",
    "                   'dummy': [time_fit[4], time_pred[4], RMSE[4]]},\n",
    "                  index=['time_fit', 'time_pred', 'RMSE'])\n",
    "results"
   ]
  },
  {
   "cell_type": "markdown",
   "metadata": {},
   "source": [
    "<div class=\"alert alert-success\">\n",
    "<h2> Комментарий ревьюера <a class=\"tocSkip\"> </h2>\n",
    "\n",
    "<b>Все отлично!👍:</b> \n",
    "    \n",
    "Отлично, что сводишь все результаты в таблицу."
   ]
  },
  {
   "cell_type": "markdown",
   "metadata": {},
   "source": [
    "<div class=\"alert alert-warning\">\n",
    "    <h2> Комментарий ревьюера <a class=\"tocSkip\"> </h2>\n",
    "    \n",
    "<b>Некоторые замечания и рекомендации💡:</b> \n",
    "        \n",
    "Чтобы при изменениях или перезапусках не было несоответствия, стоит сохранять все результаты в переменные, а не вписывать числа вручную"
   ]
  },
  {
   "cell_type": "markdown",
   "metadata": {},
   "source": [
    "<div class=\"alert alert-info\">\n",
    "Каким образом сохранить в переменную результат %%time?"
   ]
  },
  {
   "cell_type": "markdown",
   "metadata": {},
   "source": [
    "<div class=\"alert alert-warning\">\n",
    "    <h2> Комментарий ревьюера №2<a class=\"tocSkip\"> </h2>\n",
    "    \n",
    "<b>Некоторые замечания и рекомендации💡:</b> \n",
    "        \n",
    "Можно использовать другой метод:\n",
    "        \n",
    "https://ru.stackoverflow.com/questions/1402801/%D0%BA%D0%B0%D0%BA-%D0%B8%D0%B7%D0%BC%D0%B5%D1%80%D0%B8%D1%82%D1%8C-%D0%B2%D1%80%D0%B5%D0%BC%D1%8F-%D0%B2%D1%8B%D0%BF%D0%BE%D0%BB%D0%BD%D0%B5%D0%BD%D0%B8%D1%8F-%D0%BA%D0%BE%D0%B4%D0%B0-%D0%B2-python"
   ]
  },
  {
   "cell_type": "markdown",
   "metadata": {},
   "source": [
    "Для наглядности построим график отображающий наибольшее значение в каждой из категорий среди всех моделей."
   ]
  },
  {
   "cell_type": "code",
   "execution_count": null,
   "metadata": {},
   "outputs": [],
   "source": [
    "# Set the style of the plots\n",
    "sns.set_style('whitegrid')\n",
    "\n",
    "# Create subplots\n",
    "fig, axs = plt.subplots(nrows=3, ncols=1, figsize=(8, 6))\n",
    "\n",
    "# Plot for time_fit\n",
    "sns.heatmap(results.loc[['time_fit']], ax=axs[0], cmap='coolwarm', annot=True, fmt='.0f', cbar=False)\n",
    "axs[0].set_ylabel('')\n",
    "\n",
    "# Plot for time_pred\n",
    "sns.heatmap(results.loc[['time_pred']], ax=axs[1], cmap='coolwarm', annot=True, fmt='.0f', cbar=False)\n",
    "axs[1].set_ylabel('')\n",
    "\n",
    "# Plot for rmse\n",
    "sns.heatmap(results.loc[['RMSE']], ax=axs[2], cmap='coolwarm', annot=True, fmt='.0f', cbar=False)\n",
    "\n",
    "# Set titles and labels for the plots\n",
    "axs[0].set_title('Скорость обучения')\n",
    "axs[1].set_title('Скорость предсказания')\n",
    "axs[2].set_title('Качество модели')\n",
    "\n",
    "# Rotate the tick labels for x-axis\n",
    "for ax in axs.flat:\n",
    "    plt.setp(ax.get_xticklabels(), rotation=0)\n",
    "\n",
    "plt.tight_layout()\n",
    "plt.show()"
   ]
  },
  {
   "cell_type": "code",
   "execution_count": null,
   "metadata": {},
   "outputs": [],
   "source": [
    "pred_cat = best_model_cat.predict(test_oe)\n",
    "\n",
    "# RMSE\n",
    "rmse_catboost = rmse(target_test, pred_cat)\n",
    "rmse_catboost"
   ]
  },
  {
   "cell_type": "markdown",
   "metadata": {},
   "source": [
    "Из этих значений можно сделать несколько выводов:\n",
    "\n",
    "1. **CatBoost** и **LGBM** демонстрируют наилучшие результаты по метрике RMSE среди всех моделей. Это может означать, что они лучше всего справляются с предсказанием целевой переменной.\n",
    "\n",
    "2. **Ridge** и **dummy** модели имеют наихудшие результаты по метрике RMSE среди всех моделей. Ridge может быть менее подходящей моделью для этой задачи, а dummy модель является константной.\n",
    "\n",
    "3. **DecisionTree** имеет наибольшее время обучения. Это может означать, что эта модель более сложная или требует более высокой вычислительной мощности для обучения.\n",
    "\n",
    "4. **LGBM** модель имеет наибольшее время предсказания. Это может означать, что эта модель более сложная или требует более высокой вычислительной мощности для предсказания.\n",
    "\n",
    "5. Исходя из этих выводов, можно сделать вывод, что **CatBoost** и **LGBM**, вероятно, являются наиболее подходящими моделями для данной задачи, но использование этих моделей может требовать большего времени и вычислительной мощности, чем другие модели."
   ]
  },
  {
   "cell_type": "markdown",
   "metadata": {},
   "source": [
    "<div class=\"alert alert-block alert-danger\">\n",
    "<h2> Комментарий ревьюера <a class=\"tocSkip\"></h2>\n",
    "\n",
    "    \n",
    "<b>На доработку🤔:</b>\n",
    "    \n",
    "После того, как выбрана лучшая модель по результатам на кросс-валидации и по времени стоит проверить ее на тестовой выборке. Ранее по проекту использование тестовой выборки стоит исключить."
   ]
  },
  {
   "cell_type": "markdown",
   "metadata": {},
   "source": [
    "<div class=\"alert alert-info\">\n",
    "    Добавила предсказания CatBoost на тестовой выборке\n",
    "    \n",
    "Среди рассмотренных моделей выбрана модель CatBoost в качестве оптимальной.CatBoost показала сопоставимые результаты метрики RMSE с моделью LightGBM. При этом время обучения модели CatBoost было заметно меньше, чем у LightGBM."
   ]
  },
  {
   "cell_type": "markdown",
   "metadata": {},
   "source": [
    "<div class=\"alert alert-success\">\n",
    "<h2> Комментарий ревьюера №2<a class=\"tocSkip\"> </h2>\n",
    "\n",
    "<b>Все отлично!👍</b> \n",
    "    "
   ]
  },
  {
   "cell_type": "markdown",
   "metadata": {},
   "source": [
    "<div class=\"alert alert-warning\">\n",
    "    <h2> Комментарий ревьюера <a class=\"tocSkip\"> </h2>\n",
    "    \n",
    "<b>Некоторые замечания и рекомендации💡:</b> \n",
    "        \n",
    "Здесь я оставлю несколько интересных и полезных ссылок по теме:\n",
    "        \n",
    "        \n",
    "1. \"XGBoost, LightGBM or CatBoost — which boosting algorithm should I use?\"\n",
    "\n",
    "https://medium.com/riskified-technology/xgboost-lightgbm-or-catboost-which-boosting-algorithm-should-i-use-e7fda7bb36bc\n",
    "        \n",
    "        \n",
    "2. \"Transforming categorical features to numerical features\"\n",
    "        \n",
    "https://catboost.ai/en/docs/concepts/algorithm-main-stages_cat-to-numberic\n",
    "        \n",
    "        \n",
    "3. \"Градиентный Бустинг: самый частый вопрос на собеседовании на дата саентиста\"\n",
    "        \n",
    "https://www.youtube.com/watch?v=ZNJ3lKyI-EY\n",
    "        \n",
    "4. \"Tutorial: CatBoost Overview\"\n",
    "        \n",
    "https://www.kaggle.com/code/mitribunskiy/tutorial-catboost-overview/notebook\n",
    "        \n",
    "5. \"Gradient Boosting from scratch\"\n",
    "        \n",
    "https://blog.mlreview.com/gradient-boosting-from-scratch-1e317ae4587d"
   ]
  },
  {
   "cell_type": "markdown",
   "metadata": {},
   "source": [
    "<div style=\"border:solid Chocolate 2px; padding: 40px\">\n",
    "    \n",
    "<b>Общий вывод по проекту</b>\n",
    "\n",
    "Екатерина, спасибо за работу! Проект отличный, продуманный, структурно выдержанный и аккуратный. Видно, что ты вдумчиво подходишь к работе. Однако стоит внести некоторые исправления, чтобы можно было считать проект завершенным.\n",
    "\n",
    "**Положительные моменты проекта, которые хочу еще раз подчеркнуть:**\n",
    "\n",
    "1. Удалены лишние признаки и константный признак\n",
    "2. Есть промежуточные выводы по ходу анализа признаков\n",
    "3. Есть обработка некорректных и пропущенных значений\n",
    "4. Кодирование категориальных признаков осуществляется.\n",
    "5. Есть анализ времени предсказания и обучения моделей\n",
    "6. Аккуратность кода на высоком уровне.\n",
    "7. Масштабирование численных призаков осуществляется корректно\n",
    "\n",
    "    \n",
    "**Замечания, на которые стоит обратить внимание при будущей работе:**\n",
    "    \n",
    "    1. Кодировать стоит после разделения на выборки\n",
    "    2. Для LightGBM и CatBoost стоит использовать соответствующий метод кодирования\n",
    "    3. Время предсказания, когда есть только тренировочная и тестовая выборки, стоит измерять на тренировочной выборке\n",
    "    4. Модели выбирать по результатам кросс-валидации\n",
    "    5. На тестовой выборке стоит проверять только лучшую модель\n",
    "\n",
    "    \n",
    "    \n",
    "Остальные комментарии ты найдешь выше.\n",
    "\n",
    "**Желаю удачи и жду твой проект на повторное ревью!**"
   ]
  },
  {
   "cell_type": "markdown",
   "metadata": {},
   "source": [
    "<div style=\"border:solid Chocolate 2px; padding: 40px\">\n",
    "    \n",
    "<b>Общий вывод по проекту №2</b>\n",
    "\n",
    "Екатерина, спасибо за работу!\n",
    "    \n",
    "К сожелению, не увидела отдельного измерения времени выполнения операций fit и predict для каждой из моделей. Стоит добавить это в анализ. Так как для всех моделей ты используешь GridSearchCV, То результаты по времени можно также достать оттуда, из словаря cv_results_\n",
    " \n",
    "Ключи:\n",
    "    \n",
    "'mean_fit_time' \n",
    "    \n",
    "'mean_score_time'\n",
    "    \n",
    "https://scikit--learn-org.translate.goog/stable/modules/generated/sklearn.model_selection.GridSearchCV.html?_x_tr_sl=en&_x_tr_tl=ru&_x_tr_hl=ru&_x_tr_pto=sc\n",
    "    \n",
    "Также для Ridge стоит оставить выборки с one-hot кодированием категориальных переменных, и масштабированием численных переменных.\n",
    "    \n",
    "**Жду твой проект на следующее ревью**\n",
    "    \n",
    "    "
   ]
  },
  {
   "cell_type": "markdown",
   "metadata": {},
   "source": [
    "<div class=\"alert alert-info\">\n",
    "<h2> Комментарий студента №2<a class=\"tocSkip\"></h2> \n",
    "Добавила измерение времяни из gridSearch, также вернула ohe в Ridge"
   ]
  },
  {
   "cell_type": "markdown",
   "metadata": {},
   "source": [
    "<div style=\"border:solid Chocolate 2px; padding: 40px\">\n",
    "    \n",
    "<b>Общий вывод по проекту №3</b>\n",
    "\n",
    "Екатерина, спасибо за работу,\n",
    "    \n",
    "**проект принимаю и желаю успехов в дальнейшем!**    \n",
    "    "
   ]
  },
  {
   "cell_type": "markdown",
   "metadata": {},
   "source": [
    "## Чек-лист проверки"
   ]
  },
  {
   "cell_type": "markdown",
   "metadata": {},
   "source": [
    "Поставьте 'x' в выполненных пунктах. Далее нажмите Shift+Enter."
   ]
  },
  {
   "cell_type": "markdown",
   "metadata": {},
   "source": [
    "- [x]  Jupyter Notebook открыт\n",
    "- [ ]  Весь код выполняется без ошибок\n",
    "- [ ]  Ячейки с кодом расположены в порядке исполнения\n",
    "- [ ]  Выполнена загрузка и подготовка данных\n",
    "- [ ]  Выполнено обучение моделей\n",
    "- [ ]  Есть анализ скорости работы и качества моделей"
   ]
  },
  {
   "cell_type": "code",
   "execution_count": null,
   "metadata": {},
   "outputs": [],
   "source": []
  },
  {
   "cell_type": "code",
   "execution_count": null,
   "metadata": {},
   "outputs": [],
   "source": []
  }
 ],
 "metadata": {
  "ExecuteTimeLog": [
   {
    "duration": 1571,
    "start_time": "2023-02-10T09:56:04.132Z"
   },
   {
    "duration": 3151,
    "start_time": "2023-02-10T09:57:26.748Z"
   },
   {
    "duration": 136,
    "start_time": "2023-02-10T09:57:42.033Z"
   },
   {
    "duration": 16,
    "start_time": "2023-02-10T09:57:51.695Z"
   },
   {
    "duration": 5,
    "start_time": "2023-02-10T09:59:01.824Z"
   },
   {
    "duration": 4,
    "start_time": "2023-02-10T10:08:48.483Z"
   },
   {
    "duration": 837,
    "start_time": "2023-02-10T10:17:36.722Z"
   },
   {
    "duration": 12,
    "start_time": "2023-02-10T10:17:38.315Z"
   },
   {
    "duration": 53,
    "start_time": "2023-02-10T10:19:30.394Z"
   },
   {
    "duration": 4,
    "start_time": "2023-02-10T10:19:31.575Z"
   },
   {
    "duration": 27,
    "start_time": "2023-02-10T10:19:34.634Z"
   },
   {
    "duration": 61,
    "start_time": "2023-02-10T10:22:59.894Z"
   },
   {
    "duration": 3,
    "start_time": "2023-02-10T10:23:01.278Z"
   },
   {
    "duration": 20,
    "start_time": "2023-02-10T10:23:02.297Z"
   },
   {
    "duration": 16,
    "start_time": "2023-02-10T10:24:04.537Z"
   },
   {
    "duration": 13,
    "start_time": "2023-02-10T10:46:00.079Z"
   },
   {
    "duration": 862,
    "start_time": "2023-02-10T10:46:07.936Z"
   },
   {
    "duration": 66,
    "start_time": "2023-02-10T10:46:11.035Z"
   },
   {
    "duration": 4,
    "start_time": "2023-02-10T10:46:12.775Z"
   },
   {
    "duration": 16,
    "start_time": "2023-02-10T10:46:13.558Z"
   },
   {
    "duration": 38,
    "start_time": "2023-02-10T10:47:54.937Z"
   },
   {
    "duration": 63,
    "start_time": "2023-02-10T11:00:51.721Z"
   },
   {
    "duration": 21,
    "start_time": "2023-02-10T11:05:51.830Z"
   },
   {
    "duration": 436551,
    "start_time": "2023-02-10T11:08:28.116Z"
   },
   {
    "duration": 880,
    "start_time": "2023-02-10T11:24:44.436Z"
   },
   {
    "duration": 300318,
    "start_time": "2023-02-10T11:24:49.071Z"
   },
   {
    "duration": 834,
    "start_time": "2023-02-10T11:34:16.366Z"
   },
   {
    "duration": 295002,
    "start_time": "2023-02-10T11:34:23.018Z"
   },
   {
    "duration": 30,
    "start_time": "2023-02-10T11:39:30.247Z"
   },
   {
    "duration": 17,
    "start_time": "2023-02-10T11:40:42.676Z"
   },
   {
    "duration": 11,
    "start_time": "2023-02-10T11:41:02.273Z"
   },
   {
    "duration": 817,
    "start_time": "2023-02-10T11:42:46.872Z"
   },
   {
    "duration": 137,
    "start_time": "2023-02-10T11:42:53.207Z"
   },
   {
    "duration": 24,
    "start_time": "2023-02-10T11:43:01.926Z"
   },
   {
    "duration": 4,
    "start_time": "2023-02-10T11:43:02.696Z"
   },
   {
    "duration": 18,
    "start_time": "2023-02-10T11:43:03.342Z"
   },
   {
    "duration": 23,
    "start_time": "2023-02-10T11:43:04.287Z"
   },
   {
    "duration": 30324,
    "start_time": "2023-02-10T11:43:08.277Z"
   },
   {
    "duration": 516,
    "start_time": "2023-02-10T11:44:12.380Z"
   },
   {
    "duration": 872,
    "start_time": "2023-02-10T11:46:06.040Z"
   },
   {
    "duration": 63,
    "start_time": "2023-02-10T11:46:09.917Z"
   },
   {
    "duration": 3,
    "start_time": "2023-02-10T11:46:10.637Z"
   },
   {
    "duration": 19,
    "start_time": "2023-02-10T11:46:11.318Z"
   },
   {
    "duration": 29,
    "start_time": "2023-02-10T11:46:13.383Z"
   },
   {
    "duration": 404822,
    "start_time": "2023-02-10T11:46:15.917Z"
   },
   {
    "duration": 224,
    "start_time": "2023-02-10T11:54:35.372Z"
   },
   {
    "duration": 112,
    "start_time": "2023-02-10T11:56:06.188Z"
   },
   {
    "duration": 175,
    "start_time": "2023-02-10T11:56:20.584Z"
   },
   {
    "duration": 36,
    "start_time": "2023-02-10T11:59:16.088Z"
   },
   {
    "duration": 21,
    "start_time": "2023-02-10T12:00:11.904Z"
   },
   {
    "duration": 824,
    "start_time": "2023-02-10T12:00:33.382Z"
   },
   {
    "duration": 60,
    "start_time": "2023-02-10T12:00:37.863Z"
   },
   {
    "duration": 3,
    "start_time": "2023-02-10T12:00:38.689Z"
   },
   {
    "duration": 13,
    "start_time": "2023-02-10T12:00:39.001Z"
   },
   {
    "duration": 23,
    "start_time": "2023-02-10T12:00:40.871Z"
   },
   {
    "duration": 51,
    "start_time": "2023-02-10T12:00:44.584Z"
   },
   {
    "duration": 76,
    "start_time": "2023-02-10T12:01:16.817Z"
   },
   {
    "duration": 11,
    "start_time": "2023-02-10T12:01:20.648Z"
   },
   {
    "duration": 1420,
    "start_time": "2023-02-10T12:01:23.585Z"
   },
   {
    "duration": 3392,
    "start_time": "2023-02-10T12:01:25.814Z"
   },
   {
    "duration": 18,
    "start_time": "2023-02-10T12:01:38.417Z"
   },
   {
    "duration": 3,
    "start_time": "2023-02-10T12:01:49.066Z"
   },
   {
    "duration": 837,
    "start_time": "2023-02-10T12:01:49.874Z"
   },
   {
    "duration": 15,
    "start_time": "2023-02-10T12:01:50.818Z"
   },
   {
    "duration": 156,
    "start_time": "2023-02-10T12:01:51.610Z"
   },
   {
    "duration": 68,
    "start_time": "2023-02-10T12:01:53.810Z"
   },
   {
    "duration": 4,
    "start_time": "2023-02-10T12:01:54.346Z"
   },
   {
    "duration": 16,
    "start_time": "2023-02-10T12:01:54.771Z"
   },
   {
    "duration": 36,
    "start_time": "2023-02-10T12:01:55.866Z"
   },
   {
    "duration": 59,
    "start_time": "2023-02-10T12:01:57.164Z"
   },
   {
    "duration": 55,
    "start_time": "2023-02-10T12:02:19.547Z"
   },
   {
    "duration": 1381,
    "start_time": "2023-02-10T12:02:41.626Z"
   },
   {
    "duration": 3010,
    "start_time": "2023-02-10T12:02:43.698Z"
   },
   {
    "duration": 61,
    "start_time": "2023-02-10T12:02:50.346Z"
   },
   {
    "duration": 4,
    "start_time": "2023-02-10T12:02:51.129Z"
   },
   {
    "duration": 18,
    "start_time": "2023-02-10T12:02:51.762Z"
   },
   {
    "duration": 31,
    "start_time": "2023-02-10T12:02:53.585Z"
   },
   {
    "duration": 48,
    "start_time": "2023-02-10T12:03:34.778Z"
   },
   {
    "duration": 1447,
    "start_time": "2023-02-10T12:03:43.289Z"
   },
   {
    "duration": 3045,
    "start_time": "2023-02-10T12:03:45.873Z"
   },
   {
    "duration": 70,
    "start_time": "2023-02-10T12:03:48.920Z"
   },
   {
    "duration": 4,
    "start_time": "2023-02-10T12:03:50.121Z"
   },
   {
    "duration": 18,
    "start_time": "2023-02-10T12:03:51.329Z"
   },
   {
    "duration": 30,
    "start_time": "2023-02-10T12:03:56.113Z"
   },
   {
    "duration": 63,
    "start_time": "2023-02-10T12:03:59.033Z"
   },
   {
    "duration": 181,
    "start_time": "2023-02-10T12:04:02.617Z"
   },
   {
    "duration": 22,
    "start_time": "2023-02-10T12:04:53.737Z"
   },
   {
    "duration": 27,
    "start_time": "2023-02-10T12:05:04.993Z"
   },
   {
    "duration": 20,
    "start_time": "2023-02-10T12:05:14.033Z"
   },
   {
    "duration": 28,
    "start_time": "2023-02-10T12:05:37.753Z"
   },
   {
    "duration": 28,
    "start_time": "2023-02-10T12:05:50.448Z"
   },
   {
    "duration": 16,
    "start_time": "2023-02-10T12:07:38.414Z"
   },
   {
    "duration": 17,
    "start_time": "2023-02-10T12:07:38.942Z"
   },
   {
    "duration": 22,
    "start_time": "2023-02-10T12:07:39.519Z"
   },
   {
    "duration": 17,
    "start_time": "2023-02-10T12:07:42.383Z"
   },
   {
    "duration": 53,
    "start_time": "2023-02-10T12:09:22.542Z"
   },
   {
    "duration": 90,
    "start_time": "2023-02-10T12:09:29.919Z"
   },
   {
    "duration": 844,
    "start_time": "2023-02-10T12:09:40.341Z"
   },
   {
    "duration": 67,
    "start_time": "2023-02-10T12:09:45.005Z"
   },
   {
    "duration": 3,
    "start_time": "2023-02-10T12:09:45.557Z"
   },
   {
    "duration": 14,
    "start_time": "2023-02-10T12:09:46.061Z"
   },
   {
    "duration": 23,
    "start_time": "2023-02-10T12:09:46.917Z"
   },
   {
    "duration": 127,
    "start_time": "2023-02-10T12:09:56.405Z"
   },
   {
    "duration": 127,
    "start_time": "2023-02-10T12:09:59.029Z"
   },
   {
    "duration": 766,
    "start_time": "2023-02-10T12:10:41.524Z"
   },
   {
    "duration": 40,
    "start_time": "2023-02-10T12:10:44.988Z"
   },
   {
    "duration": 4,
    "start_time": "2023-02-10T12:10:45.548Z"
   },
   {
    "duration": 16,
    "start_time": "2023-02-10T12:10:46.028Z"
   },
   {
    "duration": 30,
    "start_time": "2023-02-10T12:10:47.316Z"
   },
   {
    "duration": 60,
    "start_time": "2023-02-10T12:10:50.364Z"
   },
   {
    "duration": 123,
    "start_time": "2023-02-10T12:10:54.780Z"
   },
   {
    "duration": 232,
    "start_time": "2023-02-10T12:10:56.284Z"
   },
   {
    "duration": 65,
    "start_time": "2023-02-10T12:11:41.900Z"
   },
   {
    "duration": 1382,
    "start_time": "2023-02-10T12:11:43.748Z"
   },
   {
    "duration": 3151,
    "start_time": "2023-02-10T12:11:45.133Z"
   },
   {
    "duration": 3,
    "start_time": "2023-02-10T12:12:04.708Z"
   },
   {
    "duration": 884,
    "start_time": "2023-02-10T12:12:11.563Z"
   },
   {
    "duration": 26,
    "start_time": "2023-02-10T12:12:13.187Z"
   },
   {
    "duration": 156,
    "start_time": "2023-02-10T12:12:14.268Z"
   },
   {
    "duration": 51,
    "start_time": "2023-02-10T12:12:17.707Z"
   },
   {
    "duration": 4,
    "start_time": "2023-02-10T12:12:18.211Z"
   },
   {
    "duration": 14,
    "start_time": "2023-02-10T12:12:18.723Z"
   },
   {
    "duration": 35,
    "start_time": "2023-02-10T12:12:20.036Z"
   },
   {
    "duration": 61,
    "start_time": "2023-02-10T12:12:22.580Z"
   },
   {
    "duration": 2715,
    "start_time": "2023-03-05T04:15:32.647Z"
   },
   {
    "duration": 2286,
    "start_time": "2023-03-05T04:15:35.365Z"
   },
   {
    "duration": 1684,
    "start_time": "2023-03-05T04:15:37.653Z"
   },
   {
    "duration": 1128,
    "start_time": "2023-03-05T04:15:39.339Z"
   },
   {
    "duration": 16,
    "start_time": "2023-03-05T04:15:40.469Z"
   },
   {
    "duration": 126,
    "start_time": "2023-03-05T04:15:40.486Z"
   },
   {
    "duration": 55,
    "start_time": "2023-03-05T04:15:40.613Z"
   },
   {
    "duration": 3,
    "start_time": "2023-03-05T04:15:40.670Z"
   },
   {
    "duration": 18,
    "start_time": "2023-03-05T04:15:40.674Z"
   },
   {
    "duration": 280,
    "start_time": "2023-03-05T04:15:40.694Z"
   },
   {
    "duration": 142,
    "start_time": "2023-03-05T04:15:40.976Z"
   },
   {
    "duration": 49,
    "start_time": "2023-03-05T04:15:41.120Z"
   },
   {
    "duration": 59,
    "start_time": "2023-03-05T04:15:41.171Z"
   },
   {
    "duration": 2390,
    "start_time": "2023-03-08T23:11:54.850Z"
   },
   {
    "duration": 2097,
    "start_time": "2023-03-08T23:11:57.243Z"
   },
   {
    "duration": 1720,
    "start_time": "2023-03-08T23:11:59.342Z"
   },
   {
    "duration": 790,
    "start_time": "2023-03-08T23:12:01.064Z"
   },
   {
    "duration": 16,
    "start_time": "2023-03-08T23:12:01.856Z"
   },
   {
    "duration": 336,
    "start_time": "2023-03-08T23:12:01.873Z"
   },
   {
    "duration": 59,
    "start_time": "2023-03-08T23:12:02.211Z"
   },
   {
    "duration": 30,
    "start_time": "2023-03-08T23:12:02.272Z"
   },
   {
    "duration": 68,
    "start_time": "2023-03-08T23:12:02.303Z"
   },
   {
    "duration": 278,
    "start_time": "2023-03-08T23:12:02.373Z"
   },
   {
    "duration": 138,
    "start_time": "2023-03-08T23:12:02.652Z"
   },
   {
    "duration": 51,
    "start_time": "2023-03-08T23:12:02.792Z"
   },
   {
    "duration": 57,
    "start_time": "2023-03-08T23:12:02.845Z"
   },
   {
    "duration": 3556,
    "start_time": "2023-03-12T11:02:02.200Z"
   },
   {
    "duration": 2422,
    "start_time": "2023-03-12T11:02:05.759Z"
   },
   {
    "duration": 1767,
    "start_time": "2023-03-12T11:02:08.183Z"
   },
   {
    "duration": 1055,
    "start_time": "2023-03-12T11:02:09.951Z"
   },
   {
    "duration": 17,
    "start_time": "2023-03-12T11:02:11.008Z"
   },
   {
    "duration": 132,
    "start_time": "2023-03-12T11:02:11.027Z"
   },
   {
    "duration": 56,
    "start_time": "2023-03-12T11:02:11.161Z"
   },
   {
    "duration": 4,
    "start_time": "2023-03-12T11:02:11.219Z"
   },
   {
    "duration": 14,
    "start_time": "2023-03-12T11:02:11.225Z"
   },
   {
    "duration": 288,
    "start_time": "2023-03-12T11:02:11.241Z"
   },
   {
    "duration": 144,
    "start_time": "2023-03-12T11:02:11.530Z"
   },
   {
    "duration": 53,
    "start_time": "2023-03-12T11:02:11.675Z"
   },
   {
    "duration": 71,
    "start_time": "2023-03-12T11:02:11.731Z"
   }
  ],
  "celltoolbar": "Отсутствует",
  "kernelspec": {
   "display_name": "Python 3 (ipykernel)",
   "language": "python",
   "name": "python3"
  },
  "language_info": {
   "codemirror_mode": {
    "name": "ipython",
    "version": 3
   },
   "file_extension": ".py",
   "mimetype": "text/x-python",
   "name": "python",
   "nbconvert_exporter": "python",
   "pygments_lexer": "ipython3",
   "version": "3.9.5"
  },
  "toc": {
   "base_numbering": 1,
   "nav_menu": {},
   "number_sections": true,
   "sideBar": true,
   "skip_h1_title": true,
   "title_cell": "Table of Contents",
   "title_sidebar": "Contents",
   "toc_cell": false,
   "toc_position": {},
   "toc_section_display": true,
   "toc_window_display": false
  }
 },
 "nbformat": 4,
 "nbformat_minor": 2
}
