{
 "cells": [
  {
   "attachments": {},
   "cell_type": "markdown",
   "metadata": {},
   "source": [
    "# Gold recovery from ore"
   ]
  },
  {
   "attachments": {},
   "cell_type": "markdown",
   "metadata": {},
   "source": [
    "Gold is a valuable precious metal that is widely used in various industries. Gold ore is a primary source of gold, and its recovery from ore is a crucial step in gold production. Used method for gold recovery from ore is flotation. Flotation is a process that uses chemicals to selectively separate gold from other minerals.\n",
    "\n",
    "Necessary to prepare a prototype of a machine learning model for a company that develops solutions for efficient operation of industrial enterprises.\n",
    "\n",
    "The model should predict the gold recovery coefficient from gold ore using data on mining and processing parameters. This model will help optimize production to avoid launching operations with unprofitable characteristics.\n",
    "\n",
    "1. Data preparation:\n",
    "\n",
    "* Obtain data with parameters of gold ore mining and processing.\n",
    "* Clean the data by removing missing values and outliers.\n",
    "* Create a target variable - the gold recovery coefficient.\n",
    "\n",
    "2. Exploratory Data Analysis:\n",
    "\n",
    "* Conduct statistical analysis to identify correlations between variables.\n",
    "* Visualize the data to identify patterns and trends.\n",
    "* Check for multicollinearity among predictor variables.\n",
    "\n",
    "3. Model building and training:\n",
    "\n",
    "* Choose a suitable machine learning algorithm.\n",
    "* Split the data into training and testing sets.\n",
    "* Train the model on the training data and evaluate its performance on the testing data.\n",
    "* Tune the hyperparameters of the model to improve its performance."
   ]
  },
  {
   "attachments": {},
   "cell_type": "markdown",
   "metadata": {},
   "source": [
    "**Project goal:** To build and select a machine learning model that provides the best sMAPE metric"
   ]
  },
  {
   "attachments": {},
   "cell_type": "markdown",
   "metadata": {},
   "source": [
    "## Data preparation"
   ]
  },
  {
   "cell_type": "markdown",
   "metadata": {},
   "source": [
    "Let's import all necessary libraries"
   ]
  },
  {
   "cell_type": "code",
   "execution_count": 56,
   "metadata": {},
   "outputs": [],
   "source": [
    "import os\n",
    "\n",
    "import numpy as np\n",
    "import pandas as pd\n",
    "import seaborn as sns\n",
    "import matplotlib.pyplot as plt\n",
    "import matplotlib as mpl\n",
    "from scipy import stats as st\n",
    "\n",
    "from sklearn.preprocessing import StandardScaler\n",
    "from sklearn.model_selection import train_test_split\n",
    "from sklearn.linear_model import LinearRegression\n",
    "from sklearn.ensemble import RandomForestRegressor\n",
    "from sklearn.model_selection import GridSearchCV\n",
    "from sklearn.dummy import DummyRegressor\n",
    "\n",
    "from sklearn.metrics import mean_squared_error\n",
    "from sklearn.model_selection import cross_val_score\n",
    "from sklearn.metrics import make_scorer\n",
    "\n",
    "from sklearn.model_selection import RandomizedSearchCV"
   ]
  },
  {
   "attachments": {},
   "cell_type": "markdown",
   "metadata": {},
   "source": [
    "Let's load the datasets with the data. There are three datasets available: full, training, and testing"
   ]
  },
  {
   "cell_type": "code",
   "execution_count": 57,
   "metadata": {},
   "outputs": [
    {
     "data": {
      "text/html": [
       "<div>\n",
       "<style scoped>\n",
       "    .dataframe tbody tr th:only-of-type {\n",
       "        vertical-align: middle;\n",
       "    }\n",
       "\n",
       "    .dataframe tbody tr th {\n",
       "        vertical-align: top;\n",
       "    }\n",
       "\n",
       "    .dataframe thead th {\n",
       "        text-align: right;\n",
       "    }\n",
       "</style>\n",
       "<table border=\"1\" class=\"dataframe\">\n",
       "  <thead>\n",
       "    <tr style=\"text-align: right;\">\n",
       "      <th></th>\n",
       "      <th>date</th>\n",
       "      <th>final.output.concentrate_ag</th>\n",
       "      <th>final.output.concentrate_pb</th>\n",
       "      <th>final.output.concentrate_sol</th>\n",
       "      <th>final.output.concentrate_au</th>\n",
       "      <th>final.output.recovery</th>\n",
       "      <th>final.output.tail_ag</th>\n",
       "      <th>final.output.tail_pb</th>\n",
       "      <th>final.output.tail_sol</th>\n",
       "      <th>final.output.tail_au</th>\n",
       "      <th>...</th>\n",
       "      <th>secondary_cleaner.state.floatbank4_a_air</th>\n",
       "      <th>secondary_cleaner.state.floatbank4_a_level</th>\n",
       "      <th>secondary_cleaner.state.floatbank4_b_air</th>\n",
       "      <th>secondary_cleaner.state.floatbank4_b_level</th>\n",
       "      <th>secondary_cleaner.state.floatbank5_a_air</th>\n",
       "      <th>secondary_cleaner.state.floatbank5_a_level</th>\n",
       "      <th>secondary_cleaner.state.floatbank5_b_air</th>\n",
       "      <th>secondary_cleaner.state.floatbank5_b_level</th>\n",
       "      <th>secondary_cleaner.state.floatbank6_a_air</th>\n",
       "      <th>secondary_cleaner.state.floatbank6_a_level</th>\n",
       "    </tr>\n",
       "  </thead>\n",
       "  <tbody>\n",
       "    <tr>\n",
       "      <th>0</th>\n",
       "      <td>2016-01-15 00:00:00</td>\n",
       "      <td>6.055403</td>\n",
       "      <td>9.889648</td>\n",
       "      <td>5.507324</td>\n",
       "      <td>42.192020</td>\n",
       "      <td>70.541216</td>\n",
       "      <td>10.411962</td>\n",
       "      <td>0.895447</td>\n",
       "      <td>16.904297</td>\n",
       "      <td>2.143149</td>\n",
       "      <td>...</td>\n",
       "      <td>14.016835</td>\n",
       "      <td>-502.488007</td>\n",
       "      <td>12.099931</td>\n",
       "      <td>-504.715942</td>\n",
       "      <td>9.925633</td>\n",
       "      <td>-498.310211</td>\n",
       "      <td>8.079666</td>\n",
       "      <td>-500.470978</td>\n",
       "      <td>14.151341</td>\n",
       "      <td>-605.841980</td>\n",
       "    </tr>\n",
       "    <tr>\n",
       "      <th>1</th>\n",
       "      <td>2016-01-15 01:00:00</td>\n",
       "      <td>6.029369</td>\n",
       "      <td>9.968944</td>\n",
       "      <td>5.257781</td>\n",
       "      <td>42.701629</td>\n",
       "      <td>69.266198</td>\n",
       "      <td>10.462676</td>\n",
       "      <td>0.927452</td>\n",
       "      <td>16.634514</td>\n",
       "      <td>2.224930</td>\n",
       "      <td>...</td>\n",
       "      <td>13.992281</td>\n",
       "      <td>-505.503262</td>\n",
       "      <td>11.950531</td>\n",
       "      <td>-501.331529</td>\n",
       "      <td>10.039245</td>\n",
       "      <td>-500.169983</td>\n",
       "      <td>7.984757</td>\n",
       "      <td>-500.582168</td>\n",
       "      <td>13.998353</td>\n",
       "      <td>-599.787184</td>\n",
       "    </tr>\n",
       "    <tr>\n",
       "      <th>2</th>\n",
       "      <td>2016-01-15 02:00:00</td>\n",
       "      <td>6.055926</td>\n",
       "      <td>10.213995</td>\n",
       "      <td>5.383759</td>\n",
       "      <td>42.657501</td>\n",
       "      <td>68.116445</td>\n",
       "      <td>10.507046</td>\n",
       "      <td>0.953716</td>\n",
       "      <td>16.208849</td>\n",
       "      <td>2.257889</td>\n",
       "      <td>...</td>\n",
       "      <td>14.015015</td>\n",
       "      <td>-502.520901</td>\n",
       "      <td>11.912783</td>\n",
       "      <td>-501.133383</td>\n",
       "      <td>10.070913</td>\n",
       "      <td>-500.129135</td>\n",
       "      <td>8.013877</td>\n",
       "      <td>-500.517572</td>\n",
       "      <td>14.028663</td>\n",
       "      <td>-601.427363</td>\n",
       "    </tr>\n",
       "    <tr>\n",
       "      <th>3</th>\n",
       "      <td>2016-01-15 03:00:00</td>\n",
       "      <td>6.047977</td>\n",
       "      <td>9.977019</td>\n",
       "      <td>4.858634</td>\n",
       "      <td>42.689819</td>\n",
       "      <td>68.347543</td>\n",
       "      <td>10.422762</td>\n",
       "      <td>0.883763</td>\n",
       "      <td>16.532835</td>\n",
       "      <td>2.146849</td>\n",
       "      <td>...</td>\n",
       "      <td>14.036510</td>\n",
       "      <td>-500.857308</td>\n",
       "      <td>11.999550</td>\n",
       "      <td>-501.193686</td>\n",
       "      <td>9.970366</td>\n",
       "      <td>-499.201640</td>\n",
       "      <td>7.977324</td>\n",
       "      <td>-500.255908</td>\n",
       "      <td>14.005551</td>\n",
       "      <td>-599.996129</td>\n",
       "    </tr>\n",
       "    <tr>\n",
       "      <th>4</th>\n",
       "      <td>2016-01-15 04:00:00</td>\n",
       "      <td>6.148599</td>\n",
       "      <td>10.142511</td>\n",
       "      <td>4.939416</td>\n",
       "      <td>42.774141</td>\n",
       "      <td>66.927016</td>\n",
       "      <td>10.360302</td>\n",
       "      <td>0.792826</td>\n",
       "      <td>16.525686</td>\n",
       "      <td>2.055292</td>\n",
       "      <td>...</td>\n",
       "      <td>14.027298</td>\n",
       "      <td>-499.838632</td>\n",
       "      <td>11.953070</td>\n",
       "      <td>-501.053894</td>\n",
       "      <td>9.925709</td>\n",
       "      <td>-501.686727</td>\n",
       "      <td>7.894242</td>\n",
       "      <td>-500.356035</td>\n",
       "      <td>13.996647</td>\n",
       "      <td>-601.496691</td>\n",
       "    </tr>\n",
       "    <tr>\n",
       "      <th>5</th>\n",
       "      <td>2016-01-15 05:00:00</td>\n",
       "      <td>6.482968</td>\n",
       "      <td>10.049416</td>\n",
       "      <td>5.480257</td>\n",
       "      <td>41.633678</td>\n",
       "      <td>69.465816</td>\n",
       "      <td>10.182708</td>\n",
       "      <td>0.664118</td>\n",
       "      <td>16.999638</td>\n",
       "      <td>1.918586</td>\n",
       "      <td>...</td>\n",
       "      <td>13.938497</td>\n",
       "      <td>-500.970168</td>\n",
       "      <td>11.883350</td>\n",
       "      <td>-500.395298</td>\n",
       "      <td>10.054147</td>\n",
       "      <td>-496.374715</td>\n",
       "      <td>7.965083</td>\n",
       "      <td>-499.364752</td>\n",
       "      <td>14.017067</td>\n",
       "      <td>-599.707915</td>\n",
       "    </tr>\n",
       "    <tr>\n",
       "      <th>6</th>\n",
       "      <td>2016-01-15 06:00:00</td>\n",
       "      <td>6.533849</td>\n",
       "      <td>10.058141</td>\n",
       "      <td>4.569100</td>\n",
       "      <td>41.995316</td>\n",
       "      <td>69.300835</td>\n",
       "      <td>10.304598</td>\n",
       "      <td>0.807342</td>\n",
       "      <td>16.723575</td>\n",
       "      <td>2.058913</td>\n",
       "      <td>...</td>\n",
       "      <td>14.046819</td>\n",
       "      <td>-500.971133</td>\n",
       "      <td>12.091543</td>\n",
       "      <td>-500.501426</td>\n",
       "      <td>10.003247</td>\n",
       "      <td>-497.083180</td>\n",
       "      <td>8.010890</td>\n",
       "      <td>-500.002423</td>\n",
       "      <td>14.029649</td>\n",
       "      <td>-600.905470</td>\n",
       "    </tr>\n",
       "    <tr>\n",
       "      <th>7</th>\n",
       "      <td>2016-01-15 07:00:00</td>\n",
       "      <td>6.130823</td>\n",
       "      <td>9.935481</td>\n",
       "      <td>4.389813</td>\n",
       "      <td>42.452727</td>\n",
       "      <td>70.230976</td>\n",
       "      <td>10.443288</td>\n",
       "      <td>0.949346</td>\n",
       "      <td>16.689959</td>\n",
       "      <td>2.143437</td>\n",
       "      <td>...</td>\n",
       "      <td>13.974691</td>\n",
       "      <td>-501.819696</td>\n",
       "      <td>12.101324</td>\n",
       "      <td>-500.583446</td>\n",
       "      <td>9.873169</td>\n",
       "      <td>-499.171928</td>\n",
       "      <td>7.993381</td>\n",
       "      <td>-499.794518</td>\n",
       "      <td>13.984498</td>\n",
       "      <td>-600.411070</td>\n",
       "    </tr>\n",
       "    <tr>\n",
       "      <th>8</th>\n",
       "      <td>2016-01-15 08:00:00</td>\n",
       "      <td>5.834140</td>\n",
       "      <td>10.071156</td>\n",
       "      <td>4.876389</td>\n",
       "      <td>43.404078</td>\n",
       "      <td>69.688595</td>\n",
       "      <td>10.420140</td>\n",
       "      <td>1.065453</td>\n",
       "      <td>17.201948</td>\n",
       "      <td>2.209881</td>\n",
       "      <td>...</td>\n",
       "      <td>13.964030</td>\n",
       "      <td>-504.252450</td>\n",
       "      <td>12.060738</td>\n",
       "      <td>-501.174549</td>\n",
       "      <td>10.033838</td>\n",
       "      <td>-501.178133</td>\n",
       "      <td>7.881604</td>\n",
       "      <td>-499.729434</td>\n",
       "      <td>13.967135</td>\n",
       "      <td>-599.061188</td>\n",
       "    </tr>\n",
       "    <tr>\n",
       "      <th>9</th>\n",
       "      <td>2016-01-15 09:00:00</td>\n",
       "      <td>5.687063</td>\n",
       "      <td>9.980404</td>\n",
       "      <td>5.282514</td>\n",
       "      <td>43.235220</td>\n",
       "      <td>70.279619</td>\n",
       "      <td>10.487013</td>\n",
       "      <td>1.159805</td>\n",
       "      <td>17.483979</td>\n",
       "      <td>2.209593</td>\n",
       "      <td>...</td>\n",
       "      <td>13.989632</td>\n",
       "      <td>-503.195299</td>\n",
       "      <td>12.052233</td>\n",
       "      <td>-500.928547</td>\n",
       "      <td>9.962574</td>\n",
       "      <td>-502.986357</td>\n",
       "      <td>7.979219</td>\n",
       "      <td>-500.146835</td>\n",
       "      <td>13.981614</td>\n",
       "      <td>-598.070855</td>\n",
       "    </tr>\n",
       "  </tbody>\n",
       "</table>\n",
       "<p>10 rows × 87 columns</p>\n",
       "</div>"
      ],
      "text/plain": [
       "                  date  final.output.concentrate_ag  \\\n",
       "0  2016-01-15 00:00:00                     6.055403   \n",
       "1  2016-01-15 01:00:00                     6.029369   \n",
       "2  2016-01-15 02:00:00                     6.055926   \n",
       "3  2016-01-15 03:00:00                     6.047977   \n",
       "4  2016-01-15 04:00:00                     6.148599   \n",
       "5  2016-01-15 05:00:00                     6.482968   \n",
       "6  2016-01-15 06:00:00                     6.533849   \n",
       "7  2016-01-15 07:00:00                     6.130823   \n",
       "8  2016-01-15 08:00:00                     5.834140   \n",
       "9  2016-01-15 09:00:00                     5.687063   \n",
       "\n",
       "   final.output.concentrate_pb  final.output.concentrate_sol  \\\n",
       "0                     9.889648                      5.507324   \n",
       "1                     9.968944                      5.257781   \n",
       "2                    10.213995                      5.383759   \n",
       "3                     9.977019                      4.858634   \n",
       "4                    10.142511                      4.939416   \n",
       "5                    10.049416                      5.480257   \n",
       "6                    10.058141                      4.569100   \n",
       "7                     9.935481                      4.389813   \n",
       "8                    10.071156                      4.876389   \n",
       "9                     9.980404                      5.282514   \n",
       "\n",
       "   final.output.concentrate_au  final.output.recovery  final.output.tail_ag  \\\n",
       "0                    42.192020              70.541216             10.411962   \n",
       "1                    42.701629              69.266198             10.462676   \n",
       "2                    42.657501              68.116445             10.507046   \n",
       "3                    42.689819              68.347543             10.422762   \n",
       "4                    42.774141              66.927016             10.360302   \n",
       "5                    41.633678              69.465816             10.182708   \n",
       "6                    41.995316              69.300835             10.304598   \n",
       "7                    42.452727              70.230976             10.443288   \n",
       "8                    43.404078              69.688595             10.420140   \n",
       "9                    43.235220              70.279619             10.487013   \n",
       "\n",
       "   final.output.tail_pb  final.output.tail_sol  final.output.tail_au  ...  \\\n",
       "0              0.895447              16.904297              2.143149  ...   \n",
       "1              0.927452              16.634514              2.224930  ...   \n",
       "2              0.953716              16.208849              2.257889  ...   \n",
       "3              0.883763              16.532835              2.146849  ...   \n",
       "4              0.792826              16.525686              2.055292  ...   \n",
       "5              0.664118              16.999638              1.918586  ...   \n",
       "6              0.807342              16.723575              2.058913  ...   \n",
       "7              0.949346              16.689959              2.143437  ...   \n",
       "8              1.065453              17.201948              2.209881  ...   \n",
       "9              1.159805              17.483979              2.209593  ...   \n",
       "\n",
       "   secondary_cleaner.state.floatbank4_a_air  \\\n",
       "0                                 14.016835   \n",
       "1                                 13.992281   \n",
       "2                                 14.015015   \n",
       "3                                 14.036510   \n",
       "4                                 14.027298   \n",
       "5                                 13.938497   \n",
       "6                                 14.046819   \n",
       "7                                 13.974691   \n",
       "8                                 13.964030   \n",
       "9                                 13.989632   \n",
       "\n",
       "   secondary_cleaner.state.floatbank4_a_level  \\\n",
       "0                                 -502.488007   \n",
       "1                                 -505.503262   \n",
       "2                                 -502.520901   \n",
       "3                                 -500.857308   \n",
       "4                                 -499.838632   \n",
       "5                                 -500.970168   \n",
       "6                                 -500.971133   \n",
       "7                                 -501.819696   \n",
       "8                                 -504.252450   \n",
       "9                                 -503.195299   \n",
       "\n",
       "   secondary_cleaner.state.floatbank4_b_air  \\\n",
       "0                                 12.099931   \n",
       "1                                 11.950531   \n",
       "2                                 11.912783   \n",
       "3                                 11.999550   \n",
       "4                                 11.953070   \n",
       "5                                 11.883350   \n",
       "6                                 12.091543   \n",
       "7                                 12.101324   \n",
       "8                                 12.060738   \n",
       "9                                 12.052233   \n",
       "\n",
       "   secondary_cleaner.state.floatbank4_b_level  \\\n",
       "0                                 -504.715942   \n",
       "1                                 -501.331529   \n",
       "2                                 -501.133383   \n",
       "3                                 -501.193686   \n",
       "4                                 -501.053894   \n",
       "5                                 -500.395298   \n",
       "6                                 -500.501426   \n",
       "7                                 -500.583446   \n",
       "8                                 -501.174549   \n",
       "9                                 -500.928547   \n",
       "\n",
       "   secondary_cleaner.state.floatbank5_a_air  \\\n",
       "0                                  9.925633   \n",
       "1                                 10.039245   \n",
       "2                                 10.070913   \n",
       "3                                  9.970366   \n",
       "4                                  9.925709   \n",
       "5                                 10.054147   \n",
       "6                                 10.003247   \n",
       "7                                  9.873169   \n",
       "8                                 10.033838   \n",
       "9                                  9.962574   \n",
       "\n",
       "   secondary_cleaner.state.floatbank5_a_level  \\\n",
       "0                                 -498.310211   \n",
       "1                                 -500.169983   \n",
       "2                                 -500.129135   \n",
       "3                                 -499.201640   \n",
       "4                                 -501.686727   \n",
       "5                                 -496.374715   \n",
       "6                                 -497.083180   \n",
       "7                                 -499.171928   \n",
       "8                                 -501.178133   \n",
       "9                                 -502.986357   \n",
       "\n",
       "   secondary_cleaner.state.floatbank5_b_air  \\\n",
       "0                                  8.079666   \n",
       "1                                  7.984757   \n",
       "2                                  8.013877   \n",
       "3                                  7.977324   \n",
       "4                                  7.894242   \n",
       "5                                  7.965083   \n",
       "6                                  8.010890   \n",
       "7                                  7.993381   \n",
       "8                                  7.881604   \n",
       "9                                  7.979219   \n",
       "\n",
       "   secondary_cleaner.state.floatbank5_b_level  \\\n",
       "0                                 -500.470978   \n",
       "1                                 -500.582168   \n",
       "2                                 -500.517572   \n",
       "3                                 -500.255908   \n",
       "4                                 -500.356035   \n",
       "5                                 -499.364752   \n",
       "6                                 -500.002423   \n",
       "7                                 -499.794518   \n",
       "8                                 -499.729434   \n",
       "9                                 -500.146835   \n",
       "\n",
       "   secondary_cleaner.state.floatbank6_a_air  \\\n",
       "0                                 14.151341   \n",
       "1                                 13.998353   \n",
       "2                                 14.028663   \n",
       "3                                 14.005551   \n",
       "4                                 13.996647   \n",
       "5                                 14.017067   \n",
       "6                                 14.029649   \n",
       "7                                 13.984498   \n",
       "8                                 13.967135   \n",
       "9                                 13.981614   \n",
       "\n",
       "   secondary_cleaner.state.floatbank6_a_level  \n",
       "0                                 -605.841980  \n",
       "1                                 -599.787184  \n",
       "2                                 -601.427363  \n",
       "3                                 -599.996129  \n",
       "4                                 -601.496691  \n",
       "5                                 -599.707915  \n",
       "6                                 -600.905470  \n",
       "7                                 -600.411070  \n",
       "8                                 -599.061188  \n",
       "9                                 -598.070855  \n",
       "\n",
       "[10 rows x 87 columns]"
      ]
     },
     "execution_count": 57,
     "metadata": {},
     "output_type": "execute_result"
    }
   ],
   "source": [
    "pth1 = '/datasets/gold_recovery_full_new.csv'\n",
    "pth2 = 'D:\\\\Python\\\\Jupyter\\\\gold_recovery_full_new.csv'\n",
    "pth3 = 'D:\\Kate\\Python\\project\\gold_recovery\\\\gold_recovery_full_new.csv'\n",
    "pth4 = 'C:\\\\Users\\\\user\\\\Documents\\\\jupyter\\\\gold_recovery_full_new.csv'\n",
    "\n",
    "if os.path.exists(pth1):\n",
    "    data_full = pd.read_csv(pth1)\n",
    "elif os.path.exists(pth2):\n",
    "    data_full = pd.read_csv(pth2)\n",
    "elif os.path.exists(pth3):\n",
    "    data_full = pd.read_csv(pth3)\n",
    "elif os.path.exists(pth4):\n",
    "    data_full = pd.read_csv(pth4)\n",
    "else:\n",
    "    print('Something is wrong')\n",
    "data_full.head(10)"
   ]
  },
  {
   "cell_type": "code",
   "execution_count": 58,
   "metadata": {},
   "outputs": [
    {
     "name": "stdout",
     "output_type": "stream",
     "text": [
      "<class 'pandas.core.frame.DataFrame'>\n",
      "RangeIndex: 19439 entries, 0 to 19438\n",
      "Data columns (total 87 columns):\n",
      " #   Column                                              Non-Null Count  Dtype  \n",
      "---  ------                                              --------------  -----  \n",
      " 0   date                                                19439 non-null  object \n",
      " 1   final.output.concentrate_ag                         19438 non-null  float64\n",
      " 2   final.output.concentrate_pb                         19438 non-null  float64\n",
      " 3   final.output.concentrate_sol                        19228 non-null  float64\n",
      " 4   final.output.concentrate_au                         19439 non-null  float64\n",
      " 5   final.output.recovery                               19439 non-null  float64\n",
      " 6   final.output.tail_ag                                19438 non-null  float64\n",
      " 7   final.output.tail_pb                                19338 non-null  float64\n",
      " 8   final.output.tail_sol                               19433 non-null  float64\n",
      " 9   final.output.tail_au                                19439 non-null  float64\n",
      " 10  primary_cleaner.input.sulfate                       19415 non-null  float64\n",
      " 11  primary_cleaner.input.depressant                    19402 non-null  float64\n",
      " 12  primary_cleaner.input.feed_size                     19439 non-null  float64\n",
      " 13  primary_cleaner.input.xanthate                      19335 non-null  float64\n",
      " 14  primary_cleaner.output.concentrate_ag               19439 non-null  float64\n",
      " 15  primary_cleaner.output.concentrate_pb               19323 non-null  float64\n",
      " 16  primary_cleaner.output.concentrate_sol              19069 non-null  float64\n",
      " 17  primary_cleaner.output.concentrate_au               19439 non-null  float64\n",
      " 18  primary_cleaner.output.tail_ag                      19435 non-null  float64\n",
      " 19  primary_cleaner.output.tail_pb                      19418 non-null  float64\n",
      " 20  primary_cleaner.output.tail_sol                     19377 non-null  float64\n",
      " 21  primary_cleaner.output.tail_au                      19439 non-null  float64\n",
      " 22  primary_cleaner.state.floatbank8_a_air              19435 non-null  float64\n",
      " 23  primary_cleaner.state.floatbank8_a_level            19438 non-null  float64\n",
      " 24  primary_cleaner.state.floatbank8_b_air              19435 non-null  float64\n",
      " 25  primary_cleaner.state.floatbank8_b_level            19438 non-null  float64\n",
      " 26  primary_cleaner.state.floatbank8_c_air              19437 non-null  float64\n",
      " 27  primary_cleaner.state.floatbank8_c_level            19438 non-null  float64\n",
      " 28  primary_cleaner.state.floatbank8_d_air              19436 non-null  float64\n",
      " 29  primary_cleaner.state.floatbank8_d_level            19438 non-null  float64\n",
      " 30  rougher.calculation.sulfate_to_au_concentrate       19437 non-null  float64\n",
      " 31  rougher.calculation.floatbank10_sulfate_to_au_feed  19437 non-null  float64\n",
      " 32  rougher.calculation.floatbank11_sulfate_to_au_feed  19437 non-null  float64\n",
      " 33  rougher.calculation.au_pb_ratio                     19439 non-null  float64\n",
      " 34  rougher.input.feed_ag                               19439 non-null  float64\n",
      " 35  rougher.input.feed_pb                               19339 non-null  float64\n",
      " 36  rougher.input.feed_rate                             19428 non-null  float64\n",
      " 37  rougher.input.feed_size                             19294 non-null  float64\n",
      " 38  rougher.input.feed_sol                              19340 non-null  float64\n",
      " 39  rougher.input.feed_au                               19439 non-null  float64\n",
      " 40  rougher.input.floatbank10_sulfate                   19405 non-null  float64\n",
      " 41  rougher.input.floatbank10_xanthate                  19431 non-null  float64\n",
      " 42  rougher.input.floatbank11_sulfate                   19395 non-null  float64\n",
      " 43  rougher.input.floatbank11_xanthate                  18986 non-null  float64\n",
      " 44  rougher.output.concentrate_ag                       19439 non-null  float64\n",
      " 45  rougher.output.concentrate_pb                       19439 non-null  float64\n",
      " 46  rougher.output.concentrate_sol                      19416 non-null  float64\n",
      " 47  rougher.output.concentrate_au                       19439 non-null  float64\n",
      " 48  rougher.output.recovery                             19439 non-null  float64\n",
      " 49  rougher.output.tail_ag                              19438 non-null  float64\n",
      " 50  rougher.output.tail_pb                              19439 non-null  float64\n",
      " 51  rougher.output.tail_sol                             19439 non-null  float64\n",
      " 52  rougher.output.tail_au                              19439 non-null  float64\n",
      " 53  rougher.state.floatbank10_a_air                     19438 non-null  float64\n",
      " 54  rougher.state.floatbank10_a_level                   19438 non-null  float64\n",
      " 55  rougher.state.floatbank10_b_air                     19438 non-null  float64\n",
      " 56  rougher.state.floatbank10_b_level                   19438 non-null  float64\n",
      " 57  rougher.state.floatbank10_c_air                     19438 non-null  float64\n",
      " 58  rougher.state.floatbank10_c_level                   19438 non-null  float64\n",
      " 59  rougher.state.floatbank10_d_air                     19439 non-null  float64\n",
      " 60  rougher.state.floatbank10_d_level                   19439 non-null  float64\n",
      " 61  rougher.state.floatbank10_e_air                     19003 non-null  float64\n",
      " 62  rougher.state.floatbank10_e_level                   19439 non-null  float64\n",
      " 63  rougher.state.floatbank10_f_air                     19439 non-null  float64\n",
      " 64  rougher.state.floatbank10_f_level                   19439 non-null  float64\n",
      " 65  secondary_cleaner.output.tail_ag                    19437 non-null  float64\n",
      " 66  secondary_cleaner.output.tail_pb                    19427 non-null  float64\n",
      " 67  secondary_cleaner.output.tail_sol                   17691 non-null  float64\n",
      " 68  secondary_cleaner.output.tail_au                    19439 non-null  float64\n",
      " 69  secondary_cleaner.state.floatbank2_a_air            19219 non-null  float64\n",
      " 70  secondary_cleaner.state.floatbank2_a_level          19438 non-null  float64\n",
      " 71  secondary_cleaner.state.floatbank2_b_air            19416 non-null  float64\n",
      " 72  secondary_cleaner.state.floatbank2_b_level          19438 non-null  float64\n",
      " 73  secondary_cleaner.state.floatbank3_a_air            19426 non-null  float64\n",
      " 74  secondary_cleaner.state.floatbank3_a_level          19438 non-null  float64\n",
      " 75  secondary_cleaner.state.floatbank3_b_air            19438 non-null  float64\n",
      " 76  secondary_cleaner.state.floatbank3_b_level          19438 non-null  float64\n",
      " 77  secondary_cleaner.state.floatbank4_a_air            19433 non-null  float64\n",
      " 78  secondary_cleaner.state.floatbank4_a_level          19438 non-null  float64\n",
      " 79  secondary_cleaner.state.floatbank4_b_air            19438 non-null  float64\n",
      " 80  secondary_cleaner.state.floatbank4_b_level          19438 non-null  float64\n",
      " 81  secondary_cleaner.state.floatbank5_a_air            19438 non-null  float64\n",
      " 82  secondary_cleaner.state.floatbank5_a_level          19438 non-null  float64\n",
      " 83  secondary_cleaner.state.floatbank5_b_air            19438 non-null  float64\n",
      " 84  secondary_cleaner.state.floatbank5_b_level          19438 non-null  float64\n",
      " 85  secondary_cleaner.state.floatbank6_a_air            19437 non-null  float64\n",
      " 86  secondary_cleaner.state.floatbank6_a_level          19438 non-null  float64\n",
      "dtypes: float64(86), object(1)\n",
      "memory usage: 12.9+ MB\n"
     ]
    }
   ],
   "source": [
    "data_full.info()"
   ]
  },
  {
   "cell_type": "code",
   "execution_count": 68,
   "metadata": {},
   "outputs": [
    {
     "name": "stdout",
     "output_type": "stream",
     "text": [
      "<class 'pandas.core.frame.DataFrame'>\n",
      "RangeIndex: 14149 entries, 0 to 14148\n",
      "Data columns (total 87 columns):\n",
      " #   Column                                              Non-Null Count  Dtype  \n",
      "---  ------                                              --------------  -----  \n",
      " 0   date                                                14149 non-null  object \n",
      " 1   final.output.concentrate_ag                         14148 non-null  float64\n",
      " 2   final.output.concentrate_pb                         14148 non-null  float64\n",
      " 3   final.output.concentrate_sol                        13938 non-null  float64\n",
      " 4   final.output.concentrate_au                         14149 non-null  float64\n",
      " 5   final.output.recovery                               14149 non-null  float64\n",
      " 6   final.output.tail_ag                                14149 non-null  float64\n",
      " 7   final.output.tail_pb                                14049 non-null  float64\n",
      " 8   final.output.tail_sol                               14144 non-null  float64\n",
      " 9   final.output.tail_au                                14149 non-null  float64\n",
      " 10  primary_cleaner.input.sulfate                       14129 non-null  float64\n",
      " 11  primary_cleaner.input.depressant                    14117 non-null  float64\n",
      " 12  primary_cleaner.input.feed_size                     14149 non-null  float64\n",
      " 13  primary_cleaner.input.xanthate                      14049 non-null  float64\n",
      " 14  primary_cleaner.output.concentrate_ag               14149 non-null  float64\n",
      " 15  primary_cleaner.output.concentrate_pb               14063 non-null  float64\n",
      " 16  primary_cleaner.output.concentrate_sol              13863 non-null  float64\n",
      " 17  primary_cleaner.output.concentrate_au               14149 non-null  float64\n",
      " 18  primary_cleaner.output.tail_ag                      14148 non-null  float64\n",
      " 19  primary_cleaner.output.tail_pb                      14134 non-null  float64\n",
      " 20  primary_cleaner.output.tail_sol                     14103 non-null  float64\n",
      " 21  primary_cleaner.output.tail_au                      14149 non-null  float64\n",
      " 22  primary_cleaner.state.floatbank8_a_air              14145 non-null  float64\n",
      " 23  primary_cleaner.state.floatbank8_a_level            14148 non-null  float64\n",
      " 24  primary_cleaner.state.floatbank8_b_air              14145 non-null  float64\n",
      " 25  primary_cleaner.state.floatbank8_b_level            14148 non-null  float64\n",
      " 26  primary_cleaner.state.floatbank8_c_air              14147 non-null  float64\n",
      " 27  primary_cleaner.state.floatbank8_c_level            14148 non-null  float64\n",
      " 28  primary_cleaner.state.floatbank8_d_air              14146 non-null  float64\n",
      " 29  primary_cleaner.state.floatbank8_d_level            14148 non-null  float64\n",
      " 30  rougher.calculation.sulfate_to_au_concentrate       14148 non-null  float64\n",
      " 31  rougher.calculation.floatbank10_sulfate_to_au_feed  14148 non-null  float64\n",
      " 32  rougher.calculation.floatbank11_sulfate_to_au_feed  14148 non-null  float64\n",
      " 33  rougher.calculation.au_pb_ratio                     14149 non-null  float64\n",
      " 34  rougher.input.feed_ag                               14149 non-null  float64\n",
      " 35  rougher.input.feed_pb                               14049 non-null  float64\n",
      " 36  rougher.input.feed_rate                             14141 non-null  float64\n",
      " 37  rougher.input.feed_size                             14005 non-null  float64\n",
      " 38  rougher.input.feed_sol                              14071 non-null  float64\n",
      " 39  rougher.input.feed_au                               14149 non-null  float64\n",
      " 40  rougher.input.floatbank10_sulfate                   14120 non-null  float64\n",
      " 41  rougher.input.floatbank10_xanthate                  14141 non-null  float64\n",
      " 42  rougher.input.floatbank11_sulfate                   14113 non-null  float64\n",
      " 43  rougher.input.floatbank11_xanthate                  13721 non-null  float64\n",
      " 44  rougher.output.concentrate_ag                       14149 non-null  float64\n",
      " 45  rougher.output.concentrate_pb                       14149 non-null  float64\n",
      " 46  rougher.output.concentrate_sol                      14127 non-null  float64\n",
      " 47  rougher.output.concentrate_au                       14149 non-null  float64\n",
      " 48  rougher.output.recovery                             14149 non-null  float64\n",
      " 49  rougher.output.tail_ag                              14148 non-null  float64\n",
      " 50  rougher.output.tail_pb                              14149 non-null  float64\n",
      " 51  rougher.output.tail_sol                             14149 non-null  float64\n",
      " 52  rougher.output.tail_au                              14149 non-null  float64\n",
      " 53  rougher.state.floatbank10_a_air                     14148 non-null  float64\n",
      " 54  rougher.state.floatbank10_a_level                   14148 non-null  float64\n",
      " 55  rougher.state.floatbank10_b_air                     14148 non-null  float64\n",
      " 56  rougher.state.floatbank10_b_level                   14148 non-null  float64\n",
      " 57  rougher.state.floatbank10_c_air                     14148 non-null  float64\n",
      " 58  rougher.state.floatbank10_c_level                   14148 non-null  float64\n",
      " 59  rougher.state.floatbank10_d_air                     14149 non-null  float64\n",
      " 60  rougher.state.floatbank10_d_level                   14149 non-null  float64\n",
      " 61  rougher.state.floatbank10_e_air                     13713 non-null  float64\n",
      " 62  rougher.state.floatbank10_e_level                   14149 non-null  float64\n",
      " 63  rougher.state.floatbank10_f_air                     14149 non-null  float64\n",
      " 64  rougher.state.floatbank10_f_level                   14149 non-null  float64\n",
      " 65  secondary_cleaner.output.tail_ag                    14147 non-null  float64\n",
      " 66  secondary_cleaner.output.tail_pb                    14139 non-null  float64\n",
      " 67  secondary_cleaner.output.tail_sol                   12544 non-null  float64\n",
      " 68  secondary_cleaner.output.tail_au                    14149 non-null  float64\n",
      " 69  secondary_cleaner.state.floatbank2_a_air            13932 non-null  float64\n",
      " 70  secondary_cleaner.state.floatbank2_a_level          14148 non-null  float64\n",
      " 71  secondary_cleaner.state.floatbank2_b_air            14128 non-null  float64\n",
      " 72  secondary_cleaner.state.floatbank2_b_level          14148 non-null  float64\n",
      " 73  secondary_cleaner.state.floatbank3_a_air            14145 non-null  float64\n",
      " 74  secondary_cleaner.state.floatbank3_a_level          14148 non-null  float64\n",
      " 75  secondary_cleaner.state.floatbank3_b_air            14148 non-null  float64\n",
      " 76  secondary_cleaner.state.floatbank3_b_level          14148 non-null  float64\n",
      " 77  secondary_cleaner.state.floatbank4_a_air            14143 non-null  float64\n",
      " 78  secondary_cleaner.state.floatbank4_a_level          14148 non-null  float64\n",
      " 79  secondary_cleaner.state.floatbank4_b_air            14148 non-null  float64\n",
      " 80  secondary_cleaner.state.floatbank4_b_level          14148 non-null  float64\n",
      " 81  secondary_cleaner.state.floatbank5_a_air            14148 non-null  float64\n",
      " 82  secondary_cleaner.state.floatbank5_a_level          14148 non-null  float64\n",
      " 83  secondary_cleaner.state.floatbank5_b_air            14148 non-null  float64\n",
      " 84  secondary_cleaner.state.floatbank5_b_level          14148 non-null  float64\n",
      " 85  secondary_cleaner.state.floatbank6_a_air            14147 non-null  float64\n",
      " 86  secondary_cleaner.state.floatbank6_a_level          14148 non-null  float64\n",
      "dtypes: float64(86), object(1)\n",
      "memory usage: 9.4+ MB\n"
     ]
    }
   ],
   "source": [
    "pth1 = '/datasets/gold_recovery_train_new.csv'\n",
    "pth2 = 'D:\\\\Python\\\\Jupyter\\\\gold_recovery_train_new.csv'\n",
    "pth3 = 'D:\\Kate\\Python\\project\\gold_recovery\\\\gold_recovery_train_new.csv'\n",
    "pth4 = 'C:\\\\Users\\\\user\\\\Documents\\\\jupyter\\\\gold_recovery_train_new.csv'\n",
    "\n",
    "if os.path.exists(pth1):\n",
    "    data_train = pd.read_csv(pth1)\n",
    "elif os.path.exists(pth2):\n",
    "    data_train = pd.read_csv(pth2)\n",
    "elif os.path.exists(pth3):\n",
    "    data_train = pd.read_csv(pth3)\n",
    "elif os.path.exists(pth4):\n",
    "    data_train = pd.read_csv(pth4)\n",
    "else:\n",
    "    print('Something is wrong')\n",
    "data_train.head(10)\n",
    "data_train.info()"
   ]
  },
  {
   "cell_type": "code",
   "execution_count": 60,
   "metadata": {},
   "outputs": [
    {
     "name": "stdout",
     "output_type": "stream",
     "text": [
      "<class 'pandas.core.frame.DataFrame'>\n",
      "RangeIndex: 5290 entries, 0 to 5289\n",
      "Data columns (total 53 columns):\n",
      " #   Column                                      Non-Null Count  Dtype  \n",
      "---  ------                                      --------------  -----  \n",
      " 0   date                                        5290 non-null   object \n",
      " 1   primary_cleaner.input.sulfate               5286 non-null   float64\n",
      " 2   primary_cleaner.input.depressant            5285 non-null   float64\n",
      " 3   primary_cleaner.input.feed_size             5290 non-null   float64\n",
      " 4   primary_cleaner.input.xanthate              5286 non-null   float64\n",
      " 5   primary_cleaner.state.floatbank8_a_air      5290 non-null   float64\n",
      " 6   primary_cleaner.state.floatbank8_a_level    5290 non-null   float64\n",
      " 7   primary_cleaner.state.floatbank8_b_air      5290 non-null   float64\n",
      " 8   primary_cleaner.state.floatbank8_b_level    5290 non-null   float64\n",
      " 9   primary_cleaner.state.floatbank8_c_air      5290 non-null   float64\n",
      " 10  primary_cleaner.state.floatbank8_c_level    5290 non-null   float64\n",
      " 11  primary_cleaner.state.floatbank8_d_air      5290 non-null   float64\n",
      " 12  primary_cleaner.state.floatbank8_d_level    5290 non-null   float64\n",
      " 13  rougher.input.feed_ag                       5290 non-null   float64\n",
      " 14  rougher.input.feed_pb                       5290 non-null   float64\n",
      " 15  rougher.input.feed_rate                     5287 non-null   float64\n",
      " 16  rougher.input.feed_size                     5289 non-null   float64\n",
      " 17  rougher.input.feed_sol                      5269 non-null   float64\n",
      " 18  rougher.input.feed_au                       5290 non-null   float64\n",
      " 19  rougher.input.floatbank10_sulfate           5285 non-null   float64\n",
      " 20  rougher.input.floatbank10_xanthate          5290 non-null   float64\n",
      " 21  rougher.input.floatbank11_sulfate           5282 non-null   float64\n",
      " 22  rougher.input.floatbank11_xanthate          5265 non-null   float64\n",
      " 23  rougher.state.floatbank10_a_air             5290 non-null   float64\n",
      " 24  rougher.state.floatbank10_a_level           5290 non-null   float64\n",
      " 25  rougher.state.floatbank10_b_air             5290 non-null   float64\n",
      " 26  rougher.state.floatbank10_b_level           5290 non-null   float64\n",
      " 27  rougher.state.floatbank10_c_air             5290 non-null   float64\n",
      " 28  rougher.state.floatbank10_c_level           5290 non-null   float64\n",
      " 29  rougher.state.floatbank10_d_air             5290 non-null   float64\n",
      " 30  rougher.state.floatbank10_d_level           5290 non-null   float64\n",
      " 31  rougher.state.floatbank10_e_air             5290 non-null   float64\n",
      " 32  rougher.state.floatbank10_e_level           5290 non-null   float64\n",
      " 33  rougher.state.floatbank10_f_air             5290 non-null   float64\n",
      " 34  rougher.state.floatbank10_f_level           5290 non-null   float64\n",
      " 35  secondary_cleaner.state.floatbank2_a_air    5287 non-null   float64\n",
      " 36  secondary_cleaner.state.floatbank2_a_level  5290 non-null   float64\n",
      " 37  secondary_cleaner.state.floatbank2_b_air    5288 non-null   float64\n",
      " 38  secondary_cleaner.state.floatbank2_b_level  5290 non-null   float64\n",
      " 39  secondary_cleaner.state.floatbank3_a_air    5281 non-null   float64\n",
      " 40  secondary_cleaner.state.floatbank3_a_level  5290 non-null   float64\n",
      " 41  secondary_cleaner.state.floatbank3_b_air    5290 non-null   float64\n",
      " 42  secondary_cleaner.state.floatbank3_b_level  5290 non-null   float64\n",
      " 43  secondary_cleaner.state.floatbank4_a_air    5290 non-null   float64\n",
      " 44  secondary_cleaner.state.floatbank4_a_level  5290 non-null   float64\n",
      " 45  secondary_cleaner.state.floatbank4_b_air    5290 non-null   float64\n",
      " 46  secondary_cleaner.state.floatbank4_b_level  5290 non-null   float64\n",
      " 47  secondary_cleaner.state.floatbank5_a_air    5290 non-null   float64\n",
      " 48  secondary_cleaner.state.floatbank5_a_level  5290 non-null   float64\n",
      " 49  secondary_cleaner.state.floatbank5_b_air    5290 non-null   float64\n",
      " 50  secondary_cleaner.state.floatbank5_b_level  5290 non-null   float64\n",
      " 51  secondary_cleaner.state.floatbank6_a_air    5290 non-null   float64\n",
      " 52  secondary_cleaner.state.floatbank6_a_level  5290 non-null   float64\n",
      "dtypes: float64(52), object(1)\n",
      "memory usage: 2.1+ MB\n"
     ]
    }
   ],
   "source": [
    "pth1 = '/datasets/gold_recovery_test_new.csv'\n",
    "pth2 = 'D:\\\\Python\\\\Jupyter\\\\gold_recovery_test_new.csv'\n",
    "pth3 = 'D:\\Kate\\Python\\project\\gold_recovery\\\\gold_recovery_test_new.csv'\n",
    "pth4 = 'C:\\\\Users\\\\user\\\\Documents\\\\jupyter\\\\gold_recovery_test_new.csv'\n",
    "\n",
    "if os.path.exists(pth1):\n",
    "    data_test = pd.read_csv(pth1)\n",
    "elif os.path.exists(pth2):\n",
    "    data_test = pd.read_csv(pth2)\n",
    "elif os.path.exists(pth3):\n",
    "    data_test = pd.read_csv(pth3)\n",
    "elif os.path.exists(pth4):\n",
    "    data_test = pd.read_csv(pth4)\n",
    "else:\n",
    "    print('Something is wrong')\n",
    "data_test.head(10)\n",
    "data_test.info()"
   ]
  },
  {
   "attachments": {},
   "cell_type": "markdown",
   "metadata": {},
   "source": [
    "The following abbreviations are used in the provided datasets:\n",
    "\n",
    "\n",
    "[stage].[parameter_type].[parameter_name]\n",
    "\n",
    "\n",
    "Possible values for the [stage] block are:\n",
    "\n",
    "* `rougher` - flotation stage\n",
    "* `primary_cleaner` - primary cleaning stage\n",
    "* `secondary_cleaner` - secondary cleaning stage\n",
    "* `final` - final characteristics\n",
    "\n",
    "\n",
    "Possible values for the [parameter_type] block are:\n",
    "\n",
    "* `input` - parameters of the feed\n",
    "* `output` - parameters of the product\n",
    "* `state` - parameters characterizing the current stage state\n",
    "* `calculation` - calculated parameters\""
   ]
  },
  {
   "attachments": {},
   "cell_type": "markdown",
   "metadata": {},
   "source": [
    "There are a total of 87 columns of data, one of which is a date, and the rest are process features. Additionally, some data is unavailable in the testing set, and there are missing values in the datasets."
   ]
  },
  {
   "attachments": {},
   "cell_type": "markdown",
   "metadata": {},
   "source": [
    "The dataset includes `rougher.output.recovery` - the recovery efficiency. This parameter can also be calculated using other available data such as the concentration of gold after flotation, the concentration of gold in the feed, and the concentration in the tailings. Perform the calculations."
   ]
  },
  {
   "cell_type": "code",
   "execution_count": 61,
   "metadata": {},
   "outputs": [
    {
     "data": {
      "text/plain": [
       "count    14149.000000\n",
       "mean        82.704502\n",
       "std         14.479156\n",
       "min         -0.000000\n",
       "25%         79.993067\n",
       "50%         85.299462\n",
       "75%         90.165021\n",
       "max        100.000000\n",
       "dtype: float64"
      ]
     },
     "execution_count": 61,
     "metadata": {},
     "output_type": "execute_result"
    }
   ],
   "source": [
    "recovery = (data_train['rougher.output.concentrate_au']*(data_train['rougher.input.feed_au']-data_train['rougher.output.tail_au']))/(data_train['rougher.input.feed_au']*(data_train['rougher.output.concentrate_au']-data_train['rougher.output.tail_au']))*100\n",
    "recovery.describe()      "
   ]
  },
  {
   "attachments": {},
   "cell_type": "markdown",
   "metadata": {},
   "source": [
    "Let's check the data on the recovery efficiency presented in the training set."
   ]
  },
  {
   "cell_type": "code",
   "execution_count": 62,
   "metadata": {},
   "outputs": [
    {
     "data": {
      "text/plain": [
       "count    14149.000000\n",
       "mean        82.704502\n",
       "std         14.479156\n",
       "min          0.000000\n",
       "25%         79.993067\n",
       "50%         85.299462\n",
       "75%         90.165021\n",
       "max        100.000000\n",
       "Name: rougher.output.recovery, dtype: float64"
      ]
     },
     "execution_count": 62,
     "metadata": {},
     "output_type": "execute_result"
    }
   ],
   "source": [
    "data_train['rougher.output.recovery'].describe()"
   ]
  },
  {
   "attachments": {},
   "cell_type": "markdown",
   "metadata": {},
   "source": [
    "To make sure, let's calculate the Mean Absolute Error (MAE) between the two columns. If the MAE is close to zero, we can assume that the two columns are identical."
   ]
  },
  {
   "cell_type": "code",
   "execution_count": 63,
   "metadata": {},
   "outputs": [
    {
     "data": {
      "text/plain": [
       "1.3885438295121047e-16"
      ]
     },
     "execution_count": 63,
     "metadata": {},
     "output_type": "execute_result"
    }
   ],
   "source": [
    "MAE = sum(data_train['rougher.output.recovery']-recovery)/len(recovery)\n",
    "MAE"
   ]
  },
  {
   "attachments": {},
   "cell_type": "markdown",
   "metadata": {},
   "source": [
    "Conclusion: MAE is close to zero, we can assume that the two columns are identical."
   ]
  },
  {
   "attachments": {},
   "cell_type": "markdown",
   "metadata": {},
   "source": [
    "In the test set, some parameters are not available. Let's find the columns that are missing in the test set compared to the training set."
   ]
  },
  {
   "cell_type": "code",
   "execution_count": 64,
   "metadata": {},
   "outputs": [
    {
     "data": {
      "text/plain": [
       "Index(['final.output.concentrate_ag', 'final.output.concentrate_pb',\n",
       "       'final.output.concentrate_sol', 'final.output.concentrate_au',\n",
       "       'final.output.recovery', 'final.output.tail_ag', 'final.output.tail_pb',\n",
       "       'final.output.tail_sol', 'final.output.tail_au',\n",
       "       'primary_cleaner.output.concentrate_ag',\n",
       "       'primary_cleaner.output.concentrate_pb',\n",
       "       'primary_cleaner.output.concentrate_sol',\n",
       "       'primary_cleaner.output.concentrate_au',\n",
       "       'primary_cleaner.output.tail_ag', 'primary_cleaner.output.tail_pb',\n",
       "       'primary_cleaner.output.tail_sol', 'primary_cleaner.output.tail_au',\n",
       "       'rougher.calculation.sulfate_to_au_concentrate',\n",
       "       'rougher.calculation.floatbank10_sulfate_to_au_feed',\n",
       "       'rougher.calculation.floatbank11_sulfate_to_au_feed',\n",
       "       'rougher.calculation.au_pb_ratio', 'rougher.output.concentrate_ag',\n",
       "       'rougher.output.concentrate_pb', 'rougher.output.concentrate_sol',\n",
       "       'rougher.output.concentrate_au', 'rougher.output.recovery',\n",
       "       'rougher.output.tail_ag', 'rougher.output.tail_pb',\n",
       "       'rougher.output.tail_sol', 'rougher.output.tail_au',\n",
       "       'secondary_cleaner.output.tail_ag', 'secondary_cleaner.output.tail_pb',\n",
       "       'secondary_cleaner.output.tail_sol',\n",
       "       'secondary_cleaner.output.tail_au'],\n",
       "      dtype='object')"
      ]
     },
     "execution_count": 64,
     "metadata": {},
     "output_type": "execute_result"
    }
   ],
   "source": [
    "columns_not_in_test = data_train.columns[~data_train.columns.isin(data_test.columns)]\n",
    "columns_not_in_test"
   ]
  },
  {
   "attachments": {},
   "cell_type": "markdown",
   "metadata": {},
   "source": [
    "All of these features belong to the output type. The test set simulates the real-world use of the model, so it only contains the features that would be available at the beginning of the technological process. Since these features are missing in the test set, we will remove them from the training set as well. At the same time, we will add back the targets from the full dataset."
   ]
  },
  {
   "cell_type": "code",
   "execution_count": 69,
   "metadata": {},
   "outputs": [
    {
     "data": {
      "text/html": [
       "<div>\n",
       "<style scoped>\n",
       "    .dataframe tbody tr th:only-of-type {\n",
       "        vertical-align: middle;\n",
       "    }\n",
       "\n",
       "    .dataframe tbody tr th {\n",
       "        vertical-align: top;\n",
       "    }\n",
       "\n",
       "    .dataframe thead th {\n",
       "        text-align: right;\n",
       "    }\n",
       "</style>\n",
       "<table border=\"1\" class=\"dataframe\">\n",
       "  <thead>\n",
       "    <tr style=\"text-align: right;\">\n",
       "      <th></th>\n",
       "      <th>date</th>\n",
       "      <th>primary_cleaner.input.sulfate</th>\n",
       "      <th>primary_cleaner.input.depressant</th>\n",
       "      <th>primary_cleaner.input.feed_size</th>\n",
       "      <th>primary_cleaner.input.xanthate</th>\n",
       "      <th>primary_cleaner.state.floatbank8_a_air</th>\n",
       "      <th>primary_cleaner.state.floatbank8_a_level</th>\n",
       "      <th>primary_cleaner.state.floatbank8_b_air</th>\n",
       "      <th>primary_cleaner.state.floatbank8_b_level</th>\n",
       "      <th>primary_cleaner.state.floatbank8_c_air</th>\n",
       "      <th>...</th>\n",
       "      <th>secondary_cleaner.state.floatbank4_b_air</th>\n",
       "      <th>secondary_cleaner.state.floatbank4_b_level</th>\n",
       "      <th>secondary_cleaner.state.floatbank5_a_air</th>\n",
       "      <th>secondary_cleaner.state.floatbank5_a_level</th>\n",
       "      <th>secondary_cleaner.state.floatbank5_b_air</th>\n",
       "      <th>secondary_cleaner.state.floatbank5_b_level</th>\n",
       "      <th>secondary_cleaner.state.floatbank6_a_air</th>\n",
       "      <th>secondary_cleaner.state.floatbank6_a_level</th>\n",
       "      <th>final.output.recovery</th>\n",
       "      <th>rougher.output.recovery</th>\n",
       "    </tr>\n",
       "  </thead>\n",
       "  <tbody>\n",
       "    <tr>\n",
       "      <th>0</th>\n",
       "      <td>2016-01-15 00:00:00</td>\n",
       "      <td>127.092003</td>\n",
       "      <td>10.128295</td>\n",
       "      <td>7.25</td>\n",
       "      <td>0.988759</td>\n",
       "      <td>1549.775757</td>\n",
       "      <td>-498.912140</td>\n",
       "      <td>1551.434204</td>\n",
       "      <td>-516.403442</td>\n",
       "      <td>1549.873901</td>\n",
       "      <td>...</td>\n",
       "      <td>12.099931</td>\n",
       "      <td>-504.715942</td>\n",
       "      <td>9.925633</td>\n",
       "      <td>-498.310211</td>\n",
       "      <td>8.079666</td>\n",
       "      <td>-500.470978</td>\n",
       "      <td>14.151341</td>\n",
       "      <td>-605.841980</td>\n",
       "      <td>70.541216</td>\n",
       "      <td>87.107763</td>\n",
       "    </tr>\n",
       "    <tr>\n",
       "      <th>1</th>\n",
       "      <td>2016-01-15 01:00:00</td>\n",
       "      <td>125.629232</td>\n",
       "      <td>10.296251</td>\n",
       "      <td>7.25</td>\n",
       "      <td>1.002663</td>\n",
       "      <td>1576.166671</td>\n",
       "      <td>-500.904965</td>\n",
       "      <td>1575.950626</td>\n",
       "      <td>-499.865889</td>\n",
       "      <td>1575.994189</td>\n",
       "      <td>...</td>\n",
       "      <td>11.950531</td>\n",
       "      <td>-501.331529</td>\n",
       "      <td>10.039245</td>\n",
       "      <td>-500.169983</td>\n",
       "      <td>7.984757</td>\n",
       "      <td>-500.582168</td>\n",
       "      <td>13.998353</td>\n",
       "      <td>-599.787184</td>\n",
       "      <td>69.266198</td>\n",
       "      <td>86.843261</td>\n",
       "    </tr>\n",
       "    <tr>\n",
       "      <th>2</th>\n",
       "      <td>2016-01-15 02:00:00</td>\n",
       "      <td>123.819808</td>\n",
       "      <td>11.316280</td>\n",
       "      <td>7.25</td>\n",
       "      <td>0.991265</td>\n",
       "      <td>1601.556163</td>\n",
       "      <td>-499.997791</td>\n",
       "      <td>1600.386685</td>\n",
       "      <td>-500.607762</td>\n",
       "      <td>1602.003542</td>\n",
       "      <td>...</td>\n",
       "      <td>11.912783</td>\n",
       "      <td>-501.133383</td>\n",
       "      <td>10.070913</td>\n",
       "      <td>-500.129135</td>\n",
       "      <td>8.013877</td>\n",
       "      <td>-500.517572</td>\n",
       "      <td>14.028663</td>\n",
       "      <td>-601.427363</td>\n",
       "      <td>68.116445</td>\n",
       "      <td>86.842308</td>\n",
       "    </tr>\n",
       "    <tr>\n",
       "      <th>3</th>\n",
       "      <td>2016-01-15 03:00:00</td>\n",
       "      <td>122.270188</td>\n",
       "      <td>11.322140</td>\n",
       "      <td>7.25</td>\n",
       "      <td>0.996739</td>\n",
       "      <td>1599.968720</td>\n",
       "      <td>-500.951778</td>\n",
       "      <td>1600.659236</td>\n",
       "      <td>-499.677094</td>\n",
       "      <td>1600.304144</td>\n",
       "      <td>...</td>\n",
       "      <td>11.999550</td>\n",
       "      <td>-501.193686</td>\n",
       "      <td>9.970366</td>\n",
       "      <td>-499.201640</td>\n",
       "      <td>7.977324</td>\n",
       "      <td>-500.255908</td>\n",
       "      <td>14.005551</td>\n",
       "      <td>-599.996129</td>\n",
       "      <td>68.347543</td>\n",
       "      <td>87.226430</td>\n",
       "    </tr>\n",
       "    <tr>\n",
       "      <th>4</th>\n",
       "      <td>2016-01-15 04:00:00</td>\n",
       "      <td>117.988169</td>\n",
       "      <td>11.913613</td>\n",
       "      <td>7.25</td>\n",
       "      <td>1.009869</td>\n",
       "      <td>1601.339707</td>\n",
       "      <td>-498.975456</td>\n",
       "      <td>1601.437854</td>\n",
       "      <td>-500.323246</td>\n",
       "      <td>1599.581894</td>\n",
       "      <td>...</td>\n",
       "      <td>11.953070</td>\n",
       "      <td>-501.053894</td>\n",
       "      <td>9.925709</td>\n",
       "      <td>-501.686727</td>\n",
       "      <td>7.894242</td>\n",
       "      <td>-500.356035</td>\n",
       "      <td>13.996647</td>\n",
       "      <td>-601.496691</td>\n",
       "      <td>66.927016</td>\n",
       "      <td>86.688794</td>\n",
       "    </tr>\n",
       "    <tr>\n",
       "      <th>...</th>\n",
       "      <td>...</td>\n",
       "      <td>...</td>\n",
       "      <td>...</td>\n",
       "      <td>...</td>\n",
       "      <td>...</td>\n",
       "      <td>...</td>\n",
       "      <td>...</td>\n",
       "      <td>...</td>\n",
       "      <td>...</td>\n",
       "      <td>...</td>\n",
       "      <td>...</td>\n",
       "      <td>...</td>\n",
       "      <td>...</td>\n",
       "      <td>...</td>\n",
       "      <td>...</td>\n",
       "      <td>...</td>\n",
       "      <td>...</td>\n",
       "      <td>...</td>\n",
       "      <td>...</td>\n",
       "      <td>...</td>\n",
       "      <td>...</td>\n",
       "    </tr>\n",
       "    <tr>\n",
       "      <th>14144</th>\n",
       "      <td>2018-08-18 06:59:59</td>\n",
       "      <td>123.381787</td>\n",
       "      <td>8.028927</td>\n",
       "      <td>6.50</td>\n",
       "      <td>1.304232</td>\n",
       "      <td>1648.421193</td>\n",
       "      <td>-400.382169</td>\n",
       "      <td>1648.742005</td>\n",
       "      <td>-400.359661</td>\n",
       "      <td>1648.578230</td>\n",
       "      <td>...</td>\n",
       "      <td>20.007571</td>\n",
       "      <td>-499.740028</td>\n",
       "      <td>18.006038</td>\n",
       "      <td>-499.834374</td>\n",
       "      <td>13.001114</td>\n",
       "      <td>-500.155694</td>\n",
       "      <td>20.007840</td>\n",
       "      <td>-501.296428</td>\n",
       "      <td>73.755150</td>\n",
       "      <td>89.574376</td>\n",
       "    </tr>\n",
       "    <tr>\n",
       "      <th>14145</th>\n",
       "      <td>2018-08-18 07:59:59</td>\n",
       "      <td>120.878188</td>\n",
       "      <td>7.962636</td>\n",
       "      <td>6.50</td>\n",
       "      <td>1.302419</td>\n",
       "      <td>1649.820162</td>\n",
       "      <td>-399.930973</td>\n",
       "      <td>1649.357538</td>\n",
       "      <td>-399.721222</td>\n",
       "      <td>1648.656192</td>\n",
       "      <td>...</td>\n",
       "      <td>20.035660</td>\n",
       "      <td>-500.251357</td>\n",
       "      <td>17.998535</td>\n",
       "      <td>-500.395178</td>\n",
       "      <td>12.954048</td>\n",
       "      <td>-499.895163</td>\n",
       "      <td>19.968498</td>\n",
       "      <td>-501.041608</td>\n",
       "      <td>69.049291</td>\n",
       "      <td>87.724007</td>\n",
       "    </tr>\n",
       "    <tr>\n",
       "      <th>14146</th>\n",
       "      <td>2018-08-18 08:59:59</td>\n",
       "      <td>105.666118</td>\n",
       "      <td>7.955111</td>\n",
       "      <td>6.50</td>\n",
       "      <td>1.315926</td>\n",
       "      <td>1649.166761</td>\n",
       "      <td>-399.888631</td>\n",
       "      <td>1649.196904</td>\n",
       "      <td>-399.677571</td>\n",
       "      <td>1647.896999</td>\n",
       "      <td>...</td>\n",
       "      <td>19.951231</td>\n",
       "      <td>-499.857027</td>\n",
       "      <td>18.019543</td>\n",
       "      <td>-500.451156</td>\n",
       "      <td>13.023431</td>\n",
       "      <td>-499.914391</td>\n",
       "      <td>19.990885</td>\n",
       "      <td>-501.518452</td>\n",
       "      <td>67.002189</td>\n",
       "      <td>88.890579</td>\n",
       "    </tr>\n",
       "    <tr>\n",
       "      <th>14147</th>\n",
       "      <td>2018-08-18 09:59:59</td>\n",
       "      <td>98.880538</td>\n",
       "      <td>7.984164</td>\n",
       "      <td>6.50</td>\n",
       "      <td>1.241969</td>\n",
       "      <td>1646.547763</td>\n",
       "      <td>-398.977083</td>\n",
       "      <td>1648.212240</td>\n",
       "      <td>-400.383265</td>\n",
       "      <td>1648.917387</td>\n",
       "      <td>...</td>\n",
       "      <td>20.054122</td>\n",
       "      <td>-500.314711</td>\n",
       "      <td>17.979515</td>\n",
       "      <td>-499.272871</td>\n",
       "      <td>12.992404</td>\n",
       "      <td>-499.976268</td>\n",
       "      <td>20.013986</td>\n",
       "      <td>-500.625471</td>\n",
       "      <td>65.523246</td>\n",
       "      <td>89.858126</td>\n",
       "    </tr>\n",
       "    <tr>\n",
       "      <th>14148</th>\n",
       "      <td>2018-08-18 10:59:59</td>\n",
       "      <td>95.248427</td>\n",
       "      <td>8.078957</td>\n",
       "      <td>6.50</td>\n",
       "      <td>1.283045</td>\n",
       "      <td>1648.759906</td>\n",
       "      <td>-399.862053</td>\n",
       "      <td>1650.135395</td>\n",
       "      <td>-399.957321</td>\n",
       "      <td>1648.831890</td>\n",
       "      <td>...</td>\n",
       "      <td>20.020205</td>\n",
       "      <td>-500.220296</td>\n",
       "      <td>17.963512</td>\n",
       "      <td>-499.939490</td>\n",
       "      <td>12.990306</td>\n",
       "      <td>-500.080993</td>\n",
       "      <td>19.990336</td>\n",
       "      <td>-499.191575</td>\n",
       "      <td>70.281454</td>\n",
       "      <td>89.514960</td>\n",
       "    </tr>\n",
       "  </tbody>\n",
       "</table>\n",
       "<p>14149 rows × 55 columns</p>\n",
       "</div>"
      ],
      "text/plain": [
       "                      date  primary_cleaner.input.sulfate  \\\n",
       "0      2016-01-15 00:00:00                     127.092003   \n",
       "1      2016-01-15 01:00:00                     125.629232   \n",
       "2      2016-01-15 02:00:00                     123.819808   \n",
       "3      2016-01-15 03:00:00                     122.270188   \n",
       "4      2016-01-15 04:00:00                     117.988169   \n",
       "...                    ...                            ...   \n",
       "14144  2018-08-18 06:59:59                     123.381787   \n",
       "14145  2018-08-18 07:59:59                     120.878188   \n",
       "14146  2018-08-18 08:59:59                     105.666118   \n",
       "14147  2018-08-18 09:59:59                      98.880538   \n",
       "14148  2018-08-18 10:59:59                      95.248427   \n",
       "\n",
       "       primary_cleaner.input.depressant  primary_cleaner.input.feed_size  \\\n",
       "0                             10.128295                             7.25   \n",
       "1                             10.296251                             7.25   \n",
       "2                             11.316280                             7.25   \n",
       "3                             11.322140                             7.25   \n",
       "4                             11.913613                             7.25   \n",
       "...                                 ...                              ...   \n",
       "14144                          8.028927                             6.50   \n",
       "14145                          7.962636                             6.50   \n",
       "14146                          7.955111                             6.50   \n",
       "14147                          7.984164                             6.50   \n",
       "14148                          8.078957                             6.50   \n",
       "\n",
       "       primary_cleaner.input.xanthate  primary_cleaner.state.floatbank8_a_air  \\\n",
       "0                            0.988759                             1549.775757   \n",
       "1                            1.002663                             1576.166671   \n",
       "2                            0.991265                             1601.556163   \n",
       "3                            0.996739                             1599.968720   \n",
       "4                            1.009869                             1601.339707   \n",
       "...                               ...                                     ...   \n",
       "14144                        1.304232                             1648.421193   \n",
       "14145                        1.302419                             1649.820162   \n",
       "14146                        1.315926                             1649.166761   \n",
       "14147                        1.241969                             1646.547763   \n",
       "14148                        1.283045                             1648.759906   \n",
       "\n",
       "       primary_cleaner.state.floatbank8_a_level  \\\n",
       "0                                   -498.912140   \n",
       "1                                   -500.904965   \n",
       "2                                   -499.997791   \n",
       "3                                   -500.951778   \n",
       "4                                   -498.975456   \n",
       "...                                         ...   \n",
       "14144                               -400.382169   \n",
       "14145                               -399.930973   \n",
       "14146                               -399.888631   \n",
       "14147                               -398.977083   \n",
       "14148                               -399.862053   \n",
       "\n",
       "       primary_cleaner.state.floatbank8_b_air  \\\n",
       "0                                 1551.434204   \n",
       "1                                 1575.950626   \n",
       "2                                 1600.386685   \n",
       "3                                 1600.659236   \n",
       "4                                 1601.437854   \n",
       "...                                       ...   \n",
       "14144                             1648.742005   \n",
       "14145                             1649.357538   \n",
       "14146                             1649.196904   \n",
       "14147                             1648.212240   \n",
       "14148                             1650.135395   \n",
       "\n",
       "       primary_cleaner.state.floatbank8_b_level  \\\n",
       "0                                   -516.403442   \n",
       "1                                   -499.865889   \n",
       "2                                   -500.607762   \n",
       "3                                   -499.677094   \n",
       "4                                   -500.323246   \n",
       "...                                         ...   \n",
       "14144                               -400.359661   \n",
       "14145                               -399.721222   \n",
       "14146                               -399.677571   \n",
       "14147                               -400.383265   \n",
       "14148                               -399.957321   \n",
       "\n",
       "       primary_cleaner.state.floatbank8_c_air  ...  \\\n",
       "0                                 1549.873901  ...   \n",
       "1                                 1575.994189  ...   \n",
       "2                                 1602.003542  ...   \n",
       "3                                 1600.304144  ...   \n",
       "4                                 1599.581894  ...   \n",
       "...                                       ...  ...   \n",
       "14144                             1648.578230  ...   \n",
       "14145                             1648.656192  ...   \n",
       "14146                             1647.896999  ...   \n",
       "14147                             1648.917387  ...   \n",
       "14148                             1648.831890  ...   \n",
       "\n",
       "       secondary_cleaner.state.floatbank4_b_air  \\\n",
       "0                                     12.099931   \n",
       "1                                     11.950531   \n",
       "2                                     11.912783   \n",
       "3                                     11.999550   \n",
       "4                                     11.953070   \n",
       "...                                         ...   \n",
       "14144                                 20.007571   \n",
       "14145                                 20.035660   \n",
       "14146                                 19.951231   \n",
       "14147                                 20.054122   \n",
       "14148                                 20.020205   \n",
       "\n",
       "       secondary_cleaner.state.floatbank4_b_level  \\\n",
       "0                                     -504.715942   \n",
       "1                                     -501.331529   \n",
       "2                                     -501.133383   \n",
       "3                                     -501.193686   \n",
       "4                                     -501.053894   \n",
       "...                                           ...   \n",
       "14144                                 -499.740028   \n",
       "14145                                 -500.251357   \n",
       "14146                                 -499.857027   \n",
       "14147                                 -500.314711   \n",
       "14148                                 -500.220296   \n",
       "\n",
       "       secondary_cleaner.state.floatbank5_a_air  \\\n",
       "0                                      9.925633   \n",
       "1                                     10.039245   \n",
       "2                                     10.070913   \n",
       "3                                      9.970366   \n",
       "4                                      9.925709   \n",
       "...                                         ...   \n",
       "14144                                 18.006038   \n",
       "14145                                 17.998535   \n",
       "14146                                 18.019543   \n",
       "14147                                 17.979515   \n",
       "14148                                 17.963512   \n",
       "\n",
       "       secondary_cleaner.state.floatbank5_a_level  \\\n",
       "0                                     -498.310211   \n",
       "1                                     -500.169983   \n",
       "2                                     -500.129135   \n",
       "3                                     -499.201640   \n",
       "4                                     -501.686727   \n",
       "...                                           ...   \n",
       "14144                                 -499.834374   \n",
       "14145                                 -500.395178   \n",
       "14146                                 -500.451156   \n",
       "14147                                 -499.272871   \n",
       "14148                                 -499.939490   \n",
       "\n",
       "       secondary_cleaner.state.floatbank5_b_air  \\\n",
       "0                                      8.079666   \n",
       "1                                      7.984757   \n",
       "2                                      8.013877   \n",
       "3                                      7.977324   \n",
       "4                                      7.894242   \n",
       "...                                         ...   \n",
       "14144                                 13.001114   \n",
       "14145                                 12.954048   \n",
       "14146                                 13.023431   \n",
       "14147                                 12.992404   \n",
       "14148                                 12.990306   \n",
       "\n",
       "       secondary_cleaner.state.floatbank5_b_level  \\\n",
       "0                                     -500.470978   \n",
       "1                                     -500.582168   \n",
       "2                                     -500.517572   \n",
       "3                                     -500.255908   \n",
       "4                                     -500.356035   \n",
       "...                                           ...   \n",
       "14144                                 -500.155694   \n",
       "14145                                 -499.895163   \n",
       "14146                                 -499.914391   \n",
       "14147                                 -499.976268   \n",
       "14148                                 -500.080993   \n",
       "\n",
       "       secondary_cleaner.state.floatbank6_a_air  \\\n",
       "0                                     14.151341   \n",
       "1                                     13.998353   \n",
       "2                                     14.028663   \n",
       "3                                     14.005551   \n",
       "4                                     13.996647   \n",
       "...                                         ...   \n",
       "14144                                 20.007840   \n",
       "14145                                 19.968498   \n",
       "14146                                 19.990885   \n",
       "14147                                 20.013986   \n",
       "14148                                 19.990336   \n",
       "\n",
       "       secondary_cleaner.state.floatbank6_a_level  final.output.recovery  \\\n",
       "0                                     -605.841980              70.541216   \n",
       "1                                     -599.787184              69.266198   \n",
       "2                                     -601.427363              68.116445   \n",
       "3                                     -599.996129              68.347543   \n",
       "4                                     -601.496691              66.927016   \n",
       "...                                           ...                    ...   \n",
       "14144                                 -501.296428              73.755150   \n",
       "14145                                 -501.041608              69.049291   \n",
       "14146                                 -501.518452              67.002189   \n",
       "14147                                 -500.625471              65.523246   \n",
       "14148                                 -499.191575              70.281454   \n",
       "\n",
       "       rougher.output.recovery  \n",
       "0                    87.107763  \n",
       "1                    86.843261  \n",
       "2                    86.842308  \n",
       "3                    87.226430  \n",
       "4                    86.688794  \n",
       "...                        ...  \n",
       "14144                89.574376  \n",
       "14145                87.724007  \n",
       "14146                88.890579  \n",
       "14147                89.858126  \n",
       "14148                89.514960  \n",
       "\n",
       "[14149 rows x 55 columns]"
      ]
     },
     "execution_count": 69,
     "metadata": {},
     "output_type": "execute_result"
    }
   ],
   "source": [
    "data_train.drop(columns_not_in_test, inplace = True, axis=1)\n",
    "data_train = data_train.merge(data_full[['date', 'final.output.recovery', 'rougher.output.recovery']])\n",
    "data_train"
   ]
  },
  {
   "attachments": {},
   "cell_type": "markdown",
   "metadata": {},
   "source": [
    "We'll also add targets to the test set from the full dataset."
   ]
  },
  {
   "cell_type": "code",
   "execution_count": 70,
   "metadata": {},
   "outputs": [
    {
     "data": {
      "text/html": [
       "<div>\n",
       "<style scoped>\n",
       "    .dataframe tbody tr th:only-of-type {\n",
       "        vertical-align: middle;\n",
       "    }\n",
       "\n",
       "    .dataframe tbody tr th {\n",
       "        vertical-align: top;\n",
       "    }\n",
       "\n",
       "    .dataframe thead th {\n",
       "        text-align: right;\n",
       "    }\n",
       "</style>\n",
       "<table border=\"1\" class=\"dataframe\">\n",
       "  <thead>\n",
       "    <tr style=\"text-align: right;\">\n",
       "      <th></th>\n",
       "      <th>date</th>\n",
       "      <th>primary_cleaner.input.sulfate</th>\n",
       "      <th>primary_cleaner.input.depressant</th>\n",
       "      <th>primary_cleaner.input.feed_size</th>\n",
       "      <th>primary_cleaner.input.xanthate</th>\n",
       "      <th>primary_cleaner.state.floatbank8_a_air</th>\n",
       "      <th>primary_cleaner.state.floatbank8_a_level</th>\n",
       "      <th>primary_cleaner.state.floatbank8_b_air</th>\n",
       "      <th>primary_cleaner.state.floatbank8_b_level</th>\n",
       "      <th>primary_cleaner.state.floatbank8_c_air</th>\n",
       "      <th>...</th>\n",
       "      <th>secondary_cleaner.state.floatbank4_b_air</th>\n",
       "      <th>secondary_cleaner.state.floatbank4_b_level</th>\n",
       "      <th>secondary_cleaner.state.floatbank5_a_air</th>\n",
       "      <th>secondary_cleaner.state.floatbank5_a_level</th>\n",
       "      <th>secondary_cleaner.state.floatbank5_b_air</th>\n",
       "      <th>secondary_cleaner.state.floatbank5_b_level</th>\n",
       "      <th>secondary_cleaner.state.floatbank6_a_air</th>\n",
       "      <th>secondary_cleaner.state.floatbank6_a_level</th>\n",
       "      <th>final.output.recovery</th>\n",
       "      <th>rougher.output.recovery</th>\n",
       "    </tr>\n",
       "  </thead>\n",
       "  <tbody>\n",
       "    <tr>\n",
       "      <th>0</th>\n",
       "      <td>2016-09-01 00:59:59</td>\n",
       "      <td>210.800909</td>\n",
       "      <td>14.993118</td>\n",
       "      <td>8.080000</td>\n",
       "      <td>1.005021</td>\n",
       "      <td>1398.981301</td>\n",
       "      <td>-500.225577</td>\n",
       "      <td>1399.144926</td>\n",
       "      <td>-499.919735</td>\n",
       "      <td>1400.102998</td>\n",
       "      <td>...</td>\n",
       "      <td>8.016656</td>\n",
       "      <td>-501.289139</td>\n",
       "      <td>7.946562</td>\n",
       "      <td>-432.317850</td>\n",
       "      <td>4.872511</td>\n",
       "      <td>-500.037437</td>\n",
       "      <td>26.705889</td>\n",
       "      <td>-499.709414</td>\n",
       "      <td>70.273583</td>\n",
       "      <td>89.993421</td>\n",
       "    </tr>\n",
       "    <tr>\n",
       "      <th>1</th>\n",
       "      <td>2016-09-01 01:59:59</td>\n",
       "      <td>215.392455</td>\n",
       "      <td>14.987471</td>\n",
       "      <td>8.080000</td>\n",
       "      <td>0.990469</td>\n",
       "      <td>1398.777912</td>\n",
       "      <td>-500.057435</td>\n",
       "      <td>1398.055362</td>\n",
       "      <td>-499.778182</td>\n",
       "      <td>1396.151033</td>\n",
       "      <td>...</td>\n",
       "      <td>8.130979</td>\n",
       "      <td>-499.634209</td>\n",
       "      <td>7.958270</td>\n",
       "      <td>-525.839648</td>\n",
       "      <td>4.878850</td>\n",
       "      <td>-500.162375</td>\n",
       "      <td>25.019940</td>\n",
       "      <td>-499.819438</td>\n",
       "      <td>68.910432</td>\n",
       "      <td>88.089657</td>\n",
       "    </tr>\n",
       "    <tr>\n",
       "      <th>2</th>\n",
       "      <td>2016-09-01 02:59:59</td>\n",
       "      <td>215.259946</td>\n",
       "      <td>12.884934</td>\n",
       "      <td>7.786667</td>\n",
       "      <td>0.996043</td>\n",
       "      <td>1398.493666</td>\n",
       "      <td>-500.868360</td>\n",
       "      <td>1398.860436</td>\n",
       "      <td>-499.764529</td>\n",
       "      <td>1398.075709</td>\n",
       "      <td>...</td>\n",
       "      <td>8.096893</td>\n",
       "      <td>-500.827423</td>\n",
       "      <td>8.071056</td>\n",
       "      <td>-500.801673</td>\n",
       "      <td>4.905125</td>\n",
       "      <td>-499.828510</td>\n",
       "      <td>24.994862</td>\n",
       "      <td>-500.622559</td>\n",
       "      <td>68.143213</td>\n",
       "      <td>88.412756</td>\n",
       "    </tr>\n",
       "    <tr>\n",
       "      <th>3</th>\n",
       "      <td>2016-09-01 03:59:59</td>\n",
       "      <td>215.336236</td>\n",
       "      <td>12.006805</td>\n",
       "      <td>7.640000</td>\n",
       "      <td>0.863514</td>\n",
       "      <td>1399.618111</td>\n",
       "      <td>-498.863574</td>\n",
       "      <td>1397.440120</td>\n",
       "      <td>-499.211024</td>\n",
       "      <td>1400.129303</td>\n",
       "      <td>...</td>\n",
       "      <td>8.074946</td>\n",
       "      <td>-499.474407</td>\n",
       "      <td>7.897085</td>\n",
       "      <td>-500.868509</td>\n",
       "      <td>4.931400</td>\n",
       "      <td>-499.963623</td>\n",
       "      <td>24.948919</td>\n",
       "      <td>-498.709987</td>\n",
       "      <td>67.776393</td>\n",
       "      <td>87.360133</td>\n",
       "    </tr>\n",
       "    <tr>\n",
       "      <th>4</th>\n",
       "      <td>2016-09-01 04:59:59</td>\n",
       "      <td>199.099327</td>\n",
       "      <td>10.682530</td>\n",
       "      <td>7.530000</td>\n",
       "      <td>0.805575</td>\n",
       "      <td>1401.268123</td>\n",
       "      <td>-500.808305</td>\n",
       "      <td>1398.128818</td>\n",
       "      <td>-499.504543</td>\n",
       "      <td>1402.172226</td>\n",
       "      <td>...</td>\n",
       "      <td>8.054678</td>\n",
       "      <td>-500.397500</td>\n",
       "      <td>8.107890</td>\n",
       "      <td>-509.526725</td>\n",
       "      <td>4.957674</td>\n",
       "      <td>-500.360026</td>\n",
       "      <td>25.003331</td>\n",
       "      <td>-500.856333</td>\n",
       "      <td>61.467078</td>\n",
       "      <td>83.236367</td>\n",
       "    </tr>\n",
       "    <tr>\n",
       "      <th>...</th>\n",
       "      <td>...</td>\n",
       "      <td>...</td>\n",
       "      <td>...</td>\n",
       "      <td>...</td>\n",
       "      <td>...</td>\n",
       "      <td>...</td>\n",
       "      <td>...</td>\n",
       "      <td>...</td>\n",
       "      <td>...</td>\n",
       "      <td>...</td>\n",
       "      <td>...</td>\n",
       "      <td>...</td>\n",
       "      <td>...</td>\n",
       "      <td>...</td>\n",
       "      <td>...</td>\n",
       "      <td>...</td>\n",
       "      <td>...</td>\n",
       "      <td>...</td>\n",
       "      <td>...</td>\n",
       "      <td>...</td>\n",
       "      <td>...</td>\n",
       "    </tr>\n",
       "    <tr>\n",
       "      <th>5285</th>\n",
       "      <td>2017-12-31 19:59:59</td>\n",
       "      <td>173.957757</td>\n",
       "      <td>15.963399</td>\n",
       "      <td>8.070000</td>\n",
       "      <td>0.896701</td>\n",
       "      <td>1401.930554</td>\n",
       "      <td>-499.728848</td>\n",
       "      <td>1401.441445</td>\n",
       "      <td>-499.193423</td>\n",
       "      <td>1399.810313</td>\n",
       "      <td>...</td>\n",
       "      <td>12.069155</td>\n",
       "      <td>-499.673279</td>\n",
       "      <td>7.977259</td>\n",
       "      <td>-499.516126</td>\n",
       "      <td>5.933319</td>\n",
       "      <td>-499.965973</td>\n",
       "      <td>8.987171</td>\n",
       "      <td>-499.755909</td>\n",
       "      <td>68.919891</td>\n",
       "      <td>95.172585</td>\n",
       "    </tr>\n",
       "    <tr>\n",
       "      <th>5286</th>\n",
       "      <td>2017-12-31 20:59:59</td>\n",
       "      <td>172.910270</td>\n",
       "      <td>16.002605</td>\n",
       "      <td>8.070000</td>\n",
       "      <td>0.896519</td>\n",
       "      <td>1447.075722</td>\n",
       "      <td>-494.716823</td>\n",
       "      <td>1448.851892</td>\n",
       "      <td>-465.963026</td>\n",
       "      <td>1443.890424</td>\n",
       "      <td>...</td>\n",
       "      <td>13.365371</td>\n",
       "      <td>-499.122723</td>\n",
       "      <td>9.288553</td>\n",
       "      <td>-496.892967</td>\n",
       "      <td>7.372897</td>\n",
       "      <td>-499.942956</td>\n",
       "      <td>8.986832</td>\n",
       "      <td>-499.903761</td>\n",
       "      <td>68.440582</td>\n",
       "      <td>94.575036</td>\n",
       "    </tr>\n",
       "    <tr>\n",
       "      <th>5287</th>\n",
       "      <td>2017-12-31 21:59:59</td>\n",
       "      <td>171.135718</td>\n",
       "      <td>15.993669</td>\n",
       "      <td>8.070000</td>\n",
       "      <td>1.165996</td>\n",
       "      <td>1498.836182</td>\n",
       "      <td>-501.770403</td>\n",
       "      <td>1499.572353</td>\n",
       "      <td>-495.516347</td>\n",
       "      <td>1502.749213</td>\n",
       "      <td>...</td>\n",
       "      <td>15.101425</td>\n",
       "      <td>-499.936252</td>\n",
       "      <td>10.989181</td>\n",
       "      <td>-498.347898</td>\n",
       "      <td>9.020944</td>\n",
       "      <td>-500.040448</td>\n",
       "      <td>8.982038</td>\n",
       "      <td>-497.789882</td>\n",
       "      <td>67.092759</td>\n",
       "      <td>93.018138</td>\n",
       "    </tr>\n",
       "    <tr>\n",
       "      <th>5288</th>\n",
       "      <td>2017-12-31 22:59:59</td>\n",
       "      <td>179.697158</td>\n",
       "      <td>15.438979</td>\n",
       "      <td>8.070000</td>\n",
       "      <td>1.501068</td>\n",
       "      <td>1498.466243</td>\n",
       "      <td>-500.483984</td>\n",
       "      <td>1497.986986</td>\n",
       "      <td>-519.200340</td>\n",
       "      <td>1496.569047</td>\n",
       "      <td>...</td>\n",
       "      <td>15.026853</td>\n",
       "      <td>-499.723143</td>\n",
       "      <td>11.011607</td>\n",
       "      <td>-499.985046</td>\n",
       "      <td>9.009783</td>\n",
       "      <td>-499.937902</td>\n",
       "      <td>9.012660</td>\n",
       "      <td>-500.154284</td>\n",
       "      <td>68.061186</td>\n",
       "      <td>92.599042</td>\n",
       "    </tr>\n",
       "    <tr>\n",
       "      <th>5289</th>\n",
       "      <td>2017-12-31 23:59:59</td>\n",
       "      <td>181.556856</td>\n",
       "      <td>14.995850</td>\n",
       "      <td>8.070000</td>\n",
       "      <td>1.623454</td>\n",
       "      <td>1498.096303</td>\n",
       "      <td>-499.796922</td>\n",
       "      <td>1501.743791</td>\n",
       "      <td>-505.146931</td>\n",
       "      <td>1499.535978</td>\n",
       "      <td>...</td>\n",
       "      <td>14.914199</td>\n",
       "      <td>-499.948518</td>\n",
       "      <td>10.986607</td>\n",
       "      <td>-500.658027</td>\n",
       "      <td>8.989497</td>\n",
       "      <td>-500.337588</td>\n",
       "      <td>8.988632</td>\n",
       "      <td>-500.764937</td>\n",
       "      <td>71.699976</td>\n",
       "      <td>91.177695</td>\n",
       "    </tr>\n",
       "  </tbody>\n",
       "</table>\n",
       "<p>5290 rows × 55 columns</p>\n",
       "</div>"
      ],
      "text/plain": [
       "                     date  primary_cleaner.input.sulfate  \\\n",
       "0     2016-09-01 00:59:59                     210.800909   \n",
       "1     2016-09-01 01:59:59                     215.392455   \n",
       "2     2016-09-01 02:59:59                     215.259946   \n",
       "3     2016-09-01 03:59:59                     215.336236   \n",
       "4     2016-09-01 04:59:59                     199.099327   \n",
       "...                   ...                            ...   \n",
       "5285  2017-12-31 19:59:59                     173.957757   \n",
       "5286  2017-12-31 20:59:59                     172.910270   \n",
       "5287  2017-12-31 21:59:59                     171.135718   \n",
       "5288  2017-12-31 22:59:59                     179.697158   \n",
       "5289  2017-12-31 23:59:59                     181.556856   \n",
       "\n",
       "      primary_cleaner.input.depressant  primary_cleaner.input.feed_size  \\\n",
       "0                            14.993118                         8.080000   \n",
       "1                            14.987471                         8.080000   \n",
       "2                            12.884934                         7.786667   \n",
       "3                            12.006805                         7.640000   \n",
       "4                            10.682530                         7.530000   \n",
       "...                                ...                              ...   \n",
       "5285                         15.963399                         8.070000   \n",
       "5286                         16.002605                         8.070000   \n",
       "5287                         15.993669                         8.070000   \n",
       "5288                         15.438979                         8.070000   \n",
       "5289                         14.995850                         8.070000   \n",
       "\n",
       "      primary_cleaner.input.xanthate  primary_cleaner.state.floatbank8_a_air  \\\n",
       "0                           1.005021                             1398.981301   \n",
       "1                           0.990469                             1398.777912   \n",
       "2                           0.996043                             1398.493666   \n",
       "3                           0.863514                             1399.618111   \n",
       "4                           0.805575                             1401.268123   \n",
       "...                              ...                                     ...   \n",
       "5285                        0.896701                             1401.930554   \n",
       "5286                        0.896519                             1447.075722   \n",
       "5287                        1.165996                             1498.836182   \n",
       "5288                        1.501068                             1498.466243   \n",
       "5289                        1.623454                             1498.096303   \n",
       "\n",
       "      primary_cleaner.state.floatbank8_a_level  \\\n",
       "0                                  -500.225577   \n",
       "1                                  -500.057435   \n",
       "2                                  -500.868360   \n",
       "3                                  -498.863574   \n",
       "4                                  -500.808305   \n",
       "...                                        ...   \n",
       "5285                               -499.728848   \n",
       "5286                               -494.716823   \n",
       "5287                               -501.770403   \n",
       "5288                               -500.483984   \n",
       "5289                               -499.796922   \n",
       "\n",
       "      primary_cleaner.state.floatbank8_b_air  \\\n",
       "0                                1399.144926   \n",
       "1                                1398.055362   \n",
       "2                                1398.860436   \n",
       "3                                1397.440120   \n",
       "4                                1398.128818   \n",
       "...                                      ...   \n",
       "5285                             1401.441445   \n",
       "5286                             1448.851892   \n",
       "5287                             1499.572353   \n",
       "5288                             1497.986986   \n",
       "5289                             1501.743791   \n",
       "\n",
       "      primary_cleaner.state.floatbank8_b_level  \\\n",
       "0                                  -499.919735   \n",
       "1                                  -499.778182   \n",
       "2                                  -499.764529   \n",
       "3                                  -499.211024   \n",
       "4                                  -499.504543   \n",
       "...                                        ...   \n",
       "5285                               -499.193423   \n",
       "5286                               -465.963026   \n",
       "5287                               -495.516347   \n",
       "5288                               -519.200340   \n",
       "5289                               -505.146931   \n",
       "\n",
       "      primary_cleaner.state.floatbank8_c_air  ...  \\\n",
       "0                                1400.102998  ...   \n",
       "1                                1396.151033  ...   \n",
       "2                                1398.075709  ...   \n",
       "3                                1400.129303  ...   \n",
       "4                                1402.172226  ...   \n",
       "...                                      ...  ...   \n",
       "5285                             1399.810313  ...   \n",
       "5286                             1443.890424  ...   \n",
       "5287                             1502.749213  ...   \n",
       "5288                             1496.569047  ...   \n",
       "5289                             1499.535978  ...   \n",
       "\n",
       "      secondary_cleaner.state.floatbank4_b_air  \\\n",
       "0                                     8.016656   \n",
       "1                                     8.130979   \n",
       "2                                     8.096893   \n",
       "3                                     8.074946   \n",
       "4                                     8.054678   \n",
       "...                                        ...   \n",
       "5285                                 12.069155   \n",
       "5286                                 13.365371   \n",
       "5287                                 15.101425   \n",
       "5288                                 15.026853   \n",
       "5289                                 14.914199   \n",
       "\n",
       "      secondary_cleaner.state.floatbank4_b_level  \\\n",
       "0                                    -501.289139   \n",
       "1                                    -499.634209   \n",
       "2                                    -500.827423   \n",
       "3                                    -499.474407   \n",
       "4                                    -500.397500   \n",
       "...                                          ...   \n",
       "5285                                 -499.673279   \n",
       "5286                                 -499.122723   \n",
       "5287                                 -499.936252   \n",
       "5288                                 -499.723143   \n",
       "5289                                 -499.948518   \n",
       "\n",
       "      secondary_cleaner.state.floatbank5_a_air  \\\n",
       "0                                     7.946562   \n",
       "1                                     7.958270   \n",
       "2                                     8.071056   \n",
       "3                                     7.897085   \n",
       "4                                     8.107890   \n",
       "...                                        ...   \n",
       "5285                                  7.977259   \n",
       "5286                                  9.288553   \n",
       "5287                                 10.989181   \n",
       "5288                                 11.011607   \n",
       "5289                                 10.986607   \n",
       "\n",
       "      secondary_cleaner.state.floatbank5_a_level  \\\n",
       "0                                    -432.317850   \n",
       "1                                    -525.839648   \n",
       "2                                    -500.801673   \n",
       "3                                    -500.868509   \n",
       "4                                    -509.526725   \n",
       "...                                          ...   \n",
       "5285                                 -499.516126   \n",
       "5286                                 -496.892967   \n",
       "5287                                 -498.347898   \n",
       "5288                                 -499.985046   \n",
       "5289                                 -500.658027   \n",
       "\n",
       "      secondary_cleaner.state.floatbank5_b_air  \\\n",
       "0                                     4.872511   \n",
       "1                                     4.878850   \n",
       "2                                     4.905125   \n",
       "3                                     4.931400   \n",
       "4                                     4.957674   \n",
       "...                                        ...   \n",
       "5285                                  5.933319   \n",
       "5286                                  7.372897   \n",
       "5287                                  9.020944   \n",
       "5288                                  9.009783   \n",
       "5289                                  8.989497   \n",
       "\n",
       "      secondary_cleaner.state.floatbank5_b_level  \\\n",
       "0                                    -500.037437   \n",
       "1                                    -500.162375   \n",
       "2                                    -499.828510   \n",
       "3                                    -499.963623   \n",
       "4                                    -500.360026   \n",
       "...                                          ...   \n",
       "5285                                 -499.965973   \n",
       "5286                                 -499.942956   \n",
       "5287                                 -500.040448   \n",
       "5288                                 -499.937902   \n",
       "5289                                 -500.337588   \n",
       "\n",
       "      secondary_cleaner.state.floatbank6_a_air  \\\n",
       "0                                    26.705889   \n",
       "1                                    25.019940   \n",
       "2                                    24.994862   \n",
       "3                                    24.948919   \n",
       "4                                    25.003331   \n",
       "...                                        ...   \n",
       "5285                                  8.987171   \n",
       "5286                                  8.986832   \n",
       "5287                                  8.982038   \n",
       "5288                                  9.012660   \n",
       "5289                                  8.988632   \n",
       "\n",
       "      secondary_cleaner.state.floatbank6_a_level  final.output.recovery  \\\n",
       "0                                    -499.709414              70.273583   \n",
       "1                                    -499.819438              68.910432   \n",
       "2                                    -500.622559              68.143213   \n",
       "3                                    -498.709987              67.776393   \n",
       "4                                    -500.856333              61.467078   \n",
       "...                                          ...                    ...   \n",
       "5285                                 -499.755909              68.919891   \n",
       "5286                                 -499.903761              68.440582   \n",
       "5287                                 -497.789882              67.092759   \n",
       "5288                                 -500.154284              68.061186   \n",
       "5289                                 -500.764937              71.699976   \n",
       "\n",
       "      rougher.output.recovery  \n",
       "0                   89.993421  \n",
       "1                   88.089657  \n",
       "2                   88.412756  \n",
       "3                   87.360133  \n",
       "4                   83.236367  \n",
       "...                       ...  \n",
       "5285                95.172585  \n",
       "5286                94.575036  \n",
       "5287                93.018138  \n",
       "5288                92.599042  \n",
       "5289                91.177695  \n",
       "\n",
       "[5290 rows x 55 columns]"
      ]
     },
     "execution_count": 70,
     "metadata": {},
     "output_type": "execute_result"
    }
   ],
   "source": [
    "data_test = data_test.merge(data_full[['date', 'final.output.recovery', 'rougher.output.recovery']], on = 'date', how = 'left')\n",
    "data_test"
   ]
  },
  {
   "attachments": {},
   "cell_type": "markdown",
   "metadata": {},
   "source": [
    "The columns in both datasets will be sorted in alphabetical order in case they are mixed up."
   ]
  },
  {
   "cell_type": "code",
   "execution_count": 71,
   "metadata": {},
   "outputs": [],
   "source": [
    "data_test.sort_index(axis=1, inplace = True)\n",
    "data_train.sort_index(axis=1, inplace = True)"
   ]
  },
  {
   "attachments": {},
   "cell_type": "markdown",
   "metadata": {},
   "source": [
    "The date information is not needed in the test and training datasets. Let's remove it."
   ]
  },
  {
   "cell_type": "code",
   "execution_count": 72,
   "metadata": {},
   "outputs": [],
   "source": [
    "data_train.drop(['date'], inplace = True, axis=1)\n",
    "data_test.drop(['date'], inplace = True, axis=1)"
   ]
  },
  {
   "attachments": {},
   "cell_type": "markdown",
   "metadata": {},
   "source": [
    "In the data, there are missing values. Let's replace them with the median."
   ]
  },
  {
   "cell_type": "code",
   "execution_count": 73,
   "metadata": {},
   "outputs": [
    {
     "name": "stdout",
     "output_type": "stream",
     "text": [
      "<class 'pandas.core.frame.DataFrame'>\n",
      "Int64Index: 14149 entries, 0 to 14148\n",
      "Data columns (total 54 columns):\n",
      " #   Column                                      Non-Null Count  Dtype  \n",
      "---  ------                                      --------------  -----  \n",
      " 0   final.output.recovery                       14149 non-null  float64\n",
      " 1   primary_cleaner.input.depressant            14149 non-null  float64\n",
      " 2   primary_cleaner.input.feed_size             14149 non-null  float64\n",
      " 3   primary_cleaner.input.sulfate               14149 non-null  float64\n",
      " 4   primary_cleaner.input.xanthate              14149 non-null  float64\n",
      " 5   primary_cleaner.state.floatbank8_a_air      14149 non-null  float64\n",
      " 6   primary_cleaner.state.floatbank8_a_level    14149 non-null  float64\n",
      " 7   primary_cleaner.state.floatbank8_b_air      14149 non-null  float64\n",
      " 8   primary_cleaner.state.floatbank8_b_level    14149 non-null  float64\n",
      " 9   primary_cleaner.state.floatbank8_c_air      14149 non-null  float64\n",
      " 10  primary_cleaner.state.floatbank8_c_level    14149 non-null  float64\n",
      " 11  primary_cleaner.state.floatbank8_d_air      14149 non-null  float64\n",
      " 12  primary_cleaner.state.floatbank8_d_level    14149 non-null  float64\n",
      " 13  rougher.input.feed_ag                       14149 non-null  float64\n",
      " 14  rougher.input.feed_au                       14149 non-null  float64\n",
      " 15  rougher.input.feed_pb                       14149 non-null  float64\n",
      " 16  rougher.input.feed_rate                     14149 non-null  float64\n",
      " 17  rougher.input.feed_size                     14149 non-null  float64\n",
      " 18  rougher.input.feed_sol                      14149 non-null  float64\n",
      " 19  rougher.input.floatbank10_sulfate           14149 non-null  float64\n",
      " 20  rougher.input.floatbank10_xanthate          14149 non-null  float64\n",
      " 21  rougher.input.floatbank11_sulfate           14149 non-null  float64\n",
      " 22  rougher.input.floatbank11_xanthate          14149 non-null  float64\n",
      " 23  rougher.output.recovery                     14149 non-null  float64\n",
      " 24  rougher.state.floatbank10_a_air             14149 non-null  float64\n",
      " 25  rougher.state.floatbank10_a_level           14149 non-null  float64\n",
      " 26  rougher.state.floatbank10_b_air             14149 non-null  float64\n",
      " 27  rougher.state.floatbank10_b_level           14149 non-null  float64\n",
      " 28  rougher.state.floatbank10_c_air             14149 non-null  float64\n",
      " 29  rougher.state.floatbank10_c_level           14149 non-null  float64\n",
      " 30  rougher.state.floatbank10_d_air             14149 non-null  float64\n",
      " 31  rougher.state.floatbank10_d_level           14149 non-null  float64\n",
      " 32  rougher.state.floatbank10_e_air             14149 non-null  float64\n",
      " 33  rougher.state.floatbank10_e_level           14149 non-null  float64\n",
      " 34  rougher.state.floatbank10_f_air             14149 non-null  float64\n",
      " 35  rougher.state.floatbank10_f_level           14149 non-null  float64\n",
      " 36  secondary_cleaner.state.floatbank2_a_air    14149 non-null  float64\n",
      " 37  secondary_cleaner.state.floatbank2_a_level  14149 non-null  float64\n",
      " 38  secondary_cleaner.state.floatbank2_b_air    14149 non-null  float64\n",
      " 39  secondary_cleaner.state.floatbank2_b_level  14149 non-null  float64\n",
      " 40  secondary_cleaner.state.floatbank3_a_air    14149 non-null  float64\n",
      " 41  secondary_cleaner.state.floatbank3_a_level  14149 non-null  float64\n",
      " 42  secondary_cleaner.state.floatbank3_b_air    14149 non-null  float64\n",
      " 43  secondary_cleaner.state.floatbank3_b_level  14149 non-null  float64\n",
      " 44  secondary_cleaner.state.floatbank4_a_air    14149 non-null  float64\n",
      " 45  secondary_cleaner.state.floatbank4_a_level  14149 non-null  float64\n",
      " 46  secondary_cleaner.state.floatbank4_b_air    14149 non-null  float64\n",
      " 47  secondary_cleaner.state.floatbank4_b_level  14149 non-null  float64\n",
      " 48  secondary_cleaner.state.floatbank5_a_air    14149 non-null  float64\n",
      " 49  secondary_cleaner.state.floatbank5_a_level  14149 non-null  float64\n",
      " 50  secondary_cleaner.state.floatbank5_b_air    14149 non-null  float64\n",
      " 51  secondary_cleaner.state.floatbank5_b_level  14149 non-null  float64\n",
      " 52  secondary_cleaner.state.floatbank6_a_air    14149 non-null  float64\n",
      " 53  secondary_cleaner.state.floatbank6_a_level  14149 non-null  float64\n",
      "dtypes: float64(54)\n",
      "memory usage: 5.9 MB\n"
     ]
    }
   ],
   "source": [
    "data_train.fillna(data_train.median(), inplace=True)\n",
    "data_train.info()"
   ]
  },
  {
   "cell_type": "code",
   "execution_count": 74,
   "metadata": {},
   "outputs": [
    {
     "name": "stdout",
     "output_type": "stream",
     "text": [
      "<class 'pandas.core.frame.DataFrame'>\n",
      "Int64Index: 5290 entries, 0 to 5289\n",
      "Data columns (total 54 columns):\n",
      " #   Column                                      Non-Null Count  Dtype  \n",
      "---  ------                                      --------------  -----  \n",
      " 0   final.output.recovery                       5290 non-null   float64\n",
      " 1   primary_cleaner.input.depressant            5290 non-null   float64\n",
      " 2   primary_cleaner.input.feed_size             5290 non-null   float64\n",
      " 3   primary_cleaner.input.sulfate               5290 non-null   float64\n",
      " 4   primary_cleaner.input.xanthate              5290 non-null   float64\n",
      " 5   primary_cleaner.state.floatbank8_a_air      5290 non-null   float64\n",
      " 6   primary_cleaner.state.floatbank8_a_level    5290 non-null   float64\n",
      " 7   primary_cleaner.state.floatbank8_b_air      5290 non-null   float64\n",
      " 8   primary_cleaner.state.floatbank8_b_level    5290 non-null   float64\n",
      " 9   primary_cleaner.state.floatbank8_c_air      5290 non-null   float64\n",
      " 10  primary_cleaner.state.floatbank8_c_level    5290 non-null   float64\n",
      " 11  primary_cleaner.state.floatbank8_d_air      5290 non-null   float64\n",
      " 12  primary_cleaner.state.floatbank8_d_level    5290 non-null   float64\n",
      " 13  rougher.input.feed_ag                       5290 non-null   float64\n",
      " 14  rougher.input.feed_au                       5290 non-null   float64\n",
      " 15  rougher.input.feed_pb                       5290 non-null   float64\n",
      " 16  rougher.input.feed_rate                     5290 non-null   float64\n",
      " 17  rougher.input.feed_size                     5290 non-null   float64\n",
      " 18  rougher.input.feed_sol                      5290 non-null   float64\n",
      " 19  rougher.input.floatbank10_sulfate           5290 non-null   float64\n",
      " 20  rougher.input.floatbank10_xanthate          5290 non-null   float64\n",
      " 21  rougher.input.floatbank11_sulfate           5290 non-null   float64\n",
      " 22  rougher.input.floatbank11_xanthate          5290 non-null   float64\n",
      " 23  rougher.output.recovery                     5290 non-null   float64\n",
      " 24  rougher.state.floatbank10_a_air             5290 non-null   float64\n",
      " 25  rougher.state.floatbank10_a_level           5290 non-null   float64\n",
      " 26  rougher.state.floatbank10_b_air             5290 non-null   float64\n",
      " 27  rougher.state.floatbank10_b_level           5290 non-null   float64\n",
      " 28  rougher.state.floatbank10_c_air             5290 non-null   float64\n",
      " 29  rougher.state.floatbank10_c_level           5290 non-null   float64\n",
      " 30  rougher.state.floatbank10_d_air             5290 non-null   float64\n",
      " 31  rougher.state.floatbank10_d_level           5290 non-null   float64\n",
      " 32  rougher.state.floatbank10_e_air             5290 non-null   float64\n",
      " 33  rougher.state.floatbank10_e_level           5290 non-null   float64\n",
      " 34  rougher.state.floatbank10_f_air             5290 non-null   float64\n",
      " 35  rougher.state.floatbank10_f_level           5290 non-null   float64\n",
      " 36  secondary_cleaner.state.floatbank2_a_air    5290 non-null   float64\n",
      " 37  secondary_cleaner.state.floatbank2_a_level  5290 non-null   float64\n",
      " 38  secondary_cleaner.state.floatbank2_b_air    5290 non-null   float64\n",
      " 39  secondary_cleaner.state.floatbank2_b_level  5290 non-null   float64\n",
      " 40  secondary_cleaner.state.floatbank3_a_air    5290 non-null   float64\n",
      " 41  secondary_cleaner.state.floatbank3_a_level  5290 non-null   float64\n",
      " 42  secondary_cleaner.state.floatbank3_b_air    5290 non-null   float64\n",
      " 43  secondary_cleaner.state.floatbank3_b_level  5290 non-null   float64\n",
      " 44  secondary_cleaner.state.floatbank4_a_air    5290 non-null   float64\n",
      " 45  secondary_cleaner.state.floatbank4_a_level  5290 non-null   float64\n",
      " 46  secondary_cleaner.state.floatbank4_b_air    5290 non-null   float64\n",
      " 47  secondary_cleaner.state.floatbank4_b_level  5290 non-null   float64\n",
      " 48  secondary_cleaner.state.floatbank5_a_air    5290 non-null   float64\n",
      " 49  secondary_cleaner.state.floatbank5_a_level  5290 non-null   float64\n",
      " 50  secondary_cleaner.state.floatbank5_b_air    5290 non-null   float64\n",
      " 51  secondary_cleaner.state.floatbank5_b_level  5290 non-null   float64\n",
      " 52  secondary_cleaner.state.floatbank6_a_air    5290 non-null   float64\n",
      " 53  secondary_cleaner.state.floatbank6_a_level  5290 non-null   float64\n",
      "dtypes: float64(54)\n",
      "memory usage: 2.2 MB\n"
     ]
    }
   ],
   "source": [
    "data_test.fillna(data_test.median(), inplace=True)\n",
    "data_test.info()"
   ]
  },
  {
   "attachments": {},
   "cell_type": "markdown",
   "metadata": {},
   "source": [
    "Let's check the data for outliers and abnormal values."
   ]
  },
  {
   "cell_type": "code",
   "execution_count": 75,
   "metadata": {},
   "outputs": [
    {
     "data": {
      "text/html": [
       "<div>\n",
       "<style scoped>\n",
       "    .dataframe tbody tr th:only-of-type {\n",
       "        vertical-align: middle;\n",
       "    }\n",
       "\n",
       "    .dataframe tbody tr th {\n",
       "        vertical-align: top;\n",
       "    }\n",
       "\n",
       "    .dataframe thead th {\n",
       "        text-align: right;\n",
       "    }\n",
       "</style>\n",
       "<table border=\"1\" class=\"dataframe\">\n",
       "  <thead>\n",
       "    <tr style=\"text-align: right;\">\n",
       "      <th></th>\n",
       "      <th>final.output.recovery</th>\n",
       "      <th>primary_cleaner.input.depressant</th>\n",
       "      <th>primary_cleaner.input.feed_size</th>\n",
       "      <th>primary_cleaner.input.sulfate</th>\n",
       "      <th>primary_cleaner.input.xanthate</th>\n",
       "      <th>primary_cleaner.state.floatbank8_a_air</th>\n",
       "      <th>primary_cleaner.state.floatbank8_a_level</th>\n",
       "      <th>primary_cleaner.state.floatbank8_b_air</th>\n",
       "      <th>primary_cleaner.state.floatbank8_b_level</th>\n",
       "      <th>primary_cleaner.state.floatbank8_c_air</th>\n",
       "      <th>...</th>\n",
       "      <th>secondary_cleaner.state.floatbank4_a_air</th>\n",
       "      <th>secondary_cleaner.state.floatbank4_a_level</th>\n",
       "      <th>secondary_cleaner.state.floatbank4_b_air</th>\n",
       "      <th>secondary_cleaner.state.floatbank4_b_level</th>\n",
       "      <th>secondary_cleaner.state.floatbank5_a_air</th>\n",
       "      <th>secondary_cleaner.state.floatbank5_a_level</th>\n",
       "      <th>secondary_cleaner.state.floatbank5_b_air</th>\n",
       "      <th>secondary_cleaner.state.floatbank5_b_level</th>\n",
       "      <th>secondary_cleaner.state.floatbank6_a_air</th>\n",
       "      <th>secondary_cleaner.state.floatbank6_a_level</th>\n",
       "    </tr>\n",
       "  </thead>\n",
       "  <tbody>\n",
       "    <tr>\n",
       "      <th>count</th>\n",
       "      <td>14149.000000</td>\n",
       "      <td>14149.000000</td>\n",
       "      <td>14149.000000</td>\n",
       "      <td>14149.000000</td>\n",
       "      <td>14149.000000</td>\n",
       "      <td>14149.000000</td>\n",
       "      <td>14149.000000</td>\n",
       "      <td>14149.000000</td>\n",
       "      <td>14149.000000</td>\n",
       "      <td>14149.000000</td>\n",
       "      <td>...</td>\n",
       "      <td>14149.000000</td>\n",
       "      <td>14149.000000</td>\n",
       "      <td>14149.000000</td>\n",
       "      <td>14149.000000</td>\n",
       "      <td>14149.000000</td>\n",
       "      <td>14149.000000</td>\n",
       "      <td>14149.000000</td>\n",
       "      <td>14149.000000</td>\n",
       "      <td>14149.000000</td>\n",
       "      <td>14149.000000</td>\n",
       "    </tr>\n",
       "    <tr>\n",
       "      <th>mean</th>\n",
       "      <td>66.518832</td>\n",
       "      <td>8.865116</td>\n",
       "      <td>7.322310</td>\n",
       "      <td>133.320232</td>\n",
       "      <td>0.885610</td>\n",
       "      <td>1607.998319</td>\n",
       "      <td>-488.776312</td>\n",
       "      <td>1608.609062</td>\n",
       "      <td>-489.172547</td>\n",
       "      <td>1608.878374</td>\n",
       "      <td>...</td>\n",
       "      <td>19.985461</td>\n",
       "      <td>-478.698319</td>\n",
       "      <td>15.487029</td>\n",
       "      <td>-460.232184</td>\n",
       "      <td>16.775218</td>\n",
       "      <td>-483.957135</td>\n",
       "      <td>13.064514</td>\n",
       "      <td>-483.967691</td>\n",
       "      <td>19.577597</td>\n",
       "      <td>-506.798004</td>\n",
       "    </tr>\n",
       "    <tr>\n",
       "      <th>std</th>\n",
       "      <td>10.295402</td>\n",
       "      <td>3.358017</td>\n",
       "      <td>0.614062</td>\n",
       "      <td>39.403779</td>\n",
       "      <td>0.371394</td>\n",
       "      <td>128.376245</td>\n",
       "      <td>35.703045</td>\n",
       "      <td>131.094243</td>\n",
       "      <td>33.603383</td>\n",
       "      <td>134.257436</td>\n",
       "      <td>...</td>\n",
       "      <td>5.656523</td>\n",
       "      <td>50.734534</td>\n",
       "      <td>5.255471</td>\n",
       "      <td>58.842427</td>\n",
       "      <td>5.831708</td>\n",
       "      <td>37.891680</td>\n",
       "      <td>5.765420</td>\n",
       "      <td>39.206757</td>\n",
       "      <td>5.764012</td>\n",
       "      <td>37.077982</td>\n",
       "    </tr>\n",
       "    <tr>\n",
       "      <th>min</th>\n",
       "      <td>0.000000</td>\n",
       "      <td>0.000000</td>\n",
       "      <td>1.080000</td>\n",
       "      <td>0.003112</td>\n",
       "      <td>0.000005</td>\n",
       "      <td>0.006352</td>\n",
       "      <td>-798.641662</td>\n",
       "      <td>0.008700</td>\n",
       "      <td>-740.122129</td>\n",
       "      <td>0.015159</td>\n",
       "      <td>...</td>\n",
       "      <td>0.000000</td>\n",
       "      <td>-799.709069</td>\n",
       "      <td>0.000000</td>\n",
       "      <td>-799.889113</td>\n",
       "      <td>-0.372054</td>\n",
       "      <td>-797.142475</td>\n",
       "      <td>0.646208</td>\n",
       "      <td>-800.006180</td>\n",
       "      <td>0.195324</td>\n",
       "      <td>-809.398668</td>\n",
       "    </tr>\n",
       "    <tr>\n",
       "      <th>25%</th>\n",
       "      <td>62.545817</td>\n",
       "      <td>6.041849</td>\n",
       "      <td>6.960000</td>\n",
       "      <td>107.041403</td>\n",
       "      <td>0.608332</td>\n",
       "      <td>1595.702259</td>\n",
       "      <td>-500.287950</td>\n",
       "      <td>1559.062463</td>\n",
       "      <td>-500.375607</td>\n",
       "      <td>1549.873901</td>\n",
       "      <td>...</td>\n",
       "      <td>14.991403</td>\n",
       "      <td>-500.628637</td>\n",
       "      <td>11.894590</td>\n",
       "      <td>-500.148953</td>\n",
       "      <td>11.084073</td>\n",
       "      <td>-500.363169</td>\n",
       "      <td>8.994412</td>\n",
       "      <td>-500.105994</td>\n",
       "      <td>14.989309</td>\n",
       "      <td>-500.745036</td>\n",
       "    </tr>\n",
       "    <tr>\n",
       "      <th>50%</th>\n",
       "      <td>67.432775</td>\n",
       "      <td>8.035811</td>\n",
       "      <td>7.290000</td>\n",
       "      <td>133.018328</td>\n",
       "      <td>0.888749</td>\n",
       "      <td>1601.824410</td>\n",
       "      <td>-499.909375</td>\n",
       "      <td>1601.818514</td>\n",
       "      <td>-499.938003</td>\n",
       "      <td>1601.574628</td>\n",
       "      <td>...</td>\n",
       "      <td>20.001789</td>\n",
       "      <td>-499.681450</td>\n",
       "      <td>14.975536</td>\n",
       "      <td>-499.388738</td>\n",
       "      <td>17.932223</td>\n",
       "      <td>-499.702452</td>\n",
       "      <td>11.997547</td>\n",
       "      <td>-499.914556</td>\n",
       "      <td>19.984175</td>\n",
       "      <td>-500.061431</td>\n",
       "    </tr>\n",
       "    <tr>\n",
       "      <th>75%</th>\n",
       "      <td>72.346428</td>\n",
       "      <td>11.511575</td>\n",
       "      <td>7.700000</td>\n",
       "      <td>159.775168</td>\n",
       "      <td>1.100054</td>\n",
       "      <td>1699.715665</td>\n",
       "      <td>-499.378655</td>\n",
       "      <td>1700.214206</td>\n",
       "      <td>-499.389771</td>\n",
       "      <td>1700.463017</td>\n",
       "      <td>...</td>\n",
       "      <td>24.990768</td>\n",
       "      <td>-477.486391</td>\n",
       "      <td>20.059286</td>\n",
       "      <td>-400.039047</td>\n",
       "      <td>21.346135</td>\n",
       "      <td>-487.864322</td>\n",
       "      <td>17.982826</td>\n",
       "      <td>-453.274822</td>\n",
       "      <td>24.991615</td>\n",
       "      <td>-499.536481</td>\n",
       "    </tr>\n",
       "    <tr>\n",
       "      <th>max</th>\n",
       "      <td>100.000000</td>\n",
       "      <td>20.052255</td>\n",
       "      <td>10.470000</td>\n",
       "      <td>250.127834</td>\n",
       "      <td>2.512968</td>\n",
       "      <td>2079.531340</td>\n",
       "      <td>-330.134203</td>\n",
       "      <td>2114.906758</td>\n",
       "      <td>-347.354380</td>\n",
       "      <td>2013.156457</td>\n",
       "      <td>...</td>\n",
       "      <td>30.115735</td>\n",
       "      <td>-245.239184</td>\n",
       "      <td>24.007913</td>\n",
       "      <td>-145.071088</td>\n",
       "      <td>43.709931</td>\n",
       "      <td>-275.073125</td>\n",
       "      <td>27.926001</td>\n",
       "      <td>-157.396071</td>\n",
       "      <td>32.188906</td>\n",
       "      <td>-104.427459</td>\n",
       "    </tr>\n",
       "  </tbody>\n",
       "</table>\n",
       "<p>8 rows × 54 columns</p>\n",
       "</div>"
      ],
      "text/plain": [
       "       final.output.recovery  primary_cleaner.input.depressant  \\\n",
       "count           14149.000000                      14149.000000   \n",
       "mean               66.518832                          8.865116   \n",
       "std                10.295402                          3.358017   \n",
       "min                 0.000000                          0.000000   \n",
       "25%                62.545817                          6.041849   \n",
       "50%                67.432775                          8.035811   \n",
       "75%                72.346428                         11.511575   \n",
       "max               100.000000                         20.052255   \n",
       "\n",
       "       primary_cleaner.input.feed_size  primary_cleaner.input.sulfate  \\\n",
       "count                     14149.000000                   14149.000000   \n",
       "mean                          7.322310                     133.320232   \n",
       "std                           0.614062                      39.403779   \n",
       "min                           1.080000                       0.003112   \n",
       "25%                           6.960000                     107.041403   \n",
       "50%                           7.290000                     133.018328   \n",
       "75%                           7.700000                     159.775168   \n",
       "max                          10.470000                     250.127834   \n",
       "\n",
       "       primary_cleaner.input.xanthate  primary_cleaner.state.floatbank8_a_air  \\\n",
       "count                    14149.000000                            14149.000000   \n",
       "mean                         0.885610                             1607.998319   \n",
       "std                          0.371394                              128.376245   \n",
       "min                          0.000005                                0.006352   \n",
       "25%                          0.608332                             1595.702259   \n",
       "50%                          0.888749                             1601.824410   \n",
       "75%                          1.100054                             1699.715665   \n",
       "max                          2.512968                             2079.531340   \n",
       "\n",
       "       primary_cleaner.state.floatbank8_a_level  \\\n",
       "count                              14149.000000   \n",
       "mean                                -488.776312   \n",
       "std                                   35.703045   \n",
       "min                                 -798.641662   \n",
       "25%                                 -500.287950   \n",
       "50%                                 -499.909375   \n",
       "75%                                 -499.378655   \n",
       "max                                 -330.134203   \n",
       "\n",
       "       primary_cleaner.state.floatbank8_b_air  \\\n",
       "count                            14149.000000   \n",
       "mean                              1608.609062   \n",
       "std                                131.094243   \n",
       "min                                  0.008700   \n",
       "25%                               1559.062463   \n",
       "50%                               1601.818514   \n",
       "75%                               1700.214206   \n",
       "max                               2114.906758   \n",
       "\n",
       "       primary_cleaner.state.floatbank8_b_level  \\\n",
       "count                              14149.000000   \n",
       "mean                                -489.172547   \n",
       "std                                   33.603383   \n",
       "min                                 -740.122129   \n",
       "25%                                 -500.375607   \n",
       "50%                                 -499.938003   \n",
       "75%                                 -499.389771   \n",
       "max                                 -347.354380   \n",
       "\n",
       "       primary_cleaner.state.floatbank8_c_air  ...  \\\n",
       "count                            14149.000000  ...   \n",
       "mean                              1608.878374  ...   \n",
       "std                                134.257436  ...   \n",
       "min                                  0.015159  ...   \n",
       "25%                               1549.873901  ...   \n",
       "50%                               1601.574628  ...   \n",
       "75%                               1700.463017  ...   \n",
       "max                               2013.156457  ...   \n",
       "\n",
       "       secondary_cleaner.state.floatbank4_a_air  \\\n",
       "count                              14149.000000   \n",
       "mean                                  19.985461   \n",
       "std                                    5.656523   \n",
       "min                                    0.000000   \n",
       "25%                                   14.991403   \n",
       "50%                                   20.001789   \n",
       "75%                                   24.990768   \n",
       "max                                   30.115735   \n",
       "\n",
       "       secondary_cleaner.state.floatbank4_a_level  \\\n",
       "count                                14149.000000   \n",
       "mean                                  -478.698319   \n",
       "std                                     50.734534   \n",
       "min                                   -799.709069   \n",
       "25%                                   -500.628637   \n",
       "50%                                   -499.681450   \n",
       "75%                                   -477.486391   \n",
       "max                                   -245.239184   \n",
       "\n",
       "       secondary_cleaner.state.floatbank4_b_air  \\\n",
       "count                              14149.000000   \n",
       "mean                                  15.487029   \n",
       "std                                    5.255471   \n",
       "min                                    0.000000   \n",
       "25%                                   11.894590   \n",
       "50%                                   14.975536   \n",
       "75%                                   20.059286   \n",
       "max                                   24.007913   \n",
       "\n",
       "       secondary_cleaner.state.floatbank4_b_level  \\\n",
       "count                                14149.000000   \n",
       "mean                                  -460.232184   \n",
       "std                                     58.842427   \n",
       "min                                   -799.889113   \n",
       "25%                                   -500.148953   \n",
       "50%                                   -499.388738   \n",
       "75%                                   -400.039047   \n",
       "max                                   -145.071088   \n",
       "\n",
       "       secondary_cleaner.state.floatbank5_a_air  \\\n",
       "count                              14149.000000   \n",
       "mean                                  16.775218   \n",
       "std                                    5.831708   \n",
       "min                                   -0.372054   \n",
       "25%                                   11.084073   \n",
       "50%                                   17.932223   \n",
       "75%                                   21.346135   \n",
       "max                                   43.709931   \n",
       "\n",
       "       secondary_cleaner.state.floatbank5_a_level  \\\n",
       "count                                14149.000000   \n",
       "mean                                  -483.957135   \n",
       "std                                     37.891680   \n",
       "min                                   -797.142475   \n",
       "25%                                   -500.363169   \n",
       "50%                                   -499.702452   \n",
       "75%                                   -487.864322   \n",
       "max                                   -275.073125   \n",
       "\n",
       "       secondary_cleaner.state.floatbank5_b_air  \\\n",
       "count                              14149.000000   \n",
       "mean                                  13.064514   \n",
       "std                                    5.765420   \n",
       "min                                    0.646208   \n",
       "25%                                    8.994412   \n",
       "50%                                   11.997547   \n",
       "75%                                   17.982826   \n",
       "max                                   27.926001   \n",
       "\n",
       "       secondary_cleaner.state.floatbank5_b_level  \\\n",
       "count                                14149.000000   \n",
       "mean                                  -483.967691   \n",
       "std                                     39.206757   \n",
       "min                                   -800.006180   \n",
       "25%                                   -500.105994   \n",
       "50%                                   -499.914556   \n",
       "75%                                   -453.274822   \n",
       "max                                   -157.396071   \n",
       "\n",
       "       secondary_cleaner.state.floatbank6_a_air  \\\n",
       "count                              14149.000000   \n",
       "mean                                  19.577597   \n",
       "std                                    5.764012   \n",
       "min                                    0.195324   \n",
       "25%                                   14.989309   \n",
       "50%                                   19.984175   \n",
       "75%                                   24.991615   \n",
       "max                                   32.188906   \n",
       "\n",
       "       secondary_cleaner.state.floatbank6_a_level  \n",
       "count                                14149.000000  \n",
       "mean                                  -506.798004  \n",
       "std                                     37.077982  \n",
       "min                                   -809.398668  \n",
       "25%                                   -500.745036  \n",
       "50%                                   -500.061431  \n",
       "75%                                   -499.536481  \n",
       "max                                   -104.427459  \n",
       "\n",
       "[8 rows x 54 columns]"
      ]
     },
     "execution_count": 75,
     "metadata": {},
     "output_type": "execute_result"
    }
   ],
   "source": [
    "data_train.describe()"
   ]
  },
  {
   "attachments": {},
   "cell_type": "markdown",
   "metadata": {},
   "source": [
    "Let's write a function that removes all values outside of three standard deviations."
   ]
  },
  {
   "cell_type": "code",
   "execution_count": 76,
   "metadata": {},
   "outputs": [],
   "source": [
    "#A function that removes values beyond three standard deviations. Input - dataset\n",
    "def sigma_outlier(data, threshold=3):\n",
    "    sd = np.std(data, axis=0)                              #Стандарнтое распределение\n",
    "    mean = np.mean(data, axis=0)                           #Среднее этого распределения\n",
    "    upper = mean + threshold * sd                          #Верхняя граница\n",
    "    lower = mean - threshold * sd                          #Нижняя граница\n",
    "    idx = np.where((data < lower) | (data > upper))[0]     #Индексы за пределами границ\n",
    "    mask = np.ones(data.shape[0], dtype=int)               #Массив из единиц\n",
    "    mask[idx] = -1                                         #Заполняем массив значениями -1 с индексами за пределами границ\n",
    "    return data[mask == 1]                                 #Возвращаем датасет с индексами в пределах границ"
   ]
  },
  {
   "cell_type": "code",
   "execution_count": 77,
   "metadata": {},
   "outputs": [
    {
     "name": "stderr",
     "output_type": "stream",
     "text": [
      "c:\\Users\\bjaka\\anaconda3\\lib\\site-packages\\numpy\\core\\fromnumeric.py:3579: FutureWarning: Dropping of nuisance columns in DataFrame reductions (with 'numeric_only=None') is deprecated; in a future version this will raise TypeError.  Select only valid columns before calling the reduction.\n",
      "  return std(axis=axis, dtype=dtype, out=out, ddof=ddof, **kwargs)\n",
      "c:\\Users\\bjaka\\anaconda3\\lib\\site-packages\\numpy\\core\\fromnumeric.py:3438: FutureWarning: Dropping of nuisance columns in DataFrame reductions (with 'numeric_only=None') is deprecated; in a future version this will raise TypeError.  Select only valid columns before calling the reduction.\n",
      "  return mean(axis=axis, dtype=dtype, out=out, **kwargs)\n",
      "C:\\Users\\bjaka\\AppData\\Local\\Temp\\ipykernel_2080\\2753390532.py:7: FutureWarning: Automatic reindexing on DataFrame vs Series comparisons is deprecated and will raise ValueError in a future version. Do `left, right = left.align(right, axis=1, copy=False)` before e.g. `left == right`\n",
      "  idx = np.where((data < lower) | (data > upper))[0]     #Индексы за пределами границ\n"
     ]
    }
   ],
   "source": [
    "data_full_clear = sigma_outlier(data_full)"
   ]
  },
  {
   "cell_type": "code",
   "execution_count": 78,
   "metadata": {},
   "outputs": [
    {
     "data": {
      "text/html": [
       "<div>\n",
       "<style scoped>\n",
       "    .dataframe tbody tr th:only-of-type {\n",
       "        vertical-align: middle;\n",
       "    }\n",
       "\n",
       "    .dataframe tbody tr th {\n",
       "        vertical-align: top;\n",
       "    }\n",
       "\n",
       "    .dataframe thead th {\n",
       "        text-align: right;\n",
       "    }\n",
       "</style>\n",
       "<table border=\"1\" class=\"dataframe\">\n",
       "  <thead>\n",
       "    <tr style=\"text-align: right;\">\n",
       "      <th></th>\n",
       "      <th>final.output.recovery</th>\n",
       "      <th>primary_cleaner.input.depressant</th>\n",
       "      <th>primary_cleaner.input.feed_size</th>\n",
       "      <th>primary_cleaner.input.sulfate</th>\n",
       "      <th>primary_cleaner.input.xanthate</th>\n",
       "      <th>primary_cleaner.state.floatbank8_a_air</th>\n",
       "      <th>primary_cleaner.state.floatbank8_a_level</th>\n",
       "      <th>primary_cleaner.state.floatbank8_b_air</th>\n",
       "      <th>primary_cleaner.state.floatbank8_b_level</th>\n",
       "      <th>primary_cleaner.state.floatbank8_c_air</th>\n",
       "      <th>...</th>\n",
       "      <th>secondary_cleaner.state.floatbank4_a_air</th>\n",
       "      <th>secondary_cleaner.state.floatbank4_a_level</th>\n",
       "      <th>secondary_cleaner.state.floatbank4_b_air</th>\n",
       "      <th>secondary_cleaner.state.floatbank4_b_level</th>\n",
       "      <th>secondary_cleaner.state.floatbank5_a_air</th>\n",
       "      <th>secondary_cleaner.state.floatbank5_a_level</th>\n",
       "      <th>secondary_cleaner.state.floatbank5_b_air</th>\n",
       "      <th>secondary_cleaner.state.floatbank5_b_level</th>\n",
       "      <th>secondary_cleaner.state.floatbank6_a_air</th>\n",
       "      <th>secondary_cleaner.state.floatbank6_a_level</th>\n",
       "    </tr>\n",
       "  </thead>\n",
       "  <tbody>\n",
       "    <tr>\n",
       "      <th>count</th>\n",
       "      <td>10080.000000</td>\n",
       "      <td>10080.000000</td>\n",
       "      <td>10080.000000</td>\n",
       "      <td>10080.000000</td>\n",
       "      <td>10080.000000</td>\n",
       "      <td>10080.000000</td>\n",
       "      <td>10080.000000</td>\n",
       "      <td>10080.000000</td>\n",
       "      <td>10080.000000</td>\n",
       "      <td>10080.000000</td>\n",
       "      <td>...</td>\n",
       "      <td>10080.000000</td>\n",
       "      <td>10080.000000</td>\n",
       "      <td>10080.000000</td>\n",
       "      <td>10080.000000</td>\n",
       "      <td>10080.000000</td>\n",
       "      <td>10080.000000</td>\n",
       "      <td>10080.000000</td>\n",
       "      <td>10080.000000</td>\n",
       "      <td>10080.000000</td>\n",
       "      <td>10080.000000</td>\n",
       "    </tr>\n",
       "    <tr>\n",
       "      <th>mean</th>\n",
       "      <td>67.855500</td>\n",
       "      <td>8.776358</td>\n",
       "      <td>7.290822</td>\n",
       "      <td>139.353440</td>\n",
       "      <td>0.888842</td>\n",
       "      <td>1617.618007</td>\n",
       "      <td>-495.270593</td>\n",
       "      <td>1620.278246</td>\n",
       "      <td>-495.339360</td>\n",
       "      <td>1620.214203</td>\n",
       "      <td>...</td>\n",
       "      <td>20.799611</td>\n",
       "      <td>-477.955326</td>\n",
       "      <td>15.701888</td>\n",
       "      <td>-458.433948</td>\n",
       "      <td>17.199576</td>\n",
       "      <td>-484.232665</td>\n",
       "      <td>13.194689</td>\n",
       "      <td>-483.918648</td>\n",
       "      <td>19.240957</td>\n",
       "      <td>-507.230178</td>\n",
       "    </tr>\n",
       "    <tr>\n",
       "      <th>std</th>\n",
       "      <td>7.586569</td>\n",
       "      <td>3.062109</td>\n",
       "      <td>0.548264</td>\n",
       "      <td>36.272818</td>\n",
       "      <td>0.373950</td>\n",
       "      <td>111.484301</td>\n",
       "      <td>20.787921</td>\n",
       "      <td>113.045180</td>\n",
       "      <td>20.814756</td>\n",
       "      <td>115.649294</td>\n",
       "      <td>...</td>\n",
       "      <td>5.273016</td>\n",
       "      <td>43.598477</td>\n",
       "      <td>5.151360</td>\n",
       "      <td>52.789033</td>\n",
       "      <td>5.607753</td>\n",
       "      <td>32.845772</td>\n",
       "      <td>5.688613</td>\n",
       "      <td>33.111853</td>\n",
       "      <td>5.892357</td>\n",
       "      <td>28.452051</td>\n",
       "    </tr>\n",
       "    <tr>\n",
       "      <th>min</th>\n",
       "      <td>35.663934</td>\n",
       "      <td>0.000000</td>\n",
       "      <td>5.540000</td>\n",
       "      <td>27.350784</td>\n",
       "      <td>0.000154</td>\n",
       "      <td>1226.071603</td>\n",
       "      <td>-574.792286</td>\n",
       "      <td>1230.254277</td>\n",
       "      <td>-581.553136</td>\n",
       "      <td>1224.815875</td>\n",
       "      <td>...</td>\n",
       "      <td>4.502796</td>\n",
       "      <td>-627.846615</td>\n",
       "      <td>4.851545</td>\n",
       "      <td>-629.482446</td>\n",
       "      <td>-0.372054</td>\n",
       "      <td>-597.525167</td>\n",
       "      <td>4.827299</td>\n",
       "      <td>-600.835673</td>\n",
       "      <td>5.967292</td>\n",
       "      <td>-616.068148</td>\n",
       "    </tr>\n",
       "    <tr>\n",
       "      <th>25%</th>\n",
       "      <td>63.698269</td>\n",
       "      <td>6.418229</td>\n",
       "      <td>6.950000</td>\n",
       "      <td>113.933772</td>\n",
       "      <td>0.601547</td>\n",
       "      <td>1596.971154</td>\n",
       "      <td>-500.296862</td>\n",
       "      <td>1596.435921</td>\n",
       "      <td>-500.389621</td>\n",
       "      <td>1596.507436</td>\n",
       "      <td>...</td>\n",
       "      <td>16.980489</td>\n",
       "      <td>-500.614926</td>\n",
       "      <td>11.122747</td>\n",
       "      <td>-500.103925</td>\n",
       "      <td>12.037570</td>\n",
       "      <td>-500.336599</td>\n",
       "      <td>9.001341</td>\n",
       "      <td>-500.096142</td>\n",
       "      <td>14.006720</td>\n",
       "      <td>-500.709092</td>\n",
       "    </tr>\n",
       "    <tr>\n",
       "      <th>50%</th>\n",
       "      <td>68.120152</td>\n",
       "      <td>8.018173</td>\n",
       "      <td>7.280000</td>\n",
       "      <td>137.497447</td>\n",
       "      <td>0.888749</td>\n",
       "      <td>1602.749367</td>\n",
       "      <td>-499.948428</td>\n",
       "      <td>1602.893815</td>\n",
       "      <td>-499.983089</td>\n",
       "      <td>1602.528646</td>\n",
       "      <td>...</td>\n",
       "      <td>20.045195</td>\n",
       "      <td>-499.710985</td>\n",
       "      <td>15.022912</td>\n",
       "      <td>-499.310307</td>\n",
       "      <td>17.976896</td>\n",
       "      <td>-499.728980</td>\n",
       "      <td>12.026433</td>\n",
       "      <td>-499.924251</td>\n",
       "      <td>18.017265</td>\n",
       "      <td>-500.071473</td>\n",
       "    </tr>\n",
       "    <tr>\n",
       "      <th>75%</th>\n",
       "      <td>73.024591</td>\n",
       "      <td>10.956256</td>\n",
       "      <td>7.615417</td>\n",
       "      <td>164.031698</td>\n",
       "      <td>1.103164</td>\n",
       "      <td>1699.991784</td>\n",
       "      <td>-499.524368</td>\n",
       "      <td>1700.510136</td>\n",
       "      <td>-499.557490</td>\n",
       "      <td>1700.565821</td>\n",
       "      <td>...</td>\n",
       "      <td>24.997639</td>\n",
       "      <td>-495.896341</td>\n",
       "      <td>20.039798</td>\n",
       "      <td>-400.039335</td>\n",
       "      <td>20.993900</td>\n",
       "      <td>-496.903982</td>\n",
       "      <td>16.011931</td>\n",
       "      <td>-499.139258</td>\n",
       "      <td>24.989241</td>\n",
       "      <td>-499.598669</td>\n",
       "    </tr>\n",
       "    <tr>\n",
       "      <th>max</th>\n",
       "      <td>97.390765</td>\n",
       "      <td>18.539138</td>\n",
       "      <td>9.110000</td>\n",
       "      <td>238.176080</td>\n",
       "      <td>1.999285</td>\n",
       "      <td>1824.687072</td>\n",
       "      <td>-394.767983</td>\n",
       "      <td>1825.491263</td>\n",
       "      <td>-389.781772</td>\n",
       "      <td>1867.634284</td>\n",
       "      <td>...</td>\n",
       "      <td>30.075581</td>\n",
       "      <td>-351.922004</td>\n",
       "      <td>23.146246</td>\n",
       "      <td>-295.516586</td>\n",
       "      <td>33.326884</td>\n",
       "      <td>-371.539372</td>\n",
       "      <td>27.926001</td>\n",
       "      <td>-366.506977</td>\n",
       "      <td>30.616800</td>\n",
       "      <td>-398.722497</td>\n",
       "    </tr>\n",
       "  </tbody>\n",
       "</table>\n",
       "<p>8 rows × 54 columns</p>\n",
       "</div>"
      ],
      "text/plain": [
       "       final.output.recovery  primary_cleaner.input.depressant  \\\n",
       "count           10080.000000                      10080.000000   \n",
       "mean               67.855500                          8.776358   \n",
       "std                 7.586569                          3.062109   \n",
       "min                35.663934                          0.000000   \n",
       "25%                63.698269                          6.418229   \n",
       "50%                68.120152                          8.018173   \n",
       "75%                73.024591                         10.956256   \n",
       "max                97.390765                         18.539138   \n",
       "\n",
       "       primary_cleaner.input.feed_size  primary_cleaner.input.sulfate  \\\n",
       "count                     10080.000000                   10080.000000   \n",
       "mean                          7.290822                     139.353440   \n",
       "std                           0.548264                      36.272818   \n",
       "min                           5.540000                      27.350784   \n",
       "25%                           6.950000                     113.933772   \n",
       "50%                           7.280000                     137.497447   \n",
       "75%                           7.615417                     164.031698   \n",
       "max                           9.110000                     238.176080   \n",
       "\n",
       "       primary_cleaner.input.xanthate  primary_cleaner.state.floatbank8_a_air  \\\n",
       "count                    10080.000000                            10080.000000   \n",
       "mean                         0.888842                             1617.618007   \n",
       "std                          0.373950                              111.484301   \n",
       "min                          0.000154                             1226.071603   \n",
       "25%                          0.601547                             1596.971154   \n",
       "50%                          0.888749                             1602.749367   \n",
       "75%                          1.103164                             1699.991784   \n",
       "max                          1.999285                             1824.687072   \n",
       "\n",
       "       primary_cleaner.state.floatbank8_a_level  \\\n",
       "count                              10080.000000   \n",
       "mean                                -495.270593   \n",
       "std                                   20.787921   \n",
       "min                                 -574.792286   \n",
       "25%                                 -500.296862   \n",
       "50%                                 -499.948428   \n",
       "75%                                 -499.524368   \n",
       "max                                 -394.767983   \n",
       "\n",
       "       primary_cleaner.state.floatbank8_b_air  \\\n",
       "count                            10080.000000   \n",
       "mean                              1620.278246   \n",
       "std                                113.045180   \n",
       "min                               1230.254277   \n",
       "25%                               1596.435921   \n",
       "50%                               1602.893815   \n",
       "75%                               1700.510136   \n",
       "max                               1825.491263   \n",
       "\n",
       "       primary_cleaner.state.floatbank8_b_level  \\\n",
       "count                              10080.000000   \n",
       "mean                                -495.339360   \n",
       "std                                   20.814756   \n",
       "min                                 -581.553136   \n",
       "25%                                 -500.389621   \n",
       "50%                                 -499.983089   \n",
       "75%                                 -499.557490   \n",
       "max                                 -389.781772   \n",
       "\n",
       "       primary_cleaner.state.floatbank8_c_air  ...  \\\n",
       "count                            10080.000000  ...   \n",
       "mean                              1620.214203  ...   \n",
       "std                                115.649294  ...   \n",
       "min                               1224.815875  ...   \n",
       "25%                               1596.507436  ...   \n",
       "50%                               1602.528646  ...   \n",
       "75%                               1700.565821  ...   \n",
       "max                               1867.634284  ...   \n",
       "\n",
       "       secondary_cleaner.state.floatbank4_a_air  \\\n",
       "count                              10080.000000   \n",
       "mean                                  20.799611   \n",
       "std                                    5.273016   \n",
       "min                                    4.502796   \n",
       "25%                                   16.980489   \n",
       "50%                                   20.045195   \n",
       "75%                                   24.997639   \n",
       "max                                   30.075581   \n",
       "\n",
       "       secondary_cleaner.state.floatbank4_a_level  \\\n",
       "count                                10080.000000   \n",
       "mean                                  -477.955326   \n",
       "std                                     43.598477   \n",
       "min                                   -627.846615   \n",
       "25%                                   -500.614926   \n",
       "50%                                   -499.710985   \n",
       "75%                                   -495.896341   \n",
       "max                                   -351.922004   \n",
       "\n",
       "       secondary_cleaner.state.floatbank4_b_air  \\\n",
       "count                              10080.000000   \n",
       "mean                                  15.701888   \n",
       "std                                    5.151360   \n",
       "min                                    4.851545   \n",
       "25%                                   11.122747   \n",
       "50%                                   15.022912   \n",
       "75%                                   20.039798   \n",
       "max                                   23.146246   \n",
       "\n",
       "       secondary_cleaner.state.floatbank4_b_level  \\\n",
       "count                                10080.000000   \n",
       "mean                                  -458.433948   \n",
       "std                                     52.789033   \n",
       "min                                   -629.482446   \n",
       "25%                                   -500.103925   \n",
       "50%                                   -499.310307   \n",
       "75%                                   -400.039335   \n",
       "max                                   -295.516586   \n",
       "\n",
       "       secondary_cleaner.state.floatbank5_a_air  \\\n",
       "count                              10080.000000   \n",
       "mean                                  17.199576   \n",
       "std                                    5.607753   \n",
       "min                                   -0.372054   \n",
       "25%                                   12.037570   \n",
       "50%                                   17.976896   \n",
       "75%                                   20.993900   \n",
       "max                                   33.326884   \n",
       "\n",
       "       secondary_cleaner.state.floatbank5_a_level  \\\n",
       "count                                10080.000000   \n",
       "mean                                  -484.232665   \n",
       "std                                     32.845772   \n",
       "min                                   -597.525167   \n",
       "25%                                   -500.336599   \n",
       "50%                                   -499.728980   \n",
       "75%                                   -496.903982   \n",
       "max                                   -371.539372   \n",
       "\n",
       "       secondary_cleaner.state.floatbank5_b_air  \\\n",
       "count                              10080.000000   \n",
       "mean                                  13.194689   \n",
       "std                                    5.688613   \n",
       "min                                    4.827299   \n",
       "25%                                    9.001341   \n",
       "50%                                   12.026433   \n",
       "75%                                   16.011931   \n",
       "max                                   27.926001   \n",
       "\n",
       "       secondary_cleaner.state.floatbank5_b_level  \\\n",
       "count                                10080.000000   \n",
       "mean                                  -483.918648   \n",
       "std                                     33.111853   \n",
       "min                                   -600.835673   \n",
       "25%                                   -500.096142   \n",
       "50%                                   -499.924251   \n",
       "75%                                   -499.139258   \n",
       "max                                   -366.506977   \n",
       "\n",
       "       secondary_cleaner.state.floatbank6_a_air  \\\n",
       "count                              10080.000000   \n",
       "mean                                  19.240957   \n",
       "std                                    5.892357   \n",
       "min                                    5.967292   \n",
       "25%                                   14.006720   \n",
       "50%                                   18.017265   \n",
       "75%                                   24.989241   \n",
       "max                                   30.616800   \n",
       "\n",
       "       secondary_cleaner.state.floatbank6_a_level  \n",
       "count                                10080.000000  \n",
       "mean                                  -507.230178  \n",
       "std                                     28.452051  \n",
       "min                                   -616.068148  \n",
       "25%                                   -500.709092  \n",
       "50%                                   -500.071473  \n",
       "75%                                   -499.598669  \n",
       "max                                   -398.722497  \n",
       "\n",
       "[8 rows x 54 columns]"
      ]
     },
     "execution_count": 78,
     "metadata": {},
     "output_type": "execute_result"
    }
   ],
   "source": [
    "data_train_clear = sigma_outlier(data_train)\n",
    "data_train_clear.reset_index(drop = True, inplace = True)\n",
    "data_train_clear.describe()"
   ]
  },
  {
   "attachments": {},
   "cell_type": "markdown",
   "metadata": {},
   "source": [
    "Apply the function to the test set."
   ]
  },
  {
   "cell_type": "code",
   "execution_count": 79,
   "metadata": {},
   "outputs": [
    {
     "data": {
      "text/html": [
       "<div>\n",
       "<style scoped>\n",
       "    .dataframe tbody tr th:only-of-type {\n",
       "        vertical-align: middle;\n",
       "    }\n",
       "\n",
       "    .dataframe tbody tr th {\n",
       "        vertical-align: top;\n",
       "    }\n",
       "\n",
       "    .dataframe thead th {\n",
       "        text-align: right;\n",
       "    }\n",
       "</style>\n",
       "<table border=\"1\" class=\"dataframe\">\n",
       "  <thead>\n",
       "    <tr style=\"text-align: right;\">\n",
       "      <th></th>\n",
       "      <th>final.output.recovery</th>\n",
       "      <th>primary_cleaner.input.depressant</th>\n",
       "      <th>primary_cleaner.input.feed_size</th>\n",
       "      <th>primary_cleaner.input.sulfate</th>\n",
       "      <th>primary_cleaner.input.xanthate</th>\n",
       "      <th>primary_cleaner.state.floatbank8_a_air</th>\n",
       "      <th>primary_cleaner.state.floatbank8_a_level</th>\n",
       "      <th>primary_cleaner.state.floatbank8_b_air</th>\n",
       "      <th>primary_cleaner.state.floatbank8_b_level</th>\n",
       "      <th>primary_cleaner.state.floatbank8_c_air</th>\n",
       "      <th>...</th>\n",
       "      <th>secondary_cleaner.state.floatbank4_a_air</th>\n",
       "      <th>secondary_cleaner.state.floatbank4_a_level</th>\n",
       "      <th>secondary_cleaner.state.floatbank4_b_air</th>\n",
       "      <th>secondary_cleaner.state.floatbank4_b_level</th>\n",
       "      <th>secondary_cleaner.state.floatbank5_a_air</th>\n",
       "      <th>secondary_cleaner.state.floatbank5_a_level</th>\n",
       "      <th>secondary_cleaner.state.floatbank5_b_air</th>\n",
       "      <th>secondary_cleaner.state.floatbank5_b_level</th>\n",
       "      <th>secondary_cleaner.state.floatbank6_a_air</th>\n",
       "      <th>secondary_cleaner.state.floatbank6_a_level</th>\n",
       "    </tr>\n",
       "  </thead>\n",
       "  <tbody>\n",
       "    <tr>\n",
       "      <th>count</th>\n",
       "      <td>3877.000000</td>\n",
       "      <td>3877.000000</td>\n",
       "      <td>3877.000000</td>\n",
       "      <td>3877.000000</td>\n",
       "      <td>3877.000000</td>\n",
       "      <td>3877.000000</td>\n",
       "      <td>3877.000000</td>\n",
       "      <td>3877.000000</td>\n",
       "      <td>3877.000000</td>\n",
       "      <td>3877.000000</td>\n",
       "      <td>...</td>\n",
       "      <td>3877.000000</td>\n",
       "      <td>3877.000000</td>\n",
       "      <td>3877.000000</td>\n",
       "      <td>3877.000000</td>\n",
       "      <td>3877.000000</td>\n",
       "      <td>3877.000000</td>\n",
       "      <td>3877.000000</td>\n",
       "      <td>3877.000000</td>\n",
       "      <td>3877.000000</td>\n",
       "      <td>3877.000000</td>\n",
       "    </tr>\n",
       "    <tr>\n",
       "      <th>mean</th>\n",
       "      <td>69.333977</td>\n",
       "      <td>8.586139</td>\n",
       "      <td>7.227040</td>\n",
       "      <td>176.675417</td>\n",
       "      <td>1.386040</td>\n",
       "      <td>1539.119026</td>\n",
       "      <td>-499.978089</td>\n",
       "      <td>1544.899893</td>\n",
       "      <td>-500.264674</td>\n",
       "      <td>1531.595876</td>\n",
       "      <td>...</td>\n",
       "      <td>16.173161</td>\n",
       "      <td>-501.412690</td>\n",
       "      <td>13.741451</td>\n",
       "      <td>-469.340903</td>\n",
       "      <td>13.019189</td>\n",
       "      <td>-500.040698</td>\n",
       "      <td>10.056042</td>\n",
       "      <td>-498.608577</td>\n",
       "      <td>17.637738</td>\n",
       "      <td>-500.794978</td>\n",
       "    </tr>\n",
       "    <tr>\n",
       "      <th>std</th>\n",
       "      <td>6.057470</td>\n",
       "      <td>2.809312</td>\n",
       "      <td>0.536190</td>\n",
       "      <td>38.894370</td>\n",
       "      <td>0.572887</td>\n",
       "      <td>110.297354</td>\n",
       "      <td>3.957905</td>\n",
       "      <td>117.097846</td>\n",
       "      <td>10.226553</td>\n",
       "      <td>113.820605</td>\n",
       "      <td>...</td>\n",
       "      <td>3.104327</td>\n",
       "      <td>9.894286</td>\n",
       "      <td>3.194215</td>\n",
       "      <td>51.531209</td>\n",
       "      <td>3.000067</td>\n",
       "      <td>3.796146</td>\n",
       "      <td>2.832156</td>\n",
       "      <td>7.757746</td>\n",
       "      <td>4.419196</td>\n",
       "      <td>10.889414</td>\n",
       "    </tr>\n",
       "    <tr>\n",
       "      <th>min</th>\n",
       "      <td>40.963712</td>\n",
       "      <td>1.992486</td>\n",
       "      <td>5.650000</td>\n",
       "      <td>50.556301</td>\n",
       "      <td>0.300012</td>\n",
       "      <td>1191.909121</td>\n",
       "      <td>-534.270990</td>\n",
       "      <td>1190.551989</td>\n",
       "      <td>-592.896490</td>\n",
       "      <td>1191.131609</td>\n",
       "      <td>...</td>\n",
       "      <td>7.891361</td>\n",
       "      <td>-597.244567</td>\n",
       "      <td>4.869777</td>\n",
       "      <td>-647.221549</td>\n",
       "      <td>6.157847</td>\n",
       "      <td>-552.831045</td>\n",
       "      <td>2.781642</td>\n",
       "      <td>-547.775026</td>\n",
       "      <td>8.972648</td>\n",
       "      <td>-607.815382</td>\n",
       "    </tr>\n",
       "    <tr>\n",
       "      <th>25%</th>\n",
       "      <td>66.149977</td>\n",
       "      <td>6.493457</td>\n",
       "      <td>6.900000</td>\n",
       "      <td>149.089466</td>\n",
       "      <td>0.947337</td>\n",
       "      <td>1498.466243</td>\n",
       "      <td>-500.347127</td>\n",
       "      <td>1498.536905</td>\n",
       "      <td>-500.672843</td>\n",
       "      <td>1478.103760</td>\n",
       "      <td>...</td>\n",
       "      <td>14.021602</td>\n",
       "      <td>-500.773920</td>\n",
       "      <td>12.011747</td>\n",
       "      <td>-500.268049</td>\n",
       "      <td>10.920743</td>\n",
       "      <td>-500.627271</td>\n",
       "      <td>8.092715</td>\n",
       "      <td>-500.187011</td>\n",
       "      <td>14.012709</td>\n",
       "      <td>-500.618907</td>\n",
       "    </tr>\n",
       "    <tr>\n",
       "      <th>50%</th>\n",
       "      <td>70.009681</td>\n",
       "      <td>8.048146</td>\n",
       "      <td>7.206667</td>\n",
       "      <td>176.438064</td>\n",
       "      <td>1.206312</td>\n",
       "      <td>1581.896499</td>\n",
       "      <td>-499.990634</td>\n",
       "      <td>1595.530039</td>\n",
       "      <td>-500.044275</td>\n",
       "      <td>1548.719852</td>\n",
       "      <td>...</td>\n",
       "      <td>16.996392</td>\n",
       "      <td>-500.093037</td>\n",
       "      <td>14.948677</td>\n",
       "      <td>-499.579373</td>\n",
       "      <td>13.010531</td>\n",
       "      <td>-499.980377</td>\n",
       "      <td>10.048837</td>\n",
       "      <td>-499.997472</td>\n",
       "      <td>17.007094</td>\n",
       "      <td>-499.995492</td>\n",
       "    </tr>\n",
       "    <tr>\n",
       "      <th>75%</th>\n",
       "      <td>73.251223</td>\n",
       "      <td>10.003316</td>\n",
       "      <td>7.560000</td>\n",
       "      <td>206.902171</td>\n",
       "      <td>1.813928</td>\n",
       "      <td>1602.057173</td>\n",
       "      <td>-499.634050</td>\n",
       "      <td>1602.330399</td>\n",
       "      <td>-499.424875</td>\n",
       "      <td>1601.558893</td>\n",
       "      <td>...</td>\n",
       "      <td>18.003717</td>\n",
       "      <td>-499.439590</td>\n",
       "      <td>15.953987</td>\n",
       "      <td>-401.738949</td>\n",
       "      <td>15.546334</td>\n",
       "      <td>-499.351885</td>\n",
       "      <td>12.005427</td>\n",
       "      <td>-499.756714</td>\n",
       "      <td>21.967942</td>\n",
       "      <td>-499.431109</td>\n",
       "    </tr>\n",
       "    <tr>\n",
       "      <th>max</th>\n",
       "      <td>95.954783</td>\n",
       "      <td>16.980125</td>\n",
       "      <td>8.710000</td>\n",
       "      <td>265.983123</td>\n",
       "      <td>3.303150</td>\n",
       "      <td>1810.767191</td>\n",
       "      <td>-440.295840</td>\n",
       "      <td>1809.449121</td>\n",
       "      <td>-426.640853</td>\n",
       "      <td>1715.053773</td>\n",
       "      <td>...</td>\n",
       "      <td>21.074652</td>\n",
       "      <td>-445.087544</td>\n",
       "      <td>19.153385</td>\n",
       "      <td>-205.541712</td>\n",
       "      <td>19.226113</td>\n",
       "      <td>-456.048963</td>\n",
       "      <td>14.075762</td>\n",
       "      <td>-393.405160</td>\n",
       "      <td>25.062945</td>\n",
       "      <td>-386.316872</td>\n",
       "    </tr>\n",
       "  </tbody>\n",
       "</table>\n",
       "<p>8 rows × 54 columns</p>\n",
       "</div>"
      ],
      "text/plain": [
       "       final.output.recovery  primary_cleaner.input.depressant  \\\n",
       "count            3877.000000                       3877.000000   \n",
       "mean               69.333977                          8.586139   \n",
       "std                 6.057470                          2.809312   \n",
       "min                40.963712                          1.992486   \n",
       "25%                66.149977                          6.493457   \n",
       "50%                70.009681                          8.048146   \n",
       "75%                73.251223                         10.003316   \n",
       "max                95.954783                         16.980125   \n",
       "\n",
       "       primary_cleaner.input.feed_size  primary_cleaner.input.sulfate  \\\n",
       "count                      3877.000000                    3877.000000   \n",
       "mean                          7.227040                     176.675417   \n",
       "std                           0.536190                      38.894370   \n",
       "min                           5.650000                      50.556301   \n",
       "25%                           6.900000                     149.089466   \n",
       "50%                           7.206667                     176.438064   \n",
       "75%                           7.560000                     206.902171   \n",
       "max                           8.710000                     265.983123   \n",
       "\n",
       "       primary_cleaner.input.xanthate  primary_cleaner.state.floatbank8_a_air  \\\n",
       "count                     3877.000000                             3877.000000   \n",
       "mean                         1.386040                             1539.119026   \n",
       "std                          0.572887                              110.297354   \n",
       "min                          0.300012                             1191.909121   \n",
       "25%                          0.947337                             1498.466243   \n",
       "50%                          1.206312                             1581.896499   \n",
       "75%                          1.813928                             1602.057173   \n",
       "max                          3.303150                             1810.767191   \n",
       "\n",
       "       primary_cleaner.state.floatbank8_a_level  \\\n",
       "count                               3877.000000   \n",
       "mean                                -499.978089   \n",
       "std                                    3.957905   \n",
       "min                                 -534.270990   \n",
       "25%                                 -500.347127   \n",
       "50%                                 -499.990634   \n",
       "75%                                 -499.634050   \n",
       "max                                 -440.295840   \n",
       "\n",
       "       primary_cleaner.state.floatbank8_b_air  \\\n",
       "count                             3877.000000   \n",
       "mean                              1544.899893   \n",
       "std                                117.097846   \n",
       "min                               1190.551989   \n",
       "25%                               1498.536905   \n",
       "50%                               1595.530039   \n",
       "75%                               1602.330399   \n",
       "max                               1809.449121   \n",
       "\n",
       "       primary_cleaner.state.floatbank8_b_level  \\\n",
       "count                               3877.000000   \n",
       "mean                                -500.264674   \n",
       "std                                   10.226553   \n",
       "min                                 -592.896490   \n",
       "25%                                 -500.672843   \n",
       "50%                                 -500.044275   \n",
       "75%                                 -499.424875   \n",
       "max                                 -426.640853   \n",
       "\n",
       "       primary_cleaner.state.floatbank8_c_air  ...  \\\n",
       "count                             3877.000000  ...   \n",
       "mean                              1531.595876  ...   \n",
       "std                                113.820605  ...   \n",
       "min                               1191.131609  ...   \n",
       "25%                               1478.103760  ...   \n",
       "50%                               1548.719852  ...   \n",
       "75%                               1601.558893  ...   \n",
       "max                               1715.053773  ...   \n",
       "\n",
       "       secondary_cleaner.state.floatbank4_a_air  \\\n",
       "count                               3877.000000   \n",
       "mean                                  16.173161   \n",
       "std                                    3.104327   \n",
       "min                                    7.891361   \n",
       "25%                                   14.021602   \n",
       "50%                                   16.996392   \n",
       "75%                                   18.003717   \n",
       "max                                   21.074652   \n",
       "\n",
       "       secondary_cleaner.state.floatbank4_a_level  \\\n",
       "count                                 3877.000000   \n",
       "mean                                  -501.412690   \n",
       "std                                      9.894286   \n",
       "min                                   -597.244567   \n",
       "25%                                   -500.773920   \n",
       "50%                                   -500.093037   \n",
       "75%                                   -499.439590   \n",
       "max                                   -445.087544   \n",
       "\n",
       "       secondary_cleaner.state.floatbank4_b_air  \\\n",
       "count                               3877.000000   \n",
       "mean                                  13.741451   \n",
       "std                                    3.194215   \n",
       "min                                    4.869777   \n",
       "25%                                   12.011747   \n",
       "50%                                   14.948677   \n",
       "75%                                   15.953987   \n",
       "max                                   19.153385   \n",
       "\n",
       "       secondary_cleaner.state.floatbank4_b_level  \\\n",
       "count                                 3877.000000   \n",
       "mean                                  -469.340903   \n",
       "std                                     51.531209   \n",
       "min                                   -647.221549   \n",
       "25%                                   -500.268049   \n",
       "50%                                   -499.579373   \n",
       "75%                                   -401.738949   \n",
       "max                                   -205.541712   \n",
       "\n",
       "       secondary_cleaner.state.floatbank5_a_air  \\\n",
       "count                               3877.000000   \n",
       "mean                                  13.019189   \n",
       "std                                    3.000067   \n",
       "min                                    6.157847   \n",
       "25%                                   10.920743   \n",
       "50%                                   13.010531   \n",
       "75%                                   15.546334   \n",
       "max                                   19.226113   \n",
       "\n",
       "       secondary_cleaner.state.floatbank5_a_level  \\\n",
       "count                                 3877.000000   \n",
       "mean                                  -500.040698   \n",
       "std                                      3.796146   \n",
       "min                                   -552.831045   \n",
       "25%                                   -500.627271   \n",
       "50%                                   -499.980377   \n",
       "75%                                   -499.351885   \n",
       "max                                   -456.048963   \n",
       "\n",
       "       secondary_cleaner.state.floatbank5_b_air  \\\n",
       "count                               3877.000000   \n",
       "mean                                  10.056042   \n",
       "std                                    2.832156   \n",
       "min                                    2.781642   \n",
       "25%                                    8.092715   \n",
       "50%                                   10.048837   \n",
       "75%                                   12.005427   \n",
       "max                                   14.075762   \n",
       "\n",
       "       secondary_cleaner.state.floatbank5_b_level  \\\n",
       "count                                 3877.000000   \n",
       "mean                                  -498.608577   \n",
       "std                                      7.757746   \n",
       "min                                   -547.775026   \n",
       "25%                                   -500.187011   \n",
       "50%                                   -499.997472   \n",
       "75%                                   -499.756714   \n",
       "max                                   -393.405160   \n",
       "\n",
       "       secondary_cleaner.state.floatbank6_a_air  \\\n",
       "count                               3877.000000   \n",
       "mean                                  17.637738   \n",
       "std                                    4.419196   \n",
       "min                                    8.972648   \n",
       "25%                                   14.012709   \n",
       "50%                                   17.007094   \n",
       "75%                                   21.967942   \n",
       "max                                   25.062945   \n",
       "\n",
       "       secondary_cleaner.state.floatbank6_a_level  \n",
       "count                                 3877.000000  \n",
       "mean                                  -500.794978  \n",
       "std                                     10.889414  \n",
       "min                                   -607.815382  \n",
       "25%                                   -500.618907  \n",
       "50%                                   -499.995492  \n",
       "75%                                   -499.431109  \n",
       "max                                   -386.316872  \n",
       "\n",
       "[8 rows x 54 columns]"
      ]
     },
     "execution_count": 79,
     "metadata": {},
     "output_type": "execute_result"
    }
   ],
   "source": [
    "data_test_clear = sigma_outlier(data_test)\n",
    "data_test_clear.reset_index(drop = True, inplace = True)\n",
    "data_test_clear.describe()"
   ]
  },
  {
   "attachments": {},
   "cell_type": "markdown",
   "metadata": {},
   "source": [
    "We obtained two datasets: training and testing sets, without missing values and outliers. The datasets are ready for further analysis and model building."
   ]
  },
  {
   "attachments": {},
   "cell_type": "markdown",
   "metadata": {},
   "source": [
    "## Data Analysis"
   ]
  },
  {
   "attachments": {},
   "cell_type": "markdown",
   "metadata": {},
   "source": [
    "Let's visualize how the concentration of metals (Au, Ag, Pb) changes at various stages of purification. We will plot the graphs."
   ]
  },
  {
   "cell_type": "code",
   "execution_count": 80,
   "metadata": {},
   "outputs": [
    {
     "data": {
      "image/png": "[encoded data removed]",
      "text/plain": [
       "<Figure size 1500x800 with 1 Axes>"
      ]
     },
     "metadata": {},
     "output_type": "display_data"
    }
   ],
   "source": [
    "concentration_au = {'rougher_input_au': data_full_clear['rougher.input.feed_au'], 'rougher_output_au': data_full_clear['rougher.output.concentrate_au'],\n",
    "                   'primary_cleaner_output_au': data_full_clear['primary_cleaner.output.concentrate_au'], 'final_output_au': data_full_clear['final.output.concentrate_au']}\n",
    "concentration_au = pd.DataFrame(data = concentration_au)\n",
    "\n",
    "f, ax = plt.subplots(figsize=(15, 8))\n",
    "sns.histplot(concentration_au, palette=\"light:b\")\n",
    "ax.set_title('Распределение концентрации золота на различных стадиях')\n",
    "ax.set_xlabel('Концентрация')\n",
    "ax.set_ylabel('Количество')\n",
    "None"
   ]
  },
  {
   "attachments": {},
   "cell_type": "markdown",
   "metadata": {},
   "source": [
    "The concentration of gold increases with each stage."
   ]
  },
  {
   "cell_type": "code",
   "execution_count": 81,
   "metadata": {},
   "outputs": [
    {
     "data": {
      "image/png": "[encoded data removed]",
      "text/plain": [
       "<Figure size 1500x800 with 1 Axes>"
      ]
     },
     "metadata": {},
     "output_type": "display_data"
    }
   ],
   "source": [
    "concentration_ag = {'rougher_input_ag': data_full_clear['rougher.input.feed_ag'], 'rougher_output_ag': data_full_clear['rougher.output.concentrate_ag'],\n",
    "                   'primary_cleaner_output_ag': data_full_clear['primary_cleaner.output.concentrate_ag'], 'final_output_ag': data_full_clear['final.output.concentrate_ag']}\n",
    "concentration_ag = pd.DataFrame(data = concentration_ag)\n",
    "\n",
    "f, ax = plt.subplots(figsize=(15, 8))\n",
    "sns.histplot(concentration_ag, palette=\"light:b\")\n",
    "ax.set_title('Распределение концентрации серебра на различных стадиях')\n",
    "ax.set_xlabel('Концентрация')\n",
    "ax.set_ylabel('Количество')\n",
    "None"
   ]
  },
  {
   "attachments": {},
   "cell_type": "markdown",
   "metadata": {},
   "source": [
    "The concentration of silver decreases as gold is purified."
   ]
  },
  {
   "cell_type": "code",
   "execution_count": 82,
   "metadata": {},
   "outputs": [
    {
     "data": {
      "image/png": "[encoded data removed]",
      "text/plain": [
       "<Figure size 1500x800 with 1 Axes>"
      ]
     },
     "metadata": {},
     "output_type": "display_data"
    }
   ],
   "source": [
    "concentration_pb = {'rougher_input_pb': data_full_clear['rougher.input.feed_pb'], 'rougher_output_pb': data_full_clear['rougher.output.concentrate_pb'],\n",
    "                   'primary_cleaner_output_pb': data_full_clear['primary_cleaner.output.concentrate_pb'], 'final_output_pb': data_full_clear['final.output.concentrate_pb']}\n",
    "concentration_pb = pd.DataFrame(data = concentration_pb)\n",
    "\n",
    "f, ax = plt.subplots(figsize=(15, 8))\n",
    "sns.histplot(concentration_pb, palette=\"light:b\")\n",
    "ax.set_title('Распределение концентрации свинца на различных стадиях')\n",
    "ax.set_xlabel('Концентрация')\n",
    "ax.set_ylabel('Количество')\n",
    "None"
   ]
  },
  {
   "attachments": {},
   "cell_type": "markdown",
   "metadata": {},
   "source": [
    "The lead concentration increases until the second purification stage and then remains constant."
   ]
  },
  {
   "attachments": {},
   "cell_type": "markdown",
   "metadata": {},
   "source": [
    "Let's compare the distributions of raw material feed particle sizes in the training and test sets."
   ]
  },
  {
   "cell_type": "code",
   "execution_count": 83,
   "metadata": {},
   "outputs": [
    {
     "data": {
      "image/png": "[encoded data removed]",
      "text/plain": [
       "<Figure size 1500x800 with 1 Axes>"
      ]
     },
     "metadata": {},
     "output_type": "display_data"
    }
   ],
   "source": [
    "feed_size = {'rougher.input.feed_size_test': data_test_clear['rougher.input.feed_size'],\n",
    "             'rougher.input.feed_size_train': data_train_clear['rougher.input.feed_size']}\n",
    "feed_size = pd.DataFrame(feed_size)\n",
    "\n",
    "f, ax = plt.subplots(figsize=(15, 8))\n",
    "sns.kdeplot(data = feed_size, palette='mako')\n",
    "ax.set_title('Распределение размеров гранул сырья до флотации на обучающей и тестовой выборке')\n",
    "ax.set_xlabel('Размеры гранул сырья')\n",
    "ax.set_ylabel('Плотность')\n",
    "None"
   ]
  },
  {
   "cell_type": "code",
   "execution_count": 84,
   "metadata": {},
   "outputs": [
    {
     "data": {
      "image/png": "[encoded data removed]",
      "text/plain": [
       "<Figure size 1500x800 with 1 Axes>"
      ]
     },
     "metadata": {},
     "output_type": "display_data"
    }
   ],
   "source": [
    "feed_size_primary = {'primary_cleaner.input.feed_size_test': data_test_clear['primary_cleaner.input.feed_size'],\n",
    "                     'primary_cleaner.input.feed_size_train': data_train_clear['primary_cleaner.input.feed_size']}\n",
    "\n",
    "feed_size_primary = pd.DataFrame(feed_size_primary)\n",
    "\n",
    "f, ax = plt.subplots(figsize=(15, 8))\n",
    "sns.kdeplot(data = feed_size_primary, palette='mako')\n",
    "ax.set_title('Распределение размеров гранул сырья до первичной очистки на обучающей и тестовой выборке')\n",
    "ax.set_xlabel('Размеры гранул сырья')\n",
    "ax.set_ylabel('Плотность')\n",
    "None"
   ]
  },
  {
   "cell_type": "code",
   "execution_count": 85,
   "metadata": {},
   "outputs": [
    {
     "data": {
      "text/plain": [
       "count    10080.000000\n",
       "mean        59.070691\n",
       "std         12.672270\n",
       "min          9.659576\n",
       "25%         49.780940\n",
       "50%         55.824382\n",
       "75%         66.826762\n",
       "max        124.582328\n",
       "Name: rougher.input.feed_size_train, dtype: float64"
      ]
     },
     "execution_count": 85,
     "metadata": {},
     "output_type": "execute_result"
    }
   ],
   "source": [
    "feed_size['rougher.input.feed_size_train'].describe()"
   ]
  },
  {
   "cell_type": "code",
   "execution_count": 86,
   "metadata": {},
   "outputs": [
    {
     "data": {
      "text/plain": [
       "count    3877.000000\n",
       "mean       54.292729\n",
       "std        12.822469\n",
       "min         0.046369\n",
       "25%        43.812353\n",
       "50%        50.827499\n",
       "75%        60.956867\n",
       "max       112.383021\n",
       "Name: rougher.input.feed_size_test, dtype: float64"
      ]
     },
     "execution_count": 86,
     "metadata": {},
     "output_type": "execute_result"
    }
   ],
   "source": [
    "feed_size['rougher.input.feed_size_test'].describe()"
   ]
  },
  {
   "cell_type": "code",
   "execution_count": 87,
   "metadata": {},
   "outputs": [
    {
     "data": {
      "text/plain": [
       "count    3877.000000\n",
       "mean        7.227040\n",
       "std         0.536190\n",
       "min         5.650000\n",
       "25%         6.900000\n",
       "50%         7.206667\n",
       "75%         7.560000\n",
       "max         8.710000\n",
       "Name: primary_cleaner.input.feed_size_test, dtype: float64"
      ]
     },
     "execution_count": 87,
     "metadata": {},
     "output_type": "execute_result"
    }
   ],
   "source": [
    "feed_size_primary['primary_cleaner.input.feed_size_test'].describe()"
   ]
  },
  {
   "cell_type": "code",
   "execution_count": 88,
   "metadata": {},
   "outputs": [
    {
     "data": {
      "text/plain": [
       "count    10080.000000\n",
       "mean         7.290822\n",
       "std          0.548264\n",
       "min          5.540000\n",
       "25%          6.950000\n",
       "50%          7.280000\n",
       "75%          7.615417\n",
       "max          9.110000\n",
       "Name: primary_cleaner.input.feed_size_train, dtype: float64"
      ]
     },
     "execution_count": 88,
     "metadata": {},
     "output_type": "execute_result"
    }
   ],
   "source": [
    "feed_size_primary['primary_cleaner.input.feed_size_train'].describe()"
   ]
  },
  {
   "attachments": {},
   "cell_type": "markdown",
   "metadata": {},
   "source": [
    "The mean values of the distributions are close to each other, as well as the medians. Therefore, we can assume that the distributions are similar."
   ]
  },
  {
   "attachments": {},
   "cell_type": "markdown",
   "metadata": {},
   "source": [
    "Let's analyse the total concentration of substances at different stages."
   ]
  },
  {
   "cell_type": "code",
   "execution_count": 89,
   "metadata": {},
   "outputs": [
    {
     "data": {
      "text/html": [
       "<div>\n",
       "<style scoped>\n",
       "    .dataframe tbody tr th:only-of-type {\n",
       "        vertical-align: middle;\n",
       "    }\n",
       "\n",
       "    .dataframe tbody tr th {\n",
       "        vertical-align: top;\n",
       "    }\n",
       "\n",
       "    .dataframe thead th {\n",
       "        text-align: right;\n",
       "    }\n",
       "</style>\n",
       "<table border=\"1\" class=\"dataframe\">\n",
       "  <thead>\n",
       "    <tr style=\"text-align: right;\">\n",
       "      <th></th>\n",
       "      <th>rougher_input</th>\n",
       "      <th>rougher_output</th>\n",
       "      <th>primary_cleaner_output</th>\n",
       "      <th>final_output</th>\n",
       "    </tr>\n",
       "  </thead>\n",
       "  <tbody>\n",
       "    <tr>\n",
       "      <th>0</th>\n",
       "      <td>51.680034</td>\n",
       "      <td>66.424950</td>\n",
       "      <td>72.640924</td>\n",
       "      <td>63.644396</td>\n",
       "    </tr>\n",
       "    <tr>\n",
       "      <th>1</th>\n",
       "      <td>50.659114</td>\n",
       "      <td>67.012710</td>\n",
       "      <td>72.543485</td>\n",
       "      <td>63.957723</td>\n",
       "    </tr>\n",
       "    <tr>\n",
       "      <th>2</th>\n",
       "      <td>50.609929</td>\n",
       "      <td>66.103793</td>\n",
       "      <td>72.095042</td>\n",
       "      <td>64.311180</td>\n",
       "    </tr>\n",
       "    <tr>\n",
       "      <th>3</th>\n",
       "      <td>51.061546</td>\n",
       "      <td>65.752751</td>\n",
       "      <td>59.957723</td>\n",
       "      <td>63.573449</td>\n",
       "    </tr>\n",
       "    <tr>\n",
       "      <th>4</th>\n",
       "      <td>47.859163</td>\n",
       "      <td>65.908382</td>\n",
       "      <td>71.321010</td>\n",
       "      <td>64.004667</td>\n",
       "    </tr>\n",
       "    <tr>\n",
       "      <th>...</th>\n",
       "      <td>...</td>\n",
       "      <td>...</td>\n",
       "      <td>...</td>\n",
       "      <td>...</td>\n",
       "    </tr>\n",
       "    <tr>\n",
       "      <th>19434</th>\n",
       "      <td>53.415050</td>\n",
       "      <td>70.781325</td>\n",
       "      <td>59.001692</td>\n",
       "      <td>68.098589</td>\n",
       "    </tr>\n",
       "    <tr>\n",
       "      <th>19435</th>\n",
       "      <td>53.696482</td>\n",
       "      <td>70.539603</td>\n",
       "      <td>59.703912</td>\n",
       "      <td>68.274362</td>\n",
       "    </tr>\n",
       "    <tr>\n",
       "      <th>19436</th>\n",
       "      <td>54.589604</td>\n",
       "      <td>55.376330</td>\n",
       "      <td>59.561096</td>\n",
       "      <td>68.226068</td>\n",
       "    </tr>\n",
       "    <tr>\n",
       "      <th>19437</th>\n",
       "      <td>54.027355</td>\n",
       "      <td>69.201689</td>\n",
       "      <td>57.216686</td>\n",
       "      <td>68.200449</td>\n",
       "    </tr>\n",
       "    <tr>\n",
       "      <th>19438</th>\n",
       "      <td>53.535054</td>\n",
       "      <td>69.544003</td>\n",
       "      <td>55.748041</td>\n",
       "      <td>68.353154</td>\n",
       "    </tr>\n",
       "  </tbody>\n",
       "</table>\n",
       "<p>19439 rows × 4 columns</p>\n",
       "</div>"
      ],
      "text/plain": [
       "       rougher_input  rougher_output  primary_cleaner_output  final_output\n",
       "0          51.680034       66.424950               72.640924     63.644396\n",
       "1          50.659114       67.012710               72.543485     63.957723\n",
       "2          50.609929       66.103793               72.095042     64.311180\n",
       "3          51.061546       65.752751               59.957723     63.573449\n",
       "4          47.859163       65.908382               71.321010     64.004667\n",
       "...              ...             ...                     ...           ...\n",
       "19434      53.415050       70.781325               59.001692     68.098589\n",
       "19435      53.696482       70.539603               59.703912     68.274362\n",
       "19436      54.589604       55.376330               59.561096     68.226068\n",
       "19437      54.027355       69.201689               57.216686     68.200449\n",
       "19438      53.535054       69.544003               55.748041     68.353154\n",
       "\n",
       "[19439 rows x 4 columns]"
      ]
     },
     "execution_count": 89,
     "metadata": {},
     "output_type": "execute_result"
    }
   ],
   "source": [
    "concentration = {'rougher_input': data_full['rougher.input.feed_au'] \n",
    "                 + data_full['rougher.input.feed_ag']\n",
    "                 + data_full['rougher.input.feed_pb']\n",
    "                 + data_full['rougher.input.feed_sol'],\n",
    "                 'rougher_output': data_full['rougher.output.concentrate_au'] \n",
    "                 + data_full['rougher.output.concentrate_ag']\n",
    "                 + data_full['rougher.output.concentrate_pb']\n",
    "                 + data_full['rougher.output.concentrate_sol'],\n",
    "                 'primary_cleaner_output': data_full['primary_cleaner.output.concentrate_au']\n",
    "                 + data_full['primary_cleaner.output.concentrate_ag']\n",
    "                 + data_full['primary_cleaner.output.concentrate_pb']\n",
    "                 + data_full['primary_cleaner.output.concentrate_sol'],\n",
    "                 'final_output': data_full['final.output.concentrate_au']\n",
    "                 + data_full['final.output.concentrate_ag']\n",
    "                 + data_full['final.output.concentrate_pb']\n",
    "                 + data_full['final.output.concentrate_sol']}\n",
    "concentration = pd.DataFrame(data = concentration)\n",
    "concentration"
   ]
  },
  {
   "cell_type": "code",
   "execution_count": 90,
   "metadata": {},
   "outputs": [],
   "source": [
    "concentration_clear = sigma_outlier(concentration)"
   ]
  },
  {
   "cell_type": "code",
   "execution_count": 91,
   "metadata": {},
   "outputs": [
    {
     "data": {
      "image/png": "[encoded data removed]",
      "text/plain": [
       "<Figure size 1500x800 with 1 Axes>"
      ]
     },
     "metadata": {},
     "output_type": "display_data"
    }
   ],
   "source": [
    "f, ax = plt.subplots(figsize=(15, 8))\n",
    "sns.histplot(concentration_clear, palette=\"light:b\")\n",
    "ax.set_title('Распределение суммарной концентрации металлов на различных этапах обработки')\n",
    "ax.set_xlabel('Суммарная концентрауия веществ')\n",
    "ax.set_ylabel('Количество')\n",
    "None"
   ]
  },
  {
   "attachments": {},
   "cell_type": "markdown",
   "metadata": {},
   "source": [
    "The graph shows that the highest concentration is reached at the final stage. This is due to the increase in the concentration of gold by almost 5 times. Graphs of changes in the concentration of substances at different stages of purification were plotted based on the analysis of the data obtained, separately for Au, Ag, and Pb, as well as the total concentration. Also, by examining the particle size distributions of the raw material in the test and training sets, we can conclude that the distributions have a similar nature."
   ]
  },
  {
   "attachments": {},
   "cell_type": "markdown",
   "metadata": {},
   "source": [
    "## Model"
   ]
  },
  {
   "attachments": {},
   "cell_type": "markdown",
   "metadata": {},
   "source": [
    "Let's write a function to calculate the sMAPE metric using the formula provided in the project documentation."
   ]
  },
  {
   "cell_type": "code",
   "execution_count": 100,
   "metadata": {},
   "outputs": [],
   "source": [
    "#Функция вычисляющая sMAPE\n",
    "def sMAPE_score(target, prediction):\n",
    "    target = target.array\n",
    "    sMAPE= 1/len(target) * sum(2 * abs(target - prediction) / (abs(target) + abs(prediction)) * 100)\n",
    "    return sMAPE"
   ]
  },
  {
   "cell_type": "code",
   "execution_count": 93,
   "metadata": {},
   "outputs": [],
   "source": [
    "def sMAPE_score_total(smape_rougher, smape_final):\n",
    "    return 0.25 * smape_rougher + 0.75 * smape_final"
   ]
  },
  {
   "attachments": {},
   "cell_type": "markdown",
   "metadata": {},
   "source": [
    "We will split the datasets into features and targets."
   ]
  },
  {
   "cell_type": "code",
   "execution_count": 94,
   "metadata": {},
   "outputs": [
    {
     "name": "stdout",
     "output_type": "stream",
     "text": [
      "(10080, 52) (3877, 52)\n"
     ]
    }
   ],
   "source": [
    "#The target is the final and flotation cleaning efficiency.\n",
    "target_train_rougher = data_train_clear['rougher.output.recovery']\n",
    "target_train_final = data_train_clear['final.output.recovery']\n",
    "\n",
    "target_test_rougher = data_test_clear['rougher.output.recovery']\n",
    "target_test_final = data_test_clear['final.output.recovery']\n",
    "\n",
    "#Features\n",
    "features_train = data_train_clear.drop(['final.output.recovery', 'rougher.output.recovery'], axis=1)\n",
    "features_test = data_test_clear.drop(['final.output.recovery', 'rougher.output.recovery'], axis=1)\n",
    "\n",
    "#Check shape\n",
    "print(features_train.shape, features_test.shape)"
   ]
  },
  {
   "cell_type": "code",
   "execution_count": 95,
   "metadata": {},
   "outputs": [],
   "source": [
    "#Стандартизируем признаки\n",
    "scaler = StandardScaler()\n",
    "\n",
    "#Обучаем стандартизатор на тренировочной выборке\n",
    "scaler.fit(features_train)\n",
    "\n",
    "features_train = scaler.transform(features_train)\n",
    "\n",
    "#features_valid = scaler.transform(features_valid)\n",
    "features_test = scaler.transform(features_test)\n",
    "\n",
    "pd.options.mode.chained_assignment = None\n",
    "\n",
    "features_train = pd.DataFrame(features_train)\n",
    "#features_valid = pd.DataFrame(features_valid)\n",
    "features_test = pd.DataFrame(features_test)"
   ]
  },
  {
   "attachments": {},
   "cell_type": "markdown",
   "metadata": {},
   "source": [
    "We will build various models: linear regression, random forest, and constant. We will use GridSearchCV for cross-validation and parameter tuning."
   ]
  },
  {
   "cell_type": "code",
   "execution_count": 96,
   "metadata": {},
   "outputs": [
    {
     "name": "stdout",
     "output_type": "stream",
     "text": [
      "8.72133115676054\n"
     ]
    }
   ],
   "source": [
    "#Линейная регрессия\n",
    "regressor = LinearRegression()\n",
    "param_grid = {}\n",
    "smape_scorer = make_scorer(sMAPE_score, greater_is_better = False)\n",
    "\n",
    "model_reg_rougher = GridSearchCV(regressor, param_grid, cv=5, n_jobs = -1,  scoring = smape_scorer)\n",
    "model_reg_final = GridSearchCV(regressor, param_grid, cv=5, n_jobs = -1,  scoring = smape_scorer)\n",
    "\n",
    "model_reg_rougher.fit(features_train, target_train_rougher)\n",
    "model_reg_final.fit(features_train, target_train_final)\n",
    "\n",
    "best_model_reg_rougher = model_reg_rougher.best_estimator_\n",
    "best_model_reg_final = model_reg_final.best_estimator_\n",
    "\n",
    "smape_rougher = model_reg_rougher.best_score_\n",
    "smape_final = model_reg_final.best_score_\n",
    "\n",
    "sMAPE = - sMAPE_score_total(smape_rougher, smape_final)\n",
    "print(sMAPE)"
   ]
  },
  {
   "cell_type": "code",
   "execution_count": 97,
   "metadata": {},
   "outputs": [
    {
     "name": "stdout",
     "output_type": "stream",
     "text": [
      "Fitting 5 folds for each of 50 candidates, totalling 250 fits\n",
      "Fitting 5 folds for each of 50 candidates, totalling 250 fits\n",
      "7.99035964640926\n",
      "Wall time: 1h 25s\n"
     ]
    }
   ],
   "source": [
    "%%time\n",
    "\n",
    "forest = RandomForestRegressor()\n",
    "param_grid = {'n_estimators': np.arange(100, 1000, 50), 'max_depth': [None] + [i for i in range(2, 11)]}\n",
    "\n",
    "smape_scorer = make_scorer(sMAPE_score, greater_is_better = False)\n",
    "\n",
    "model_forest_rougher = RandomizedSearchCV(forest, param_distributions = param_grid, cv=5, n_iter=50, n_jobs = -1, verbose=10, scoring = smape_scorer)\n",
    "model_forest_final = RandomizedSearchCV(forest, param_distributions = param_grid, cv=5, n_iter=50, n_jobs = -1, verbose=10, scoring = smape_scorer)\n",
    "\n",
    "model_forest_rougher.fit(features_train, target_train_rougher)\n",
    "model_forest_final.fit(features_train, target_train_final)\n",
    "\n",
    "best_model_forest_rougher = model_forest_rougher.best_estimator_\n",
    "best_model_forest_final = model_forest_final.best_estimator_\n",
    "\n",
    "smape_rougher = model_forest_rougher.best_score_\n",
    "smape_final = model_forest_final.best_score_\n",
    "\n",
    "sMAPE_forest = - sMAPE_score_total(smape_rougher, smape_final)\n",
    "print(sMAPE_forest)"
   ]
  },
  {
   "cell_type": "code",
   "execution_count": 101,
   "metadata": {},
   "outputs": [
    {
     "data": {
      "text/plain": [
       "6.397976978536371"
      ]
     },
     "execution_count": 101,
     "metadata": {},
     "output_type": "execute_result"
    }
   ],
   "source": [
    "#Константная модель\n",
    "dummy_regr_rougher = DummyRegressor(strategy=\"mean\")\n",
    "dummy_regr_final = DummyRegressor(strategy=\"mean\")\n",
    "\n",
    "dummy_regr_rougher.fit(features_train, target_train_rougher)\n",
    "dummy_regr_final.fit(features_train, target_train_final)\n",
    "\n",
    "predicted_dummy_rougher = dummy_regr_rougher.predict(features_test)\n",
    "predicted_dummy_final = dummy_regr_final.predict(features_test)\n",
    "\n",
    "sMAPE_dummy_rougher = sMAPE_score(predicted_dummy_rougher, target_test_rougher)\n",
    "sMAPE_dummy_final = sMAPE_score(predicted_dummy_final, target_test_final)\n",
    "\n",
    "sMAPE_dummy_total = sMAPE_score_total(sMAPE_dummy_rougher, sMAPE_dummy_final)\n",
    "sMAPE_dummy_total"
   ]
  },
  {
   "attachments": {},
   "cell_type": "markdown",
   "metadata": {},
   "source": [
    "Linear regression and random forest results are slightly better than dummy. Let's look at the distributions of prediction and true answers."
   ]
  },
  {
   "attachments": {},
   "cell_type": "markdown",
   "metadata": {},
   "source": [
    "The best model is RandomForest. sMAPE for Forest is 8 versus 8.7 for linear regression."
   ]
  },
  {
   "cell_type": "code",
   "execution_count": 102,
   "metadata": {},
   "outputs": [
    {
     "data": {
      "text/plain": [
       "6.2765095748305955"
      ]
     },
     "execution_count": 102,
     "metadata": {},
     "output_type": "execute_result"
    }
   ],
   "source": [
    "predict_rougher_test = best_model_forest_rougher.predict(features_test)\n",
    "predict_final_test = best_model_forest_final.predict(features_test)\n",
    "\n",
    "sMAPE_test_rougher = sMAPE_score(predict_rougher_test, target_test_rougher)\n",
    "sMAPE_test_final = sMAPE_score(predict_final_test, target_test_final)\n",
    "\n",
    "sMAPE_total_test = sMAPE_score_total(sMAPE_test_rougher, sMAPE_test_final)\n",
    "sMAPE_total_test"
   ]
  },
  {
   "attachments": {},
   "cell_type": "markdown",
   "metadata": {},
   "source": [
    "**Сonclusions:**\n",
    "* The provided data was studied and processed.\n",
    "* The calculated value of the recovery efficiency matches that presented in the data.\n",
    "* Missing data was filled with the median.\n",
    "* Outliers were removed beyond three standard deviations.\n",
    "* An analysis of the obtained data was conducted.\n",
    "* The shown graphs illustrate how the concentration of various substances changes during the processing.\n",
    "* Various models were built and for each of them, the sMAPE metric was found.\n",
    "* The linear regression model is considered to be the best."
   ]
  },
  {
   "cell_type": "markdown",
   "metadata": {},
   "source": []
  }
 ],
 "metadata": {
  "ExecuteTimeLog": [
   {
    "duration": 422,
    "start_time": "2022-12-06T12:23:28.773Z"
   },
   {
    "duration": 1837,
    "start_time": "2022-12-06T12:24:00.851Z"
   },
   {
    "duration": 5,
    "start_time": "2022-12-06T12:55:07.702Z"
   },
   {
    "duration": 22,
    "start_time": "2022-12-06T12:55:23.084Z"
   },
   {
    "duration": 436,
    "start_time": "2022-12-07T11:15:10.739Z"
   },
   {
    "duration": 410,
    "start_time": "2022-12-07T11:15:48.610Z"
   },
   {
    "duration": 48,
    "start_time": "2022-12-07T11:20:51.550Z"
   },
   {
    "duration": 41,
    "start_time": "2022-12-07T11:21:18.211Z"
   },
   {
    "duration": 45,
    "start_time": "2022-12-07T11:21:28.925Z"
   },
   {
    "duration": 45,
    "start_time": "2022-12-07T11:21:41.997Z"
   },
   {
    "duration": 11,
    "start_time": "2022-12-07T11:22:10.325Z"
   },
   {
    "duration": 6,
    "start_time": "2022-12-07T11:22:42.924Z"
   },
   {
    "duration": 8,
    "start_time": "2022-12-07T11:24:41.510Z"
   },
   {
    "duration": 5,
    "start_time": "2022-12-07T11:26:13.362Z"
   },
   {
    "duration": 5,
    "start_time": "2022-12-07T12:00:39.810Z"
   },
   {
    "duration": 79,
    "start_time": "2022-12-07T12:02:43.813Z"
   },
   {
    "duration": 11,
    "start_time": "2022-12-07T12:03:08.592Z"
   },
   {
    "duration": 50,
    "start_time": "2022-12-07T12:05:44.246Z"
   },
   {
    "duration": 12,
    "start_time": "2022-12-07T12:05:48.241Z"
   },
   {
    "duration": 13,
    "start_time": "2022-12-07T12:06:13.958Z"
   },
   {
    "duration": 13,
    "start_time": "2022-12-07T12:07:17.461Z"
   },
   {
    "duration": 5,
    "start_time": "2022-12-07T12:08:24.852Z"
   },
   {
    "duration": 5,
    "start_time": "2022-12-07T12:08:35.139Z"
   },
   {
    "duration": 5,
    "start_time": "2022-12-07T12:08:39.593Z"
   },
   {
    "duration": 20,
    "start_time": "2022-12-07T12:08:52.892Z"
   },
   {
    "duration": 10,
    "start_time": "2022-12-07T12:09:25.611Z"
   },
   {
    "duration": 251,
    "start_time": "2022-12-07T12:09:58.659Z"
   },
   {
    "duration": 28,
    "start_time": "2022-12-07T12:10:07.995Z"
   },
   {
    "duration": 12,
    "start_time": "2022-12-07T12:10:29.546Z"
   },
   {
    "duration": 6,
    "start_time": "2022-12-07T12:10:42.522Z"
   },
   {
    "duration": 5,
    "start_time": "2022-12-07T12:11:17.578Z"
   },
   {
    "duration": 4,
    "start_time": "2022-12-07T12:11:47.954Z"
   },
   {
    "duration": 8,
    "start_time": "2022-12-07T12:11:53.409Z"
   },
   {
    "duration": 8,
    "start_time": "2022-12-07T12:12:13.377Z"
   },
   {
    "duration": 8,
    "start_time": "2022-12-07T12:12:46.777Z"
   },
   {
    "duration": 367,
    "start_time": "2022-12-07T12:13:02.221Z"
   },
   {
    "duration": 964,
    "start_time": "2022-12-07T12:13:02.590Z"
   },
   {
    "duration": 21,
    "start_time": "2022-12-07T12:13:03.556Z"
   },
   {
    "duration": 276,
    "start_time": "2022-12-07T12:13:03.580Z"
   },
   {
    "duration": 126,
    "start_time": "2022-12-07T12:13:03.858Z"
   },
   {
    "duration": 10,
    "start_time": "2022-12-07T12:13:03.986Z"
   },
   {
    "duration": 32,
    "start_time": "2022-12-07T12:13:03.998Z"
   },
   {
    "duration": 58,
    "start_time": "2022-12-07T12:13:04.032Z"
   },
   {
    "duration": 34,
    "start_time": "2022-12-07T12:13:04.092Z"
   },
   {
    "duration": 33,
    "start_time": "2022-12-07T12:13:04.129Z"
   },
   {
    "duration": 472,
    "start_time": "2022-12-07T12:15:06.663Z"
   },
   {
    "duration": 398,
    "start_time": "2022-12-07T12:15:07.137Z"
   },
   {
    "duration": 23,
    "start_time": "2022-12-07T12:15:07.536Z"
   },
   {
    "duration": 313,
    "start_time": "2022-12-07T12:15:07.562Z"
   },
   {
    "duration": 121,
    "start_time": "2022-12-07T12:15:07.877Z"
   },
   {
    "duration": 10,
    "start_time": "2022-12-07T12:15:08.000Z"
   },
   {
    "duration": 12,
    "start_time": "2022-12-07T12:15:08.012Z"
   },
   {
    "duration": 29,
    "start_time": "2022-12-07T12:15:08.026Z"
   },
   {
    "duration": 10,
    "start_time": "2022-12-07T12:15:08.056Z"
   },
   {
    "duration": 103,
    "start_time": "2022-12-07T12:15:08.068Z"
   },
   {
    "duration": 327,
    "start_time": "2022-12-07T12:15:28.479Z"
   },
   {
    "duration": 33,
    "start_time": "2022-12-07T12:15:32.343Z"
   },
   {
    "duration": 33,
    "start_time": "2022-12-07T12:15:38.696Z"
   },
   {
    "duration": 5,
    "start_time": "2022-12-07T12:16:00.166Z"
   },
   {
    "duration": 51,
    "start_time": "2022-12-07T12:16:02.851Z"
   },
   {
    "duration": 45,
    "start_time": "2022-12-07T12:16:19.152Z"
   },
   {
    "duration": 15,
    "start_time": "2022-12-07T12:21:51.741Z"
   },
   {
    "duration": 8,
    "start_time": "2022-12-07T12:22:34.179Z"
   },
   {
    "duration": 12,
    "start_time": "2022-12-07T12:22:42.610Z"
   },
   {
    "duration": 417,
    "start_time": "2022-12-07T12:23:07.378Z"
   },
   {
    "duration": 423,
    "start_time": "2022-12-07T12:23:07.797Z"
   },
   {
    "duration": 26,
    "start_time": "2022-12-07T12:23:08.222Z"
   },
   {
    "duration": 343,
    "start_time": "2022-12-07T12:23:08.252Z"
   },
   {
    "duration": 94,
    "start_time": "2022-12-07T12:23:08.597Z"
   },
   {
    "duration": 10,
    "start_time": "2022-12-07T12:23:08.692Z"
   },
   {
    "duration": 9,
    "start_time": "2022-12-07T12:23:08.704Z"
   },
   {
    "duration": 7,
    "start_time": "2022-12-07T12:23:08.715Z"
   },
   {
    "duration": 9,
    "start_time": "2022-12-07T12:23:08.724Z"
   },
   {
    "duration": 97,
    "start_time": "2022-12-07T12:23:08.735Z"
   },
   {
    "duration": 17,
    "start_time": "2022-12-07T12:23:34.256Z"
   },
   {
    "duration": 45,
    "start_time": "2022-12-07T12:24:02.049Z"
   },
   {
    "duration": 37,
    "start_time": "2022-12-07T12:24:38.824Z"
   },
   {
    "duration": 8,
    "start_time": "2022-12-07T12:25:04.088Z"
   },
   {
    "duration": 13,
    "start_time": "2022-12-07T12:25:11.072Z"
   },
   {
    "duration": 481,
    "start_time": "2022-12-07T12:25:22.088Z"
   },
   {
    "duration": 441,
    "start_time": "2022-12-07T12:25:22.571Z"
   },
   {
    "duration": 24,
    "start_time": "2022-12-07T12:25:23.014Z"
   },
   {
    "duration": 304,
    "start_time": "2022-12-07T12:25:23.040Z"
   },
   {
    "duration": 88,
    "start_time": "2022-12-07T12:25:23.347Z"
   },
   {
    "duration": 11,
    "start_time": "2022-12-07T12:25:23.437Z"
   },
   {
    "duration": 11,
    "start_time": "2022-12-07T12:25:23.449Z"
   },
   {
    "duration": 11,
    "start_time": "2022-12-07T12:25:23.477Z"
   },
   {
    "duration": 13,
    "start_time": "2022-12-07T12:25:23.490Z"
   },
   {
    "duration": 42,
    "start_time": "2022-12-07T12:25:23.505Z"
   },
   {
    "duration": 6,
    "start_time": "2022-12-07T12:25:49.191Z"
   },
   {
    "duration": 435,
    "start_time": "2022-12-07T12:26:00.971Z"
   },
   {
    "duration": 417,
    "start_time": "2022-12-07T12:26:01.408Z"
   },
   {
    "duration": 21,
    "start_time": "2022-12-07T12:26:01.827Z"
   },
   {
    "duration": 300,
    "start_time": "2022-12-07T12:26:01.851Z"
   },
   {
    "duration": 88,
    "start_time": "2022-12-07T12:26:02.153Z"
   },
   {
    "duration": 11,
    "start_time": "2022-12-07T12:26:02.243Z"
   },
   {
    "duration": 37,
    "start_time": "2022-12-07T12:26:02.256Z"
   },
   {
    "duration": 63,
    "start_time": "2022-12-07T12:26:02.295Z"
   },
   {
    "duration": 42,
    "start_time": "2022-12-07T12:26:02.361Z"
   },
   {
    "duration": 67,
    "start_time": "2022-12-07T12:26:02.405Z"
   },
   {
    "duration": 389,
    "start_time": "2022-12-07T12:38:46.141Z"
   },
   {
    "duration": 793,
    "start_time": "2022-12-07T12:39:11.680Z"
   },
   {
    "duration": 6,
    "start_time": "2022-12-07T12:39:26.557Z"
   },
   {
    "duration": 431,
    "start_time": "2022-12-07T12:41:12.967Z"
   },
   {
    "duration": 395,
    "start_time": "2022-12-07T12:41:13.400Z"
   },
   {
    "duration": 68,
    "start_time": "2022-12-07T12:41:13.797Z"
   },
   {
    "duration": 0,
    "start_time": "2022-12-07T12:41:13.878Z"
   },
   {
    "duration": 0,
    "start_time": "2022-12-07T12:41:13.880Z"
   },
   {
    "duration": 0,
    "start_time": "2022-12-07T12:41:13.882Z"
   },
   {
    "duration": 0,
    "start_time": "2022-12-07T12:41:13.883Z"
   },
   {
    "duration": 0,
    "start_time": "2022-12-07T12:41:13.884Z"
   },
   {
    "duration": 0,
    "start_time": "2022-12-07T12:41:13.886Z"
   },
   {
    "duration": 0,
    "start_time": "2022-12-07T12:41:13.887Z"
   },
   {
    "duration": 0,
    "start_time": "2022-12-07T12:41:13.888Z"
   },
   {
    "duration": 21,
    "start_time": "2022-12-07T12:41:22.235Z"
   },
   {
    "duration": 282,
    "start_time": "2022-12-07T12:41:26.026Z"
   },
   {
    "duration": 107,
    "start_time": "2022-12-07T12:41:27.130Z"
   },
   {
    "duration": 9,
    "start_time": "2022-12-07T12:41:27.963Z"
   },
   {
    "duration": 6,
    "start_time": "2022-12-07T12:41:28.939Z"
   },
   {
    "duration": 7,
    "start_time": "2022-12-07T12:41:29.523Z"
   },
   {
    "duration": 6,
    "start_time": "2022-12-07T12:41:30.139Z"
   },
   {
    "duration": 47,
    "start_time": "2022-12-07T12:41:30.987Z"
   },
   {
    "duration": 16,
    "start_time": "2022-12-07T12:41:33.603Z"
   },
   {
    "duration": 16,
    "start_time": "2022-12-07T12:42:47.555Z"
   },
   {
    "duration": 66,
    "start_time": "2022-12-07T12:43:04.562Z"
   },
   {
    "duration": 9,
    "start_time": "2022-12-07T12:43:30.731Z"
   },
   {
    "duration": 48,
    "start_time": "2022-12-07T12:52:18.258Z"
   },
   {
    "duration": 9,
    "start_time": "2022-12-07T12:52:43.754Z"
   },
   {
    "duration": 4,
    "start_time": "2022-12-07T12:53:21.138Z"
   },
   {
    "duration": 14,
    "start_time": "2022-12-07T12:53:28.473Z"
   },
   {
    "duration": 20,
    "start_time": "2022-12-07T12:59:53.876Z"
   },
   {
    "duration": 3874,
    "start_time": "2022-12-07T13:01:39.875Z"
   },
   {
    "duration": 126,
    "start_time": "2022-12-07T13:02:29.914Z"
   },
   {
    "duration": 3052,
    "start_time": "2022-12-07T13:05:00.113Z"
   },
   {
    "duration": 49,
    "start_time": "2022-12-07T13:07:00.271Z"
   },
   {
    "duration": 17,
    "start_time": "2022-12-07T13:07:06.158Z"
   },
   {
    "duration": 21,
    "start_time": "2022-12-07T13:07:35.806Z"
   },
   {
    "duration": 18,
    "start_time": "2022-12-07T13:07:43.558Z"
   },
   {
    "duration": 17,
    "start_time": "2022-12-07T13:07:54.239Z"
   },
   {
    "duration": 20,
    "start_time": "2022-12-07T13:08:01.504Z"
   },
   {
    "duration": 552,
    "start_time": "2022-12-07T13:10:52.204Z"
   },
   {
    "duration": 58,
    "start_time": "2022-12-07T13:13:01.715Z"
   },
   {
    "duration": 37,
    "start_time": "2022-12-07T13:13:08.746Z"
   },
   {
    "duration": 23,
    "start_time": "2022-12-07T13:13:13.154Z"
   },
   {
    "duration": 12,
    "start_time": "2022-12-07T13:14:55.217Z"
   },
   {
    "duration": 15,
    "start_time": "2022-12-07T13:15:03.569Z"
   },
   {
    "duration": 3375,
    "start_time": "2022-12-07T13:15:15.699Z"
   },
   {
    "duration": 13,
    "start_time": "2022-12-07T13:17:04.319Z"
   },
   {
    "duration": 1004,
    "start_time": "2022-12-07T13:17:20.222Z"
   },
   {
    "duration": 1021,
    "start_time": "2022-12-07T13:18:27.711Z"
   },
   {
    "duration": 169,
    "start_time": "2022-12-07T13:20:30.983Z"
   },
   {
    "duration": 760,
    "start_time": "2022-12-07T13:21:52.555Z"
   },
   {
    "duration": 19,
    "start_time": "2022-12-07T13:22:23.424Z"
   },
   {
    "duration": 396,
    "start_time": "2022-12-07T13:23:28.810Z"
   },
   {
    "duration": 549,
    "start_time": "2022-12-07T13:23:48.154Z"
   },
   {
    "duration": 771,
    "start_time": "2022-12-07T13:24:09.036Z"
   },
   {
    "duration": 23,
    "start_time": "2022-12-07T13:24:47.770Z"
   },
   {
    "duration": 18,
    "start_time": "2022-12-07T13:25:26.065Z"
   },
   {
    "duration": 195,
    "start_time": "2022-12-07T13:26:19.138Z"
   },
   {
    "duration": 22,
    "start_time": "2022-12-07T13:29:30.839Z"
   },
   {
    "duration": 21,
    "start_time": "2022-12-07T13:30:12.632Z"
   },
   {
    "duration": 23,
    "start_time": "2022-12-07T13:39:19.535Z"
   },
   {
    "duration": 20972,
    "start_time": "2022-12-07T13:39:51.263Z"
   },
   {
    "duration": 57,
    "start_time": "2022-12-07T13:44:45.244Z"
   },
   {
    "duration": 481,
    "start_time": "2022-12-07T13:44:53.059Z"
   },
   {
    "duration": 210,
    "start_time": "2022-12-07T13:45:14.326Z"
   },
   {
    "duration": 1901,
    "start_time": "2022-12-07T13:45:14.538Z"
   },
   {
    "duration": 22,
    "start_time": "2022-12-07T13:45:16.441Z"
   },
   {
    "duration": 460,
    "start_time": "2022-12-07T13:45:16.464Z"
   },
   {
    "duration": 385,
    "start_time": "2022-12-07T13:45:16.926Z"
   },
   {
    "duration": 8,
    "start_time": "2022-12-07T13:45:17.313Z"
   },
   {
    "duration": 5,
    "start_time": "2022-12-07T13:45:17.323Z"
   },
   {
    "duration": 14,
    "start_time": "2022-12-07T13:45:17.330Z"
   },
   {
    "duration": 7,
    "start_time": "2022-12-07T13:45:17.346Z"
   },
   {
    "duration": 48,
    "start_time": "2022-12-07T13:45:17.355Z"
   },
   {
    "duration": 26,
    "start_time": "2022-12-07T13:45:17.405Z"
   },
   {
    "duration": 9,
    "start_time": "2022-12-07T13:45:17.434Z"
   },
   {
    "duration": 40,
    "start_time": "2022-12-07T13:45:17.445Z"
   },
   {
    "duration": 33,
    "start_time": "2022-12-07T13:45:31.171Z"
   },
   {
    "duration": 583,
    "start_time": "2022-12-07T13:47:52.713Z"
   },
   {
    "duration": 445,
    "start_time": "2022-12-10T16:02:09.551Z"
   },
   {
    "duration": 2022,
    "start_time": "2022-12-10T16:02:09.998Z"
   },
   {
    "duration": 22,
    "start_time": "2022-12-10T16:02:12.021Z"
   },
   {
    "duration": 509,
    "start_time": "2022-12-10T16:02:12.044Z"
   },
   {
    "duration": 390,
    "start_time": "2022-12-10T16:02:12.556Z"
   },
   {
    "duration": 10,
    "start_time": "2022-12-10T16:02:12.948Z"
   },
   {
    "duration": 6,
    "start_time": "2022-12-10T16:02:12.960Z"
   },
   {
    "duration": 15,
    "start_time": "2022-12-10T16:02:12.968Z"
   },
   {
    "duration": 18,
    "start_time": "2022-12-10T16:02:12.984Z"
   },
   {
    "duration": 42,
    "start_time": "2022-12-10T16:02:13.003Z"
   },
   {
    "duration": 49,
    "start_time": "2022-12-10T16:02:13.047Z"
   },
   {
    "duration": 8,
    "start_time": "2022-12-10T16:02:13.098Z"
   },
   {
    "duration": 14,
    "start_time": "2022-12-10T16:02:13.108Z"
   },
   {
    "duration": 21288,
    "start_time": "2022-12-10T16:02:13.125Z"
   },
   {
    "duration": 414,
    "start_time": "2022-12-10T16:02:37.543Z"
   },
   {
    "duration": 489,
    "start_time": "2022-12-10T16:02:37.960Z"
   },
   {
    "duration": 45,
    "start_time": "2022-12-10T16:02:38.454Z"
   },
   {
    "duration": 324,
    "start_time": "2022-12-10T16:02:38.503Z"
   },
   {
    "duration": 99,
    "start_time": "2022-12-10T16:02:38.829Z"
   },
   {
    "duration": 12,
    "start_time": "2022-12-10T16:02:38.930Z"
   },
   {
    "duration": 16,
    "start_time": "2022-12-10T16:02:38.944Z"
   },
   {
    "duration": 35,
    "start_time": "2022-12-10T16:02:38.962Z"
   },
   {
    "duration": 8,
    "start_time": "2022-12-10T16:02:38.999Z"
   },
   {
    "duration": 50,
    "start_time": "2022-12-10T16:02:39.009Z"
   },
   {
    "duration": 41,
    "start_time": "2022-12-10T16:02:39.061Z"
   },
   {
    "duration": 12,
    "start_time": "2022-12-10T16:02:39.105Z"
   },
   {
    "duration": 20,
    "start_time": "2022-12-10T16:02:39.122Z"
   },
   {
    "duration": 77,
    "start_time": "2022-12-10T16:02:39.177Z"
   },
   {
    "duration": 0,
    "start_time": "2022-12-10T16:02:39.256Z"
   },
   {
    "duration": 844,
    "start_time": "2022-12-10T16:03:08.548Z"
   },
   {
    "duration": 1078,
    "start_time": "2022-12-10T16:03:14.050Z"
   },
   {
    "duration": 1003,
    "start_time": "2022-12-10T16:03:16.936Z"
   },
   {
    "duration": 3,
    "start_time": "2022-12-10T16:05:42.194Z"
   },
   {
    "duration": 210,
    "start_time": "2022-12-10T16:05:58.081Z"
   },
   {
    "duration": 4,
    "start_time": "2022-12-10T16:06:25.165Z"
   },
   {
    "duration": 612,
    "start_time": "2022-12-10T16:06:41.287Z"
   },
   {
    "duration": 653,
    "start_time": "2022-12-10T16:07:18.313Z"
   },
   {
    "duration": 203,
    "start_time": "2022-12-10T16:07:35.902Z"
   },
   {
    "duration": 797,
    "start_time": "2022-12-10T16:07:50.313Z"
   },
   {
    "duration": 602,
    "start_time": "2022-12-10T16:07:57.193Z"
   },
   {
    "duration": 620,
    "start_time": "2022-12-10T16:08:03.944Z"
   },
   {
    "duration": 623,
    "start_time": "2022-12-10T16:08:13.443Z"
   },
   {
    "duration": 799,
    "start_time": "2022-12-10T16:08:23.594Z"
   },
   {
    "duration": 628,
    "start_time": "2022-12-10T16:08:29.905Z"
   },
   {
    "duration": 613,
    "start_time": "2022-12-10T16:09:29.194Z"
   },
   {
    "duration": 821,
    "start_time": "2022-12-10T16:09:34.313Z"
   },
   {
    "duration": 647,
    "start_time": "2022-12-10T16:09:46.500Z"
   },
   {
    "duration": 689,
    "start_time": "2022-12-10T16:10:25.296Z"
   },
   {
    "duration": 1166,
    "start_time": "2022-12-10T16:10:35.630Z"
   },
   {
    "duration": 1127,
    "start_time": "2022-12-10T16:10:43.115Z"
   },
   {
    "duration": 648,
    "start_time": "2022-12-10T16:12:52.020Z"
   },
   {
    "duration": 610,
    "start_time": "2022-12-10T16:13:22.667Z"
   },
   {
    "duration": 828,
    "start_time": "2022-12-10T16:13:33.744Z"
   },
   {
    "duration": 1481,
    "start_time": "2022-12-10T16:13:48.438Z"
   },
   {
    "duration": 847,
    "start_time": "2022-12-10T16:13:56.123Z"
   },
   {
    "duration": 173,
    "start_time": "2022-12-10T16:15:33.038Z"
   },
   {
    "duration": 163,
    "start_time": "2022-12-10T16:15:39.641Z"
   },
   {
    "duration": 636,
    "start_time": "2022-12-10T16:15:44.053Z"
   },
   {
    "duration": 1346,
    "start_time": "2022-12-10T16:15:53.653Z"
   },
   {
    "duration": 778,
    "start_time": "2022-12-10T16:15:58.993Z"
   },
   {
    "duration": 14,
    "start_time": "2022-12-10T16:22:29.962Z"
   },
   {
    "duration": 20,
    "start_time": "2022-12-10T16:22:59.564Z"
   },
   {
    "duration": 12,
    "start_time": "2022-12-10T16:25:46.398Z"
   },
   {
    "duration": 1994,
    "start_time": "2022-12-10T16:26:10.107Z"
   },
   {
    "duration": 1585,
    "start_time": "2022-12-10T16:27:13.826Z"
   },
   {
    "duration": 1887,
    "start_time": "2022-12-10T16:27:42.155Z"
   },
   {
    "duration": 1839,
    "start_time": "2022-12-10T16:27:54.512Z"
   },
   {
    "duration": 1905,
    "start_time": "2022-12-10T16:29:46.494Z"
   },
   {
    "duration": 12,
    "start_time": "2022-12-10T16:44:19.885Z"
   },
   {
    "duration": 11,
    "start_time": "2022-12-10T16:44:32.442Z"
   },
   {
    "duration": 8,
    "start_time": "2022-12-10T16:44:33.802Z"
   },
   {
    "duration": 15,
    "start_time": "2022-12-10T16:45:16.185Z"
   },
   {
    "duration": 4,
    "start_time": "2022-12-10T16:45:35.396Z"
   },
   {
    "duration": 7,
    "start_time": "2022-12-10T16:45:42.622Z"
   },
   {
    "duration": 23,
    "start_time": "2022-12-10T16:53:58.849Z"
   },
   {
    "duration": 20,
    "start_time": "2022-12-10T16:57:27.693Z"
   },
   {
    "duration": 15,
    "start_time": "2022-12-10T16:57:31.403Z"
   },
   {
    "duration": 16,
    "start_time": "2022-12-10T16:58:20.363Z"
   },
   {
    "duration": 5,
    "start_time": "2022-12-10T16:58:29.548Z"
   },
   {
    "duration": 1268,
    "start_time": "2022-12-10T16:58:37.547Z"
   },
   {
    "duration": 426,
    "start_time": "2022-12-10T16:58:38.817Z"
   },
   {
    "duration": 37,
    "start_time": "2022-12-10T16:58:39.245Z"
   },
   {
    "duration": 306,
    "start_time": "2022-12-10T16:58:39.285Z"
   },
   {
    "duration": 102,
    "start_time": "2022-12-10T16:58:39.593Z"
   },
   {
    "duration": 9,
    "start_time": "2022-12-10T16:58:39.697Z"
   },
   {
    "duration": 7,
    "start_time": "2022-12-10T16:58:39.707Z"
   },
   {
    "duration": 8,
    "start_time": "2022-12-10T16:58:39.716Z"
   },
   {
    "duration": 7,
    "start_time": "2022-12-10T16:58:39.726Z"
   },
   {
    "duration": 80,
    "start_time": "2022-12-10T16:58:39.735Z"
   },
   {
    "duration": 34,
    "start_time": "2022-12-10T16:58:39.817Z"
   },
   {
    "duration": 680,
    "start_time": "2022-12-10T16:58:39.853Z"
   },
   {
    "duration": 1286,
    "start_time": "2022-12-10T16:58:40.534Z"
   },
   {
    "duration": 870,
    "start_time": "2022-12-10T16:58:41.822Z"
   },
   {
    "duration": 1706,
    "start_time": "2022-12-10T16:58:42.694Z"
   },
   {
    "duration": 11,
    "start_time": "2022-12-10T16:58:44.402Z"
   },
   {
    "duration": 11,
    "start_time": "2022-12-10T16:58:44.415Z"
   },
   {
    "duration": 7,
    "start_time": "2022-12-10T16:58:44.428Z"
   },
   {
    "duration": 1282,
    "start_time": "2022-12-10T17:00:58.847Z"
   },
   {
    "duration": 448,
    "start_time": "2022-12-10T17:01:00.132Z"
   },
   {
    "duration": 23,
    "start_time": "2022-12-10T17:01:00.592Z"
   },
   {
    "duration": 322,
    "start_time": "2022-12-10T17:01:00.617Z"
   },
   {
    "duration": 110,
    "start_time": "2022-12-10T17:01:00.942Z"
   },
   {
    "duration": 11,
    "start_time": "2022-12-10T17:01:01.055Z"
   },
   {
    "duration": 21,
    "start_time": "2022-12-10T17:01:01.078Z"
   },
   {
    "duration": 22,
    "start_time": "2022-12-10T17:01:01.102Z"
   },
   {
    "duration": 17,
    "start_time": "2022-12-10T17:01:01.125Z"
   },
   {
    "duration": 38,
    "start_time": "2022-12-10T17:01:01.145Z"
   },
   {
    "duration": 749,
    "start_time": "2022-12-10T17:01:01.187Z"
   },
   {
    "duration": 1262,
    "start_time": "2022-12-10T17:01:01.939Z"
   },
   {
    "duration": 873,
    "start_time": "2022-12-10T17:01:03.203Z"
   },
   {
    "duration": 1717,
    "start_time": "2022-12-10T17:01:04.081Z"
   },
   {
    "duration": 10,
    "start_time": "2022-12-10T17:01:05.800Z"
   },
   {
    "duration": 11,
    "start_time": "2022-12-10T17:01:05.812Z"
   },
   {
    "duration": 8,
    "start_time": "2022-12-10T17:01:05.826Z"
   },
   {
    "duration": 336,
    "start_time": "2022-12-10T17:05:25.789Z"
   },
   {
    "duration": 25,
    "start_time": "2022-12-10T17:05:29.816Z"
   },
   {
    "duration": 29,
    "start_time": "2022-12-10T17:05:34.641Z"
   },
   {
    "duration": 123,
    "start_time": "2022-12-10T17:05:50.743Z"
   },
   {
    "duration": 6,
    "start_time": "2022-12-10T17:05:55.062Z"
   },
   {
    "duration": 592,
    "start_time": "2022-12-10T17:07:44.122Z"
   },
   {
    "duration": 21,
    "start_time": "2022-12-10T17:10:09.809Z"
   },
   {
    "duration": 24,
    "start_time": "2022-12-10T17:10:17.669Z"
   },
   {
    "duration": 16,
    "start_time": "2022-12-10T17:10:22.191Z"
   },
   {
    "duration": 19,
    "start_time": "2022-12-10T17:10:27.240Z"
   },
   {
    "duration": 7,
    "start_time": "2022-12-10T17:10:57.625Z"
   },
   {
    "duration": 17,
    "start_time": "2022-12-10T17:11:39.603Z"
   },
   {
    "duration": 239,
    "start_time": "2022-12-10T17:11:51.195Z"
   },
   {
    "duration": 240,
    "start_time": "2022-12-10T17:11:59.491Z"
   },
   {
    "duration": 8,
    "start_time": "2022-12-10T17:12:44.852Z"
   },
   {
    "duration": 9,
    "start_time": "2022-12-10T17:12:57.538Z"
   },
   {
    "duration": 12,
    "start_time": "2022-12-10T17:13:06.841Z"
   },
   {
    "duration": 11,
    "start_time": "2022-12-10T17:13:19.868Z"
   },
   {
    "duration": 8,
    "start_time": "2022-12-10T17:13:29.627Z"
   },
   {
    "duration": 9,
    "start_time": "2022-12-10T17:13:34.346Z"
   },
   {
    "duration": 32,
    "start_time": "2022-12-10T17:17:04.237Z"
   },
   {
    "duration": 28,
    "start_time": "2022-12-10T17:17:50.005Z"
   },
   {
    "duration": 28,
    "start_time": "2022-12-10T17:18:09.613Z"
   },
   {
    "duration": 27,
    "start_time": "2022-12-10T17:18:17.324Z"
   },
   {
    "duration": 42,
    "start_time": "2022-12-10T17:19:36.853Z"
   },
   {
    "duration": 14,
    "start_time": "2022-12-10T17:19:54.630Z"
   },
   {
    "duration": 42,
    "start_time": "2022-12-10T17:20:23.311Z"
   },
   {
    "duration": 612,
    "start_time": "2022-12-10T17:20:32.939Z"
   },
   {
    "duration": 1675,
    "start_time": "2022-12-10T17:20:41.889Z"
   },
   {
    "duration": 16071,
    "start_time": "2022-12-10T17:24:09.962Z"
   },
   {
    "duration": 105563,
    "start_time": "2022-12-10T17:25:17.928Z"
   },
   {
    "duration": 68417,
    "start_time": "2022-12-10T17:27:03.493Z"
   },
   {
    "duration": 18,
    "start_time": "2022-12-10T17:29:45.123Z"
   },
   {
    "duration": 18361,
    "start_time": "2022-12-10T17:30:08.684Z"
   },
   {
    "duration": 1098,
    "start_time": "2022-12-10T17:30:27.049Z"
   },
   {
    "duration": 454,
    "start_time": "2022-12-10T17:30:28.152Z"
   },
   {
    "duration": 29,
    "start_time": "2022-12-10T17:30:28.610Z"
   },
   {
    "duration": 350,
    "start_time": "2022-12-10T17:30:28.641Z"
   },
   {
    "duration": 98,
    "start_time": "2022-12-10T17:30:28.992Z"
   },
   {
    "duration": 14,
    "start_time": "2022-12-10T17:30:29.092Z"
   },
   {
    "duration": 6,
    "start_time": "2022-12-10T17:30:29.108Z"
   },
   {
    "duration": 8,
    "start_time": "2022-12-10T17:30:29.118Z"
   },
   {
    "duration": 8,
    "start_time": "2022-12-10T17:30:29.128Z"
   },
   {
    "duration": 421,
    "start_time": "2022-12-10T17:30:29.177Z"
   },
   {
    "duration": 9,
    "start_time": "2022-12-10T17:30:29.600Z"
   },
   {
    "duration": 32,
    "start_time": "2022-12-10T17:30:29.611Z"
   },
   {
    "duration": 107,
    "start_time": "2022-12-10T17:30:29.645Z"
   },
   {
    "duration": 72,
    "start_time": "2022-12-10T17:30:29.754Z"
   },
   {
    "duration": 157,
    "start_time": "2022-12-10T17:30:29.828Z"
   },
   {
    "duration": 0,
    "start_time": "2022-12-10T17:30:29.988Z"
   },
   {
    "duration": 0,
    "start_time": "2022-12-10T17:30:29.989Z"
   },
   {
    "duration": 0,
    "start_time": "2022-12-10T17:30:29.990Z"
   },
   {
    "duration": 0,
    "start_time": "2022-12-10T17:30:29.991Z"
   },
   {
    "duration": 0,
    "start_time": "2022-12-10T17:30:29.992Z"
   },
   {
    "duration": 0,
    "start_time": "2022-12-10T17:30:29.992Z"
   },
   {
    "duration": 0,
    "start_time": "2022-12-10T17:30:29.993Z"
   },
   {
    "duration": 0,
    "start_time": "2022-12-10T17:30:29.994Z"
   },
   {
    "duration": 846,
    "start_time": "2022-12-10T17:32:58.144Z"
   },
   {
    "duration": 3,
    "start_time": "2022-12-10T17:33:13.367Z"
   },
   {
    "duration": 12,
    "start_time": "2022-12-10T17:33:18.941Z"
   },
   {
    "duration": 3,
    "start_time": "2022-12-10T17:33:45.049Z"
   },
   {
    "duration": 76,
    "start_time": "2022-12-10T17:49:20.937Z"
   },
   {
    "duration": 3750,
    "start_time": "2022-12-10T17:49:32.744Z"
   },
   {
    "duration": 95,
    "start_time": "2022-12-10T17:49:45.822Z"
   },
   {
    "duration": 5,
    "start_time": "2022-12-10T17:50:06.348Z"
   },
   {
    "duration": 1106,
    "start_time": "2022-12-10T17:50:06.355Z"
   },
   {
    "duration": 1982,
    "start_time": "2022-12-10T17:50:07.463Z"
   },
   {
    "duration": 20,
    "start_time": "2022-12-10T17:50:09.446Z"
   },
   {
    "duration": 558,
    "start_time": "2022-12-10T17:50:09.468Z"
   },
   {
    "duration": 399,
    "start_time": "2022-12-10T17:50:10.030Z"
   },
   {
    "duration": 9,
    "start_time": "2022-12-10T17:50:10.431Z"
   },
   {
    "duration": 6,
    "start_time": "2022-12-10T17:50:10.442Z"
   },
   {
    "duration": 13,
    "start_time": "2022-12-10T17:50:10.450Z"
   },
   {
    "duration": 12,
    "start_time": "2022-12-10T17:50:10.480Z"
   },
   {
    "duration": 387,
    "start_time": "2022-12-10T17:50:10.494Z"
   },
   {
    "duration": 7,
    "start_time": "2022-12-10T17:50:10.886Z"
   },
   {
    "duration": 41,
    "start_time": "2022-12-10T17:50:10.896Z"
   },
   {
    "duration": 78,
    "start_time": "2022-12-10T17:50:10.939Z"
   },
   {
    "duration": 81,
    "start_time": "2022-12-10T17:50:11.020Z"
   },
   {
    "duration": 3417,
    "start_time": "2022-12-10T17:50:11.103Z"
   },
   {
    "duration": 882,
    "start_time": "2022-12-10T17:50:14.522Z"
   },
   {
    "duration": 1293,
    "start_time": "2022-12-10T17:50:15.406Z"
   },
   {
    "duration": 1165,
    "start_time": "2022-12-10T17:50:16.700Z"
   },
   {
    "duration": 2042,
    "start_time": "2022-12-10T17:50:17.867Z"
   },
   {
    "duration": 13,
    "start_time": "2022-12-10T17:50:19.911Z"
   },
   {
    "duration": 12,
    "start_time": "2022-12-10T17:50:19.927Z"
   },
   {
    "duration": 42,
    "start_time": "2022-12-10T17:50:19.941Z"
   },
   {
    "duration": 3360,
    "start_time": "2022-12-10T17:50:40.144Z"
   },
   {
    "duration": 3497,
    "start_time": "2022-12-10T17:50:57.491Z"
   },
   {
    "duration": 3439,
    "start_time": "2022-12-10T17:51:13.368Z"
   },
   {
    "duration": 3480,
    "start_time": "2022-12-10T17:51:34.416Z"
   },
   {
    "duration": 3507,
    "start_time": "2022-12-10T17:51:53.855Z"
   },
   {
    "duration": 440,
    "start_time": "2022-12-10T17:52:51.495Z"
   },
   {
    "duration": 10,
    "start_time": "2022-12-10T17:53:15.218Z"
   },
   {
    "duration": 200,
    "start_time": "2022-12-10T17:53:38.305Z"
   },
   {
    "duration": 7,
    "start_time": "2022-12-10T17:54:56.970Z"
   },
   {
    "duration": 231,
    "start_time": "2022-12-10T17:55:51.433Z"
   },
   {
    "duration": 19,
    "start_time": "2022-12-10T17:56:07.354Z"
   },
   {
    "duration": 4,
    "start_time": "2022-12-10T17:56:24.129Z"
   },
   {
    "duration": 301,
    "start_time": "2022-12-10T17:56:29.898Z"
   },
   {
    "duration": 241,
    "start_time": "2022-12-10T17:58:38.991Z"
   },
   {
    "duration": 266,
    "start_time": "2022-12-10T17:58:52.221Z"
   },
   {
    "duration": 251,
    "start_time": "2022-12-10T17:58:58.424Z"
   },
   {
    "duration": 4,
    "start_time": "2022-12-10T17:59:38.933Z"
   },
   {
    "duration": 294,
    "start_time": "2022-12-10T17:59:40.236Z"
   },
   {
    "duration": 10,
    "start_time": "2022-12-10T18:02:21.326Z"
   },
   {
    "duration": 6,
    "start_time": "2022-12-10T18:02:24.603Z"
   },
   {
    "duration": 250,
    "start_time": "2022-12-10T18:02:25.479Z"
   },
   {
    "duration": 1305,
    "start_time": "2022-12-10T18:03:32.438Z"
   },
   {
    "duration": 1877,
    "start_time": "2022-12-10T18:04:03.416Z"
   },
   {
    "duration": 7,
    "start_time": "2022-12-10T18:18:28.014Z"
   },
   {
    "duration": 256,
    "start_time": "2022-12-10T18:18:29.109Z"
   },
   {
    "duration": 6,
    "start_time": "2022-12-10T18:21:43.043Z"
   },
   {
    "duration": 273,
    "start_time": "2022-12-10T18:21:44.001Z"
   },
   {
    "duration": 4,
    "start_time": "2022-12-10T18:22:36.072Z"
   },
   {
    "duration": 253,
    "start_time": "2022-12-10T18:22:36.856Z"
   },
   {
    "duration": 269,
    "start_time": "2022-12-10T18:23:09.977Z"
   },
   {
    "duration": 264,
    "start_time": "2022-12-10T18:23:25.874Z"
   },
   {
    "duration": 673,
    "start_time": "2022-12-10T18:27:13.267Z"
   },
   {
    "duration": 10,
    "start_time": "2022-12-10T18:27:27.702Z"
   },
   {
    "duration": 12,
    "start_time": "2022-12-10T18:27:29.294Z"
   },
   {
    "duration": 8,
    "start_time": "2022-12-10T18:27:32.924Z"
   },
   {
    "duration": 8,
    "start_time": "2022-12-10T18:27:53.043Z"
   },
   {
    "duration": 1124,
    "start_time": "2022-12-10T18:28:26.811Z"
   },
   {
    "duration": 1222,
    "start_time": "2022-12-10T18:28:43.591Z"
   },
   {
    "duration": 779,
    "start_time": "2022-12-10T18:29:03.419Z"
   },
   {
    "duration": 6,
    "start_time": "2022-12-10T18:33:29.357Z"
   },
   {
    "duration": 21,
    "start_time": "2022-12-10T18:33:35.206Z"
   },
   {
    "duration": 8,
    "start_time": "2022-12-10T18:34:12.956Z"
   },
   {
    "duration": 7,
    "start_time": "2022-12-10T18:34:19.957Z"
   },
   {
    "duration": 13,
    "start_time": "2022-12-10T18:35:12.104Z"
   },
   {
    "duration": 924,
    "start_time": "2022-12-10T18:38:39.897Z"
   },
   {
    "duration": 683,
    "start_time": "2022-12-10T18:39:10.203Z"
   },
   {
    "duration": 844,
    "start_time": "2022-12-10T18:39:53.154Z"
   },
   {
    "duration": 25,
    "start_time": "2022-12-10T18:40:08.426Z"
   },
   {
    "duration": 1971,
    "start_time": "2022-12-10T18:41:20.963Z"
   },
   {
    "duration": 18,
    "start_time": "2022-12-10T18:44:02.923Z"
   },
   {
    "duration": 5,
    "start_time": "2022-12-10T18:44:20.643Z"
   },
   {
    "duration": 1143,
    "start_time": "2022-12-10T18:44:20.651Z"
   },
   {
    "duration": 497,
    "start_time": "2022-12-10T18:44:21.798Z"
   },
   {
    "duration": 28,
    "start_time": "2022-12-10T18:44:22.300Z"
   },
   {
    "duration": 321,
    "start_time": "2022-12-10T18:44:22.334Z"
   },
   {
    "duration": 134,
    "start_time": "2022-12-10T18:44:22.658Z"
   },
   {
    "duration": 11,
    "start_time": "2022-12-10T18:44:22.801Z"
   },
   {
    "duration": 12,
    "start_time": "2022-12-10T18:44:22.815Z"
   },
   {
    "duration": 10,
    "start_time": "2022-12-10T18:44:22.829Z"
   },
   {
    "duration": 6,
    "start_time": "2022-12-10T18:44:22.841Z"
   },
   {
    "duration": 404,
    "start_time": "2022-12-10T18:44:22.849Z"
   },
   {
    "duration": 21,
    "start_time": "2022-12-10T18:44:23.256Z"
   },
   {
    "duration": 56,
    "start_time": "2022-12-10T18:44:23.279Z"
   },
   {
    "duration": 80,
    "start_time": "2022-12-10T18:44:23.337Z"
   },
   {
    "duration": 75,
    "start_time": "2022-12-10T18:44:23.420Z"
   },
   {
    "duration": 289,
    "start_time": "2022-12-10T18:44:23.496Z"
   },
   {
    "duration": 4,
    "start_time": "2022-12-10T18:44:23.796Z"
   },
   {
    "duration": 261,
    "start_time": "2022-12-10T18:44:23.802Z"
   },
   {
    "duration": 232,
    "start_time": "2022-12-10T18:44:24.065Z"
   },
   {
    "duration": 806,
    "start_time": "2022-12-10T18:44:24.299Z"
   },
   {
    "duration": 1369,
    "start_time": "2022-12-10T18:44:25.107Z"
   },
   {
    "duration": 951,
    "start_time": "2022-12-10T18:44:26.484Z"
   },
   {
    "duration": 648,
    "start_time": "2022-12-10T18:44:27.438Z"
   },
   {
    "duration": 11,
    "start_time": "2022-12-10T18:44:28.088Z"
   },
   {
    "duration": 10,
    "start_time": "2022-12-10T18:44:28.101Z"
   },
   {
    "duration": 6,
    "start_time": "2022-12-10T18:44:28.112Z"
   },
   {
    "duration": 18,
    "start_time": "2022-12-10T18:44:28.120Z"
   },
   {
    "duration": 1938,
    "start_time": "2022-12-10T18:44:28.181Z"
   },
   {
    "duration": 6,
    "start_time": "2022-12-10T19:00:09.161Z"
   },
   {
    "duration": 507,
    "start_time": "2022-12-10T19:04:16.264Z"
   },
   {
    "duration": 935,
    "start_time": "2022-12-10T19:08:09.869Z"
   },
   {
    "duration": 24,
    "start_time": "2022-12-10T19:08:23.949Z"
   },
   {
    "duration": 29,
    "start_time": "2022-12-10T19:08:30.582Z"
   },
   {
    "duration": 18,
    "start_time": "2022-12-10T19:08:42.602Z"
   },
   {
    "duration": 13,
    "start_time": "2022-12-10T19:08:54.326Z"
   },
   {
    "duration": 5,
    "start_time": "2022-12-10T19:15:12.553Z"
   },
   {
    "duration": 30,
    "start_time": "2022-12-10T19:15:17.544Z"
   },
   {
    "duration": 50,
    "start_time": "2022-12-10T19:16:05.115Z"
   },
   {
    "duration": 75,
    "start_time": "2022-12-10T19:16:11.458Z"
   },
   {
    "duration": 23,
    "start_time": "2022-12-10T19:16:22.024Z"
   },
   {
    "duration": 17,
    "start_time": "2022-12-10T19:16:46.999Z"
   },
   {
    "duration": 59,
    "start_time": "2022-12-10T19:16:53.498Z"
   },
   {
    "duration": 220,
    "start_time": "2022-12-10T19:19:29.980Z"
   },
   {
    "duration": 5,
    "start_time": "2022-12-10T19:20:05.066Z"
   },
   {
    "duration": 182,
    "start_time": "2022-12-10T19:20:10.508Z"
   },
   {
    "duration": 1579,
    "start_time": "2022-12-10T19:20:20.130Z"
   },
   {
    "duration": 272,
    "start_time": "2022-12-10T19:20:48.620Z"
   },
   {
    "duration": 4,
    "start_time": "2022-12-10T19:25:07.342Z"
   },
   {
    "duration": 18,
    "start_time": "2022-12-10T19:26:05.669Z"
   },
   {
    "duration": 2226,
    "start_time": "2022-12-10T19:26:22.264Z"
   },
   {
    "duration": 13,
    "start_time": "2022-12-10T19:30:30.434Z"
   },
   {
    "duration": 319494,
    "start_time": "2022-12-10T19:30:49.301Z"
   },
   {
    "duration": 2968252,
    "start_time": "2022-12-10T19:36:08.800Z"
   },
   {
    "duration": 11,
    "start_time": "2022-12-11T11:38:36.110Z"
   },
   {
    "duration": 185,
    "start_time": "2022-12-11T11:40:19.305Z"
   },
   {
    "duration": 16,
    "start_time": "2022-12-11T11:40:25.151Z"
   },
   {
    "duration": 4,
    "start_time": "2022-12-11T11:40:46.001Z"
   },
   {
    "duration": 4,
    "start_time": "2022-12-11T11:40:50.041Z"
   },
   {
    "duration": 8,
    "start_time": "2022-12-11T11:40:56.972Z"
   },
   {
    "duration": 15,
    "start_time": "2022-12-11T11:41:48.584Z"
   },
   {
    "duration": 1071654,
    "start_time": "2022-12-11T11:42:53.450Z"
   },
   {
    "duration": 0,
    "start_time": "2022-12-11T12:00:45.106Z"
   },
   {
    "duration": 11,
    "start_time": "2022-12-11T12:09:10.585Z"
   },
   {
    "duration": 9,
    "start_time": "2022-12-11T12:10:26.426Z"
   },
   {
    "duration": 1099523,
    "start_time": "2022-12-11T12:11:20.810Z"
   },
   {
    "duration": 4,
    "start_time": "2022-12-11T12:31:28.762Z"
   },
   {
    "duration": 241,
    "start_time": "2022-12-11T12:31:29.762Z"
   },
   {
    "duration": 5,
    "start_time": "2022-12-11T12:32:34.372Z"
   },
   {
    "duration": 247,
    "start_time": "2022-12-11T12:32:34.946Z"
   },
   {
    "duration": 5,
    "start_time": "2022-12-11T12:33:38.272Z"
   },
   {
    "duration": 50,
    "start_time": "2022-12-11T12:33:38.958Z"
   },
   {
    "duration": 47,
    "start_time": "2022-12-11T12:33:47.201Z"
   },
   {
    "duration": 4,
    "start_time": "2022-12-11T12:33:48.840Z"
   },
   {
    "duration": 229,
    "start_time": "2022-12-11T12:33:49.572Z"
   },
   {
    "duration": 6,
    "start_time": "2022-12-11T12:42:24.218Z"
   },
   {
    "duration": 8,
    "start_time": "2022-12-11T12:43:01.448Z"
   },
   {
    "duration": 6,
    "start_time": "2022-12-11T12:44:36.521Z"
   },
   {
    "duration": 13,
    "start_time": "2022-12-11T12:47:09.894Z"
   },
   {
    "duration": 196,
    "start_time": "2022-12-11T12:47:36.725Z"
   },
   {
    "duration": 172,
    "start_time": "2022-12-11T12:47:46.454Z"
   },
   {
    "duration": 4,
    "start_time": "2022-12-11T12:52:25.344Z"
   },
   {
    "duration": 199,
    "start_time": "2022-12-11T12:52:28.184Z"
   },
   {
    "duration": 15,
    "start_time": "2022-12-11T12:52:45.886Z"
   },
   {
    "duration": 175,
    "start_time": "2022-12-11T12:52:57.536Z"
   },
   {
    "duration": 170,
    "start_time": "2022-12-11T12:53:32.609Z"
   },
   {
    "duration": 16,
    "start_time": "2022-12-11T12:54:20.824Z"
   },
   {
    "duration": 4,
    "start_time": "2022-12-11T12:54:33.559Z"
   },
   {
    "duration": 6,
    "start_time": "2022-12-11T12:54:35.970Z"
   },
   {
    "duration": 12,
    "start_time": "2022-12-11T12:55:20.088Z"
   },
   {
    "duration": 6,
    "start_time": "2022-12-11T12:55:27.392Z"
   },
   {
    "duration": 5,
    "start_time": "2022-12-11T12:55:45.176Z"
   },
   {
    "duration": 4,
    "start_time": "2022-12-11T12:55:58.898Z"
   },
   {
    "duration": 7,
    "start_time": "2022-12-11T12:56:03.451Z"
   },
   {
    "duration": 5,
    "start_time": "2022-12-11T12:56:05.775Z"
   },
   {
    "duration": 6,
    "start_time": "2022-12-11T12:56:07.140Z"
   },
   {
    "duration": 4,
    "start_time": "2022-12-11T12:58:22.073Z"
   },
   {
    "duration": 702,
    "start_time": "2022-12-11T12:58:26.468Z"
   },
   {
    "duration": 3,
    "start_time": "2022-12-11T12:59:01.902Z"
   },
   {
    "duration": 753,
    "start_time": "2022-12-11T12:59:04.426Z"
   },
   {
    "duration": 4,
    "start_time": "2022-12-11T13:01:54.001Z"
   },
   {
    "duration": 6,
    "start_time": "2022-12-11T13:01:58.114Z"
   },
   {
    "duration": 5,
    "start_time": "2022-12-11T13:02:48.533Z"
   },
   {
    "duration": 17,
    "start_time": "2022-12-11T13:02:50.933Z"
   },
   {
    "duration": 4,
    "start_time": "2022-12-11T13:03:06.039Z"
   },
   {
    "duration": 16,
    "start_time": "2022-12-11T13:03:08.891Z"
   },
   {
    "duration": 3,
    "start_time": "2022-12-11T13:04:10.014Z"
   },
   {
    "duration": 6,
    "start_time": "2022-12-11T13:04:12.573Z"
   },
   {
    "duration": 7,
    "start_time": "2022-12-11T13:04:18.469Z"
   },
   {
    "duration": 6,
    "start_time": "2022-12-11T13:04:19.566Z"
   },
   {
    "duration": 4,
    "start_time": "2022-12-11T13:05:11.062Z"
   },
   {
    "duration": 7,
    "start_time": "2022-12-11T13:05:13.805Z"
   },
   {
    "duration": 6,
    "start_time": "2022-12-11T13:05:18.708Z"
   },
   {
    "duration": 6,
    "start_time": "2022-12-11T13:05:19.460Z"
   },
   {
    "duration": 13,
    "start_time": "2022-12-11T13:06:48.566Z"
   },
   {
    "duration": 13,
    "start_time": "2022-12-11T13:07:58.476Z"
   },
   {
    "duration": 13,
    "start_time": "2022-12-11T13:08:02.063Z"
   },
   {
    "duration": 11,
    "start_time": "2022-12-11T13:09:59.592Z"
   },
   {
    "duration": 283,
    "start_time": "2022-12-11T13:10:12.849Z"
   },
   {
    "duration": 1299,
    "start_time": "2022-12-11T13:12:16.916Z"
   },
   {
    "duration": 52,
    "start_time": "2022-12-11T13:14:41.282Z"
   },
   {
    "duration": 17,
    "start_time": "2022-12-11T13:14:44.962Z"
   },
   {
    "duration": 1177,
    "start_time": "2022-12-11T13:14:50.445Z"
   },
   {
    "duration": 19,
    "start_time": "2022-12-11T13:15:46.893Z"
   },
   {
    "duration": 1278,
    "start_time": "2022-12-11T13:16:42.229Z"
   },
   {
    "duration": 4,
    "start_time": "2022-12-11T13:18:34.591Z"
   },
   {
    "duration": 8,
    "start_time": "2022-12-11T13:18:38.204Z"
   },
   {
    "duration": 13,
    "start_time": "2022-12-11T13:18:40.083Z"
   },
   {
    "duration": 3,
    "start_time": "2022-12-11T13:18:57.133Z"
   },
   {
    "duration": 6,
    "start_time": "2022-12-11T13:19:00.475Z"
   },
   {
    "duration": 6,
    "start_time": "2022-12-11T13:19:02.125Z"
   },
   {
    "duration": 7,
    "start_time": "2022-12-11T13:19:03.445Z"
   },
   {
    "duration": 14,
    "start_time": "2022-12-11T13:19:04.499Z"
   },
   {
    "duration": 17,
    "start_time": "2022-12-11T13:19:05.212Z"
   },
   {
    "duration": 4,
    "start_time": "2022-12-11T13:21:25.750Z"
   },
   {
    "duration": 8,
    "start_time": "2022-12-11T13:21:32.246Z"
   },
   {
    "duration": 26,
    "start_time": "2022-12-11T13:21:33.756Z"
   },
   {
    "duration": 3,
    "start_time": "2022-12-11T13:22:42.779Z"
   },
   {
    "duration": 7,
    "start_time": "2022-12-11T13:22:46.363Z"
   },
   {
    "duration": 1834,
    "start_time": "2022-12-11T13:23:34.295Z"
   },
   {
    "duration": 8,
    "start_time": "2022-12-11T13:25:23.863Z"
   },
   {
    "duration": 5,
    "start_time": "2022-12-11T13:25:34.031Z"
   },
   {
    "duration": 27,
    "start_time": "2022-12-11T13:26:51.377Z"
   },
   {
    "duration": 11,
    "start_time": "2022-12-11T13:27:26.304Z"
   },
   {
    "duration": 28,
    "start_time": "2022-12-11T13:27:31.297Z"
   },
   {
    "duration": 31,
    "start_time": "2022-12-11T13:27:49.186Z"
   },
   {
    "duration": 27,
    "start_time": "2022-12-11T13:27:57.338Z"
   },
   {
    "duration": 6,
    "start_time": "2022-12-11T13:28:56.315Z"
   },
   {
    "duration": 6,
    "start_time": "2022-12-11T13:29:17.258Z"
   },
   {
    "duration": 6,
    "start_time": "2022-12-11T13:29:26.435Z"
   },
   {
    "duration": 15,
    "start_time": "2022-12-11T13:29:47.269Z"
   },
   {
    "duration": 9,
    "start_time": "2022-12-11T13:29:54.831Z"
   },
   {
    "duration": 7,
    "start_time": "2022-12-11T13:30:14.483Z"
   },
   {
    "duration": 5,
    "start_time": "2022-12-11T13:30:49.649Z"
   },
   {
    "duration": 706,
    "start_time": "2022-12-11T13:30:57.494Z"
   },
   {
    "duration": 4,
    "start_time": "2022-12-11T13:31:09.284Z"
   },
   {
    "duration": 7,
    "start_time": "2022-12-11T13:31:20.003Z"
   },
   {
    "duration": 5,
    "start_time": "2022-12-11T13:31:55.575Z"
   },
   {
    "duration": 6,
    "start_time": "2022-12-11T13:32:15.235Z"
   },
   {
    "duration": 4,
    "start_time": "2022-12-11T13:32:29.909Z"
   },
   {
    "duration": 5,
    "start_time": "2022-12-11T13:32:40.419Z"
   },
   {
    "duration": 29,
    "start_time": "2022-12-11T13:33:14.548Z"
   },
   {
    "duration": 51,
    "start_time": "2022-12-11T13:35:58.078Z"
   },
   {
    "duration": 25,
    "start_time": "2022-12-11T13:36:17.559Z"
   },
   {
    "duration": 11,
    "start_time": "2022-12-11T13:40:12.457Z"
   },
   {
    "duration": 10,
    "start_time": "2022-12-11T13:40:20.856Z"
   },
   {
    "duration": 42,
    "start_time": "2022-12-11T13:42:24.712Z"
   },
   {
    "duration": 10,
    "start_time": "2022-12-11T13:42:29.690Z"
   },
   {
    "duration": 13,
    "start_time": "2022-12-11T13:44:05.932Z"
   },
   {
    "duration": 11,
    "start_time": "2022-12-11T13:44:13.163Z"
   },
   {
    "duration": 12,
    "start_time": "2022-12-11T13:44:54.187Z"
   },
   {
    "duration": 56,
    "start_time": "2022-12-11T13:45:05.076Z"
   },
   {
    "duration": 14,
    "start_time": "2022-12-11T13:45:09.899Z"
   },
   {
    "duration": 661,
    "start_time": "2022-12-11T13:45:40.405Z"
   },
   {
    "duration": 690,
    "start_time": "2022-12-11T13:45:46.021Z"
   },
   {
    "duration": 16,
    "start_time": "2022-12-11T13:45:51.490Z"
   },
   {
    "duration": 48,
    "start_time": "2022-12-11T13:46:10.564Z"
   },
   {
    "duration": 11,
    "start_time": "2022-12-11T13:46:36.789Z"
   },
   {
    "duration": 15,
    "start_time": "2022-12-11T13:48:03.481Z"
   },
   {
    "duration": 10,
    "start_time": "2022-12-11T13:49:22.558Z"
   },
   {
    "duration": 6,
    "start_time": "2022-12-11T13:52:13.040Z"
   },
   {
    "duration": 10,
    "start_time": "2022-12-11T13:52:32.221Z"
   },
   {
    "duration": 4,
    "start_time": "2022-12-11T13:53:06.243Z"
   },
   {
    "duration": 29,
    "start_time": "2022-12-11T13:53:13.350Z"
   },
   {
    "duration": 5,
    "start_time": "2022-12-11T13:53:43.261Z"
   },
   {
    "duration": 388,
    "start_time": "2022-12-11T13:53:43.268Z"
   },
   {
    "duration": 34,
    "start_time": "2022-12-11T13:53:43.658Z"
   },
   {
    "duration": 290,
    "start_time": "2022-12-11T13:53:43.694Z"
   },
   {
    "duration": 79,
    "start_time": "2022-12-11T13:53:43.986Z"
   },
   {
    "duration": 19,
    "start_time": "2022-12-11T13:53:44.067Z"
   },
   {
    "duration": 8,
    "start_time": "2022-12-11T13:53:44.088Z"
   },
   {
    "duration": 7,
    "start_time": "2022-12-11T13:53:44.098Z"
   },
   {
    "duration": 17,
    "start_time": "2022-12-11T13:53:44.107Z"
   },
   {
    "duration": 363,
    "start_time": "2022-12-11T13:53:44.127Z"
   },
   {
    "duration": 4,
    "start_time": "2022-12-11T13:53:44.492Z"
   },
   {
    "duration": 14,
    "start_time": "2022-12-11T13:53:44.498Z"
   },
   {
    "duration": 73,
    "start_time": "2022-12-11T13:53:44.514Z"
   },
   {
    "duration": 38,
    "start_time": "2022-12-11T13:53:44.589Z"
   },
   {
    "duration": 252,
    "start_time": "2022-12-11T13:53:44.630Z"
   },
   {
    "duration": 4,
    "start_time": "2022-12-11T13:53:44.884Z"
   },
   {
    "duration": 249,
    "start_time": "2022-12-11T13:53:44.890Z"
   },
   {
    "duration": 208,
    "start_time": "2022-12-11T13:53:45.141Z"
   },
   {
    "duration": 721,
    "start_time": "2022-12-11T13:53:45.351Z"
   },
   {
    "duration": 1182,
    "start_time": "2022-12-11T13:53:46.074Z"
   },
   {
    "duration": 1219,
    "start_time": "2022-12-11T13:53:47.258Z"
   },
   {
    "duration": 412,
    "start_time": "2022-12-11T13:53:48.479Z"
   },
   {
    "duration": 10,
    "start_time": "2022-12-11T13:53:48.893Z"
   },
   {
    "duration": 10,
    "start_time": "2022-12-11T13:53:48.904Z"
   },
   {
    "duration": 5,
    "start_time": "2022-12-11T13:53:48.916Z"
   },
   {
    "duration": 56,
    "start_time": "2022-12-11T13:53:48.923Z"
   },
   {
    "duration": 1612,
    "start_time": "2022-12-11T13:53:48.981Z"
   },
   {
    "duration": 4,
    "start_time": "2022-12-11T13:53:50.597Z"
   },
   {
    "duration": 23,
    "start_time": "2022-12-11T13:53:50.602Z"
   },
   {
    "duration": 51,
    "start_time": "2022-12-11T13:53:53.384Z"
   },
   {
    "duration": 183,
    "start_time": "2022-12-11T13:53:58.208Z"
   },
   {
    "duration": 1031,
    "start_time": "2022-12-11T13:54:01.752Z"
   },
   {
    "duration": 6,
    "start_time": "2022-12-11T13:54:09.518Z"
   },
   {
    "duration": 9,
    "start_time": "2022-12-11T13:54:12.704Z"
   },
   {
    "duration": 1666,
    "start_time": "2022-12-11T13:54:19.691Z"
   },
   {
    "duration": 6,
    "start_time": "2022-12-11T13:54:49.593Z"
   },
   {
    "duration": 7,
    "start_time": "2022-12-11T13:54:51.744Z"
   },
   {
    "duration": 26,
    "start_time": "2022-12-11T13:54:57.905Z"
   },
   {
    "duration": 26,
    "start_time": "2022-12-11T13:54:59.685Z"
   },
   {
    "duration": 29,
    "start_time": "2022-12-11T13:57:36.490Z"
   },
   {
    "duration": 10,
    "start_time": "2022-12-11T13:59:19.580Z"
   },
   {
    "duration": 633,
    "start_time": "2022-12-11T13:59:29.900Z"
   },
   {
    "duration": 4,
    "start_time": "2022-12-11T13:59:44.206Z"
   },
   {
    "duration": 380,
    "start_time": "2022-12-11T13:59:44.212Z"
   },
   {
    "duration": 18,
    "start_time": "2022-12-11T13:59:44.594Z"
   },
   {
    "duration": 281,
    "start_time": "2022-12-11T13:59:44.614Z"
   },
   {
    "duration": 83,
    "start_time": "2022-12-11T13:59:44.897Z"
   },
   {
    "duration": 11,
    "start_time": "2022-12-11T13:59:44.981Z"
   },
   {
    "duration": 38,
    "start_time": "2022-12-11T13:59:44.994Z"
   },
   {
    "duration": 21,
    "start_time": "2022-12-11T13:59:45.033Z"
   },
   {
    "duration": 19,
    "start_time": "2022-12-11T13:59:45.056Z"
   },
   {
    "duration": 342,
    "start_time": "2022-12-11T13:59:45.077Z"
   },
   {
    "duration": 4,
    "start_time": "2022-12-11T14:01:07.722Z"
   },
   {
    "duration": 376,
    "start_time": "2022-12-11T14:01:07.735Z"
   },
   {
    "duration": 21,
    "start_time": "2022-12-11T14:01:08.113Z"
   },
   {
    "duration": 292,
    "start_time": "2022-12-11T14:01:08.136Z"
   },
   {
    "duration": 85,
    "start_time": "2022-12-11T14:01:08.430Z"
   },
   {
    "duration": 11,
    "start_time": "2022-12-11T14:01:08.517Z"
   },
   {
    "duration": 11,
    "start_time": "2022-12-11T14:01:08.530Z"
   },
   {
    "duration": 39,
    "start_time": "2022-12-11T14:01:08.543Z"
   },
   {
    "duration": 12,
    "start_time": "2022-12-11T14:01:08.584Z"
   },
   {
    "duration": 1036,
    "start_time": "2022-12-11T14:01:11.927Z"
   },
   {
    "duration": 59,
    "start_time": "2022-12-11T14:02:41.572Z"
   },
   {
    "duration": 18,
    "start_time": "2022-12-11T14:04:09.368Z"
   },
   {
    "duration": 12,
    "start_time": "2022-12-11T14:04:15.342Z"
   },
   {
    "duration": 65,
    "start_time": "2022-12-11T14:04:30.870Z"
   },
   {
    "duration": 18,
    "start_time": "2022-12-11T14:04:38.500Z"
   },
   {
    "duration": 15,
    "start_time": "2022-12-11T14:04:55.662Z"
   },
   {
    "duration": 65,
    "start_time": "2022-12-11T14:05:11.906Z"
   },
   {
    "duration": 1740,
    "start_time": "2022-12-11T14:06:21.959Z"
   },
   {
    "duration": 2164,
    "start_time": "2022-12-11T14:06:34.905Z"
   },
   {
    "duration": 4,
    "start_time": "2022-12-11T14:06:43.269Z"
   },
   {
    "duration": 397,
    "start_time": "2022-12-11T14:06:43.275Z"
   },
   {
    "duration": 23,
    "start_time": "2022-12-11T14:06:43.674Z"
   },
   {
    "duration": 292,
    "start_time": "2022-12-11T14:06:43.699Z"
   },
   {
    "duration": 84,
    "start_time": "2022-12-11T14:06:43.995Z"
   },
   {
    "duration": 12,
    "start_time": "2022-12-11T14:06:44.080Z"
   },
   {
    "duration": 9,
    "start_time": "2022-12-11T14:06:44.093Z"
   },
   {
    "duration": 5,
    "start_time": "2022-12-11T14:06:44.104Z"
   },
   {
    "duration": 7,
    "start_time": "2022-12-11T14:06:44.111Z"
   },
   {
    "duration": 1019,
    "start_time": "2022-12-11T14:06:44.120Z"
   },
   {
    "duration": 29,
    "start_time": "2022-12-11T14:07:05.128Z"
   },
   {
    "duration": 10,
    "start_time": "2022-12-11T14:12:29.388Z"
   },
   {
    "duration": 50,
    "start_time": "2022-12-11T14:13:22.196Z"
   },
   {
    "duration": 35,
    "start_time": "2022-12-11T14:13:26.195Z"
   },
   {
    "duration": 6,
    "start_time": "2022-12-11T14:13:47.140Z"
   },
   {
    "duration": 5,
    "start_time": "2022-12-11T14:14:17.287Z"
   },
   {
    "duration": 359,
    "start_time": "2022-12-11T14:14:17.295Z"
   },
   {
    "duration": 34,
    "start_time": "2022-12-11T14:14:17.657Z"
   },
   {
    "duration": 285,
    "start_time": "2022-12-11T14:14:17.694Z"
   },
   {
    "duration": 90,
    "start_time": "2022-12-11T14:14:17.981Z"
   },
   {
    "duration": 13,
    "start_time": "2022-12-11T14:14:18.073Z"
   },
   {
    "duration": 9,
    "start_time": "2022-12-11T14:14:18.088Z"
   },
   {
    "duration": 8,
    "start_time": "2022-12-11T14:14:18.098Z"
   },
   {
    "duration": 13,
    "start_time": "2022-12-11T14:14:18.107Z"
   },
   {
    "duration": 1188,
    "start_time": "2022-12-11T14:14:18.122Z"
   },
   {
    "duration": 8,
    "start_time": "2022-12-11T14:14:19.312Z"
   },
   {
    "duration": 12,
    "start_time": "2022-12-11T14:14:19.322Z"
   },
   {
    "duration": 77,
    "start_time": "2022-12-11T14:14:19.336Z"
   },
   {
    "duration": 41,
    "start_time": "2022-12-11T14:14:19.415Z"
   },
   {
    "duration": 230,
    "start_time": "2022-12-11T14:14:19.477Z"
   },
   {
    "duration": 4,
    "start_time": "2022-12-11T14:14:19.709Z"
   },
   {
    "duration": 270,
    "start_time": "2022-12-11T14:14:19.714Z"
   },
   {
    "duration": 222,
    "start_time": "2022-12-11T14:14:19.987Z"
   },
   {
    "duration": 761,
    "start_time": "2022-12-11T14:14:20.211Z"
   },
   {
    "duration": 1210,
    "start_time": "2022-12-11T14:14:20.974Z"
   },
   {
    "duration": 901,
    "start_time": "2022-12-11T14:14:22.186Z"
   },
   {
    "duration": 851,
    "start_time": "2022-12-11T14:14:23.089Z"
   },
   {
    "duration": 12,
    "start_time": "2022-12-11T14:14:23.942Z"
   },
   {
    "duration": 29,
    "start_time": "2022-12-11T14:14:23.956Z"
   },
   {
    "duration": 6,
    "start_time": "2022-12-11T14:14:23.988Z"
   },
   {
    "duration": 23,
    "start_time": "2022-12-11T14:14:23.996Z"
   },
   {
    "duration": 1607,
    "start_time": "2022-12-11T14:14:24.021Z"
   },
   {
    "duration": 3,
    "start_time": "2022-12-11T14:14:25.630Z"
   },
   {
    "duration": 17,
    "start_time": "2022-12-11T14:14:25.634Z"
   },
   {
    "duration": 64,
    "start_time": "2022-12-11T14:14:25.653Z"
   },
   {
    "duration": 165,
    "start_time": "2022-12-11T14:14:25.719Z"
   },
   {
    "duration": 1192,
    "start_time": "2022-12-11T14:14:25.888Z"
   },
   {
    "duration": 1890,
    "start_time": "2022-12-12T17:19:19.939Z"
   },
   {
    "duration": 152,
    "start_time": "2022-12-12T17:19:21.831Z"
   },
   {
    "duration": 0,
    "start_time": "2022-12-12T17:19:21.984Z"
   },
   {
    "duration": 0,
    "start_time": "2022-12-12T17:19:21.986Z"
   },
   {
    "duration": 0,
    "start_time": "2022-12-12T17:19:21.986Z"
   },
   {
    "duration": 0,
    "start_time": "2022-12-12T17:19:21.988Z"
   },
   {
    "duration": 0,
    "start_time": "2022-12-12T17:19:21.989Z"
   },
   {
    "duration": 0,
    "start_time": "2022-12-12T17:19:21.990Z"
   },
   {
    "duration": 0,
    "start_time": "2022-12-12T17:19:21.990Z"
   },
   {
    "duration": 0,
    "start_time": "2022-12-12T17:19:21.992Z"
   },
   {
    "duration": 15,
    "start_time": "2022-12-12T17:19:22.104Z"
   },
   {
    "duration": 730,
    "start_time": "2022-12-12T17:19:48.838Z"
   },
   {
    "duration": 1686,
    "start_time": "2022-12-12T17:20:36.476Z"
   },
   {
    "duration": 375,
    "start_time": "2022-12-12T17:20:38.164Z"
   },
   {
    "duration": 20,
    "start_time": "2022-12-12T17:20:38.541Z"
   },
   {
    "duration": 1477,
    "start_time": "2022-12-12T17:20:38.564Z"
   },
   {
    "duration": 179,
    "start_time": "2022-12-12T17:20:40.043Z"
   },
   {
    "duration": 12,
    "start_time": "2022-12-12T17:20:40.224Z"
   },
   {
    "duration": 19,
    "start_time": "2022-12-12T17:20:40.238Z"
   },
   {
    "duration": 13,
    "start_time": "2022-12-12T17:20:40.259Z"
   },
   {
    "duration": 9,
    "start_time": "2022-12-12T17:20:40.274Z"
   },
   {
    "duration": 119,
    "start_time": "2022-12-12T17:20:40.286Z"
   },
   {
    "duration": 46,
    "start_time": "2022-12-12T17:20:40.418Z"
   },
   {
    "duration": 17,
    "start_time": "2022-12-12T17:20:40.466Z"
   },
   {
    "duration": 15,
    "start_time": "2022-12-12T17:20:40.485Z"
   },
   {
    "duration": 70,
    "start_time": "2022-12-12T17:20:40.502Z"
   },
   {
    "duration": 39,
    "start_time": "2022-12-12T17:20:40.575Z"
   },
   {
    "duration": 172,
    "start_time": "2022-12-12T17:20:40.618Z"
   },
   {
    "duration": 5,
    "start_time": "2022-12-12T17:20:40.792Z"
   },
   {
    "duration": 181,
    "start_time": "2022-12-12T17:20:40.798Z"
   },
   {
    "duration": 141,
    "start_time": "2022-12-12T17:20:41.354Z"
   },
   {
    "duration": 646,
    "start_time": "2022-12-12T17:20:42.809Z"
   },
   {
    "duration": 1142,
    "start_time": "2022-12-12T17:20:43.457Z"
   },
   {
    "duration": 945,
    "start_time": "2022-12-12T17:20:44.602Z"
   },
   {
    "duration": 15,
    "start_time": "2022-12-12T17:20:52.217Z"
   },
   {
    "duration": 30,
    "start_time": "2022-12-12T17:20:56.202Z"
   },
   {
    "duration": 5,
    "start_time": "2022-12-12T17:48:00.517Z"
   },
   {
    "duration": 380,
    "start_time": "2022-12-12T17:48:00.730Z"
   },
   {
    "duration": 18,
    "start_time": "2022-12-12T17:48:01.113Z"
   },
   {
    "duration": 1279,
    "start_time": "2022-12-12T17:48:01.132Z"
   },
   {
    "duration": 96,
    "start_time": "2022-12-12T17:48:02.414Z"
   },
   {
    "duration": 11,
    "start_time": "2022-12-12T17:48:02.512Z"
   },
   {
    "duration": 13,
    "start_time": "2022-12-12T17:48:02.525Z"
   },
   {
    "duration": 21,
    "start_time": "2022-12-12T17:48:02.540Z"
   },
   {
    "duration": 16,
    "start_time": "2022-12-12T17:48:02.563Z"
   },
   {
    "duration": 56,
    "start_time": "2022-12-12T17:48:02.581Z"
   },
   {
    "duration": 37,
    "start_time": "2022-12-12T17:48:02.639Z"
   },
   {
    "duration": 12,
    "start_time": "2022-12-12T17:48:02.939Z"
   },
   {
    "duration": 7,
    "start_time": "2022-12-12T17:48:03.107Z"
   },
   {
    "duration": 34,
    "start_time": "2022-12-12T17:48:03.352Z"
   },
   {
    "duration": 27,
    "start_time": "2022-12-12T17:48:03.449Z"
   },
   {
    "duration": 135,
    "start_time": "2022-12-12T17:48:03.689Z"
   },
   {
    "duration": 5,
    "start_time": "2022-12-12T17:48:04.177Z"
   },
   {
    "duration": 150,
    "start_time": "2022-12-12T17:48:04.367Z"
   },
   {
    "duration": 125,
    "start_time": "2022-12-12T17:48:04.761Z"
   },
   {
    "duration": 540,
    "start_time": "2022-12-12T17:48:05.976Z"
   },
   {
    "duration": 1105,
    "start_time": "2022-12-12T17:48:06.518Z"
   },
   {
    "duration": 725,
    "start_time": "2022-12-12T17:48:07.625Z"
   },
   {
    "duration": 463,
    "start_time": "2022-12-12T17:48:08.352Z"
   },
   {
    "duration": 8,
    "start_time": "2022-12-12T17:48:08.817Z"
   },
   {
    "duration": 8,
    "start_time": "2022-12-12T17:48:08.826Z"
   },
   {
    "duration": 16,
    "start_time": "2022-12-12T17:48:08.836Z"
   },
   {
    "duration": 1512,
    "start_time": "2022-12-12T17:48:08.853Z"
   },
   {
    "duration": 4,
    "start_time": "2022-12-12T17:48:10.369Z"
   },
   {
    "duration": 20,
    "start_time": "2022-12-12T17:48:10.375Z"
   },
   {
    "duration": 17,
    "start_time": "2022-12-14T12:59:12.584Z"
   },
   {
    "duration": 5,
    "start_time": "2022-12-14T12:59:37.011Z"
   },
   {
    "duration": 396,
    "start_time": "2022-12-14T12:59:37.018Z"
   },
   {
    "duration": 20,
    "start_time": "2022-12-14T12:59:37.416Z"
   },
   {
    "duration": 301,
    "start_time": "2022-12-14T12:59:37.438Z"
   },
   {
    "duration": 80,
    "start_time": "2022-12-14T12:59:37.741Z"
   },
   {
    "duration": 11,
    "start_time": "2022-12-14T12:59:37.822Z"
   },
   {
    "duration": 11,
    "start_time": "2022-12-14T12:59:37.834Z"
   },
   {
    "duration": 11,
    "start_time": "2022-12-14T12:59:37.847Z"
   },
   {
    "duration": 6,
    "start_time": "2022-12-14T12:59:37.879Z"
   },
   {
    "duration": 63,
    "start_time": "2022-12-14T12:59:37.888Z"
   },
   {
    "duration": 40,
    "start_time": "2022-12-14T12:59:40.118Z"
   },
   {
    "duration": 728,
    "start_time": "2022-12-14T13:01:12.045Z"
   },
   {
    "duration": 1220,
    "start_time": "2022-12-14T13:01:36.509Z"
   },
   {
    "duration": 1341,
    "start_time": "2022-12-14T13:01:41.492Z"
   },
   {
    "duration": 656,
    "start_time": "2022-12-14T13:02:42.884Z"
   },
   {
    "duration": 56,
    "start_time": "2022-12-14T13:04:41.248Z"
   },
   {
    "duration": 45,
    "start_time": "2022-12-14T13:04:49.674Z"
   },
   {
    "duration": 51,
    "start_time": "2022-12-14T13:04:53.746Z"
   },
   {
    "duration": 671,
    "start_time": "2022-12-14T13:05:01.986Z"
   },
   {
    "duration": 671,
    "start_time": "2022-12-14T13:05:07.482Z"
   },
   {
    "duration": 418,
    "start_time": "2022-12-14T13:05:26.370Z"
   },
   {
    "duration": 348,
    "start_time": "2022-12-14T13:06:11.023Z"
   },
   {
    "duration": 342,
    "start_time": "2022-12-14T13:06:40.912Z"
   },
   {
    "duration": 341,
    "start_time": "2022-12-14T13:08:13.928Z"
   },
   {
    "duration": 356,
    "start_time": "2022-12-14T13:08:32.624Z"
   },
   {
    "duration": 10,
    "start_time": "2022-12-14T13:09:24.857Z"
   },
   {
    "duration": 13,
    "start_time": "2022-12-14T13:09:37.582Z"
   },
   {
    "duration": 2116,
    "start_time": "2022-12-14T13:10:49.671Z"
   },
   {
    "duration": 48,
    "start_time": "2022-12-14T13:25:31.236Z"
   },
   {
    "duration": 1568,
    "start_time": "2022-12-14T13:25:32.474Z"
   },
   {
    "duration": 18,
    "start_time": "2022-12-14T13:25:48.240Z"
   },
   {
    "duration": 1874,
    "start_time": "2022-12-14T13:25:49.987Z"
   },
   {
    "duration": 42,
    "start_time": "2022-12-14T13:25:55.018Z"
   },
   {
    "duration": 17,
    "start_time": "2022-12-14T13:25:56.610Z"
   },
   {
    "duration": 1643,
    "start_time": "2022-12-14T13:25:57.978Z"
   },
   {
    "duration": 48,
    "start_time": "2022-12-14T13:27:50.009Z"
   },
   {
    "duration": 61,
    "start_time": "2022-12-14T13:28:22.433Z"
   },
   {
    "duration": 7,
    "start_time": "2022-12-14T13:28:51.497Z"
   },
   {
    "duration": 9,
    "start_time": "2022-12-14T13:29:41.336Z"
   },
   {
    "duration": 1517,
    "start_time": "2022-12-14T13:29:47.831Z"
   },
   {
    "duration": 29,
    "start_time": "2022-12-14T13:30:20.487Z"
   },
   {
    "duration": 9,
    "start_time": "2022-12-14T13:30:32.263Z"
   },
   {
    "duration": 1873,
    "start_time": "2022-12-15T12:14:17.932Z"
   },
   {
    "duration": 1955,
    "start_time": "2022-12-15T12:14:19.808Z"
   },
   {
    "duration": 25,
    "start_time": "2022-12-15T12:14:21.765Z"
   },
   {
    "duration": 518,
    "start_time": "2022-12-15T12:14:21.793Z"
   },
   {
    "duration": 398,
    "start_time": "2022-12-15T12:14:22.313Z"
   },
   {
    "duration": 15,
    "start_time": "2022-12-15T12:14:22.713Z"
   },
   {
    "duration": 11,
    "start_time": "2022-12-15T12:14:22.731Z"
   },
   {
    "duration": 7,
    "start_time": "2022-12-15T12:14:22.744Z"
   },
   {
    "duration": 27,
    "start_time": "2022-12-15T12:14:22.753Z"
   },
   {
    "duration": 73,
    "start_time": "2022-12-15T12:14:22.784Z"
   },
   {
    "duration": 64,
    "start_time": "2022-12-15T12:14:22.877Z"
   },
   {
    "duration": 35,
    "start_time": "2022-12-15T12:14:22.944Z"
   },
   {
    "duration": 8,
    "start_time": "2022-12-15T12:14:22.981Z"
   },
   {
    "duration": 60,
    "start_time": "2022-12-15T12:14:22.991Z"
   },
   {
    "duration": 48,
    "start_time": "2022-12-15T12:14:23.053Z"
   },
   {
    "duration": 208,
    "start_time": "2022-12-15T12:14:23.103Z"
   },
   {
    "duration": 6,
    "start_time": "2022-12-15T12:14:23.313Z"
   },
   {
    "duration": 198,
    "start_time": "2022-12-15T12:14:23.320Z"
   },
   {
    "duration": 180,
    "start_time": "2022-12-15T12:14:23.520Z"
   },
   {
    "duration": 687,
    "start_time": "2022-12-15T12:14:23.702Z"
   },
   {
    "duration": 1224,
    "start_time": "2022-12-15T12:14:24.391Z"
   },
   {
    "duration": 1029,
    "start_time": "2022-12-15T12:14:25.617Z"
   },
   {
    "duration": 297,
    "start_time": "2022-12-15T12:14:26.649Z"
   },
   {
    "duration": 0,
    "start_time": "2022-12-15T12:14:26.949Z"
   },
   {
    "duration": 0,
    "start_time": "2022-12-15T12:14:26.950Z"
   },
   {
    "duration": 0,
    "start_time": "2022-12-15T12:14:26.952Z"
   },
   {
    "duration": 0,
    "start_time": "2022-12-15T12:14:26.954Z"
   },
   {
    "duration": 0,
    "start_time": "2022-12-15T12:14:26.955Z"
   },
   {
    "duration": 0,
    "start_time": "2022-12-15T12:14:26.956Z"
   },
   {
    "duration": 0,
    "start_time": "2022-12-15T12:14:26.977Z"
   },
   {
    "duration": 0,
    "start_time": "2022-12-15T12:14:26.980Z"
   },
   {
    "duration": 166,
    "start_time": "2022-12-15T12:15:19.906Z"
   },
   {
    "duration": 25,
    "start_time": "2022-12-15T12:16:07.036Z"
   },
   {
    "duration": 14,
    "start_time": "2022-12-15T12:16:08.595Z"
   },
   {
    "duration": 1141,
    "start_time": "2022-12-15T12:16:09.379Z"
   },
   {
    "duration": 818,
    "start_time": "2022-12-15T12:16:53.427Z"
   },
   {
    "duration": 245,
    "start_time": "2022-12-15T12:17:48.226Z"
   },
   {
    "duration": 240,
    "start_time": "2022-12-15T12:18:05.403Z"
   },
   {
    "duration": 448,
    "start_time": "2022-12-15T12:18:09.792Z"
   },
   {
    "duration": 6,
    "start_time": "2022-12-15T12:18:21.046Z"
   },
   {
    "duration": 444,
    "start_time": "2022-12-15T12:18:21.055Z"
   },
   {
    "duration": 20,
    "start_time": "2022-12-15T12:18:21.501Z"
   },
   {
    "duration": 371,
    "start_time": "2022-12-15T12:18:21.524Z"
   },
   {
    "duration": 85,
    "start_time": "2022-12-15T12:18:21.896Z"
   },
   {
    "duration": 13,
    "start_time": "2022-12-15T12:18:21.983Z"
   },
   {
    "duration": 13,
    "start_time": "2022-12-15T12:18:21.998Z"
   },
   {
    "duration": 8,
    "start_time": "2022-12-15T12:18:22.013Z"
   },
   {
    "duration": 7,
    "start_time": "2022-12-15T12:18:22.023Z"
   },
   {
    "duration": 98,
    "start_time": "2022-12-15T12:18:22.033Z"
   },
   {
    "duration": 56,
    "start_time": "2022-12-15T12:18:22.134Z"
   },
   {
    "duration": 16,
    "start_time": "2022-12-15T12:18:22.192Z"
   },
   {
    "duration": 7,
    "start_time": "2022-12-15T12:18:22.210Z"
   },
   {
    "duration": 62,
    "start_time": "2022-12-15T12:18:22.220Z"
   },
   {
    "duration": 28,
    "start_time": "2022-12-15T12:18:22.284Z"
   },
   {
    "duration": 174,
    "start_time": "2022-12-15T12:18:22.314Z"
   },
   {
    "duration": 5,
    "start_time": "2022-12-15T12:18:22.490Z"
   },
   {
    "duration": 5,
    "start_time": "2022-12-15T12:18:28.964Z"
   },
   {
    "duration": 483,
    "start_time": "2022-12-15T12:18:29.833Z"
   },
   {
    "duration": 161,
    "start_time": "2022-12-15T12:18:32.625Z"
   },
   {
    "duration": 144,
    "start_time": "2022-12-15T12:18:34.529Z"
   },
   {
    "duration": 232,
    "start_time": "2022-12-15T12:19:01.857Z"
   },
   {
    "duration": 579,
    "start_time": "2022-12-15T12:19:24.800Z"
   },
   {
    "duration": 919,
    "start_time": "2022-12-15T12:19:38.640Z"
   },
   {
    "duration": 694,
    "start_time": "2022-12-15T12:19:56.244Z"
   },
   {
    "duration": 160,
    "start_time": "2022-12-15T12:20:02.886Z"
   },
   {
    "duration": 8,
    "start_time": "2022-12-15T12:21:58.531Z"
   },
   {
    "duration": 151,
    "start_time": "2022-12-15T12:22:15.688Z"
   },
   {
    "duration": 8,
    "start_time": "2022-12-15T12:22:18.239Z"
   },
   {
    "duration": 11,
    "start_time": "2022-12-15T12:22:21.863Z"
   },
   {
    "duration": 18,
    "start_time": "2022-12-15T12:22:44.695Z"
   },
   {
    "duration": 11,
    "start_time": "2022-12-15T12:22:52.047Z"
   },
   {
    "duration": 175,
    "start_time": "2022-12-15T12:23:44.287Z"
   },
   {
    "duration": 10,
    "start_time": "2022-12-15T12:24:03.382Z"
   },
   {
    "duration": 174,
    "start_time": "2022-12-15T12:24:20.086Z"
   },
   {
    "duration": 10,
    "start_time": "2022-12-15T12:24:22.162Z"
   },
   {
    "duration": 15,
    "start_time": "2022-12-15T12:24:41.839Z"
   },
   {
    "duration": 201,
    "start_time": "2022-12-15T12:24:46.901Z"
   },
   {
    "duration": 13,
    "start_time": "2022-12-15T12:24:48.909Z"
   },
   {
    "duration": 217,
    "start_time": "2022-12-15T12:25:56.479Z"
   },
   {
    "duration": 173,
    "start_time": "2022-12-15T12:26:26.423Z"
   },
   {
    "duration": 189,
    "start_time": "2022-12-15T12:26:27.997Z"
   },
   {
    "duration": 220,
    "start_time": "2022-12-15T12:26:35.149Z"
   },
   {
    "duration": 881,
    "start_time": "2022-12-15T12:28:35.284Z"
   },
   {
    "duration": 248,
    "start_time": "2022-12-15T12:28:58.324Z"
   },
   {
    "duration": 159,
    "start_time": "2022-12-15T12:29:29.787Z"
   },
   {
    "duration": 154,
    "start_time": "2022-12-15T12:29:45.307Z"
   },
   {
    "duration": 300,
    "start_time": "2022-12-15T12:30:33.674Z"
   },
   {
    "duration": 94,
    "start_time": "2022-12-15T12:30:39.177Z"
   },
   {
    "duration": 154,
    "start_time": "2022-12-15T12:30:59.082Z"
   },
   {
    "duration": 6,
    "start_time": "2022-12-15T12:31:14.379Z"
   },
   {
    "duration": 519,
    "start_time": "2022-12-15T12:31:14.388Z"
   },
   {
    "duration": 22,
    "start_time": "2022-12-15T12:31:14.909Z"
   },
   {
    "duration": 298,
    "start_time": "2022-12-15T12:31:14.933Z"
   },
   {
    "duration": 85,
    "start_time": "2022-12-15T12:31:15.234Z"
   },
   {
    "duration": 13,
    "start_time": "2022-12-15T12:31:15.322Z"
   },
   {
    "duration": 10,
    "start_time": "2022-12-15T12:31:15.337Z"
   },
   {
    "duration": 29,
    "start_time": "2022-12-15T12:31:15.350Z"
   },
   {
    "duration": 28,
    "start_time": "2022-12-15T12:31:15.381Z"
   },
   {
    "duration": 77,
    "start_time": "2022-12-15T12:31:15.411Z"
   },
   {
    "duration": 51,
    "start_time": "2022-12-15T12:31:15.490Z"
   },
   {
    "duration": 33,
    "start_time": "2022-12-15T12:31:15.545Z"
   },
   {
    "duration": 12,
    "start_time": "2022-12-15T12:31:15.581Z"
   },
   {
    "duration": 66,
    "start_time": "2022-12-15T12:31:15.597Z"
   },
   {
    "duration": 40,
    "start_time": "2022-12-15T12:31:15.665Z"
   },
   {
    "duration": 244,
    "start_time": "2022-12-15T12:31:15.708Z"
   },
   {
    "duration": 13,
    "start_time": "2022-12-15T12:31:15.957Z"
   },
   {
    "duration": 297,
    "start_time": "2022-12-15T12:31:15.973Z"
   },
   {
    "duration": 261,
    "start_time": "2022-12-15T12:31:16.279Z"
   },
   {
    "duration": 168,
    "start_time": "2022-12-15T12:31:16.542Z"
   },
   {
    "duration": 580,
    "start_time": "2022-12-15T12:31:16.713Z"
   },
   {
    "duration": 1031,
    "start_time": "2022-12-15T12:31:17.296Z"
   },
   {
    "duration": 994,
    "start_time": "2022-12-15T12:31:18.330Z"
   },
   {
    "duration": 172,
    "start_time": "2022-12-15T12:31:22.250Z"
   },
   {
    "duration": 148,
    "start_time": "2022-12-15T12:36:40.492Z"
   },
   {
    "duration": 272,
    "start_time": "2022-12-15T12:36:50.014Z"
   },
   {
    "duration": 159,
    "start_time": "2022-12-15T12:37:08.605Z"
   },
   {
    "duration": 10,
    "start_time": "2022-12-15T12:37:32.349Z"
   },
   {
    "duration": 10,
    "start_time": "2022-12-15T12:37:33.679Z"
   },
   {
    "duration": 14,
    "start_time": "2022-12-15T12:37:35.292Z"
   },
   {
    "duration": 11,
    "start_time": "2022-12-15T12:37:52.037Z"
   },
   {
    "duration": 11,
    "start_time": "2022-12-15T12:37:56.587Z"
   },
   {
    "duration": 158,
    "start_time": "2022-12-15T12:38:27.177Z"
   },
   {
    "duration": 10,
    "start_time": "2022-12-15T12:38:32.237Z"
   },
   {
    "duration": 7,
    "start_time": "2022-12-15T12:39:00.713Z"
   },
   {
    "duration": 14,
    "start_time": "2022-12-15T12:39:10.749Z"
   },
   {
    "duration": 46,
    "start_time": "2022-12-15T12:39:35.221Z"
   },
   {
    "duration": 150,
    "start_time": "2022-12-15T12:39:53.599Z"
   },
   {
    "duration": 7,
    "start_time": "2022-12-15T12:40:00.772Z"
   },
   {
    "duration": 170,
    "start_time": "2022-12-15T12:40:19.846Z"
   },
   {
    "duration": 11,
    "start_time": "2022-12-15T12:40:22.940Z"
   },
   {
    "duration": 12,
    "start_time": "2022-12-15T12:40:45.248Z"
   },
   {
    "duration": 14,
    "start_time": "2022-12-15T12:40:58.373Z"
   },
   {
    "duration": 159,
    "start_time": "2022-12-15T12:41:16.660Z"
   },
   {
    "duration": 13,
    "start_time": "2022-12-15T12:44:28.553Z"
   },
   {
    "duration": 16,
    "start_time": "2022-12-15T12:44:31.368Z"
   },
   {
    "duration": 10,
    "start_time": "2022-12-15T12:44:45.001Z"
   },
   {
    "duration": 27,
    "start_time": "2022-12-15T12:44:48.626Z"
   },
   {
    "duration": 15,
    "start_time": "2022-12-15T12:44:59.684Z"
   },
   {
    "duration": 40248,
    "start_time": "2022-12-15T12:45:06.536Z"
   },
   {
    "duration": 45,
    "start_time": "2022-12-17T12:24:26.002Z"
   },
   {
    "duration": 1562,
    "start_time": "2022-12-17T12:24:31.560Z"
   },
   {
    "duration": 523,
    "start_time": "2022-12-17T12:24:33.124Z"
   },
   {
    "duration": 18,
    "start_time": "2022-12-17T12:24:33.649Z"
   },
   {
    "duration": 1423,
    "start_time": "2022-12-17T12:24:33.669Z"
   },
   {
    "duration": 158,
    "start_time": "2022-12-17T12:24:35.094Z"
   },
   {
    "duration": 12,
    "start_time": "2022-12-17T12:24:35.253Z"
   },
   {
    "duration": 16,
    "start_time": "2022-12-17T12:24:35.266Z"
   },
   {
    "duration": 5,
    "start_time": "2022-12-17T12:24:35.283Z"
   },
   {
    "duration": 6,
    "start_time": "2022-12-17T12:24:35.289Z"
   },
   {
    "duration": 63,
    "start_time": "2022-12-17T12:24:35.297Z"
   },
   {
    "duration": 35,
    "start_time": "2022-12-17T12:24:35.362Z"
   },
   {
    "duration": 13,
    "start_time": "2022-12-17T12:24:35.398Z"
   },
   {
    "duration": 7,
    "start_time": "2022-12-17T12:24:35.412Z"
   },
   {
    "duration": 56,
    "start_time": "2022-12-17T12:24:35.421Z"
   },
   {
    "duration": 25,
    "start_time": "2022-12-17T12:24:35.478Z"
   },
   {
    "duration": 152,
    "start_time": "2022-12-17T12:24:35.504Z"
   },
   {
    "duration": 4,
    "start_time": "2022-12-17T12:24:35.657Z"
   },
   {
    "duration": 201,
    "start_time": "2022-12-17T12:24:35.663Z"
   },
   {
    "duration": 162,
    "start_time": "2022-12-17T12:24:35.867Z"
   },
   {
    "duration": 132,
    "start_time": "2022-12-17T12:24:36.031Z"
   },
   {
    "duration": 472,
    "start_time": "2022-12-17T12:24:36.165Z"
   },
   {
    "duration": 769,
    "start_time": "2022-12-17T12:24:36.639Z"
   },
   {
    "duration": 663,
    "start_time": "2022-12-17T12:24:37.409Z"
   },
   {
    "duration": 203,
    "start_time": "2022-12-17T12:24:38.073Z"
   },
   {
    "duration": 151,
    "start_time": "2022-12-17T12:24:52.800Z"
   },
   {
    "duration": 129,
    "start_time": "2022-12-17T12:24:59.500Z"
   },
   {
    "duration": 8,
    "start_time": "2022-12-17T12:25:01.842Z"
   },
   {
    "duration": 8,
    "start_time": "2022-12-17T12:25:02.769Z"
   },
   {
    "duration": 7,
    "start_time": "2022-12-17T12:25:03.177Z"
   },
   {
    "duration": 8,
    "start_time": "2022-12-17T12:25:03.538Z"
   },
   {
    "duration": 16,
    "start_time": "2022-12-17T12:25:08.866Z"
   },
   {
    "duration": 8,
    "start_time": "2022-12-17T12:25:10.177Z"
   },
   {
    "duration": 1018,
    "start_time": "2022-12-17T12:25:10.569Z"
   },
   {
    "duration": 10,
    "start_time": "2022-12-17T12:26:04.162Z"
   },
   {
    "duration": 8,
    "start_time": "2022-12-17T12:26:07.163Z"
   },
   {
    "duration": 19,
    "start_time": "2022-12-17T12:26:08.234Z"
   },
   {
    "duration": 3,
    "start_time": "2022-12-17T12:31:41.262Z"
   },
   {
    "duration": 9,
    "start_time": "2022-12-17T12:43:40.988Z"
   },
   {
    "duration": 13,
    "start_time": "2022-12-17T12:43:44.298Z"
   },
   {
    "duration": 68,
    "start_time": "2022-12-17T12:45:08.581Z"
   },
   {
    "duration": 93,
    "start_time": "2022-12-17T12:45:19.908Z"
   },
   {
    "duration": 1603,
    "start_time": "2022-12-17T12:45:38.451Z"
   },
   {
    "duration": 1522,
    "start_time": "2022-12-17T12:46:30.939Z"
   },
   {
    "duration": 3,
    "start_time": "2022-12-17T12:49:23.048Z"
   },
   {
    "duration": 1657,
    "start_time": "2022-12-17T12:49:27.097Z"
   },
   {
    "duration": 5,
    "start_time": "2022-12-17T13:02:24.167Z"
   },
   {
    "duration": 3595,
    "start_time": "2022-12-17T13:02:31.565Z"
   },
   {
    "duration": 2916,
    "start_time": "2022-12-17T13:02:59.647Z"
   },
   {
    "duration": 72,
    "start_time": "2022-12-17T13:04:34.382Z"
   },
   {
    "duration": 2,
    "start_time": "2022-12-17T13:04:42.205Z"
   },
   {
    "duration": 3,
    "start_time": "2022-12-17T13:05:08.246Z"
   },
   {
    "duration": 2854,
    "start_time": "2022-12-17T13:06:11.301Z"
   },
   {
    "duration": 2827,
    "start_time": "2022-12-17T13:06:23.038Z"
   },
   {
    "duration": 2696,
    "start_time": "2022-12-17T13:06:31.456Z"
   },
   {
    "duration": 2332,
    "start_time": "2022-12-17T13:06:59.124Z"
   },
   {
    "duration": 4,
    "start_time": "2022-12-17T13:08:02.376Z"
   },
   {
    "duration": 392,
    "start_time": "2022-12-17T13:08:02.381Z"
   },
   {
    "duration": 16,
    "start_time": "2022-12-17T13:08:02.774Z"
   },
   {
    "duration": 252,
    "start_time": "2022-12-17T13:08:02.792Z"
   },
   {
    "duration": 78,
    "start_time": "2022-12-17T13:08:03.052Z"
   },
   {
    "duration": 10,
    "start_time": "2022-12-17T13:08:03.131Z"
   },
   {
    "duration": 10,
    "start_time": "2022-12-17T13:08:03.143Z"
   },
   {
    "duration": 6,
    "start_time": "2022-12-17T13:08:03.154Z"
   },
   {
    "duration": 10,
    "start_time": "2022-12-17T13:08:03.161Z"
   },
   {
    "duration": 49,
    "start_time": "2022-12-17T13:08:03.173Z"
   },
   {
    "duration": 44,
    "start_time": "2022-12-17T13:08:03.224Z"
   },
   {
    "duration": 11,
    "start_time": "2022-12-17T13:08:03.269Z"
   },
   {
    "duration": 7,
    "start_time": "2022-12-17T13:08:03.281Z"
   },
   {
    "duration": 40,
    "start_time": "2022-12-17T13:08:03.291Z"
   },
   {
    "duration": 25,
    "start_time": "2022-12-17T13:08:03.352Z"
   },
   {
    "duration": 147,
    "start_time": "2022-12-17T13:08:03.379Z"
   },
   {
    "duration": 5,
    "start_time": "2022-12-17T13:08:03.528Z"
   },
   {
    "duration": 191,
    "start_time": "2022-12-17T13:08:03.534Z"
   },
   {
    "duration": 148,
    "start_time": "2022-12-17T13:08:03.727Z"
   },
   {
    "duration": 128,
    "start_time": "2022-12-17T13:08:03.877Z"
   },
   {
    "duration": 479,
    "start_time": "2022-12-17T13:08:04.007Z"
   },
   {
    "duration": 805,
    "start_time": "2022-12-17T13:08:04.487Z"
   },
   {
    "duration": 648,
    "start_time": "2022-12-17T13:08:05.293Z"
   },
   {
    "duration": 142,
    "start_time": "2022-12-17T13:08:05.942Z"
   },
   {
    "duration": 0,
    "start_time": "2022-12-17T13:08:06.086Z"
   },
   {
    "duration": 0,
    "start_time": "2022-12-17T13:08:06.087Z"
   },
   {
    "duration": 0,
    "start_time": "2022-12-17T13:08:06.088Z"
   },
   {
    "duration": 0,
    "start_time": "2022-12-17T13:08:06.089Z"
   },
   {
    "duration": 0,
    "start_time": "2022-12-17T13:08:06.090Z"
   },
   {
    "duration": 0,
    "start_time": "2022-12-17T13:08:06.091Z"
   },
   {
    "duration": 0,
    "start_time": "2022-12-17T13:08:06.092Z"
   },
   {
    "duration": 0,
    "start_time": "2022-12-17T13:08:06.093Z"
   },
   {
    "duration": 0,
    "start_time": "2022-12-17T13:08:06.094Z"
   },
   {
    "duration": 0,
    "start_time": "2022-12-17T13:08:06.095Z"
   },
   {
    "duration": 0,
    "start_time": "2022-12-17T13:08:06.095Z"
   },
   {
    "duration": 0,
    "start_time": "2022-12-17T13:08:06.096Z"
   },
   {
    "duration": 9,
    "start_time": "2022-12-17T13:08:16.032Z"
   },
   {
    "duration": 9,
    "start_time": "2022-12-17T13:08:16.905Z"
   },
   {
    "duration": 8,
    "start_time": "2022-12-17T13:08:17.224Z"
   },
   {
    "duration": 9,
    "start_time": "2022-12-17T13:08:17.584Z"
   },
   {
    "duration": 16,
    "start_time": "2022-12-17T13:08:19.369Z"
   },
   {
    "duration": 9,
    "start_time": "2022-12-17T13:08:20.824Z"
   },
   {
    "duration": 1041,
    "start_time": "2022-12-17T13:08:21.112Z"
   },
   {
    "duration": 3,
    "start_time": "2022-12-17T13:08:24.345Z"
   },
   {
    "duration": 2,
    "start_time": "2022-12-17T13:08:24.985Z"
   },
   {
    "duration": 7,
    "start_time": "2022-12-17T13:08:26.153Z"
   },
   {
    "duration": 16,
    "start_time": "2022-12-17T13:08:28.071Z"
   },
   {
    "duration": 2358,
    "start_time": "2022-12-17T13:08:29.908Z"
   },
   {
    "duration": 13,
    "start_time": "2022-12-17T13:09:23.411Z"
   },
   {
    "duration": 14,
    "start_time": "2022-12-17T13:09:47.608Z"
   },
   {
    "duration": 13,
    "start_time": "2022-12-17T13:10:33.142Z"
   },
   {
    "duration": 14,
    "start_time": "2022-12-17T13:13:26.177Z"
   },
   {
    "duration": 5,
    "start_time": "2022-12-17T13:18:44.620Z"
   },
   {
    "duration": 451401,
    "start_time": "2022-12-17T13:18:50.763Z"
   },
   {
    "duration": 97,
    "start_time": "2022-12-17T17:25:59.849Z"
   },
   {
    "duration": 1589,
    "start_time": "2022-12-17T17:26:16.940Z"
   },
   {
    "duration": 1925,
    "start_time": "2022-12-17T17:26:18.532Z"
   },
   {
    "duration": 19,
    "start_time": "2022-12-17T17:26:20.459Z"
   },
   {
    "duration": 469,
    "start_time": "2022-12-17T17:26:20.479Z"
   },
   {
    "duration": 391,
    "start_time": "2022-12-17T17:26:20.950Z"
   },
   {
    "duration": 12,
    "start_time": "2022-12-17T17:26:21.343Z"
   },
   {
    "duration": 8,
    "start_time": "2022-12-17T17:26:21.357Z"
   },
   {
    "duration": 18,
    "start_time": "2022-12-17T17:26:21.367Z"
   },
   {
    "duration": 12,
    "start_time": "2022-12-17T17:26:21.387Z"
   },
   {
    "duration": 72,
    "start_time": "2022-12-17T17:26:21.401Z"
   },
   {
    "duration": 37,
    "start_time": "2022-12-17T17:26:21.475Z"
   },
   {
    "duration": 26,
    "start_time": "2022-12-17T17:26:21.514Z"
   },
   {
    "duration": 7,
    "start_time": "2022-12-17T17:26:21.541Z"
   },
   {
    "duration": 49,
    "start_time": "2022-12-17T17:26:21.551Z"
   },
   {
    "duration": 33,
    "start_time": "2022-12-17T17:26:21.602Z"
   },
   {
    "duration": 156,
    "start_time": "2022-12-17T17:26:21.637Z"
   },
   {
    "duration": 4,
    "start_time": "2022-12-17T17:26:21.795Z"
   },
   {
    "duration": 237,
    "start_time": "2022-12-17T17:26:21.801Z"
   },
   {
    "duration": 171,
    "start_time": "2022-12-17T17:26:22.040Z"
   },
   {
    "duration": 160,
    "start_time": "2022-12-17T17:26:22.213Z"
   },
   {
    "duration": 586,
    "start_time": "2022-12-17T17:26:22.375Z"
   },
   {
    "duration": 792,
    "start_time": "2022-12-17T17:26:22.962Z"
   },
   {
    "duration": 673,
    "start_time": "2022-12-17T17:26:23.756Z"
   },
   {
    "duration": 15,
    "start_time": "2022-12-17T17:26:27.877Z"
   },
   {
    "duration": 4,
    "start_time": "2022-12-17T17:26:30.380Z"
   },
   {
    "duration": 3,
    "start_time": "2022-12-17T17:26:31.443Z"
   },
   {
    "duration": 99,
    "start_time": "2022-12-17T17:26:32.495Z"
   },
   {
    "duration": 11,
    "start_time": "2022-12-17T17:26:49.353Z"
   },
   {
    "duration": 21,
    "start_time": "2022-12-17T17:26:51.910Z"
   },
   {
    "duration": 2782,
    "start_time": "2022-12-17T17:26:53.854Z"
   },
   {
    "duration": 2773,
    "start_time": "2022-12-17T17:27:18.471Z"
   },
   {
    "duration": 11,
    "start_time": "2022-12-17T17:28:08.665Z"
   },
   {
    "duration": 17,
    "start_time": "2022-12-17T17:28:26.776Z"
   },
   {
    "duration": 4,
    "start_time": "2022-12-17T17:28:43.113Z"
   },
   {
    "duration": 3,
    "start_time": "2022-12-17T17:28:44.104Z"
   },
   {
    "duration": 4,
    "start_time": "2022-12-17T17:29:11.493Z"
   },
   {
    "duration": 3,
    "start_time": "2022-12-17T17:29:12.548Z"
   },
   {
    "duration": 2798,
    "start_time": "2022-12-17T17:29:16.437Z"
   },
   {
    "duration": 2966,
    "start_time": "2022-12-17T17:29:29.972Z"
   },
   {
    "duration": 2941,
    "start_time": "2022-12-17T17:29:51.094Z"
   },
   {
    "duration": 2656,
    "start_time": "2022-12-17T17:30:01.882Z"
   },
   {
    "duration": 3201,
    "start_time": "2022-12-17T17:30:26.636Z"
   },
   {
    "duration": 2636,
    "start_time": "2022-12-17T17:31:21.401Z"
   },
   {
    "duration": 4,
    "start_time": "2022-12-17T17:34:04.980Z"
   },
   {
    "duration": 2721,
    "start_time": "2022-12-17T17:34:07.426Z"
   },
   {
    "duration": 2989,
    "start_time": "2022-12-17T17:34:26.256Z"
   },
   {
    "duration": 2893,
    "start_time": "2022-12-17T17:36:12.948Z"
   },
   {
    "duration": 5,
    "start_time": "2022-12-17T17:36:58.692Z"
   },
   {
    "duration": 3,
    "start_time": "2022-12-17T17:37:08.838Z"
   },
   {
    "duration": 3147,
    "start_time": "2022-12-17T17:37:13.989Z"
   },
   {
    "duration": 12,
    "start_time": "2022-12-17T17:37:23.069Z"
   },
   {
    "duration": 11,
    "start_time": "2022-12-17T17:37:27.893Z"
   },
   {
    "duration": 2987,
    "start_time": "2022-12-17T17:37:40.757Z"
   },
   {
    "duration": 5,
    "start_time": "2022-12-17T17:38:05.149Z"
   },
   {
    "duration": 422,
    "start_time": "2022-12-17T17:38:05.156Z"
   },
   {
    "duration": 19,
    "start_time": "2022-12-17T17:38:05.580Z"
   },
   {
    "duration": 284,
    "start_time": "2022-12-17T17:38:05.602Z"
   },
   {
    "duration": 80,
    "start_time": "2022-12-17T17:38:05.888Z"
   },
   {
    "duration": 11,
    "start_time": "2022-12-17T17:38:05.970Z"
   },
   {
    "duration": 10,
    "start_time": "2022-12-17T17:38:05.983Z"
   },
   {
    "duration": 8,
    "start_time": "2022-12-17T17:38:05.995Z"
   },
   {
    "duration": 11,
    "start_time": "2022-12-17T17:38:06.005Z"
   },
   {
    "duration": 46,
    "start_time": "2022-12-17T17:38:06.036Z"
   },
   {
    "duration": 34,
    "start_time": "2022-12-17T17:38:06.084Z"
   },
   {
    "duration": 10,
    "start_time": "2022-12-17T17:38:06.135Z"
   },
   {
    "duration": 8,
    "start_time": "2022-12-17T17:38:06.147Z"
   },
   {
    "duration": 40,
    "start_time": "2022-12-17T17:38:06.157Z"
   },
   {
    "duration": 41,
    "start_time": "2022-12-17T17:38:06.199Z"
   },
   {
    "duration": 156,
    "start_time": "2022-12-17T17:38:06.242Z"
   },
   {
    "duration": 4,
    "start_time": "2022-12-17T17:38:06.400Z"
   },
   {
    "duration": 200,
    "start_time": "2022-12-17T17:38:06.406Z"
   },
   {
    "duration": 184,
    "start_time": "2022-12-17T17:38:06.607Z"
   },
   {
    "duration": 134,
    "start_time": "2022-12-17T17:38:06.793Z"
   },
   {
    "duration": 593,
    "start_time": "2022-12-17T17:38:06.928Z"
   },
   {
    "duration": 725,
    "start_time": "2022-12-17T17:38:07.522Z"
   },
   {
    "duration": 646,
    "start_time": "2022-12-17T17:38:08.249Z"
   },
   {
    "duration": 4,
    "start_time": "2022-12-17T17:38:13.654Z"
   },
   {
    "duration": 3,
    "start_time": "2022-12-17T17:38:14.164Z"
   },
   {
    "duration": 9,
    "start_time": "2022-12-17T17:38:15.501Z"
   },
   {
    "duration": 18,
    "start_time": "2022-12-17T17:38:17.644Z"
   },
   {
    "duration": 2460,
    "start_time": "2022-12-17T17:38:19.284Z"
   },
   {
    "duration": 3071,
    "start_time": "2022-12-17T17:38:43.566Z"
   },
   {
    "duration": 4,
    "start_time": "2022-12-17T17:41:49.711Z"
   },
   {
    "duration": 10,
    "start_time": "2022-12-17T17:42:20.153Z"
   },
   {
    "duration": 11,
    "start_time": "2022-12-17T17:42:51.296Z"
   },
   {
    "duration": 4,
    "start_time": "2022-12-17T17:43:06.791Z"
   },
   {
    "duration": 3,
    "start_time": "2022-12-17T17:43:09.399Z"
   },
   {
    "duration": 2896,
    "start_time": "2022-12-17T17:43:12.041Z"
   },
   {
    "duration": 93259,
    "start_time": "2022-12-17T17:44:22.535Z"
   },
   {
    "duration": 3,
    "start_time": "2022-12-17T17:46:56.808Z"
   },
   {
    "duration": 2878,
    "start_time": "2022-12-17T17:46:59.865Z"
   },
   {
    "duration": 4,
    "start_time": "2022-12-17T17:47:35.154Z"
   },
   {
    "duration": 2805,
    "start_time": "2022-12-17T17:47:37.838Z"
   },
   {
    "duration": 3,
    "start_time": "2022-12-17T17:48:38.361Z"
   },
   {
    "duration": 2627,
    "start_time": "2022-12-17T17:48:41.121Z"
   },
   {
    "duration": 4,
    "start_time": "2022-12-17T17:50:44.155Z"
   },
   {
    "duration": 2880,
    "start_time": "2022-12-17T17:50:47.355Z"
   },
   {
    "duration": 3,
    "start_time": "2022-12-17T17:51:03.810Z"
   },
   {
    "duration": 3357,
    "start_time": "2022-12-17T17:51:05.780Z"
   },
   {
    "duration": 4,
    "start_time": "2022-12-17T17:51:25.290Z"
   },
   {
    "duration": 2569,
    "start_time": "2022-12-17T17:51:27.572Z"
   },
   {
    "duration": 3,
    "start_time": "2022-12-17T17:51:58.852Z"
   },
   {
    "duration": 2845,
    "start_time": "2022-12-17T17:52:03.197Z"
   },
   {
    "duration": 3,
    "start_time": "2022-12-17T17:53:02.899Z"
   },
   {
    "duration": 2890,
    "start_time": "2022-12-17T17:53:05.054Z"
   },
   {
    "duration": 5,
    "start_time": "2022-12-17T17:54:39.212Z"
   },
   {
    "duration": 25,
    "start_time": "2022-12-17T17:55:18.942Z"
   },
   {
    "duration": 3076,
    "start_time": "2022-12-17T17:55:34.860Z"
   },
   {
    "duration": 2853,
    "start_time": "2022-12-17T17:55:44.893Z"
   },
   {
    "duration": 2561,
    "start_time": "2022-12-17T17:57:05.894Z"
   },
   {
    "duration": 2909,
    "start_time": "2022-12-17T17:59:25.934Z"
   },
   {
    "duration": 3027,
    "start_time": "2022-12-17T18:00:08.008Z"
   },
   {
    "duration": 1206,
    "start_time": "2022-12-17T18:01:44.033Z"
   },
   {
    "duration": 1276,
    "start_time": "2022-12-17T18:03:12.668Z"
   },
   {
    "duration": 8,
    "start_time": "2022-12-17T18:04:29.202Z"
   },
   {
    "duration": 6,
    "start_time": "2022-12-17T18:05:34.728Z"
   },
   {
    "duration": 11,
    "start_time": "2022-12-17T18:06:20.012Z"
   },
   {
    "duration": 8,
    "start_time": "2022-12-17T18:06:44.337Z"
   },
   {
    "duration": 13,
    "start_time": "2022-12-17T18:07:12.769Z"
   },
   {
    "duration": 3,
    "start_time": "2022-12-17T18:08:18.285Z"
   },
   {
    "duration": 2685,
    "start_time": "2022-12-17T18:08:21.669Z"
   },
   {
    "duration": 3,
    "start_time": "2022-12-17T18:08:56.612Z"
   },
   {
    "duration": 2566,
    "start_time": "2022-12-17T18:09:00.377Z"
   },
   {
    "duration": 58462047,
    "start_time": "2022-12-17T18:09:28.078Z"
   },
   {
    "duration": 461765,
    "start_time": "2022-12-18T10:24:13.018Z"
   },
   {
    "duration": 472002,
    "start_time": "2022-12-18T10:33:14.988Z"
   },
   {
    "duration": 14,
    "start_time": "2022-12-18T10:41:39.282Z"
   },
   {
    "duration": 14,
    "start_time": "2022-12-18T10:42:09.007Z"
   },
   {
    "duration": 16,
    "start_time": "2022-12-18T10:42:48.951Z"
   },
   {
    "duration": 285,
    "start_time": "2022-12-18T10:43:08.659Z"
   },
   {
    "duration": 37,
    "start_time": "2022-12-18T10:43:22.305Z"
   },
   {
    "duration": 91,
    "start_time": "2022-12-18T10:43:42.861Z"
   },
   {
    "duration": 24,
    "start_time": "2022-12-18T10:43:52.930Z"
   },
   {
    "duration": 16,
    "start_time": "2022-12-18T10:47:51.385Z"
   },
   {
    "duration": 14,
    "start_time": "2022-12-18T10:48:10.651Z"
   },
   {
    "duration": 15,
    "start_time": "2022-12-18T10:48:22.381Z"
   },
   {
    "duration": 1716,
    "start_time": "2022-12-18T10:54:38.477Z"
   },
   {
    "duration": 501,
    "start_time": "2022-12-18T10:54:40.196Z"
   },
   {
    "duration": 22,
    "start_time": "2022-12-18T10:54:40.699Z"
   },
   {
    "duration": 374,
    "start_time": "2022-12-18T10:54:40.723Z"
   },
   {
    "duration": 106,
    "start_time": "2022-12-18T10:54:41.099Z"
   },
   {
    "duration": 12,
    "start_time": "2022-12-18T10:54:41.207Z"
   },
   {
    "duration": 25,
    "start_time": "2022-12-18T10:54:41.221Z"
   },
   {
    "duration": 25,
    "start_time": "2022-12-18T10:54:41.248Z"
   },
   {
    "duration": 9,
    "start_time": "2022-12-18T10:54:41.275Z"
   },
   {
    "duration": 76,
    "start_time": "2022-12-18T10:54:41.285Z"
   },
   {
    "duration": 43,
    "start_time": "2022-12-18T10:54:41.364Z"
   },
   {
    "duration": 35,
    "start_time": "2022-12-18T10:54:41.409Z"
   },
   {
    "duration": 26,
    "start_time": "2022-12-18T10:54:41.446Z"
   },
   {
    "duration": 46,
    "start_time": "2022-12-18T10:54:41.475Z"
   },
   {
    "duration": 48,
    "start_time": "2022-12-18T10:54:41.523Z"
   },
   {
    "duration": 183,
    "start_time": "2022-12-18T10:54:41.573Z"
   },
   {
    "duration": 7,
    "start_time": "2022-12-18T10:54:41.760Z"
   },
   {
    "duration": 275,
    "start_time": "2022-12-18T10:54:41.770Z"
   },
   {
    "duration": 193,
    "start_time": "2022-12-18T10:54:42.048Z"
   },
   {
    "duration": 174,
    "start_time": "2022-12-18T10:54:42.247Z"
   },
   {
    "duration": 732,
    "start_time": "2022-12-18T10:54:42.424Z"
   },
   {
    "duration": 1020,
    "start_time": "2022-12-18T10:54:43.158Z"
   },
   {
    "duration": 821,
    "start_time": "2022-12-18T10:54:44.181Z"
   },
   {
    "duration": 305,
    "start_time": "2022-12-18T10:54:45.005Z"
   },
   {
    "duration": 0,
    "start_time": "2022-12-18T10:54:45.312Z"
   },
   {
    "duration": 0,
    "start_time": "2022-12-18T10:54:45.313Z"
   },
   {
    "duration": 0,
    "start_time": "2022-12-18T10:54:45.315Z"
   },
   {
    "duration": 0,
    "start_time": "2022-12-18T10:54:45.316Z"
   },
   {
    "duration": 0,
    "start_time": "2022-12-18T10:54:45.317Z"
   },
   {
    "duration": 0,
    "start_time": "2022-12-18T10:54:45.319Z"
   },
   {
    "duration": 0,
    "start_time": "2022-12-18T10:54:45.336Z"
   },
   {
    "duration": 0,
    "start_time": "2022-12-18T10:54:45.339Z"
   },
   {
    "duration": 0,
    "start_time": "2022-12-18T10:54:45.340Z"
   },
   {
    "duration": 0,
    "start_time": "2022-12-18T10:54:45.342Z"
   },
   {
    "duration": 0,
    "start_time": "2022-12-18T10:54:45.343Z"
   },
   {
    "duration": 0,
    "start_time": "2022-12-18T10:54:45.345Z"
   },
   {
    "duration": 0,
    "start_time": "2022-12-18T10:54:45.346Z"
   },
   {
    "duration": 0,
    "start_time": "2022-12-18T10:54:45.348Z"
   },
   {
    "duration": 0,
    "start_time": "2022-12-18T10:54:45.349Z"
   },
   {
    "duration": 0,
    "start_time": "2022-12-18T10:54:45.351Z"
   },
   {
    "duration": 0,
    "start_time": "2022-12-18T10:54:45.353Z"
   },
   {
    "duration": 0,
    "start_time": "2022-12-18T10:54:45.354Z"
   },
   {
    "duration": 0,
    "start_time": "2022-12-18T10:54:45.355Z"
   },
   {
    "duration": 0,
    "start_time": "2022-12-18T10:54:45.357Z"
   },
   {
    "duration": 748,
    "start_time": "2022-12-18T10:55:13.679Z"
   },
   {
    "duration": 196,
    "start_time": "2022-12-18T10:55:36.833Z"
   },
   {
    "duration": 175,
    "start_time": "2022-12-18T10:56:22.910Z"
   },
   {
    "duration": 211,
    "start_time": "2022-12-18T10:56:42.315Z"
   },
   {
    "duration": 54,
    "start_time": "2022-12-18T10:59:05.368Z"
   },
   {
    "duration": 211,
    "start_time": "2022-12-18T10:59:11.497Z"
   },
   {
    "duration": 290,
    "start_time": "2022-12-18T11:00:32.459Z"
   },
   {
    "duration": 558,
    "start_time": "2022-12-18T11:00:38.020Z"
   },
   {
    "duration": 288,
    "start_time": "2022-12-18T11:00:54.216Z"
   },
   {
    "duration": 559,
    "start_time": "2022-12-18T11:01:17.116Z"
   },
   {
    "duration": 1982,
    "start_time": "2022-12-18T11:01:40.019Z"
   },
   {
    "duration": 536,
    "start_time": "2022-12-18T11:01:42.003Z"
   },
   {
    "duration": 30,
    "start_time": "2022-12-18T11:01:42.541Z"
   },
   {
    "duration": 423,
    "start_time": "2022-12-18T11:01:42.577Z"
   },
   {
    "duration": 111,
    "start_time": "2022-12-18T11:01:43.002Z"
   },
   {
    "duration": 12,
    "start_time": "2022-12-18T11:01:43.114Z"
   },
   {
    "duration": 24,
    "start_time": "2022-12-18T11:01:43.139Z"
   },
   {
    "duration": 40,
    "start_time": "2022-12-18T11:01:43.168Z"
   },
   {
    "duration": 16,
    "start_time": "2022-12-18T11:01:43.211Z"
   },
   {
    "duration": 129,
    "start_time": "2022-12-18T11:01:43.230Z"
   },
   {
    "duration": 47,
    "start_time": "2022-12-18T11:01:43.361Z"
   },
   {
    "duration": 33,
    "start_time": "2022-12-18T11:01:43.410Z"
   },
   {
    "duration": 10,
    "start_time": "2022-12-18T11:01:43.457Z"
   },
   {
    "duration": 52,
    "start_time": "2022-12-18T11:01:43.470Z"
   },
   {
    "duration": 62,
    "start_time": "2022-12-18T11:01:43.525Z"
   },
   {
    "duration": 224,
    "start_time": "2022-12-18T11:01:43.589Z"
   },
   {
    "duration": 4,
    "start_time": "2022-12-18T11:01:43.814Z"
   },
   {
    "duration": 316,
    "start_time": "2022-12-18T11:01:43.820Z"
   },
   {
    "duration": 191,
    "start_time": "2022-12-18T11:01:44.138Z"
   },
   {
    "duration": 184,
    "start_time": "2022-12-18T11:01:44.338Z"
   },
   {
    "duration": 666,
    "start_time": "2022-12-18T11:01:44.524Z"
   },
   {
    "duration": 1106,
    "start_time": "2022-12-18T11:01:45.192Z"
   },
   {
    "duration": 908,
    "start_time": "2022-12-18T11:01:46.300Z"
   },
   {
    "duration": 557,
    "start_time": "2022-12-18T11:01:47.211Z"
   },
   {
    "duration": 561,
    "start_time": "2022-12-18T11:01:47.770Z"
   },
   {
    "duration": 11,
    "start_time": "2022-12-18T11:01:48.343Z"
   },
   {
    "duration": 41,
    "start_time": "2022-12-18T11:01:48.356Z"
   },
   {
    "duration": 14,
    "start_time": "2022-12-18T11:01:48.400Z"
   },
   {
    "duration": 9,
    "start_time": "2022-12-18T11:01:48.415Z"
   },
   {
    "duration": 27,
    "start_time": "2022-12-18T11:01:48.426Z"
   },
   {
    "duration": 47,
    "start_time": "2022-12-18T11:01:48.455Z"
   },
   {
    "duration": 1598,
    "start_time": "2022-12-18T11:01:48.505Z"
   },
   {
    "duration": 5,
    "start_time": "2022-12-18T11:01:50.105Z"
   },
   {
    "duration": 16,
    "start_time": "2022-12-18T11:01:50.112Z"
   },
   {
    "duration": 70,
    "start_time": "2022-12-18T11:01:50.131Z"
   },
   {
    "duration": 38,
    "start_time": "2022-12-18T11:01:50.203Z"
   },
   {
    "duration": 7614,
    "start_time": "2022-12-18T11:01:50.244Z"
   },
   {
    "duration": 72,
    "start_time": "2022-12-18T11:01:57.874Z"
   },
   {
    "duration": 492062,
    "start_time": "2022-12-18T11:01:57.955Z"
   },
   {
    "duration": 2,
    "start_time": "2022-12-18T11:10:10.019Z"
   },
   {
    "duration": 51,
    "start_time": "2022-12-18T11:10:10.023Z"
   },
   {
    "duration": 12,
    "start_time": "2022-12-18T11:10:10.075Z"
   },
   {
    "duration": 12,
    "start_time": "2022-12-18T11:10:10.089Z"
   },
   {
    "duration": 56,
    "start_time": "2022-12-18T11:10:10.103Z"
   },
   {
    "duration": 7317,
    "start_time": "2022-12-18T11:11:11.531Z"
   },
   {
    "duration": 4,
    "start_time": "2022-12-18T11:12:00.706Z"
   },
   {
    "duration": 6452,
    "start_time": "2022-12-18T11:12:04.097Z"
   },
   {
    "duration": 3,
    "start_time": "2022-12-18T11:13:01.011Z"
   },
   {
    "duration": 9577,
    "start_time": "2022-12-18T11:13:03.113Z"
   },
   {
    "duration": 91,
    "start_time": "2022-12-18T11:14:00.957Z"
   },
   {
    "duration": 5,
    "start_time": "2022-12-18T11:14:12.206Z"
   },
   {
    "duration": 10039,
    "start_time": "2022-12-18T11:14:14.315Z"
   },
   {
    "duration": 4,
    "start_time": "2022-12-18T11:14:45.915Z"
   },
   {
    "duration": 8114,
    "start_time": "2022-12-18T11:14:48.169Z"
   },
   {
    "duration": 6,
    "start_time": "2022-12-18T11:15:11.794Z"
   },
   {
    "duration": 15,
    "start_time": "2022-12-18T11:15:48.634Z"
   },
   {
    "duration": 7676,
    "start_time": "2022-12-18T11:15:51.002Z"
   },
   {
    "duration": 9,
    "start_time": "2022-12-18T11:16:11.493Z"
   },
   {
    "duration": 17,
    "start_time": "2022-12-18T11:16:14.979Z"
   },
   {
    "duration": 6,
    "start_time": "2022-12-18T11:16:17.699Z"
   },
   {
    "duration": 7848,
    "start_time": "2022-12-18T11:16:18.834Z"
   },
   {
    "duration": 6,
    "start_time": "2022-12-18T11:16:42.670Z"
   },
   {
    "duration": 7880,
    "start_time": "2022-12-18T11:16:45.472Z"
   },
   {
    "duration": 1528,
    "start_time": "2022-12-18T11:16:57.403Z"
   },
   {
    "duration": 523,
    "start_time": "2022-12-18T11:16:58.933Z"
   },
   {
    "duration": 25,
    "start_time": "2022-12-18T11:16:59.459Z"
   },
   {
    "duration": 391,
    "start_time": "2022-12-18T11:16:59.487Z"
   },
   {
    "duration": 108,
    "start_time": "2022-12-18T11:16:59.880Z"
   },
   {
    "duration": 18,
    "start_time": "2022-12-18T11:16:59.990Z"
   },
   {
    "duration": 31,
    "start_time": "2022-12-18T11:17:00.009Z"
   },
   {
    "duration": 29,
    "start_time": "2022-12-18T11:17:00.045Z"
   },
   {
    "duration": 39,
    "start_time": "2022-12-18T11:17:00.076Z"
   },
   {
    "duration": 102,
    "start_time": "2022-12-18T11:17:00.116Z"
   },
   {
    "duration": 50,
    "start_time": "2022-12-18T11:17:00.220Z"
   },
   {
    "duration": 15,
    "start_time": "2022-12-18T11:17:00.272Z"
   },
   {
    "duration": 69,
    "start_time": "2022-12-18T11:17:00.289Z"
   },
   {
    "duration": 70,
    "start_time": "2022-12-18T11:17:00.361Z"
   },
   {
    "duration": 56,
    "start_time": "2022-12-18T11:17:00.432Z"
   },
   {
    "duration": 179,
    "start_time": "2022-12-18T11:17:00.490Z"
   },
   {
    "duration": 5,
    "start_time": "2022-12-18T11:17:00.671Z"
   },
   {
    "duration": 253,
    "start_time": "2022-12-18T11:17:00.678Z"
   },
   {
    "duration": 209,
    "start_time": "2022-12-18T11:17:00.939Z"
   },
   {
    "duration": 148,
    "start_time": "2022-12-18T11:17:01.152Z"
   },
   {
    "duration": 647,
    "start_time": "2022-12-18T11:17:01.303Z"
   },
   {
    "duration": 1162,
    "start_time": "2022-12-18T11:17:01.952Z"
   },
   {
    "duration": 849,
    "start_time": "2022-12-18T11:17:03.116Z"
   },
   {
    "duration": 617,
    "start_time": "2022-12-18T11:17:03.967Z"
   },
   {
    "duration": 546,
    "start_time": "2022-12-18T11:17:04.587Z"
   },
   {
    "duration": 19,
    "start_time": "2022-12-18T11:17:05.135Z"
   },
   {
    "duration": 32,
    "start_time": "2022-12-18T11:17:05.156Z"
   },
   {
    "duration": 26,
    "start_time": "2022-12-18T11:17:05.190Z"
   },
   {
    "duration": 12,
    "start_time": "2022-12-18T11:17:05.218Z"
   },
   {
    "duration": 46,
    "start_time": "2022-12-18T11:17:05.232Z"
   },
   {
    "duration": 24,
    "start_time": "2022-12-18T11:17:05.280Z"
   },
   {
    "duration": 1506,
    "start_time": "2022-12-18T11:17:05.306Z"
   },
   {
    "duration": 5,
    "start_time": "2022-12-18T11:17:06.814Z"
   },
   {
    "duration": 51,
    "start_time": "2022-12-18T11:17:06.821Z"
   },
   {
    "duration": 33,
    "start_time": "2022-12-18T11:17:06.874Z"
   },
   {
    "duration": 64,
    "start_time": "2022-12-18T11:17:06.908Z"
   },
   {
    "duration": 22,
    "start_time": "2022-12-18T11:17:06.974Z"
   },
   {
    "duration": 5042,
    "start_time": "2022-12-18T11:17:06.998Z"
   },
   {
    "duration": 7,
    "start_time": "2022-12-18T11:17:12.052Z"
   },
   {
    "duration": 488589,
    "start_time": "2022-12-18T11:17:12.066Z"
   },
   {
    "duration": 4,
    "start_time": "2022-12-18T11:25:20.668Z"
   },
   {
    "duration": 38,
    "start_time": "2022-12-18T11:25:20.675Z"
   },
   {
    "duration": 59,
    "start_time": "2022-12-18T11:25:20.715Z"
   },
   {
    "duration": 14,
    "start_time": "2022-12-18T11:25:20.776Z"
   },
   {
    "duration": 56,
    "start_time": "2022-12-18T11:25:20.791Z"
   },
   {
    "duration": 8782,
    "start_time": "2022-12-18T11:26:50.066Z"
   },
   {
    "duration": 11,
    "start_time": "2022-12-18T11:27:13.268Z"
   },
   {
    "duration": 6495,
    "start_time": "2022-12-18T11:27:15.690Z"
   },
   {
    "duration": 6854,
    "start_time": "2022-12-18T11:28:05.829Z"
   },
   {
    "duration": 6982,
    "start_time": "2022-12-18T11:28:18.707Z"
   },
   {
    "duration": 5,
    "start_time": "2022-12-18T11:28:39.463Z"
   },
   {
    "duration": 7487,
    "start_time": "2022-12-18T11:28:45.067Z"
   },
   {
    "duration": 3,
    "start_time": "2022-12-18T11:29:14.212Z"
   },
   {
    "duration": 6568,
    "start_time": "2022-12-18T11:29:16.608Z"
   },
   {
    "duration": 4,
    "start_time": "2022-12-18T11:29:41.701Z"
   },
   {
    "duration": 6819,
    "start_time": "2022-12-18T11:29:43.763Z"
   },
   {
    "duration": 9,
    "start_time": "2022-12-18T11:30:03.731Z"
   },
   {
    "duration": 6628,
    "start_time": "2022-12-18T11:30:06.219Z"
   },
   {
    "duration": 6216,
    "start_time": "2022-12-18T11:30:40.767Z"
   },
   {
    "duration": 4,
    "start_time": "2022-12-18T11:31:08.865Z"
   },
   {
    "duration": 7058,
    "start_time": "2022-12-18T11:31:11.604Z"
   },
   {
    "duration": 4,
    "start_time": "2022-12-18T11:32:15.201Z"
   },
   {
    "duration": 7111,
    "start_time": "2022-12-18T11:32:20.482Z"
   },
   {
    "duration": 9,
    "start_time": "2022-12-18T11:32:32.914Z"
   },
   {
    "duration": 26,
    "start_time": "2022-12-18T11:32:35.170Z"
   },
   {
    "duration": 6777,
    "start_time": "2022-12-18T11:32:36.668Z"
   },
   {
    "duration": 5,
    "start_time": "2022-12-18T11:33:39.322Z"
   },
   {
    "duration": 8599,
    "start_time": "2022-12-18T11:33:41.878Z"
   },
   {
    "duration": 14,
    "start_time": "2022-12-18T11:33:57.175Z"
   },
   {
    "duration": 4,
    "start_time": "2022-12-18T11:34:28.913Z"
   },
   {
    "duration": 7723,
    "start_time": "2022-12-18T11:34:30.824Z"
   },
   {
    "duration": 6,
    "start_time": "2022-12-18T11:34:42.669Z"
   },
   {
    "duration": 7791,
    "start_time": "2022-12-18T11:34:45.995Z"
   },
   {
    "duration": 5,
    "start_time": "2022-12-18T11:37:17.907Z"
   },
   {
    "duration": 5449,
    "start_time": "2022-12-18T11:37:20.424Z"
   },
   {
    "duration": 4,
    "start_time": "2022-12-18T11:39:18.012Z"
   },
   {
    "duration": 4493,
    "start_time": "2022-12-18T11:39:21.054Z"
   },
   {
    "duration": 6,
    "start_time": "2022-12-18T11:39:37.251Z"
   },
   {
    "duration": 4172,
    "start_time": "2022-12-18T11:39:39.881Z"
   },
   {
    "duration": 491747,
    "start_time": "2022-12-18T11:39:48.755Z"
   },
   {
    "duration": 303,
    "start_time": "2022-12-18T11:48:19.478Z"
   },
   {
    "duration": 16,
    "start_time": "2022-12-18T11:48:57.809Z"
   },
   {
    "duration": 18,
    "start_time": "2022-12-18T11:49:36.570Z"
   },
   {
    "duration": 6,
    "start_time": "2022-12-18T11:49:49.562Z"
   },
   {
    "duration": 10,
    "start_time": "2022-12-18T11:49:53.780Z"
   },
   {
    "duration": 22,
    "start_time": "2022-12-18T11:49:55.912Z"
   },
   {
    "duration": 170,
    "start_time": "2022-12-18T11:50:20.319Z"
   },
   {
    "duration": 53,
    "start_time": "2022-12-19T12:26:53.300Z"
   },
   {
    "duration": 1646,
    "start_time": "2022-12-19T12:26:59.495Z"
   },
   {
    "duration": 2369,
    "start_time": "2022-12-19T12:27:01.144Z"
   },
   {
    "duration": 20,
    "start_time": "2022-12-19T12:27:03.515Z"
   },
   {
    "duration": 1081,
    "start_time": "2022-12-19T12:27:03.537Z"
   },
   {
    "duration": 412,
    "start_time": "2022-12-19T12:27:04.621Z"
   },
   {
    "duration": 11,
    "start_time": "2022-12-19T12:27:05.035Z"
   },
   {
    "duration": 11,
    "start_time": "2022-12-19T12:27:05.048Z"
   },
   {
    "duration": 16,
    "start_time": "2022-12-19T12:27:05.062Z"
   },
   {
    "duration": 27,
    "start_time": "2022-12-19T12:27:05.080Z"
   },
   {
    "duration": 53,
    "start_time": "2022-12-19T12:27:05.109Z"
   },
   {
    "duration": 55,
    "start_time": "2022-12-19T12:27:05.164Z"
   },
   {
    "duration": 15,
    "start_time": "2022-12-19T12:27:05.220Z"
   },
   {
    "duration": 7,
    "start_time": "2022-12-19T12:27:05.237Z"
   },
   {
    "duration": 60,
    "start_time": "2022-12-19T12:27:05.247Z"
   },
   {
    "duration": 27,
    "start_time": "2022-12-19T12:27:05.309Z"
   },
   {
    "duration": 174,
    "start_time": "2022-12-19T12:27:05.338Z"
   },
   {
    "duration": 5,
    "start_time": "2022-12-19T12:27:05.513Z"
   },
   {
    "duration": 238,
    "start_time": "2022-12-19T12:27:05.520Z"
   },
   {
    "duration": 179,
    "start_time": "2022-12-19T12:27:05.759Z"
   },
   {
    "duration": 162,
    "start_time": "2022-12-19T12:27:05.940Z"
   },
   {
    "duration": 562,
    "start_time": "2022-12-19T12:27:06.104Z"
   },
   {
    "duration": 891,
    "start_time": "2022-12-19T12:27:06.668Z"
   },
   {
    "duration": 719,
    "start_time": "2022-12-19T12:27:07.561Z"
   },
   {
    "duration": 524,
    "start_time": "2022-12-19T12:27:08.283Z"
   },
   {
    "duration": 480,
    "start_time": "2022-12-19T12:27:08.810Z"
   },
   {
    "duration": 9,
    "start_time": "2022-12-19T12:27:09.292Z"
   },
   {
    "duration": 10,
    "start_time": "2022-12-19T12:27:09.303Z"
   },
   {
    "duration": 11,
    "start_time": "2022-12-19T12:27:09.315Z"
   },
   {
    "duration": 49,
    "start_time": "2022-12-19T12:27:09.329Z"
   },
   {
    "duration": 29,
    "start_time": "2022-12-19T12:27:09.380Z"
   },
   {
    "duration": 9,
    "start_time": "2022-12-19T12:27:09.410Z"
   },
   {
    "duration": 1181,
    "start_time": "2022-12-19T12:27:09.421Z"
   },
   {
    "duration": 4,
    "start_time": "2022-12-19T12:27:10.604Z"
   },
   {
    "duration": 8,
    "start_time": "2022-12-19T12:27:10.609Z"
   },
   {
    "duration": 12,
    "start_time": "2022-12-19T12:27:10.619Z"
   },
   {
    "duration": 61,
    "start_time": "2022-12-19T12:27:10.633Z"
   },
   {
    "duration": 2693,
    "start_time": "2022-12-19T12:27:10.697Z"
   },
   {
    "duration": 92,
    "start_time": "2022-12-19T12:27:13.392Z"
   },
   {
    "duration": 389055,
    "start_time": "2022-12-19T12:27:13.488Z"
   },
   {
    "duration": 2,
    "start_time": "2022-12-19T12:33:42.545Z"
   },
   {
    "duration": 142,
    "start_time": "2022-12-19T12:33:42.551Z"
   },
   {
    "duration": 0,
    "start_time": "2022-12-19T12:33:42.695Z"
   },
   {
    "duration": 0,
    "start_time": "2022-12-19T12:33:42.696Z"
   },
   {
    "duration": 0,
    "start_time": "2022-12-19T12:33:42.697Z"
   },
   {
    "duration": 16,
    "start_time": "2022-12-19T12:34:26.267Z"
   },
   {
    "duration": 2,
    "start_time": "2022-12-19T12:34:30.507Z"
   },
   {
    "duration": 159,
    "start_time": "2022-12-19T12:34:33.578Z"
   },
   {
    "duration": 4,
    "start_time": "2022-12-19T12:34:42.754Z"
   },
   {
    "duration": 11,
    "start_time": "2022-12-19T12:34:47.018Z"
   },
   {
    "duration": 153,
    "start_time": "2022-12-19T12:34:50.121Z"
   },
   {
    "duration": 779,
    "start_time": "2022-12-19T12:35:30.050Z"
   },
   {
    "duration": 922,
    "start_time": "2022-12-19T12:35:48.569Z"
   },
   {
    "duration": 573,
    "start_time": "2022-12-19T12:36:07.298Z"
   },
   {
    "duration": 931,
    "start_time": "2022-12-19T12:54:57.462Z"
   },
   {
    "duration": 508,
    "start_time": "2022-12-19T12:55:54.492Z"
   },
   {
    "duration": 547,
    "start_time": "2022-12-19T12:56:04.356Z"
   },
   {
    "duration": 1141,
    "start_time": "2022-12-19T12:58:20.922Z"
   },
   {
    "duration": 1695,
    "start_time": "2022-12-19T13:22:41.981Z"
   },
   {
    "duration": 530,
    "start_time": "2022-12-19T13:22:47.818Z"
   },
   {
    "duration": 19,
    "start_time": "2022-12-19T13:22:49.801Z"
   },
   {
    "duration": 1717,
    "start_time": "2022-12-19T13:22:51.504Z"
   },
   {
    "duration": 153,
    "start_time": "2022-12-19T13:22:53.223Z"
   },
   {
    "duration": 11,
    "start_time": "2022-12-19T13:23:02.009Z"
   },
   {
    "duration": 11,
    "start_time": "2022-12-19T13:23:03.954Z"
   },
   {
    "duration": 5,
    "start_time": "2022-12-19T13:23:07.248Z"
   },
   {
    "duration": 4,
    "start_time": "2022-12-19T13:23:43.834Z"
   },
   {
    "duration": 53,
    "start_time": "2022-12-19T13:23:51.545Z"
   },
   {
    "duration": 51,
    "start_time": "2022-12-19T13:23:54.049Z"
   },
   {
    "duration": 15,
    "start_time": "2022-12-19T13:23:58.185Z"
   },
   {
    "duration": 7,
    "start_time": "2022-12-19T13:23:59.496Z"
   },
   {
    "duration": 34,
    "start_time": "2022-12-19T13:24:01.032Z"
   },
   {
    "duration": 25,
    "start_time": "2022-12-19T13:24:02.800Z"
   },
   {
    "duration": 141,
    "start_time": "2022-12-19T13:24:05.321Z"
   },
   {
    "duration": 5,
    "start_time": "2022-12-19T13:24:07.624Z"
   },
   {
    "duration": 234,
    "start_time": "2022-12-19T13:24:08.480Z"
   },
   {
    "duration": 177,
    "start_time": "2022-12-19T13:24:09.760Z"
   },
   {
    "duration": 127,
    "start_time": "2022-12-19T13:24:11.673Z"
   },
   {
    "duration": 4,
    "start_time": "2022-12-19T13:25:32.581Z"
   },
   {
    "duration": 184,
    "start_time": "2022-12-19T13:25:33.568Z"
   },
   {
    "duration": 143,
    "start_time": "2022-12-19T13:25:34.808Z"
   },
   {
    "duration": 141,
    "start_time": "2022-12-19T13:25:36.544Z"
   },
   {
    "duration": 543,
    "start_time": "2022-12-19T13:25:40.425Z"
   },
   {
    "duration": 780,
    "start_time": "2022-12-19T13:25:46.472Z"
   },
   {
    "duration": 629,
    "start_time": "2022-12-19T13:25:52.376Z"
   },
   {
    "duration": 175,
    "start_time": "2022-12-19T13:27:06.975Z"
   },
   {
    "duration": 92,
    "start_time": "2022-12-19T13:27:23.896Z"
   },
   {
    "duration": 4,
    "start_time": "2022-12-19T13:27:31.599Z"
   },
   {
    "duration": 3,
    "start_time": "2022-12-19T13:27:32.278Z"
   },
   {
    "duration": 7,
    "start_time": "2022-12-19T13:27:33.999Z"
   },
   {
    "duration": 4,
    "start_time": "2022-12-19T13:27:36.917Z"
   },
   {
    "duration": 21,
    "start_time": "2022-12-19T13:27:38.926Z"
   },
   {
    "duration": 78,
    "start_time": "2022-12-19T13:27:43.094Z"
   },
   {
    "duration": 59,
    "start_time": "2022-12-19T13:28:31.126Z"
   },
   {
    "duration": 95,
    "start_time": "2022-12-19T13:28:51.742Z"
   },
   {
    "duration": 383556,
    "start_time": "2022-12-19T13:31:51.468Z"
   },
   {
    "duration": 366851,
    "start_time": "2022-12-19T14:08:25.618Z"
   },
   {
    "duration": 369683,
    "start_time": "2022-12-19T14:15:31.592Z"
   },
   {
    "duration": 395051,
    "start_time": "2022-12-19T14:59:27.202Z"
   },
   {
    "duration": 4,
    "start_time": "2022-12-19T17:06:54.676Z"
   },
   {
    "duration": 408,
    "start_time": "2022-12-19T17:06:54.682Z"
   },
   {
    "duration": 16,
    "start_time": "2022-12-19T17:06:55.092Z"
   },
   {
    "duration": 245,
    "start_time": "2022-12-19T17:06:55.109Z"
   },
   {
    "duration": 82,
    "start_time": "2022-12-19T17:06:55.356Z"
   },
   {
    "duration": 11,
    "start_time": "2022-12-19T17:06:55.440Z"
   },
   {
    "duration": 26,
    "start_time": "2022-12-19T17:06:55.453Z"
   },
   {
    "duration": 25,
    "start_time": "2022-12-19T17:06:55.481Z"
   },
   {
    "duration": 38,
    "start_time": "2022-12-19T17:06:55.507Z"
   },
   {
    "duration": 48,
    "start_time": "2022-12-19T17:06:55.547Z"
   },
   {
    "duration": 35,
    "start_time": "2022-12-19T17:06:55.597Z"
   },
   {
    "duration": 15,
    "start_time": "2022-12-19T17:06:55.634Z"
   },
   {
    "duration": 42,
    "start_time": "2022-12-19T17:06:55.652Z"
   },
   {
    "duration": 83,
    "start_time": "2022-12-19T17:06:55.696Z"
   },
   {
    "duration": 25,
    "start_time": "2022-12-19T17:06:55.781Z"
   },
   {
    "duration": 245,
    "start_time": "2022-12-19T17:06:55.808Z"
   },
   {
    "duration": 5,
    "start_time": "2022-12-19T17:06:56.054Z"
   },
   {
    "duration": 181,
    "start_time": "2022-12-19T17:06:56.060Z"
   },
   {
    "duration": 158,
    "start_time": "2022-12-19T17:06:56.243Z"
   },
   {
    "duration": 133,
    "start_time": "2022-12-19T17:06:56.403Z"
   },
   {
    "duration": 466,
    "start_time": "2022-12-19T17:06:56.538Z"
   },
   {
    "duration": 646,
    "start_time": "2022-12-19T17:06:57.006Z"
   },
   {
    "duration": 741,
    "start_time": "2022-12-19T17:06:57.655Z"
   },
   {
    "duration": 463,
    "start_time": "2022-12-19T17:06:58.399Z"
   },
   {
    "duration": 399,
    "start_time": "2022-12-19T17:06:58.864Z"
   },
   {
    "duration": 14,
    "start_time": "2022-12-19T17:06:59.264Z"
   },
   {
    "duration": 8,
    "start_time": "2022-12-19T17:06:59.280Z"
   },
   {
    "duration": 7,
    "start_time": "2022-12-19T17:06:59.290Z"
   },
   {
    "duration": 7,
    "start_time": "2022-12-19T17:06:59.301Z"
   },
   {
    "duration": 21,
    "start_time": "2022-12-19T17:06:59.309Z"
   },
   {
    "duration": 8,
    "start_time": "2022-12-19T17:06:59.331Z"
   },
   {
    "duration": 1009,
    "start_time": "2022-12-19T17:06:59.341Z"
   },
   {
    "duration": 3,
    "start_time": "2022-12-19T17:07:00.352Z"
   },
   {
    "duration": 43,
    "start_time": "2022-12-19T17:07:00.356Z"
   },
   {
    "duration": 28,
    "start_time": "2022-12-19T17:07:00.401Z"
   },
   {
    "duration": 27,
    "start_time": "2022-12-19T17:07:00.430Z"
   },
   {
    "duration": 2726,
    "start_time": "2022-12-19T17:07:00.458Z"
   },
   {
    "duration": 92,
    "start_time": "2022-12-19T17:07:03.186Z"
   },
   {
    "duration": 19430,
    "start_time": "2022-12-19T17:07:21.379Z"
   },
   {
    "duration": 568301,
    "start_time": "2022-12-19T18:26:39.625Z"
   },
   {
    "duration": 15887,
    "start_time": "2022-12-19T18:36:53.521Z"
   },
   {
    "duration": 1851,
    "start_time": "2022-12-20T15:43:20.529Z"
   },
   {
    "duration": 739,
    "start_time": "2022-12-20T15:43:22.382Z"
   },
   {
    "duration": 24,
    "start_time": "2022-12-20T15:43:23.122Z"
   },
   {
    "duration": 2163,
    "start_time": "2022-12-20T15:43:23.149Z"
   },
   {
    "duration": 183,
    "start_time": "2022-12-20T15:43:25.314Z"
   },
   {
    "duration": 12,
    "start_time": "2022-12-20T15:43:25.499Z"
   },
   {
    "duration": 10,
    "start_time": "2022-12-20T15:43:25.513Z"
   },
   {
    "duration": 18,
    "start_time": "2022-12-20T15:43:25.538Z"
   },
   {
    "duration": 19,
    "start_time": "2022-12-20T15:43:25.559Z"
   },
   {
    "duration": 88,
    "start_time": "2022-12-20T15:43:25.582Z"
   },
   {
    "duration": 38,
    "start_time": "2022-12-20T15:43:25.672Z"
   },
   {
    "duration": 37,
    "start_time": "2022-12-20T15:43:25.712Z"
   },
   {
    "duration": 16,
    "start_time": "2022-12-20T15:43:25.752Z"
   },
   {
    "duration": 89,
    "start_time": "2022-12-20T15:43:25.771Z"
   },
   {
    "duration": 38,
    "start_time": "2022-12-20T15:43:25.862Z"
   },
   {
    "duration": 212,
    "start_time": "2022-12-20T15:43:25.903Z"
   },
   {
    "duration": 4,
    "start_time": "2022-12-20T15:43:26.117Z"
   },
   {
    "duration": 257,
    "start_time": "2022-12-20T15:43:26.123Z"
   },
   {
    "duration": 184,
    "start_time": "2022-12-20T15:43:26.382Z"
   },
   {
    "duration": 148,
    "start_time": "2022-12-20T15:43:26.567Z"
   },
   {
    "duration": 636,
    "start_time": "2022-12-20T15:43:26.716Z"
   },
   {
    "duration": 942,
    "start_time": "2022-12-20T15:43:27.355Z"
   },
   {
    "duration": 817,
    "start_time": "2022-12-20T15:43:28.299Z"
   },
   {
    "duration": 535,
    "start_time": "2022-12-20T15:43:29.119Z"
   },
   {
    "duration": 540,
    "start_time": "2022-12-20T15:43:29.656Z"
   },
   {
    "duration": 11,
    "start_time": "2022-12-20T15:43:30.199Z"
   },
   {
    "duration": 33,
    "start_time": "2022-12-20T15:43:30.212Z"
   },
   {
    "duration": 11,
    "start_time": "2022-12-20T15:43:30.249Z"
   },
   {
    "duration": 32,
    "start_time": "2022-12-20T15:43:30.263Z"
   },
   {
    "duration": 29,
    "start_time": "2022-12-20T15:43:30.297Z"
   },
   {
    "duration": 27,
    "start_time": "2022-12-20T15:43:30.328Z"
   },
   {
    "duration": 1265,
    "start_time": "2022-12-20T15:43:30.357Z"
   },
   {
    "duration": 12,
    "start_time": "2022-12-20T15:43:31.625Z"
   },
   {
    "duration": 3,
    "start_time": "2022-12-20T15:43:31.640Z"
   },
   {
    "duration": 43,
    "start_time": "2022-12-20T15:43:31.645Z"
   },
   {
    "duration": 38,
    "start_time": "2022-12-20T15:43:31.690Z"
   },
   {
    "duration": 3609,
    "start_time": "2022-12-20T15:43:31.731Z"
   },
   {
    "duration": 9,
    "start_time": "2022-12-20T15:43:35.344Z"
   },
   {
    "duration": 26415269,
    "start_time": "2022-12-20T15:43:35.358Z"
   },
   {
    "duration": 9,
    "start_time": "2022-12-20T23:03:50.629Z"
   },
   {
    "duration": 129,
    "start_time": "2022-12-20T23:03:50.640Z"
   },
   {
    "duration": 0,
    "start_time": "2022-12-20T23:03:50.770Z"
   },
   {
    "duration": 0,
    "start_time": "2022-12-20T23:03:50.772Z"
   },
   {
    "duration": 0,
    "start_time": "2022-12-20T23:03:50.773Z"
   },
   {
    "duration": 3,
    "start_time": "2022-12-21T07:37:51.866Z"
   },
   {
    "duration": 11,
    "start_time": "2022-12-21T07:37:58.241Z"
   },
   {
    "duration": 264,
    "start_time": "2022-12-21T07:38:01.944Z"
   },
   {
    "duration": 14,
    "start_time": "2022-12-22T00:18:42.065Z"
   },
   {
    "duration": 4,
    "start_time": "2022-12-22T00:18:49.788Z"
   },
   {
    "duration": 3,
    "start_time": "2022-12-22T00:18:53.595Z"
   },
   {
    "duration": 4,
    "start_time": "2022-12-22T00:19:00.438Z"
   }
  ],
  "kernelspec": {
   "display_name": "Python 3 (ipykernel)",
   "language": "python",
   "name": "python3"
  },
  "language_info": {
   "codemirror_mode": {
    "name": "ipython",
    "version": 3
   },
   "file_extension": ".py",
   "mimetype": "text/x-python",
   "name": "python",
   "nbconvert_exporter": "python",
   "pygments_lexer": "ipython3",
   "version": "3.9.13"
  },
  "toc": {
   "base_numbering": 1,
   "nav_menu": {},
   "number_sections": true,
   "sideBar": true,
   "skip_h1_title": true,
   "title_cell": "Содержание",
   "title_sidebar": "Contents",
   "toc_cell": true,
   "toc_position": {
    "height": "calc(100% - 180px)",
    "left": "10px",
    "top": "150px",
    "width": "408.889px"
   },
   "toc_section_display": true,
   "toc_window_display": true
  }
 },
 "nbformat": 4,
 "nbformat_minor": 2
}
